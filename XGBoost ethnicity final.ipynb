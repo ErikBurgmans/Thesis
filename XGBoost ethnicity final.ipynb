{
 "cells": [
  {
   "cell_type": "code",
   "execution_count": 1,
   "id": "af00cd48",
   "metadata": {},
   "outputs": [],
   "source": [
    "import math\n",
    "import numpy as np\n",
    "import pandas as pd\n",
    "import os\n",
    "import glob\n",
    "import pickle\n",
    "import xgboost as xgb\n",
    "import numpy as np\n",
    "import pandas as pd\n",
    "from sklearn.metrics import mutual_info_score\n",
    "from xgboost import XGBRegressor\n",
    "from sklearn.model_selection import GridSearchCV\n",
    "from sklearn.model_selection import cross_val_score\n",
    "from sklearn.metrics import mean_squared_error\n",
    "from sklearn.metrics import mean_absolute_error\n",
    "from sklearn.model_selection import train_test_split"
   ]
  },
  {
   "cell_type": "code",
   "execution_count": 2,
   "id": "582ac366",
   "metadata": {},
   "outputs": [],
   "source": [
    "def split_data_labels_interview (csv_file):\n",
    "    df = pd.read_csv(csv_file)\n",
    "    #display(df)\n",
    "    x_array = df.iloc[:,1:-7]\n",
    "    #print(df1)\n",
    "    y_array = df.iloc[:,230:]\n",
    "    return x_array, y_array\n",
    "    #print(result)"
   ]
  },
  {
   "cell_type": "code",
   "execution_count": 3,
   "id": "b2e86378",
   "metadata": {},
   "outputs": [],
   "source": [
    "def split_data_labels_openness (csv_file):\n",
    "    df = pd.read_csv(csv_file)\n",
    "    x_array = df.iloc[:,1:-7]\n",
    "    y_array = df.iloc[:,225]\n",
    "    return x_array, y_array"
   ]
  },
  {
   "cell_type": "code",
   "execution_count": 4,
   "id": "d9759fad",
   "metadata": {},
   "outputs": [],
   "source": [
    "def split_data_labels_conscientiousness (csv_file):\n",
    "    df = pd.read_csv(csv_file)\n",
    "    x_array = df.iloc[:,1:-6]\n",
    "    y_array = df.iloc[:,226]\n",
    "    return x_array, y_array"
   ]
  },
  {
   "cell_type": "code",
   "execution_count": 5,
   "id": "2ecf6f11",
   "metadata": {},
   "outputs": [],
   "source": [
    "def split_data_labels_extroversion (csv_file):\n",
    "    df = pd.read_csv(csv_file)\n",
    "    x_array = df.iloc[:,1:-6]\n",
    "    y_array = df.iloc[:,227]\n",
    "    return x_array, y_array"
   ]
  },
  {
   "cell_type": "code",
   "execution_count": 6,
   "id": "2c8b7146",
   "metadata": {},
   "outputs": [],
   "source": [
    "def split_data_labels_agreeableness (csv_file):\n",
    "    df = pd.read_csv(csv_file)\n",
    "    x_array = df.iloc[:,1:-6]\n",
    "    y_array = df.iloc[:,228]\n",
    "    return x_array, y_array"
   ]
  },
  {
   "cell_type": "code",
   "execution_count": 7,
   "id": "d0ceb7c9",
   "metadata": {},
   "outputs": [],
   "source": [
    "def split_data_labels_neuroticism (csv_file):\n",
    "    df = pd.read_csv(csv_file)\n",
    "    x_array = df.iloc[:,1:-6]\n",
    "    y_array = df.iloc[:,229]\n",
    "    return x_array, y_array"
   ]
  },
  {
   "cell_type": "code",
   "execution_count": null,
   "id": "57211fc2",
   "metadata": {},
   "outputs": [],
   "source": [
    "#New hyperparameter optimalisation\n",
    "#African American"
   ]
  },
  {
   "cell_type": "code",
   "execution_count": 3,
   "id": "3d7b4de4",
   "metadata": {},
   "outputs": [],
   "source": [
    "csv_file = \"African_Amarican_train.csv\"\n",
    "x_train, y_train = split_data_labels_interview(csv_file)\n",
    "csv_file = \"African_American_test.csv\"\n",
    "x_test, y_test = split_data_labels_interview(csv_file)"
   ]
  },
  {
   "cell_type": "code",
   "execution_count": 17,
   "id": "088b51d0",
   "metadata": {},
   "outputs": [
    {
     "name": "stdout",
     "output_type": "stream",
     "text": [
      "Fitting 5 folds for each of 54 candidates, totalling 270 fits\n",
      "Best parameters: {'colsample_bytree': 0.3, 'learning_rate': 0.01, 'max_depth': 6, 'n_estimators': 1000}\n",
      "Lowest score:  0.31796745352795636\n"
     ]
    }
   ],
   "source": [
    "import pandas as pd\n",
    "import xgboost as xgb\n",
    "from sklearn.model_selection import GridSearchCV\n",
    "\n",
    "data = pd.read_csv(\"complete_CSV_Train.csv\")\n",
    "\n",
    "X, y = x_train, y_train\n",
    "    \n",
    "params = { 'max_depth': [3,6,10],\n",
    "           'learning_rate': [0.01, 0.05, 0.1],\n",
    "           'n_estimators': [100, 500, 1000],\n",
    "           'colsample_bytree': [0.3, 0.7]}\n",
    "\n",
    "xgbr = xgb.XGBRegressor(seed = 20)\n",
    "clf = GridSearchCV(estimator=xgbr, \n",
    "                   param_grid=params,\n",
    "                   scoring='neg_mean_absolute_error', \n",
    "                   verbose=1)\n",
    "\n",
    "clf.fit(X, y)\n",
    "print(\"Best parameters:\", clf.best_params_)\n",
    "print(\"Lowest score: \", (-clf.best_score_)**(1/2.0))"
   ]
  },
  {
   "cell_type": "code",
   "execution_count": 18,
   "id": "1dcc5470",
   "metadata": {},
   "outputs": [],
   "source": [
    "csv_file = \"African_Amarican_train.csv\"\n",
    "x_train, y_train = split_data_labels_openness(csv_file)\n",
    "csv_file = \"African_American_test.csv\"\n",
    "x_test, y_test = split_data_labels_openness(csv_file)"
   ]
  },
  {
   "cell_type": "code",
   "execution_count": 19,
   "id": "e66222a9",
   "metadata": {},
   "outputs": [
    {
     "name": "stdout",
     "output_type": "stream",
     "text": [
      "Fitting 5 folds for each of 54 candidates, totalling 270 fits\n",
      "Best parameters: {'colsample_bytree': 0.3, 'learning_rate': 0.1, 'max_depth': 6, 'n_estimators': 100}\n",
      "Lowest score:  0.3170634549588741\n"
     ]
    }
   ],
   "source": [
    "import pandas as pd\n",
    "import xgboost as xgb\n",
    "from sklearn.model_selection import GridSearchCV\n",
    "\n",
    "data = pd.read_csv(\"complete_CSV_Train.csv\")\n",
    "\n",
    "X, y = x_train, y_train\n",
    "    \n",
    "params = { 'max_depth': [3,6,10],\n",
    "           'learning_rate': [0.01, 0.05, 0.1],\n",
    "           'n_estimators': [100, 500, 1000],\n",
    "           'colsample_bytree': [0.3, 0.7]}\n",
    "\n",
    "xgbr = xgb.XGBRegressor(seed = 20)\n",
    "clf = GridSearchCV(estimator=xgbr, \n",
    "                   param_grid=params,\n",
    "                   scoring='neg_mean_absolute_error', \n",
    "                   verbose=1)\n",
    "\n",
    "clf.fit(X, y)\n",
    "print(\"Best parameters:\", clf.best_params_)\n",
    "print(\"Lowest score: \", (-clf.best_score_)**(1/2.0))"
   ]
  },
  {
   "cell_type": "code",
   "execution_count": 20,
   "id": "59d8db1a",
   "metadata": {},
   "outputs": [],
   "source": [
    "csv_file = \"African_Amarican_train.csv\"\n",
    "x_train, y_train = split_data_labels_conscientiousness(csv_file)\n",
    "csv_file = \"African_American_test.csv\"\n",
    "x_test, y_test = split_data_labels_conscientiousness(csv_file)"
   ]
  },
  {
   "cell_type": "code",
   "execution_count": 21,
   "id": "469275d5",
   "metadata": {},
   "outputs": [
    {
     "name": "stdout",
     "output_type": "stream",
     "text": [
      "Fitting 5 folds for each of 54 candidates, totalling 270 fits\n",
      "Best parameters: {'colsample_bytree': 0.7, 'learning_rate': 0.01, 'max_depth': 6, 'n_estimators': 1000}\n",
      "Lowest score:  0.33018225639805304\n"
     ]
    }
   ],
   "source": [
    "import pandas as pd\n",
    "import xgboost as xgb\n",
    "from sklearn.model_selection import GridSearchCV\n",
    "\n",
    "data = pd.read_csv(\"complete_CSV_Train.csv\")\n",
    "\n",
    "X, y = x_train, y_train\n",
    "    \n",
    "params = { 'max_depth': [3,6,10],\n",
    "           'learning_rate': [0.01, 0.05, 0.1],\n",
    "           'n_estimators': [100, 500, 1000],\n",
    "           'colsample_bytree': [0.3, 0.7]}\n",
    "\n",
    "xgbr = xgb.XGBRegressor(seed = 20)\n",
    "clf = GridSearchCV(estimator=xgbr, \n",
    "                   param_grid=params,\n",
    "                   scoring='neg_mean_absolute_error', \n",
    "                   verbose=1)\n",
    "\n",
    "clf.fit(X, y)\n",
    "print(\"Best parameters:\", clf.best_params_)\n",
    "print(\"Lowest score: \", (-clf.best_score_)**(1/2.0))"
   ]
  },
  {
   "cell_type": "code",
   "execution_count": 22,
   "id": "408283ef",
   "metadata": {},
   "outputs": [],
   "source": [
    "csv_file = \"African_Amarican_train.csv\"\n",
    "x_train, y_train = split_data_labels_extroversion(csv_file)\n",
    "csv_file = \"African_American_test.csv\"\n",
    "x_test, y_test = split_data_labels_extroversion(csv_file)"
   ]
  },
  {
   "cell_type": "code",
   "execution_count": 23,
   "id": "a03a358f",
   "metadata": {},
   "outputs": [
    {
     "name": "stdout",
     "output_type": "stream",
     "text": [
      "Fitting 5 folds for each of 54 candidates, totalling 270 fits\n",
      "Best parameters: {'colsample_bytree': 0.3, 'learning_rate': 0.01, 'max_depth': 3, 'n_estimators': 1000}\n",
      "Lowest score:  0.30974012082819385\n"
     ]
    }
   ],
   "source": [
    "import pandas as pd\n",
    "import xgboost as xgb\n",
    "from sklearn.model_selection import GridSearchCV\n",
    "\n",
    "data = pd.read_csv(\"complete_CSV_Train.csv\")\n",
    "\n",
    "X, y = x_train, y_train\n",
    "    \n",
    "params = { 'max_depth': [3,6,10],\n",
    "           'learning_rate': [0.01, 0.05, 0.1],\n",
    "           'n_estimators': [100, 500, 1000],\n",
    "           'colsample_bytree': [0.3, 0.7]}\n",
    "\n",
    "xgbr = xgb.XGBRegressor(seed = 20)\n",
    "clf = GridSearchCV(estimator=xgbr, \n",
    "                   param_grid=params,\n",
    "                   scoring='neg_mean_absolute_error', \n",
    "                   verbose=1)\n",
    "\n",
    "clf.fit(X, y)\n",
    "print(\"Best parameters:\", clf.best_params_)\n",
    "print(\"Lowest score: \", (-clf.best_score_)**(1/2.0))"
   ]
  },
  {
   "cell_type": "code",
   "execution_count": 24,
   "id": "c7b59354",
   "metadata": {},
   "outputs": [],
   "source": [
    "csv_file = \"African_Amarican_train.csv\"\n",
    "x_train, y_train = split_data_labels_agreeableness (csv_file)\n",
    "csv_file = \"African_American_test.csv\"\n",
    "x_test, y_test = split_data_labels_agreeableness (csv_file)"
   ]
  },
  {
   "cell_type": "code",
   "execution_count": 25,
   "id": "60c71baa",
   "metadata": {},
   "outputs": [
    {
     "name": "stdout",
     "output_type": "stream",
     "text": [
      "Fitting 5 folds for each of 54 candidates, totalling 270 fits\n",
      "Best parameters: {'colsample_bytree': 0.7, 'learning_rate': 0.05, 'max_depth': 3, 'n_estimators': 100}\n",
      "Lowest score:  0.31408522383288556\n"
     ]
    }
   ],
   "source": [
    "import pandas as pd\n",
    "import xgboost as xgb\n",
    "from sklearn.model_selection import GridSearchCV\n",
    "\n",
    "data = pd.read_csv(\"complete_CSV_Train.csv\")\n",
    "\n",
    "X, y = x_train, y_train\n",
    "    \n",
    "params = { 'max_depth': [3,6,10],\n",
    "           'learning_rate': [0.01, 0.05, 0.1],\n",
    "           'n_estimators': [100, 500, 1000],\n",
    "           'colsample_bytree': [0.3, 0.7]}\n",
    "\n",
    "xgbr = xgb.XGBRegressor(seed = 20)\n",
    "clf = GridSearchCV(estimator=xgbr, \n",
    "                   param_grid=params,\n",
    "                   scoring='neg_mean_absolute_error', \n",
    "                   verbose=1)\n",
    "\n",
    "clf.fit(X, y)\n",
    "print(\"Best parameters:\", clf.best_params_)\n",
    "print(\"Lowest score: \", (-clf.best_score_)**(1/2.0))"
   ]
  },
  {
   "cell_type": "code",
   "execution_count": 26,
   "id": "aeadabdd",
   "metadata": {},
   "outputs": [],
   "source": [
    "csv_file = \"African_Amarican_train.csv\"\n",
    "x_train, y_train = split_data_labels_neuroticism (csv_file)\n",
    "csv_file = \"African_American_test.csv\"\n",
    "x_test, y_test = split_data_labels_neuroticism (csv_file)"
   ]
  },
  {
   "cell_type": "code",
   "execution_count": 27,
   "id": "e5f4db1f",
   "metadata": {},
   "outputs": [
    {
     "name": "stdout",
     "output_type": "stream",
     "text": [
      "Fitting 5 folds for each of 54 candidates, totalling 270 fits\n",
      "Best parameters: {'colsample_bytree': 0.7, 'learning_rate': 0.01, 'max_depth': 3, 'n_estimators': 1000}\n",
      "Lowest score:  0.32412112287975353\n"
     ]
    }
   ],
   "source": [
    "import pandas as pd\n",
    "import xgboost as xgb\n",
    "from sklearn.model_selection import GridSearchCV\n",
    "\n",
    "data = pd.read_csv(\"complete_CSV_Train.csv\")\n",
    "\n",
    "X, y = x_train, y_train\n",
    "    \n",
    "params = { 'max_depth': [3,6,10],\n",
    "           'learning_rate': [0.01, 0.05, 0.1],\n",
    "           'n_estimators': [100, 500, 1000],\n",
    "           'colsample_bytree': [0.3, 0.7]}\n",
    "\n",
    "xgbr = xgb.XGBRegressor(seed = 20)\n",
    "clf = GridSearchCV(estimator=xgbr, \n",
    "                   param_grid=params,\n",
    "                   scoring='neg_mean_absolute_error', \n",
    "                   verbose=1)\n",
    "\n",
    "clf.fit(X, y)\n",
    "print(\"Best parameters:\", clf.best_params_)\n",
    "print(\"Lowest score: \", (-clf.best_score_)**(1/2.0))"
   ]
  },
  {
   "cell_type": "code",
   "execution_count": null,
   "id": "9736ffb1",
   "metadata": {},
   "outputs": [],
   "source": [
    "#Asian"
   ]
  },
  {
   "cell_type": "code",
   "execution_count": 28,
   "id": "633d6153",
   "metadata": {},
   "outputs": [],
   "source": [
    "csv_file = \"Asia_train.csv\"\n",
    "x_train, y_train = split_data_labels_interview(csv_file)\n",
    "csv_file = \"African_American_test.csv\"\n",
    "x_test, y_test = split_data_labels_interview(csv_file)"
   ]
  },
  {
   "cell_type": "code",
   "execution_count": 29,
   "id": "2d12fb65",
   "metadata": {},
   "outputs": [
    {
     "name": "stdout",
     "output_type": "stream",
     "text": [
      "Fitting 5 folds for each of 54 candidates, totalling 270 fits\n",
      "Best parameters: {'colsample_bytree': 0.3, 'learning_rate': 0.01, 'max_depth': 10, 'n_estimators': 1000}\n",
      "Lowest score:  0.30223600842310944\n"
     ]
    }
   ],
   "source": [
    "import pandas as pd\n",
    "import xgboost as xgb\n",
    "from sklearn.model_selection import GridSearchCV\n",
    "\n",
    "data = pd.read_csv(\"complete_CSV_Train.csv\")\n",
    "\n",
    "X, y = x_train, y_train\n",
    "    \n",
    "params = { 'max_depth': [3,6,10],\n",
    "           'learning_rate': [0.01, 0.05, 0.1],\n",
    "           'n_estimators': [100, 500, 1000],\n",
    "           'colsample_bytree': [0.3, 0.7]}\n",
    "\n",
    "xgbr = xgb.XGBRegressor(seed = 20)\n",
    "clf = GridSearchCV(estimator=xgbr, \n",
    "                   param_grid=params,\n",
    "                   scoring='neg_mean_absolute_error', \n",
    "                   verbose=1)\n",
    "\n",
    "clf.fit(X, y)\n",
    "print(\"Best parameters:\", clf.best_params_)\n",
    "print(\"Lowest score: \", (-clf.best_score_)**(1/2.0))"
   ]
  },
  {
   "cell_type": "code",
   "execution_count": 30,
   "id": "a6b96933",
   "metadata": {},
   "outputs": [],
   "source": [
    "csv_file = \"Asia_train.csv\"\n",
    "x_train, y_train = split_data_labels_openness(csv_file)\n",
    "csv_file = \"Asia_test.csv\"\n",
    "x_test, y_test = split_data_labels_openness(csv_file)"
   ]
  },
  {
   "cell_type": "code",
   "execution_count": 31,
   "id": "1900462b",
   "metadata": {},
   "outputs": [
    {
     "name": "stdout",
     "output_type": "stream",
     "text": [
      "Fitting 5 folds for each of 54 candidates, totalling 270 fits\n",
      "Best parameters: {'colsample_bytree': 0.3, 'learning_rate': 0.05, 'max_depth': 3, 'n_estimators': 100}\n",
      "Lowest score:  0.31691726757622013\n"
     ]
    }
   ],
   "source": [
    "import pandas as pd\n",
    "import xgboost as xgb\n",
    "from sklearn.model_selection import GridSearchCV\n",
    "\n",
    "data = pd.read_csv(\"complete_CSV_Train.csv\")\n",
    "\n",
    "X, y = x_train, y_train\n",
    "    \n",
    "params = { 'max_depth': [3,6,10],\n",
    "           'learning_rate': [0.01, 0.05, 0.1],\n",
    "           'n_estimators': [100, 500, 1000],\n",
    "           'colsample_bytree': [0.3, 0.7]}\n",
    "\n",
    "xgbr = xgb.XGBRegressor(seed = 20)\n",
    "clf = GridSearchCV(estimator=xgbr, \n",
    "                   param_grid=params,\n",
    "                   scoring='neg_mean_absolute_error', \n",
    "                   verbose=1)\n",
    "\n",
    "clf.fit(X, y)\n",
    "print(\"Best parameters:\", clf.best_params_)\n",
    "print(\"Lowest score: \", (-clf.best_score_)**(1/2.0))"
   ]
  },
  {
   "cell_type": "code",
   "execution_count": 32,
   "id": "95049161",
   "metadata": {},
   "outputs": [],
   "source": [
    "csv_file = \"Asia_train.csv\"\n",
    "x_train, y_train = split_data_labels_conscientiousness(csv_file)\n",
    "csv_file = \"Asia_test.csv\"\n",
    "x_test, y_test = split_data_labels_conscientiousness(csv_file)"
   ]
  },
  {
   "cell_type": "code",
   "execution_count": 33,
   "id": "3566fca4",
   "metadata": {},
   "outputs": [
    {
     "name": "stdout",
     "output_type": "stream",
     "text": [
      "Fitting 5 folds for each of 54 candidates, totalling 270 fits\n",
      "Best parameters: {'colsample_bytree': 0.3, 'learning_rate': 0.01, 'max_depth': 3, 'n_estimators': 500}\n",
      "Lowest score:  0.30910334920535937\n"
     ]
    }
   ],
   "source": [
    "import pandas as pd\n",
    "import xgboost as xgb\n",
    "from sklearn.model_selection import GridSearchCV\n",
    "\n",
    "data = pd.read_csv(\"complete_CSV_Train.csv\")\n",
    "\n",
    "X, y = x_train, y_train\n",
    "    \n",
    "params = { 'max_depth': [3,6,10],\n",
    "           'learning_rate': [0.01, 0.05, 0.1],\n",
    "           'n_estimators': [100, 500, 1000],\n",
    "           'colsample_bytree': [0.3, 0.7]}\n",
    "\n",
    "xgbr = xgb.XGBRegressor(seed = 20)\n",
    "clf = GridSearchCV(estimator=xgbr, \n",
    "                   param_grid=params,\n",
    "                   scoring='neg_mean_absolute_error', \n",
    "                   verbose=1)\n",
    "\n",
    "clf.fit(X, y)\n",
    "print(\"Best parameters:\", clf.best_params_)\n",
    "print(\"Lowest score: \", (-clf.best_score_)**(1/2.0))"
   ]
  },
  {
   "cell_type": "code",
   "execution_count": 34,
   "id": "ab224029",
   "metadata": {},
   "outputs": [],
   "source": [
    "csv_file = \"Asia_train.csv\"\n",
    "x_train, y_train = split_data_labels_extroversion(csv_file)\n",
    "csv_file = \"Asia_test.csv\"\n",
    "x_test, y_test = split_data_labels_extroversion(csv_file)"
   ]
  },
  {
   "cell_type": "code",
   "execution_count": 35,
   "id": "653cf91f",
   "metadata": {},
   "outputs": [
    {
     "name": "stdout",
     "output_type": "stream",
     "text": [
      "Fitting 5 folds for each of 54 candidates, totalling 270 fits\n",
      "Best parameters: {'colsample_bytree': 0.3, 'learning_rate': 0.05, 'max_depth': 10, 'n_estimators': 1000}\n",
      "Lowest score:  0.2959536008711239\n"
     ]
    }
   ],
   "source": [
    "import pandas as pd\n",
    "import xgboost as xgb\n",
    "from sklearn.model_selection import GridSearchCV\n",
    "\n",
    "data = pd.read_csv(\"complete_CSV_Train.csv\")\n",
    "\n",
    "X, y = x_train, y_train\n",
    "    \n",
    "params = { 'max_depth': [3,6,10],\n",
    "           'learning_rate': [0.01, 0.05, 0.1],\n",
    "           'n_estimators': [100, 500, 1000],\n",
    "           'colsample_bytree': [0.3, 0.7]}\n",
    "\n",
    "xgbr = xgb.XGBRegressor(seed = 20)\n",
    "clf = GridSearchCV(estimator=xgbr, \n",
    "                   param_grid=params,\n",
    "                   scoring='neg_mean_absolute_error', \n",
    "                   verbose=1)\n",
    "\n",
    "clf.fit(X, y)\n",
    "print(\"Best parameters:\", clf.best_params_)\n",
    "print(\"Lowest score: \", (-clf.best_score_)**(1/2.0))"
   ]
  },
  {
   "cell_type": "code",
   "execution_count": 36,
   "id": "a7876960",
   "metadata": {},
   "outputs": [],
   "source": [
    "csv_file = \"Asia_train.csv\"\n",
    "x_train, y_train = split_data_labels_agreeableness (csv_file)\n",
    "csv_file = \"Asia_test.csv\"\n",
    "x_test, y_test = split_data_labels_agreeableness (csv_file)"
   ]
  },
  {
   "cell_type": "code",
   "execution_count": 37,
   "id": "49363e73",
   "metadata": {},
   "outputs": [
    {
     "name": "stdout",
     "output_type": "stream",
     "text": [
      "Fitting 5 folds for each of 54 candidates, totalling 270 fits\n",
      "Best parameters: {'colsample_bytree': 0.3, 'learning_rate': 0.01, 'max_depth': 10, 'n_estimators': 1000}\n",
      "Lowest score:  0.30127322959745617\n"
     ]
    }
   ],
   "source": [
    "import pandas as pd\n",
    "import xgboost as xgb\n",
    "from sklearn.model_selection import GridSearchCV\n",
    "\n",
    "data = pd.read_csv(\"complete_CSV_Train.csv\")\n",
    "\n",
    "X, y = x_train, y_train\n",
    "    \n",
    "params = { 'max_depth': [3,6,10],\n",
    "           'learning_rate': [0.01, 0.05, 0.1],\n",
    "           'n_estimators': [100, 500, 1000],\n",
    "           'colsample_bytree': [0.3, 0.7]}\n",
    "\n",
    "xgbr = xgb.XGBRegressor(seed = 20)\n",
    "clf = GridSearchCV(estimator=xgbr, \n",
    "                   param_grid=params,\n",
    "                   scoring='neg_mean_absolute_error', \n",
    "                   verbose=1)\n",
    "\n",
    "clf.fit(X, y)\n",
    "print(\"Best parameters:\", clf.best_params_)\n",
    "print(\"Lowest score: \", (-clf.best_score_)**(1/2.0))"
   ]
  },
  {
   "cell_type": "code",
   "execution_count": 38,
   "id": "ac42e737",
   "metadata": {},
   "outputs": [],
   "source": [
    "csv_file = \"Asia_train.csv\"\n",
    "x_train, y_train = split_data_labels_neuroticism (csv_file)\n",
    "csv_file = \"Asia_test.csv\"\n",
    "x_test, y_test = split_data_labels_neuroticism (csv_file)"
   ]
  },
  {
   "cell_type": "code",
   "execution_count": 39,
   "id": "b50b0bf8",
   "metadata": {},
   "outputs": [
    {
     "name": "stdout",
     "output_type": "stream",
     "text": [
      "Fitting 5 folds for each of 54 candidates, totalling 270 fits\n",
      "Best parameters: {'colsample_bytree': 0.3, 'learning_rate': 0.01, 'max_depth': 10, 'n_estimators': 1000}\n",
      "Lowest score:  0.31685673496520067\n"
     ]
    }
   ],
   "source": [
    "import pandas as pd\n",
    "import xgboost as xgb\n",
    "from sklearn.model_selection import GridSearchCV\n",
    "\n",
    "data = pd.read_csv(\"complete_CSV_Train.csv\")\n",
    "\n",
    "X, y = x_train, y_train\n",
    "    \n",
    "params = { 'max_depth': [3,6,10],\n",
    "           'learning_rate': [0.01, 0.05, 0.1],\n",
    "           'n_estimators': [100, 500, 1000],\n",
    "           'colsample_bytree': [0.3, 0.7]}\n",
    "\n",
    "xgbr = xgb.XGBRegressor(seed = 20)\n",
    "clf = GridSearchCV(estimator=xgbr, \n",
    "                   param_grid=params,\n",
    "                   scoring='neg_mean_absolute_error', \n",
    "                   verbose=1)\n",
    "\n",
    "clf.fit(X, y)\n",
    "print(\"Best parameters:\", clf.best_params_)\n",
    "print(\"Lowest score: \", (-clf.best_score_)**(1/2.0))"
   ]
  },
  {
   "cell_type": "code",
   "execution_count": null,
   "id": "a4fd0e5d",
   "metadata": {},
   "outputs": [],
   "source": [
    "#Caucasian"
   ]
  },
  {
   "cell_type": "code",
   "execution_count": 40,
   "id": "12678b1e",
   "metadata": {},
   "outputs": [],
   "source": [
    "csv_file = \"Caucasion_train.csv\"\n",
    "x_train, y_train = split_data_labels_interview(csv_file)\n",
    "csv_file = \"Caucasian_test.csv\"\n",
    "x_test, y_test = split_data_labels_interview(csv_file)"
   ]
  },
  {
   "cell_type": "code",
   "execution_count": 41,
   "id": "df27f6ad",
   "metadata": {},
   "outputs": [
    {
     "name": "stdout",
     "output_type": "stream",
     "text": [
      "Fitting 5 folds for each of 54 candidates, totalling 270 fits\n",
      "Best parameters: {'colsample_bytree': 0.3, 'learning_rate': 0.01, 'max_depth': 6, 'n_estimators': 1000}\n",
      "Lowest score:  0.32044891026240735\n"
     ]
    }
   ],
   "source": [
    "import pandas as pd\n",
    "import xgboost as xgb\n",
    "from sklearn.model_selection import GridSearchCV\n",
    "\n",
    "data = pd.read_csv(\"complete_CSV_Train.csv\")\n",
    "\n",
    "X, y = x_train, y_train\n",
    "    \n",
    "params = { 'max_depth': [3,6,10],\n",
    "           'learning_rate': [0.01, 0.05, 0.1],\n",
    "           'n_estimators': [100, 500, 1000],\n",
    "           'colsample_bytree': [0.3, 0.7]}\n",
    "\n",
    "xgbr = xgb.XGBRegressor(seed = 20)\n",
    "clf = GridSearchCV(estimator=xgbr, \n",
    "                   param_grid=params,\n",
    "                   scoring='neg_mean_absolute_error', \n",
    "                   verbose=1)\n",
    "\n",
    "clf.fit(X, y)\n",
    "print(\"Best parameters:\", clf.best_params_)\n",
    "print(\"Lowest score: \", (-clf.best_score_)**(1/2.0))"
   ]
  },
  {
   "cell_type": "code",
   "execution_count": 42,
   "id": "d05a467f",
   "metadata": {},
   "outputs": [],
   "source": [
    "csv_file = \"Caucasion_train.csv\"\n",
    "x_train, y_train = split_data_labels_openness(csv_file)\n",
    "csv_file = \"Caucasian_test.csv\"\n",
    "x_test, y_test = split_data_labels_openness(csv_file)"
   ]
  },
  {
   "cell_type": "code",
   "execution_count": 43,
   "id": "18d6d906",
   "metadata": {},
   "outputs": [
    {
     "name": "stdout",
     "output_type": "stream",
     "text": [
      "Fitting 5 folds for each of 54 candidates, totalling 270 fits\n",
      "Best parameters: {'colsample_bytree': 0.3, 'learning_rate': 0.01, 'max_depth': 6, 'n_estimators': 1000}\n",
      "Lowest score:  0.3138655579025108\n"
     ]
    }
   ],
   "source": [
    "import pandas as pd\n",
    "import xgboost as xgb\n",
    "from sklearn.model_selection import GridSearchCV\n",
    "\n",
    "data = pd.read_csv(\"complete_CSV_Train.csv\")\n",
    "\n",
    "X, y = x_train, y_train\n",
    "    \n",
    "params = { 'max_depth': [3,6,10],\n",
    "           'learning_rate': [0.01, 0.05, 0.1],\n",
    "           'n_estimators': [100, 500, 1000],\n",
    "           'colsample_bytree': [0.3, 0.7]}\n",
    "\n",
    "xgbr = xgb.XGBRegressor(seed = 20)\n",
    "clf = GridSearchCV(estimator=xgbr, \n",
    "                   param_grid=params,\n",
    "                   scoring='neg_mean_absolute_error', \n",
    "                   verbose=1)\n",
    "\n",
    "clf.fit(X, y)\n",
    "print(\"Best parameters:\", clf.best_params_)\n",
    "print(\"Lowest score: \", (-clf.best_score_)**(1/2.0))"
   ]
  },
  {
   "cell_type": "code",
   "execution_count": 44,
   "id": "329eb6fe",
   "metadata": {},
   "outputs": [],
   "source": [
    "csv_file = \"Caucasion_train.csv\"\n",
    "x_train, y_train = split_data_labels_conscientiousness(csv_file)\n",
    "csv_file = \"Caucasian_test.csv\"\n",
    "x_test, y_test = split_data_labels_conscientiousness(csv_file)"
   ]
  },
  {
   "cell_type": "code",
   "execution_count": 45,
   "id": "de2eba3a",
   "metadata": {},
   "outputs": [
    {
     "name": "stdout",
     "output_type": "stream",
     "text": [
      "Fitting 5 folds for each of 54 candidates, totalling 270 fits\n",
      "Best parameters: {'colsample_bytree': 0.7, 'learning_rate': 0.01, 'max_depth': 10, 'n_estimators': 1000}\n",
      "Lowest score:  0.32884075398981655\n"
     ]
    }
   ],
   "source": [
    "import pandas as pd\n",
    "import xgboost as xgb\n",
    "from sklearn.model_selection import GridSearchCV\n",
    "\n",
    "data = pd.read_csv(\"complete_CSV_Train.csv\")\n",
    "\n",
    "X, y = x_train, y_train\n",
    "    \n",
    "params = { 'max_depth': [3,6,10],\n",
    "           'learning_rate': [0.01, 0.05, 0.1],\n",
    "           'n_estimators': [100, 500, 1000],\n",
    "           'colsample_bytree': [0.3, 0.7]}\n",
    "\n",
    "xgbr = xgb.XGBRegressor(seed = 20)\n",
    "clf = GridSearchCV(estimator=xgbr, \n",
    "                   param_grid=params,\n",
    "                   scoring='neg_mean_absolute_error', \n",
    "                   verbose=1)\n",
    "\n",
    "clf.fit(X, y)\n",
    "print(\"Best parameters:\", clf.best_params_)\n",
    "print(\"Lowest score: \", (-clf.best_score_)**(1/2.0))"
   ]
  },
  {
   "cell_type": "code",
   "execution_count": 46,
   "id": "2380c86a",
   "metadata": {},
   "outputs": [],
   "source": [
    "csv_file = \"Caucasion_train.csv\"\n",
    "x_train, y_train = split_data_labels_extroversion(csv_file)\n",
    "csv_file = \"Caucasian_test.csv\"\n",
    "x_test, y_test = split_data_labels_extroversion(csv_file)"
   ]
  },
  {
   "cell_type": "code",
   "execution_count": 47,
   "id": "88bad61c",
   "metadata": {},
   "outputs": [
    {
     "name": "stdout",
     "output_type": "stream",
     "text": [
      "Fitting 5 folds for each of 54 candidates, totalling 270 fits\n",
      "Best parameters: {'colsample_bytree': 0.7, 'learning_rate': 0.01, 'max_depth': 6, 'n_estimators': 1000}\n",
      "Lowest score:  0.31103250205713484\n"
     ]
    }
   ],
   "source": [
    "import pandas as pd\n",
    "import xgboost as xgb\n",
    "from sklearn.model_selection import GridSearchCV\n",
    "\n",
    "data = pd.read_csv(\"complete_CSV_Train.csv\")\n",
    "\n",
    "X, y = x_train, y_train\n",
    "    \n",
    "params = { 'max_depth': [3,6,10],\n",
    "           'learning_rate': [0.01, 0.05, 0.1],\n",
    "           'n_estimators': [100, 500, 1000],\n",
    "           'colsample_bytree': [0.3, 0.7]}\n",
    "\n",
    "xgbr = xgb.XGBRegressor(seed = 20)\n",
    "clf = GridSearchCV(estimator=xgbr, \n",
    "                   param_grid=params,\n",
    "                   scoring='neg_mean_absolute_error', \n",
    "                   verbose=1)\n",
    "\n",
    "clf.fit(X, y)\n",
    "print(\"Best parameters:\", clf.best_params_)\n",
    "print(\"Lowest score: \", (-clf.best_score_)**(1/2.0))"
   ]
  },
  {
   "cell_type": "code",
   "execution_count": 48,
   "id": "dc1e03d2",
   "metadata": {},
   "outputs": [],
   "source": [
    "csv_file = \"Caucasion_train.csv\"\n",
    "x_train, y_train = split_data_labels_agreeableness (csv_file)\n",
    "csv_file = \"Caucasian_test.csv\"\n",
    "x_test, y_test = split_data_labels_agreeableness (csv_file)"
   ]
  },
  {
   "cell_type": "code",
   "execution_count": 49,
   "id": "65394253",
   "metadata": {},
   "outputs": [
    {
     "name": "stdout",
     "output_type": "stream",
     "text": [
      "Fitting 5 folds for each of 54 candidates, totalling 270 fits\n",
      "Best parameters: {'colsample_bytree': 0.3, 'learning_rate': 0.01, 'max_depth': 10, 'n_estimators': 1000}\n",
      "Lowest score:  0.3160499596233996\n"
     ]
    }
   ],
   "source": [
    "import pandas as pd\n",
    "import xgboost as xgb\n",
    "from sklearn.model_selection import GridSearchCV\n",
    "\n",
    "data = pd.read_csv(\"complete_CSV_Train.csv\")\n",
    "\n",
    "X, y = x_train, y_train\n",
    "    \n",
    "params = { 'max_depth': [3,6,10],\n",
    "           'learning_rate': [0.01, 0.05, 0.1],\n",
    "           'n_estimators': [100, 500, 1000],\n",
    "           'colsample_bytree': [0.3, 0.7]}\n",
    "\n",
    "xgbr = xgb.XGBRegressor(seed = 20)\n",
    "clf = GridSearchCV(estimator=xgbr, \n",
    "                   param_grid=params,\n",
    "                   scoring='neg_mean_absolute_error', \n",
    "                   verbose=1)\n",
    "\n",
    "clf.fit(X, y)\n",
    "print(\"Best parameters:\", clf.best_params_)\n",
    "print(\"Lowest score: \", (-clf.best_score_)**(1/2.0))"
   ]
  },
  {
   "cell_type": "code",
   "execution_count": 50,
   "id": "36ef47ac",
   "metadata": {},
   "outputs": [],
   "source": [
    "csv_file = \"Caucasion_train.csv\"\n",
    "x_train, y_train = split_data_labels_neuroticism (csv_file)\n",
    "csv_file = \"Caucasian_test.csv\"\n",
    "x_test, y_test = split_data_labels_neuroticism (csv_file)"
   ]
  },
  {
   "cell_type": "code",
   "execution_count": 51,
   "id": "80e2814d",
   "metadata": {},
   "outputs": [
    {
     "name": "stdout",
     "output_type": "stream",
     "text": [
      "Fitting 5 folds for each of 54 candidates, totalling 270 fits\n",
      "Best parameters: {'colsample_bytree': 0.3, 'learning_rate': 0.01, 'max_depth': 6, 'n_estimators': 1000}\n",
      "Lowest score:  0.3224712992844775\n"
     ]
    }
   ],
   "source": [
    "import pandas as pd\n",
    "import xgboost as xgb\n",
    "from sklearn.model_selection import GridSearchCV\n",
    "\n",
    "data = pd.read_csv(\"complete_CSV_Train.csv\")\n",
    "\n",
    "X, y = x_train, y_train\n",
    "    \n",
    "params = { 'max_depth': [3,6,10],\n",
    "           'learning_rate': [0.01, 0.05, 0.1],\n",
    "           'n_estimators': [100, 500, 1000],\n",
    "           'colsample_bytree': [0.3, 0.7]}\n",
    "\n",
    "xgbr = xgb.XGBRegressor(seed = 20)\n",
    "clf = GridSearchCV(estimator=xgbr, \n",
    "                   param_grid=params,\n",
    "                   scoring='neg_mean_absolute_error', \n",
    "                   verbose=1)\n",
    "\n",
    "clf.fit(X, y)\n",
    "print(\"Best parameters:\", clf.best_params_)\n",
    "print(\"Lowest score: \", (-clf.best_score_)**(1/2.0))"
   ]
  },
  {
   "cell_type": "code",
   "execution_count": null,
   "id": "46e937c0",
   "metadata": {},
   "outputs": [],
   "source": []
  },
  {
   "cell_type": "code",
   "execution_count": null,
   "id": "34db79ae",
   "metadata": {},
   "outputs": [],
   "source": [
    "#running the models"
   ]
  },
  {
   "cell_type": "code",
   "execution_count": 4,
   "id": "068542a6",
   "metadata": {},
   "outputs": [],
   "source": [
    "csv_file = \"African_Amarican_train.csv\"\n",
    "x_train, y_train = split_data_labels_interview(csv_file)\n",
    "csv_file = \"African_American_test.csv\"\n",
    "x_test, y_test = split_data_labels_interview(csv_file)"
   ]
  },
  {
   "cell_type": "code",
   "execution_count": 5,
   "id": "6fe11bdb",
   "metadata": {},
   "outputs": [
    {
     "name": "stdout",
     "output_type": "stream",
     "text": [
      "XGBRegressor(base_score=None, booster=None, colsample_bylevel=None,\n",
      "             colsample_bynode=None, colsample_bytree=0.3, gamma=None,\n",
      "             gpu_id=None, importance_type='gain', interaction_constraints=None,\n",
      "             learning_rate=0.01, max_delta_step=None, max_depth=6,\n",
      "             min_child_weight=None, missing=nan, monotone_constraints=None,\n",
      "             n_estimators=1000, n_jobs=None, num_parallel_tree=None,\n",
      "             random_state=None, reg_alpha=None, reg_lambda=None,\n",
      "             scale_pos_weight=None, subsample=None, tree_method=None,\n",
      "             validate_parameters=None, verbosity=0)\n"
     ]
    }
   ],
   "source": [
    "from xgboost import XGBRegressor\n",
    "\n",
    "xgbr = XGBRegressor(colsample_bytree = 0.3, learning_rate = 0.01, max_depth = 6, n_estimators = 1000, verbosity=0)\n",
    "print(xgbr)"
   ]
  },
  {
   "cell_type": "code",
   "execution_count": 6,
   "id": "6a2030fd",
   "metadata": {},
   "outputs": [
    {
     "data": {
      "text/plain": [
       "XGBRegressor(base_score=0.5, booster='gbtree', colsample_bylevel=1,\n",
       "             colsample_bynode=1, colsample_bytree=0.3, gamma=0, gpu_id=-1,\n",
       "             importance_type='gain', interaction_constraints='',\n",
       "             learning_rate=0.01, max_delta_step=0, max_depth=6,\n",
       "             min_child_weight=1, missing=nan, monotone_constraints='()',\n",
       "             n_estimators=1000, n_jobs=8, num_parallel_tree=1, random_state=0,\n",
       "             reg_alpha=0, reg_lambda=1, scale_pos_weight=1, subsample=1,\n",
       "             tree_method='exact', validate_parameters=1, verbosity=0)"
      ]
     },
     "execution_count": 6,
     "metadata": {},
     "output_type": "execute_result"
    }
   ],
   "source": [
    "xgbr.fit(x_train, y_train) #2"
   ]
  },
  {
   "cell_type": "code",
   "execution_count": 7,
   "id": "2f8576cf",
   "metadata": {},
   "outputs": [
    {
     "name": "stdout",
     "output_type": "stream",
     "text": [
      "0.9968555942158913\n"
     ]
    }
   ],
   "source": [
    "score = xgbr.score(x_train, y_train) #3\n",
    "print(score)"
   ]
  },
  {
   "cell_type": "code",
   "execution_count": 8,
   "id": "0e8a2692",
   "metadata": {
    "scrolled": true
   },
   "outputs": [
    {
     "name": "stdout",
     "output_type": "stream",
     "text": [
      "1-MAE 0.9062162240760746\n"
     ]
    }
   ],
   "source": [
    "ypred = xgbr.predict(x_test) #5\n",
    "mae = mean_absolute_error(y_test, ypred)\n",
    "\n",
    "\n",
    "print(\"1-MAE\", 1-mae)"
   ]
  },
  {
   "cell_type": "code",
   "execution_count": 58,
   "id": "64527aa1",
   "metadata": {},
   "outputs": [],
   "source": [
    "csv_file = \"African_Amarican_train.csv\"\n",
    "x_train, y_train = split_data_labels_openness(csv_file)\n",
    "csv_file = \"African_American_test.csv\"\n",
    "x_test, y_test = split_data_labels_openness(csv_file)"
   ]
  },
  {
   "cell_type": "code",
   "execution_count": 59,
   "id": "78cf2602",
   "metadata": {},
   "outputs": [
    {
     "name": "stdout",
     "output_type": "stream",
     "text": [
      "XGBRegressor(base_score=None, booster=None, colsample_bylevel=None,\n",
      "             colsample_bynode=None, colsample_bytree=0.3, gamma=None,\n",
      "             gpu_id=None, importance_type='gain', interaction_constraints=None,\n",
      "             learning_rate=0.1, max_delta_step=None, max_depth=6,\n",
      "             min_child_weight=None, missing=nan, monotone_constraints=None,\n",
      "             n_estimators=100, n_jobs=None, num_parallel_tree=None,\n",
      "             random_state=None, reg_alpha=None, reg_lambda=None,\n",
      "             scale_pos_weight=None, subsample=None, tree_method=None,\n",
      "             validate_parameters=None, verbosity=0)\n"
     ]
    }
   ],
   "source": [
    "from xgboost import XGBRegressor\n",
    "\n",
    "xgbr = XGBRegressor(colsample_bytree = 0.3, learning_rate = 0.1, max_depth = 6, n_estimators = 100, verbosity=0)\n",
    "print(xgbr)"
   ]
  },
  {
   "cell_type": "code",
   "execution_count": 60,
   "id": "94ce5647",
   "metadata": {},
   "outputs": [
    {
     "data": {
      "text/plain": [
       "XGBRegressor(base_score=0.5, booster='gbtree', colsample_bylevel=1,\n",
       "             colsample_bynode=1, colsample_bytree=0.3, gamma=0, gpu_id=-1,\n",
       "             importance_type='gain', interaction_constraints='',\n",
       "             learning_rate=0.1, max_delta_step=0, max_depth=6,\n",
       "             min_child_weight=1, missing=nan, monotone_constraints='()',\n",
       "             n_estimators=100, n_jobs=8, num_parallel_tree=1, random_state=0,\n",
       "             reg_alpha=0, reg_lambda=1, scale_pos_weight=1, subsample=1,\n",
       "             tree_method='exact', validate_parameters=1, verbosity=0)"
      ]
     },
     "execution_count": 60,
     "metadata": {},
     "output_type": "execute_result"
    }
   ],
   "source": [
    "xgbr.fit(x_train, y_train) #2"
   ]
  },
  {
   "cell_type": "code",
   "execution_count": 61,
   "id": "7d0220b3",
   "metadata": {},
   "outputs": [
    {
     "name": "stdout",
     "output_type": "stream",
     "text": [
      "0.9970836096977174\n"
     ]
    }
   ],
   "source": [
    "score = xgbr.score(x_train, y_train) #3\n",
    "print(score)"
   ]
  },
  {
   "cell_type": "code",
   "execution_count": 62,
   "id": "ff67fea2",
   "metadata": {
    "scrolled": true
   },
   "outputs": [
    {
     "name": "stdout",
     "output_type": "stream",
     "text": [
      "1-MAE 0.9040463184612612\n"
     ]
    }
   ],
   "source": [
    "ypred = xgbr.predict(x_test) #5\n",
    "mae = mean_absolute_error(y_test, ypred)\n",
    "\n",
    "print(\"1-MAE\", 1-mae)"
   ]
  },
  {
   "cell_type": "code",
   "execution_count": 63,
   "id": "e7e346e6",
   "metadata": {},
   "outputs": [],
   "source": [
    "csv_file = \"African_Amarican_train.csv\"\n",
    "x_train, y_train = split_data_labels_conscientiousness(csv_file)\n",
    "csv_file = \"African_American_test.csv\"\n",
    "x_test, y_test = split_data_labels_conscientiousness(csv_file)"
   ]
  },
  {
   "cell_type": "code",
   "execution_count": 65,
   "id": "bdda32bc",
   "metadata": {},
   "outputs": [
    {
     "name": "stdout",
     "output_type": "stream",
     "text": [
      "XGBRegressor(base_score=None, booster=None, colsample_bylevel=None,\n",
      "             colsample_bynode=None, colsample_bytree=0.7, gamma=None,\n",
      "             gpu_id=None, importance_type='gain', interaction_constraints=None,\n",
      "             learning_rate=0.01, max_delta_step=None, max_depth=6,\n",
      "             min_child_weight=None, missing=nan, monotone_constraints=None,\n",
      "             n_estimators=1000, n_jobs=None, num_parallel_tree=None,\n",
      "             random_state=None, reg_alpha=None, reg_lambda=None,\n",
      "             scale_pos_weight=None, subsample=None, tree_method=None,\n",
      "             validate_parameters=None, verbosity=0)\n"
     ]
    }
   ],
   "source": [
    "from xgboost import XGBRegressor\n",
    "\n",
    "xgbr = XGBRegressor(colsample_bytree = 0.7, learning_rate = 0.01, max_depth = 6, n_estimators = 1000, verbosity=0)\n",
    "print(xgbr)"
   ]
  },
  {
   "cell_type": "code",
   "execution_count": 66,
   "id": "a797abc3",
   "metadata": {},
   "outputs": [
    {
     "data": {
      "text/plain": [
       "XGBRegressor(base_score=0.5, booster='gbtree', colsample_bylevel=1,\n",
       "             colsample_bynode=1, colsample_bytree=0.7, gamma=0, gpu_id=-1,\n",
       "             importance_type='gain', interaction_constraints='',\n",
       "             learning_rate=0.01, max_delta_step=0, max_depth=6,\n",
       "             min_child_weight=1, missing=nan, monotone_constraints='()',\n",
       "             n_estimators=1000, n_jobs=8, num_parallel_tree=1, random_state=0,\n",
       "             reg_alpha=0, reg_lambda=1, scale_pos_weight=1, subsample=1,\n",
       "             tree_method='exact', validate_parameters=1, verbosity=0)"
      ]
     },
     "execution_count": 66,
     "metadata": {},
     "output_type": "execute_result"
    }
   ],
   "source": [
    "xgbr.fit(x_train, y_train) #2"
   ]
  },
  {
   "cell_type": "code",
   "execution_count": 67,
   "id": "eda7e9d0",
   "metadata": {},
   "outputs": [
    {
     "name": "stdout",
     "output_type": "stream",
     "text": [
      "0.9972529800369644\n"
     ]
    }
   ],
   "source": [
    "score = xgbr.score(x_train, y_train) #3\n",
    "print(score)"
   ]
  },
  {
   "cell_type": "code",
   "execution_count": 68,
   "id": "06d877f3",
   "metadata": {
    "scrolled": true
   },
   "outputs": [
    {
     "name": "stdout",
     "output_type": "stream",
     "text": [
      "1-MAE 0.8985871785267382\n"
     ]
    }
   ],
   "source": [
    "ypred = xgbr.predict(x_test) #5\n",
    "mae = mean_absolute_error(y_test, ypred)\n",
    "\n",
    "print(\"1-MAE\", 1-mae)"
   ]
  },
  {
   "cell_type": "code",
   "execution_count": 69,
   "id": "a42d4582",
   "metadata": {},
   "outputs": [],
   "source": [
    "csv_file = \"African_Amarican_train.csv\"\n",
    "x_train, y_train = split_data_labels_extroversion(csv_file)\n",
    "csv_file = \"African_American_test.csv\"\n",
    "x_test, y_test = split_data_labels_extroversion(csv_file)"
   ]
  },
  {
   "cell_type": "code",
   "execution_count": 70,
   "id": "adfa15e6",
   "metadata": {},
   "outputs": [
    {
     "name": "stdout",
     "output_type": "stream",
     "text": [
      "XGBRegressor(base_score=None, booster=None, colsample_bylevel=None,\n",
      "             colsample_bynode=None, colsample_bytree=0.3, gamma=None,\n",
      "             gpu_id=None, importance_type='gain', interaction_constraints=None,\n",
      "             learning_rate=0.01, max_delta_step=None, max_depth=3,\n",
      "             min_child_weight=None, missing=nan, monotone_constraints=None,\n",
      "             n_estimators=1000, n_jobs=None, num_parallel_tree=None,\n",
      "             random_state=None, reg_alpha=None, reg_lambda=None,\n",
      "             scale_pos_weight=None, subsample=None, tree_method=None,\n",
      "             validate_parameters=None, verbosity=0)\n"
     ]
    }
   ],
   "source": [
    "from xgboost import XGBRegressor\n",
    "\n",
    "xgbr = XGBRegressor(colsample_bytree = 0.3, learning_rate = 0.01, max_depth = 3, n_estimators = 1000, verbosity=0)\n",
    "print(xgbr)"
   ]
  },
  {
   "cell_type": "code",
   "execution_count": 71,
   "id": "988a4d64",
   "metadata": {},
   "outputs": [
    {
     "data": {
      "text/plain": [
       "XGBRegressor(base_score=0.5, booster='gbtree', colsample_bylevel=1,\n",
       "             colsample_bynode=1, colsample_bytree=0.3, gamma=0, gpu_id=-1,\n",
       "             importance_type='gain', interaction_constraints='',\n",
       "             learning_rate=0.01, max_delta_step=0, max_depth=3,\n",
       "             min_child_weight=1, missing=nan, monotone_constraints='()',\n",
       "             n_estimators=1000, n_jobs=8, num_parallel_tree=1, random_state=0,\n",
       "             reg_alpha=0, reg_lambda=1, scale_pos_weight=1, subsample=1,\n",
       "             tree_method='exact', validate_parameters=1, verbosity=0)"
      ]
     },
     "execution_count": 71,
     "metadata": {},
     "output_type": "execute_result"
    }
   ],
   "source": [
    "xgbr.fit(x_train, y_train) #2"
   ]
  },
  {
   "cell_type": "code",
   "execution_count": 72,
   "id": "e7e1864e",
   "metadata": {},
   "outputs": [
    {
     "name": "stdout",
     "output_type": "stream",
     "text": [
      "0.8366690829161362\n"
     ]
    }
   ],
   "source": [
    "score = xgbr.score(x_train, y_train) #3\n",
    "print(score)"
   ]
  },
  {
   "cell_type": "code",
   "execution_count": 73,
   "id": "b0f6130d",
   "metadata": {
    "scrolled": true
   },
   "outputs": [
    {
     "name": "stdout",
     "output_type": "stream",
     "text": [
      "1-MAE 0.904072409440379\n"
     ]
    }
   ],
   "source": [
    "ypred = xgbr.predict(x_test) #5\n",
    "mae = mean_absolute_error(y_test, ypred)\n",
    "\n",
    "print(\"1-MAE\", 1-mae)"
   ]
  },
  {
   "cell_type": "code",
   "execution_count": 74,
   "id": "d6a7f837",
   "metadata": {},
   "outputs": [],
   "source": [
    "csv_file = \"African_Amarican_train.csv\"\n",
    "x_train, y_train = split_data_labels_agreeableness(csv_file)\n",
    "csv_file = \"African_American_test.csv\"\n",
    "x_test, y_test = split_data_labels_agreeableness(csv_file)"
   ]
  },
  {
   "cell_type": "code",
   "execution_count": 75,
   "id": "2e4f98d4",
   "metadata": {},
   "outputs": [
    {
     "name": "stdout",
     "output_type": "stream",
     "text": [
      "XGBRegressor(base_score=None, booster=None, colsample_bylevel=None,\n",
      "             colsample_bynode=None, colsample_bytree=0.7, gamma=None,\n",
      "             gpu_id=None, importance_type='gain', interaction_constraints=None,\n",
      "             learning_rate=0.05, max_delta_step=None, max_depth=3,\n",
      "             min_child_weight=None, missing=nan, monotone_constraints=None,\n",
      "             n_estimators=100, n_jobs=None, num_parallel_tree=None,\n",
      "             random_state=None, reg_alpha=None, reg_lambda=None,\n",
      "             scale_pos_weight=None, subsample=None, tree_method=None,\n",
      "             validate_parameters=None, verbosity=0)\n"
     ]
    }
   ],
   "source": [
    "from xgboost import XGBRegressor\n",
    "\n",
    "xgbr = XGBRegressor(colsample_bytree = 0.7, learning_rate = 0.05, max_depth = 3, n_estimators = 100, verbosity=0)\n",
    "print(xgbr)"
   ]
  },
  {
   "cell_type": "code",
   "execution_count": 76,
   "id": "cd32235e",
   "metadata": {},
   "outputs": [
    {
     "data": {
      "text/plain": [
       "XGBRegressor(base_score=0.5, booster='gbtree', colsample_bylevel=1,\n",
       "             colsample_bynode=1, colsample_bytree=0.7, gamma=0, gpu_id=-1,\n",
       "             importance_type='gain', interaction_constraints='',\n",
       "             learning_rate=0.05, max_delta_step=0, max_depth=3,\n",
       "             min_child_weight=1, missing=nan, monotone_constraints='()',\n",
       "             n_estimators=100, n_jobs=8, num_parallel_tree=1, random_state=0,\n",
       "             reg_alpha=0, reg_lambda=1, scale_pos_weight=1, subsample=1,\n",
       "             tree_method='exact', validate_parameters=1, verbosity=0)"
      ]
     },
     "execution_count": 76,
     "metadata": {},
     "output_type": "execute_result"
    }
   ],
   "source": [
    "xgbr.fit(x_train, y_train) #2"
   ]
  },
  {
   "cell_type": "code",
   "execution_count": 77,
   "id": "ef0059bb",
   "metadata": {},
   "outputs": [
    {
     "name": "stdout",
     "output_type": "stream",
     "text": [
      "0.5950004603864036\n"
     ]
    }
   ],
   "source": [
    "score = xgbr.score(x_train, y_train) #3\n",
    "print(score)"
   ]
  },
  {
   "cell_type": "code",
   "execution_count": 78,
   "id": "b48566cf",
   "metadata": {
    "scrolled": true
   },
   "outputs": [
    {
     "name": "stdout",
     "output_type": "stream",
     "text": [
      "1-MAE 0.9114890605901343\n"
     ]
    }
   ],
   "source": [
    "ypred = xgbr.predict(x_test) #5\n",
    "mae = mean_absolute_error(y_test, ypred)\n",
    "\n",
    "print(\"1-MAE\", 1-mae)"
   ]
  },
  {
   "cell_type": "code",
   "execution_count": 85,
   "id": "e9c34a19",
   "metadata": {},
   "outputs": [],
   "source": [
    "csv_file = \"African_Amarican_train.csv\"\n",
    "x_train, y_train = split_data_labels_neuroticism(csv_file)\n",
    "csv_file = \"African_American_test.csv\"\n",
    "x_test, y_test = split_data_labels_neuroticism(csv_file)"
   ]
  },
  {
   "cell_type": "code",
   "execution_count": 86,
   "id": "763d785d",
   "metadata": {},
   "outputs": [
    {
     "name": "stdout",
     "output_type": "stream",
     "text": [
      "XGBRegressor(base_score=None, booster=None, colsample_bylevel=None,\n",
      "             colsample_bynode=None, colsample_bytree=0.7, gamma=None,\n",
      "             gpu_id=None, importance_type='gain', interaction_constraints=None,\n",
      "             learning_rate=0.01, max_delta_step=None, max_depth=3,\n",
      "             min_child_weight=None, missing=nan, monotone_constraints=None,\n",
      "             n_estimators=1000, n_jobs=None, num_parallel_tree=None,\n",
      "             random_state=None, reg_alpha=None, reg_lambda=None,\n",
      "             scale_pos_weight=None, subsample=None, tree_method=None,\n",
      "             validate_parameters=None, verbosity=0)\n"
     ]
    }
   ],
   "source": [
    "from xgboost import XGBRegressor\n",
    "\n",
    "xgbr = XGBRegressor(colsample_bytree = 0.7, learning_rate = 0.01, max_depth = 3, n_estimators = 1000, verbosity=0)\n",
    "print(xgbr)"
   ]
  },
  {
   "cell_type": "code",
   "execution_count": 87,
   "id": "a18e451b",
   "metadata": {},
   "outputs": [
    {
     "data": {
      "text/plain": [
       "XGBRegressor(base_score=0.5, booster='gbtree', colsample_bylevel=1,\n",
       "             colsample_bynode=1, colsample_bytree=0.7, gamma=0, gpu_id=-1,\n",
       "             importance_type='gain', interaction_constraints='',\n",
       "             learning_rate=0.01, max_delta_step=0, max_depth=3,\n",
       "             min_child_weight=1, missing=nan, monotone_constraints='()',\n",
       "             n_estimators=1000, n_jobs=8, num_parallel_tree=1, random_state=0,\n",
       "             reg_alpha=0, reg_lambda=1, scale_pos_weight=1, subsample=1,\n",
       "             tree_method='exact', validate_parameters=1, verbosity=0)"
      ]
     },
     "execution_count": 87,
     "metadata": {},
     "output_type": "execute_result"
    }
   ],
   "source": [
    "xgbr.fit(x_train, y_train) #2"
   ]
  },
  {
   "cell_type": "code",
   "execution_count": 88,
   "id": "47938b13",
   "metadata": {
    "scrolled": true
   },
   "outputs": [
    {
     "name": "stdout",
     "output_type": "stream",
     "text": [
      "0.8256722298622916\n"
     ]
    }
   ],
   "source": [
    "score = xgbr.score(x_train, y_train) #3\n",
    "print(score)"
   ]
  },
  {
   "cell_type": "code",
   "execution_count": 89,
   "id": "4bb72fc3",
   "metadata": {
    "scrolled": true
   },
   "outputs": [
    {
     "name": "stdout",
     "output_type": "stream",
     "text": [
      "1-MAE 0.8934435210678549\n"
     ]
    }
   ],
   "source": [
    "ypred = xgbr.predict(x_test) #5\n",
    "mae = mean_absolute_error(y_test, ypred)\n",
    "\n",
    "print(\"1-MAE\", 1-mae)"
   ]
  },
  {
   "cell_type": "code",
   "execution_count": null,
   "id": "f5201edb",
   "metadata": {},
   "outputs": [],
   "source": [
    "#Asian"
   ]
  },
  {
   "cell_type": "code",
   "execution_count": 92,
   "id": "d1d6bbd7",
   "metadata": {},
   "outputs": [],
   "source": [
    "csv_file = \"Asia_train.csv\"\n",
    "x_train, y_train = split_data_labels_interview(csv_file)\n",
    "csv_file = \"Asia_test.csv\"\n",
    "x_test, y_test = split_data_labels_interview(csv_file)"
   ]
  },
  {
   "cell_type": "code",
   "execution_count": 93,
   "id": "0da8c75b",
   "metadata": {},
   "outputs": [
    {
     "name": "stdout",
     "output_type": "stream",
     "text": [
      "XGBRegressor(base_score=None, booster=None, colsample_bylevel=None,\n",
      "             colsample_bynode=None, colsample_bytree=0.3, gamma=None,\n",
      "             gpu_id=None, importance_type='gain', interaction_constraints=None,\n",
      "             learning_rate=0.01, max_delta_step=None, max_depth=10,\n",
      "             min_child_weight=None, missing=nan, monotone_constraints=None,\n",
      "             n_estimators=1000, n_jobs=None, num_parallel_tree=None,\n",
      "             random_state=None, reg_alpha=None, reg_lambda=None,\n",
      "             scale_pos_weight=None, subsample=None, tree_method=None,\n",
      "             validate_parameters=None, verbosity=0)\n"
     ]
    }
   ],
   "source": [
    "from xgboost import XGBRegressor\n",
    "\n",
    "xgbr = XGBRegressor(colsample_bytree = 0.3, learning_rate = 0.01, max_depth = 10, n_estimators = 1000, verbosity=0)\n",
    "print(xgbr)"
   ]
  },
  {
   "cell_type": "code",
   "execution_count": 94,
   "id": "12710495",
   "metadata": {},
   "outputs": [
    {
     "data": {
      "text/plain": [
       "XGBRegressor(base_score=0.5, booster='gbtree', colsample_bylevel=1,\n",
       "             colsample_bynode=1, colsample_bytree=0.3, gamma=0, gpu_id=-1,\n",
       "             importance_type='gain', interaction_constraints='',\n",
       "             learning_rate=0.01, max_delta_step=0, max_depth=10,\n",
       "             min_child_weight=1, missing=nan, monotone_constraints='()',\n",
       "             n_estimators=1000, n_jobs=8, num_parallel_tree=1, random_state=0,\n",
       "             reg_alpha=0, reg_lambda=1, scale_pos_weight=1, subsample=1,\n",
       "             tree_method='exact', validate_parameters=1, verbosity=0)"
      ]
     },
     "execution_count": 94,
     "metadata": {},
     "output_type": "execute_result"
    }
   ],
   "source": [
    "xgbr.fit(x_train, y_train) #2"
   ]
  },
  {
   "cell_type": "code",
   "execution_count": 95,
   "id": "bb424421",
   "metadata": {
    "scrolled": true
   },
   "outputs": [
    {
     "name": "stdout",
     "output_type": "stream",
     "text": [
      "0.9999842645150702\n"
     ]
    }
   ],
   "source": [
    "score = xgbr.score(x_train, y_train) #3\n",
    "print(score)"
   ]
  },
  {
   "cell_type": "code",
   "execution_count": 96,
   "id": "a0f53c71",
   "metadata": {
    "scrolled": true
   },
   "outputs": [
    {
     "name": "stdout",
     "output_type": "stream",
     "text": [
      "1-MAE 0.9024462766654547\n"
     ]
    }
   ],
   "source": [
    "ypred = xgbr.predict(x_test) #5\n",
    "mae = mean_absolute_error(y_test, ypred)\n",
    "\n",
    "print(\"1-MAE\", 1-mae)"
   ]
  },
  {
   "cell_type": "code",
   "execution_count": 97,
   "id": "29094d0c",
   "metadata": {},
   "outputs": [],
   "source": [
    "csv_file = \"Asia_train.csv\"\n",
    "x_train, y_train = split_data_labels_openness(csv_file)\n",
    "csv_file = \"Asia_test.csv\"\n",
    "x_test, y_test = split_data_labels_openness(csv_file)"
   ]
  },
  {
   "cell_type": "code",
   "execution_count": 98,
   "id": "e8b8bc15",
   "metadata": {},
   "outputs": [
    {
     "name": "stdout",
     "output_type": "stream",
     "text": [
      "XGBRegressor(base_score=None, booster=None, colsample_bylevel=None,\n",
      "             colsample_bynode=None, colsample_bytree=0.3, gamma=None,\n",
      "             gpu_id=None, importance_type='gain', interaction_constraints=None,\n",
      "             learning_rate=0.05, max_delta_step=None, max_depth=3,\n",
      "             min_child_weight=None, missing=nan, monotone_constraints=None,\n",
      "             n_estimators=100, n_jobs=None, num_parallel_tree=None,\n",
      "             random_state=None, reg_alpha=None, reg_lambda=None,\n",
      "             scale_pos_weight=None, subsample=None, tree_method=None,\n",
      "             validate_parameters=None, verbosity=0)\n"
     ]
    }
   ],
   "source": [
    "from xgboost import XGBRegressor\n",
    "\n",
    "xgbr = XGBRegressor(colsample_bytree = 0.3, learning_rate = 0.05, max_depth = 3, n_estimators = 100, verbosity=0)\n",
    "print(xgbr)"
   ]
  },
  {
   "cell_type": "code",
   "execution_count": 99,
   "id": "3ac35313",
   "metadata": {},
   "outputs": [
    {
     "data": {
      "text/plain": [
       "XGBRegressor(base_score=0.5, booster='gbtree', colsample_bylevel=1,\n",
       "             colsample_bynode=1, colsample_bytree=0.3, gamma=0, gpu_id=-1,\n",
       "             importance_type='gain', interaction_constraints='',\n",
       "             learning_rate=0.05, max_delta_step=0, max_depth=3,\n",
       "             min_child_weight=1, missing=nan, monotone_constraints='()',\n",
       "             n_estimators=100, n_jobs=8, num_parallel_tree=1, random_state=0,\n",
       "             reg_alpha=0, reg_lambda=1, scale_pos_weight=1, subsample=1,\n",
       "             tree_method='exact', validate_parameters=1, verbosity=0)"
      ]
     },
     "execution_count": 99,
     "metadata": {},
     "output_type": "execute_result"
    }
   ],
   "source": [
    "xgbr.fit(x_train, y_train) #2"
   ]
  },
  {
   "cell_type": "code",
   "execution_count": 100,
   "id": "7ad184aa",
   "metadata": {
    "scrolled": true
   },
   "outputs": [
    {
     "name": "stdout",
     "output_type": "stream",
     "text": [
      "0.8604376504537252\n"
     ]
    }
   ],
   "source": [
    "score = xgbr.score(x_train, y_train) #3\n",
    "print(score)"
   ]
  },
  {
   "cell_type": "code",
   "execution_count": 101,
   "id": "ec78bcd8",
   "metadata": {
    "scrolled": true
   },
   "outputs": [
    {
     "name": "stdout",
     "output_type": "stream",
     "text": [
      "1-MAE 0.9010603188494453\n"
     ]
    }
   ],
   "source": [
    "ypred = xgbr.predict(x_test) #5\n",
    "mae = mean_absolute_error(y_test, ypred)\n",
    "\n",
    "print(\"1-MAE\", 1-mae)"
   ]
  },
  {
   "cell_type": "code",
   "execution_count": 92,
   "id": "50bb1908",
   "metadata": {},
   "outputs": [],
   "source": [
    "csv_file = \"Asia_train.csv\"\n",
    "x_train, y_train = split_data_labels_conscientiousness(csv_file)\n",
    "csv_file = \"Asia_test.csv\"\n",
    "x_test, y_test = split_data_labels_conscientiousness(csv_file)"
   ]
  },
  {
   "cell_type": "code",
   "execution_count": 102,
   "id": "64b36555",
   "metadata": {},
   "outputs": [
    {
     "name": "stdout",
     "output_type": "stream",
     "text": [
      "XGBRegressor(base_score=None, booster=None, colsample_bylevel=None,\n",
      "             colsample_bynode=None, colsample_bytree=0.3, gamma=None,\n",
      "             gpu_id=None, importance_type='gain', interaction_constraints=None,\n",
      "             learning_rate=0.01, max_delta_step=None, max_depth=3,\n",
      "             min_child_weight=None, missing=nan, monotone_constraints=None,\n",
      "             n_estimators=500, n_jobs=None, num_parallel_tree=None,\n",
      "             random_state=None, reg_alpha=None, reg_lambda=None,\n",
      "             scale_pos_weight=None, subsample=None, tree_method=None,\n",
      "             validate_parameters=None, verbosity=0)\n"
     ]
    }
   ],
   "source": [
    "from xgboost import XGBRegressor\n",
    "\n",
    "xgbr = XGBRegressor(colsample_bytree = 0.3, learning_rate = 0.01, max_depth = 3, n_estimators = 500, verbosity=0)\n",
    "print(xgbr)"
   ]
  },
  {
   "cell_type": "code",
   "execution_count": 103,
   "id": "32723c5f",
   "metadata": {},
   "outputs": [
    {
     "data": {
      "text/plain": [
       "XGBRegressor(base_score=0.5, booster='gbtree', colsample_bylevel=1,\n",
       "             colsample_bynode=1, colsample_bytree=0.3, gamma=0, gpu_id=-1,\n",
       "             importance_type='gain', interaction_constraints='',\n",
       "             learning_rate=0.01, max_delta_step=0, max_depth=3,\n",
       "             min_child_weight=1, missing=nan, monotone_constraints='()',\n",
       "             n_estimators=500, n_jobs=8, num_parallel_tree=1, random_state=0,\n",
       "             reg_alpha=0, reg_lambda=1, scale_pos_weight=1, subsample=1,\n",
       "             tree_method='exact', validate_parameters=1, verbosity=0)"
      ]
     },
     "execution_count": 103,
     "metadata": {},
     "output_type": "execute_result"
    }
   ],
   "source": [
    "xgbr.fit(x_train, y_train) #2"
   ]
  },
  {
   "cell_type": "code",
   "execution_count": 104,
   "id": "ac4230e2",
   "metadata": {
    "scrolled": true
   },
   "outputs": [
    {
     "name": "stdout",
     "output_type": "stream",
     "text": [
      "0.8613079477622294\n"
     ]
    }
   ],
   "source": [
    "score = xgbr.score(x_train, y_train) #3\n",
    "print(score)"
   ]
  },
  {
   "cell_type": "code",
   "execution_count": 105,
   "id": "734142eb",
   "metadata": {
    "scrolled": true
   },
   "outputs": [
    {
     "name": "stdout",
     "output_type": "stream",
     "text": [
      "1-MAE 0.9029917952281977\n"
     ]
    }
   ],
   "source": [
    "ypred = xgbr.predict(x_test) #5\n",
    "mae = mean_absolute_error(y_test, ypred)\n",
    "\n",
    "print(\"1-MAE\", 1-mae)"
   ]
  },
  {
   "cell_type": "code",
   "execution_count": 106,
   "id": "a5636724",
   "metadata": {},
   "outputs": [],
   "source": [
    "csv_file = \"Asia_train.csv\"\n",
    "x_train, y_train = split_data_labels_extroversion(csv_file)\n",
    "csv_file = \"Asia_test.csv\"\n",
    "x_test, y_test = split_data_labels_extroversion(csv_file)"
   ]
  },
  {
   "cell_type": "code",
   "execution_count": 107,
   "id": "32b8afda",
   "metadata": {},
   "outputs": [
    {
     "name": "stdout",
     "output_type": "stream",
     "text": [
      "XGBRegressor(base_score=None, booster=None, colsample_bylevel=None,\n",
      "             colsample_bynode=None, colsample_bytree=0.3, gamma=None,\n",
      "             gpu_id=None, importance_type='gain', interaction_constraints=None,\n",
      "             learning_rate=0.05, max_delta_step=None, max_depth=10,\n",
      "             min_child_weight=None, missing=nan, monotone_constraints=None,\n",
      "             n_estimators=1000, n_jobs=None, num_parallel_tree=None,\n",
      "             random_state=None, reg_alpha=None, reg_lambda=None,\n",
      "             scale_pos_weight=None, subsample=None, tree_method=None,\n",
      "             validate_parameters=None, verbosity=0)\n"
     ]
    }
   ],
   "source": [
    "from xgboost import XGBRegressor\n",
    "\n",
    "xgbr = XGBRegressor(colsample_bytree = 0.3, learning_rate = 0.05, max_depth = 10, n_estimators = 1000, verbosity=0)\n",
    "print(xgbr)"
   ]
  },
  {
   "cell_type": "code",
   "execution_count": 108,
   "id": "00af7b9d",
   "metadata": {
    "scrolled": true
   },
   "outputs": [
    {
     "data": {
      "text/plain": [
       "XGBRegressor(base_score=0.5, booster='gbtree', colsample_bylevel=1,\n",
       "             colsample_bynode=1, colsample_bytree=0.3, gamma=0, gpu_id=-1,\n",
       "             importance_type='gain', interaction_constraints='',\n",
       "             learning_rate=0.05, max_delta_step=0, max_depth=10,\n",
       "             min_child_weight=1, missing=nan, monotone_constraints='()',\n",
       "             n_estimators=1000, n_jobs=8, num_parallel_tree=1, random_state=0,\n",
       "             reg_alpha=0, reg_lambda=1, scale_pos_weight=1, subsample=1,\n",
       "             tree_method='exact', validate_parameters=1, verbosity=0)"
      ]
     },
     "execution_count": 108,
     "metadata": {},
     "output_type": "execute_result"
    }
   ],
   "source": [
    "xgbr.fit(x_train, y_train) #2"
   ]
  },
  {
   "cell_type": "code",
   "execution_count": 109,
   "id": "7bdc0138",
   "metadata": {
    "scrolled": true
   },
   "outputs": [
    {
     "name": "stdout",
     "output_type": "stream",
     "text": [
      "0.9999900522036982\n"
     ]
    }
   ],
   "source": [
    "score = xgbr.score(x_train, y_train) #3\n",
    "print(score)"
   ]
  },
  {
   "cell_type": "code",
   "execution_count": 110,
   "id": "26532d55",
   "metadata": {
    "scrolled": true
   },
   "outputs": [
    {
     "name": "stdout",
     "output_type": "stream",
     "text": [
      "1-MAE 0.9058088749245735\n"
     ]
    }
   ],
   "source": [
    "ypred = xgbr.predict(x_test) #5\n",
    "mae = mean_absolute_error(y_test, ypred)\n",
    "\n",
    "print(\"1-MAE\", 1-mae)"
   ]
  },
  {
   "cell_type": "code",
   "execution_count": 111,
   "id": "f85aa24f",
   "metadata": {},
   "outputs": [],
   "source": [
    "csv_file = \"Asia_train.csv\"\n",
    "x_train, y_train = split_data_labels_agreeableness(csv_file)\n",
    "csv_file = \"Asia_test.csv\"\n",
    "x_test, y_test = split_data_labels_agreeableness(csv_file)"
   ]
  },
  {
   "cell_type": "code",
   "execution_count": 112,
   "id": "05368081",
   "metadata": {},
   "outputs": [
    {
     "name": "stdout",
     "output_type": "stream",
     "text": [
      "XGBRegressor(base_score=None, booster=None, colsample_bylevel=None,\n",
      "             colsample_bynode=None, colsample_bytree=0.3, gamma=None,\n",
      "             gpu_id=None, importance_type='gain', interaction_constraints=None,\n",
      "             learning_rate=0.01, max_delta_step=None, max_depth=10,\n",
      "             min_child_weight=None, missing=nan, monotone_constraints=None,\n",
      "             n_estimators=1000, n_jobs=None, num_parallel_tree=None,\n",
      "             random_state=None, reg_alpha=None, reg_lambda=None,\n",
      "             scale_pos_weight=None, subsample=None, tree_method=None,\n",
      "             validate_parameters=None, verbosity=0)\n"
     ]
    }
   ],
   "source": [
    "from xgboost import XGBRegressor\n",
    "\n",
    "xgbr = XGBRegressor(colsample_bytree = 0.3, learning_rate = 0.01, max_depth = 10, n_estimators = 1000, verbosity=0)\n",
    "print(xgbr)"
   ]
  },
  {
   "cell_type": "code",
   "execution_count": 113,
   "id": "0ef33a9f",
   "metadata": {},
   "outputs": [
    {
     "data": {
      "text/plain": [
       "XGBRegressor(base_score=0.5, booster='gbtree', colsample_bylevel=1,\n",
       "             colsample_bynode=1, colsample_bytree=0.3, gamma=0, gpu_id=-1,\n",
       "             importance_type='gain', interaction_constraints='',\n",
       "             learning_rate=0.01, max_delta_step=0, max_depth=10,\n",
       "             min_child_weight=1, missing=nan, monotone_constraints='()',\n",
       "             n_estimators=1000, n_jobs=8, num_parallel_tree=1, random_state=0,\n",
       "             reg_alpha=0, reg_lambda=1, scale_pos_weight=1, subsample=1,\n",
       "             tree_method='exact', validate_parameters=1, verbosity=0)"
      ]
     },
     "execution_count": 113,
     "metadata": {},
     "output_type": "execute_result"
    }
   ],
   "source": [
    "xgbr.fit(x_train, y_train) #2"
   ]
  },
  {
   "cell_type": "code",
   "execution_count": 114,
   "id": "330a337d",
   "metadata": {
    "scrolled": true
   },
   "outputs": [
    {
     "name": "stdout",
     "output_type": "stream",
     "text": [
      "0.9999796842129126\n"
     ]
    }
   ],
   "source": [
    "score = xgbr.score(x_train, y_train) #3\n",
    "print(score)"
   ]
  },
  {
   "cell_type": "code",
   "execution_count": 115,
   "id": "ad30e350",
   "metadata": {
    "scrolled": true
   },
   "outputs": [
    {
     "name": "stdout",
     "output_type": "stream",
     "text": [
      "1-MAE 0.8963984498861303\n"
     ]
    }
   ],
   "source": [
    "ypred = xgbr.predict(x_test) #5\n",
    "mae = mean_absolute_error(y_test, ypred)\n",
    "\n",
    "print(\"1-MAE\", 1-mae)"
   ]
  },
  {
   "cell_type": "code",
   "execution_count": 116,
   "id": "22493a9e",
   "metadata": {},
   "outputs": [],
   "source": [
    "csv_file = \"Asia_train.csv\"\n",
    "x_train, y_train = split_data_labels_neuroticism(csv_file)\n",
    "csv_file = \"Asia_test.csv\"\n",
    "x_test, y_test = split_data_labels_neuroticism(csv_file)"
   ]
  },
  {
   "cell_type": "code",
   "execution_count": 117,
   "id": "b44bd989",
   "metadata": {},
   "outputs": [
    {
     "name": "stdout",
     "output_type": "stream",
     "text": [
      "XGBRegressor(base_score=None, booster=None, colsample_bylevel=None,\n",
      "             colsample_bynode=None, colsample_bytree=0.3, gamma=None,\n",
      "             gpu_id=None, importance_type='gain', interaction_constraints=None,\n",
      "             learning_rate=0.01, max_delta_step=None, max_depth=10,\n",
      "             min_child_weight=None, missing=nan, monotone_constraints=None,\n",
      "             n_estimators=1000, n_jobs=None, num_parallel_tree=None,\n",
      "             random_state=None, reg_alpha=None, reg_lambda=None,\n",
      "             scale_pos_weight=None, subsample=None, tree_method=None,\n",
      "             validate_parameters=None, verbosity=0)\n"
     ]
    }
   ],
   "source": [
    "from xgboost import XGBRegressor\n",
    "\n",
    "xgbr = XGBRegressor(colsample_bytree = 0.3, learning_rate = 0.01, max_depth = 10, n_estimators = 1000, verbosity=0)\n",
    "print(xgbr)"
   ]
  },
  {
   "cell_type": "code",
   "execution_count": 118,
   "id": "cbaf7a1d",
   "metadata": {},
   "outputs": [
    {
     "data": {
      "text/plain": [
       "XGBRegressor(base_score=0.5, booster='gbtree', colsample_bylevel=1,\n",
       "             colsample_bynode=1, colsample_bytree=0.3, gamma=0, gpu_id=-1,\n",
       "             importance_type='gain', interaction_constraints='',\n",
       "             learning_rate=0.01, max_delta_step=0, max_depth=10,\n",
       "             min_child_weight=1, missing=nan, monotone_constraints='()',\n",
       "             n_estimators=1000, n_jobs=8, num_parallel_tree=1, random_state=0,\n",
       "             reg_alpha=0, reg_lambda=1, scale_pos_weight=1, subsample=1,\n",
       "             tree_method='exact', validate_parameters=1, verbosity=0)"
      ]
     },
     "execution_count": 118,
     "metadata": {},
     "output_type": "execute_result"
    }
   ],
   "source": [
    "xgbr.fit(x_train, y_train) #2"
   ]
  },
  {
   "cell_type": "code",
   "execution_count": 119,
   "id": "bdee7c84",
   "metadata": {
    "scrolled": true
   },
   "outputs": [
    {
     "name": "stdout",
     "output_type": "stream",
     "text": [
      "0.9999876564114676\n"
     ]
    }
   ],
   "source": [
    "score = xgbr.score(x_train, y_train) #3\n",
    "print(score)"
   ]
  },
  {
   "cell_type": "code",
   "execution_count": 120,
   "id": "c6930cd9",
   "metadata": {
    "scrolled": true
   },
   "outputs": [
    {
     "name": "stdout",
     "output_type": "stream",
     "text": [
      "1-MAE 0.8850558389927826\n"
     ]
    }
   ],
   "source": [
    "ypred = xgbr.predict(x_test) #5\n",
    "mae = mean_absolute_error(y_test, ypred)\n",
    "\n",
    "print(\"1-MAE\", 1-mae)"
   ]
  },
  {
   "cell_type": "code",
   "execution_count": null,
   "id": "7fb64f94",
   "metadata": {},
   "outputs": [],
   "source": [
    "#Caucasian"
   ]
  },
  {
   "cell_type": "code",
   "execution_count": 122,
   "id": "fc196dfa",
   "metadata": {},
   "outputs": [],
   "source": [
    "csv_file = \"Caucasion_train.csv\"\n",
    "x_train, y_train = split_data_labels_interview(csv_file)\n",
    "csv_file = \"Caucasian_test.csv\"\n",
    "x_test, y_test = split_data_labels_interview(csv_file)"
   ]
  },
  {
   "cell_type": "code",
   "execution_count": 123,
   "id": "fb2829cd",
   "metadata": {},
   "outputs": [
    {
     "name": "stdout",
     "output_type": "stream",
     "text": [
      "XGBRegressor(base_score=None, booster=None, colsample_bylevel=None,\n",
      "             colsample_bynode=None, colsample_bytree=0.3, gamma=None,\n",
      "             gpu_id=None, importance_type='gain', interaction_constraints=None,\n",
      "             learning_rate=0.01, max_delta_step=None, max_depth=6,\n",
      "             min_child_weight=None, missing=nan, monotone_constraints=None,\n",
      "             n_estimators=1000, n_jobs=None, num_parallel_tree=None,\n",
      "             random_state=None, reg_alpha=None, reg_lambda=None,\n",
      "             scale_pos_weight=None, subsample=None, tree_method=None,\n",
      "             validate_parameters=None, verbosity=0)\n"
     ]
    }
   ],
   "source": [
    "from xgboost import XGBRegressor\n",
    "\n",
    "xgbr = XGBRegressor(colsample_bytree = 0.3, learning_rate = 0.01, max_depth = 6, n_estimators = 1000, verbosity=0)\n",
    "print(xgbr)"
   ]
  },
  {
   "cell_type": "code",
   "execution_count": 124,
   "id": "bbce838b",
   "metadata": {},
   "outputs": [
    {
     "data": {
      "text/plain": [
       "XGBRegressor(base_score=0.5, booster='gbtree', colsample_bylevel=1,\n",
       "             colsample_bynode=1, colsample_bytree=0.3, gamma=0, gpu_id=-1,\n",
       "             importance_type='gain', interaction_constraints='',\n",
       "             learning_rate=0.01, max_delta_step=0, max_depth=6,\n",
       "             min_child_weight=1, missing=nan, monotone_constraints='()',\n",
       "             n_estimators=1000, n_jobs=8, num_parallel_tree=1, random_state=0,\n",
       "             reg_alpha=0, reg_lambda=1, scale_pos_weight=1, subsample=1,\n",
       "             tree_method='exact', validate_parameters=1, verbosity=0)"
      ]
     },
     "execution_count": 124,
     "metadata": {},
     "output_type": "execute_result"
    }
   ],
   "source": [
    "xgbr.fit(x_train, y_train) #2"
   ]
  },
  {
   "cell_type": "code",
   "execution_count": 125,
   "id": "fbec12dc",
   "metadata": {
    "scrolled": true
   },
   "outputs": [
    {
     "name": "stdout",
     "output_type": "stream",
     "text": [
      "0.804984974749167\n"
     ]
    }
   ],
   "source": [
    "score = xgbr.score(x_train, y_train) #3\n",
    "print(score)"
   ]
  },
  {
   "cell_type": "code",
   "execution_count": 126,
   "id": "a7d7e26e",
   "metadata": {
    "scrolled": true
   },
   "outputs": [
    {
     "name": "stdout",
     "output_type": "stream",
     "text": [
      "1-MAE 0.9020314760338678\n"
     ]
    }
   ],
   "source": [
    "ypred = xgbr.predict(x_test) #5\n",
    "mae = mean_absolute_error(y_test, ypred)\n",
    "\n",
    "print(\"1-MAE\", 1-mae)"
   ]
  },
  {
   "cell_type": "code",
   "execution_count": 127,
   "id": "bf8caeb5",
   "metadata": {},
   "outputs": [],
   "source": [
    "csv_file = \"Caucasion_train.csv\"\n",
    "x_train, y_train = split_data_labels_openness(csv_file)\n",
    "csv_file = \"Caucasian_test.csv\"\n",
    "x_test, y_test = split_data_labels_openness(csv_file)"
   ]
  },
  {
   "cell_type": "code",
   "execution_count": 128,
   "id": "5f39a557",
   "metadata": {},
   "outputs": [
    {
     "name": "stdout",
     "output_type": "stream",
     "text": [
      "XGBRegressor(base_score=None, booster=None, colsample_bylevel=None,\n",
      "             colsample_bynode=None, colsample_bytree=0.3, gamma=None,\n",
      "             gpu_id=None, importance_type='gain', interaction_constraints=None,\n",
      "             learning_rate=0.01, max_delta_step=None, max_depth=6,\n",
      "             min_child_weight=None, missing=nan, monotone_constraints=None,\n",
      "             n_estimators=1000, n_jobs=None, num_parallel_tree=None,\n",
      "             random_state=None, reg_alpha=None, reg_lambda=None,\n",
      "             scale_pos_weight=None, subsample=None, tree_method=None,\n",
      "             validate_parameters=None, verbosity=0)\n"
     ]
    }
   ],
   "source": [
    "from xgboost import XGBRegressor\n",
    "\n",
    "xgbr = XGBRegressor(colsample_bytree = 0.3, learning_rate = 0.01, max_depth = 6, n_estimators = 1000, verbosity=0)\n",
    "print(xgbr)"
   ]
  },
  {
   "cell_type": "code",
   "execution_count": 129,
   "id": "5f573a9c",
   "metadata": {},
   "outputs": [
    {
     "data": {
      "text/plain": [
       "XGBRegressor(base_score=0.5, booster='gbtree', colsample_bylevel=1,\n",
       "             colsample_bynode=1, colsample_bytree=0.3, gamma=0, gpu_id=-1,\n",
       "             importance_type='gain', interaction_constraints='',\n",
       "             learning_rate=0.01, max_delta_step=0, max_depth=6,\n",
       "             min_child_weight=1, missing=nan, monotone_constraints='()',\n",
       "             n_estimators=1000, n_jobs=8, num_parallel_tree=1, random_state=0,\n",
       "             reg_alpha=0, reg_lambda=1, scale_pos_weight=1, subsample=1,\n",
       "             tree_method='exact', validate_parameters=1, verbosity=0)"
      ]
     },
     "execution_count": 129,
     "metadata": {},
     "output_type": "execute_result"
    }
   ],
   "source": [
    "xgbr.fit(x_train, y_train) #2"
   ]
  },
  {
   "cell_type": "code",
   "execution_count": 130,
   "id": "384775b3",
   "metadata": {
    "scrolled": true
   },
   "outputs": [
    {
     "name": "stdout",
     "output_type": "stream",
     "text": [
      "0.818084371446443\n"
     ]
    }
   ],
   "source": [
    "score = xgbr.score(x_train, y_train) #3\n",
    "print(score)"
   ]
  },
  {
   "cell_type": "code",
   "execution_count": 131,
   "id": "cf2f8df0",
   "metadata": {
    "scrolled": true
   },
   "outputs": [
    {
     "name": "stdout",
     "output_type": "stream",
     "text": [
      "1-MAE 0.904682662189317\n"
     ]
    }
   ],
   "source": [
    "ypred = xgbr.predict(x_test) #5\n",
    "mae = mean_absolute_error(y_test, ypred)\n",
    "\n",
    "print(\"1-MAE\", 1-mae)"
   ]
  },
  {
   "cell_type": "code",
   "execution_count": 132,
   "id": "40e04b6e",
   "metadata": {},
   "outputs": [],
   "source": [
    "csv_file = \"Caucasion_train.csv\"\n",
    "x_train, y_train = split_data_labels_conscientiousness(csv_file)\n",
    "csv_file = \"Caucasian_test.csv\"\n",
    "x_test, y_test = split_data_labels_conscientiousness(csv_file)"
   ]
  },
  {
   "cell_type": "code",
   "execution_count": 133,
   "id": "45bc7b1f",
   "metadata": {},
   "outputs": [
    {
     "name": "stdout",
     "output_type": "stream",
     "text": [
      "XGBRegressor(base_score=None, booster=None, colsample_bylevel=None,\n",
      "             colsample_bynode=None, colsample_bytree=0.7, gamma=None,\n",
      "             gpu_id=None, importance_type='gain', interaction_constraints=None,\n",
      "             learning_rate=0.01, max_delta_step=None, max_depth=6,\n",
      "             min_child_weight=None, missing=nan, monotone_constraints=None,\n",
      "             n_estimators=1000, n_jobs=None, num_parallel_tree=None,\n",
      "             random_state=None, reg_alpha=None, reg_lambda=None,\n",
      "             scale_pos_weight=None, subsample=None, tree_method=None,\n",
      "             validate_parameters=None, verbosity=0)\n"
     ]
    }
   ],
   "source": [
    "from xgboost import XGBRegressor\n",
    "\n",
    "xgbr = XGBRegressor(colsample_bytree = 0.7, learning_rate = 0.01, max_depth = 6, n_estimators = 1000, verbosity=0)\n",
    "print(xgbr)"
   ]
  },
  {
   "cell_type": "code",
   "execution_count": 134,
   "id": "5bd7b135",
   "metadata": {},
   "outputs": [
    {
     "data": {
      "text/plain": [
       "XGBRegressor(base_score=0.5, booster='gbtree', colsample_bylevel=1,\n",
       "             colsample_bynode=1, colsample_bytree=0.7, gamma=0, gpu_id=-1,\n",
       "             importance_type='gain', interaction_constraints='',\n",
       "             learning_rate=0.01, max_delta_step=0, max_depth=6,\n",
       "             min_child_weight=1, missing=nan, monotone_constraints='()',\n",
       "             n_estimators=1000, n_jobs=8, num_parallel_tree=1, random_state=0,\n",
       "             reg_alpha=0, reg_lambda=1, scale_pos_weight=1, subsample=1,\n",
       "             tree_method='exact', validate_parameters=1, verbosity=0)"
      ]
     },
     "execution_count": 134,
     "metadata": {},
     "output_type": "execute_result"
    }
   ],
   "source": [
    "xgbr.fit(x_train, y_train) #2"
   ]
  },
  {
   "cell_type": "code",
   "execution_count": 135,
   "id": "dd8513f5",
   "metadata": {
    "scrolled": true
   },
   "outputs": [
    {
     "name": "stdout",
     "output_type": "stream",
     "text": [
      "0.8028735809484497\n"
     ]
    }
   ],
   "source": [
    "score = xgbr.score(x_train, y_train) #3\n",
    "print(score)"
   ]
  },
  {
   "cell_type": "code",
   "execution_count": 136,
   "id": "9468b55c",
   "metadata": {
    "scrolled": true
   },
   "outputs": [
    {
     "name": "stdout",
     "output_type": "stream",
     "text": [
      "1-MAE 0.8946395864531194\n"
     ]
    }
   ],
   "source": [
    "ypred = xgbr.predict(x_test) #5\n",
    "mae = mean_absolute_error(y_test, ypred)\n",
    "\n",
    "print(\"1-MAE\", 1-mae)"
   ]
  },
  {
   "cell_type": "code",
   "execution_count": 137,
   "id": "d77a05cc",
   "metadata": {},
   "outputs": [],
   "source": [
    "csv_file = \"Caucasion_train.csv\"\n",
    "x_train, y_train = split_data_labels_extroversion(csv_file)\n",
    "csv_file = \"Caucasian_test.csv\"\n",
    "x_test, y_test = split_data_labels_extroversion(csv_file)"
   ]
  },
  {
   "cell_type": "code",
   "execution_count": 138,
   "id": "cfb76728",
   "metadata": {},
   "outputs": [
    {
     "name": "stdout",
     "output_type": "stream",
     "text": [
      "XGBRegressor(base_score=None, booster=None, colsample_bylevel=None,\n",
      "             colsample_bynode=None, colsample_bytree=0.7, gamma=None,\n",
      "             gpu_id=None, importance_type='gain', interaction_constraints=None,\n",
      "             learning_rate=0.01, max_delta_step=None, max_depth=6,\n",
      "             min_child_weight=None, missing=nan, monotone_constraints=None,\n",
      "             n_estimators=1000, n_jobs=None, num_parallel_tree=None,\n",
      "             random_state=None, reg_alpha=None, reg_lambda=None,\n",
      "             scale_pos_weight=None, subsample=None, tree_method=None,\n",
      "             validate_parameters=None, verbosity=0)\n"
     ]
    }
   ],
   "source": [
    "from xgboost import XGBRegressor\n",
    "\n",
    "xgbr = XGBRegressor(colsample_bytree = 0.7, learning_rate = 0.01, max_depth = 6, n_estimators = 1000, verbosity=0)\n",
    "print(xgbr)"
   ]
  },
  {
   "cell_type": "code",
   "execution_count": 139,
   "id": "d396c6d7",
   "metadata": {},
   "outputs": [
    {
     "data": {
      "text/plain": [
       "XGBRegressor(base_score=0.5, booster='gbtree', colsample_bylevel=1,\n",
       "             colsample_bynode=1, colsample_bytree=0.7, gamma=0, gpu_id=-1,\n",
       "             importance_type='gain', interaction_constraints='',\n",
       "             learning_rate=0.01, max_delta_step=0, max_depth=6,\n",
       "             min_child_weight=1, missing=nan, monotone_constraints='()',\n",
       "             n_estimators=1000, n_jobs=8, num_parallel_tree=1, random_state=0,\n",
       "             reg_alpha=0, reg_lambda=1, scale_pos_weight=1, subsample=1,\n",
       "             tree_method='exact', validate_parameters=1, verbosity=0)"
      ]
     },
     "execution_count": 139,
     "metadata": {},
     "output_type": "execute_result"
    }
   ],
   "source": [
    "xgbr.fit(x_train, y_train) #2"
   ]
  },
  {
   "cell_type": "code",
   "execution_count": 140,
   "id": "0e893db7",
   "metadata": {
    "scrolled": true
   },
   "outputs": [
    {
     "name": "stdout",
     "output_type": "stream",
     "text": [
      "0.8555987854132663\n"
     ]
    }
   ],
   "source": [
    "score = xgbr.score(x_train, y_train) #3\n",
    "print(score)"
   ]
  },
  {
   "cell_type": "code",
   "execution_count": 141,
   "id": "fa1a63b8",
   "metadata": {
    "scrolled": true
   },
   "outputs": [
    {
     "name": "stdout",
     "output_type": "stream",
     "text": [
      "1-MAE 0.9072611293316992\n"
     ]
    }
   ],
   "source": [
    "ypred = xgbr.predict(x_test) #5\n",
    "mae = mean_absolute_error(y_test, ypred)\n",
    "\n",
    "print(\"1-MAE\", 1-mae)"
   ]
  },
  {
   "cell_type": "code",
   "execution_count": 142,
   "id": "e7806b4a",
   "metadata": {},
   "outputs": [],
   "source": [
    "csv_file = \"Caucasion_train.csv\"\n",
    "x_train, y_train = split_data_labels_agreeableness(csv_file)\n",
    "csv_file = \"Caucasian_test.csv\"\n",
    "x_test, y_test = split_data_labels_agreeableness(csv_file)"
   ]
  },
  {
   "cell_type": "code",
   "execution_count": 144,
   "id": "6e2619fd",
   "metadata": {},
   "outputs": [
    {
     "name": "stdout",
     "output_type": "stream",
     "text": [
      "XGBRegressor(base_score=None, booster=None, colsample_bylevel=None,\n",
      "             colsample_bynode=None, colsample_bytree=0.3, gamma=None,\n",
      "             gpu_id=None, importance_type='gain', interaction_constraints=None,\n",
      "             learning_rate=0.01, max_delta_step=None, max_depth=10,\n",
      "             min_child_weight=None, missing=nan, monotone_constraints=None,\n",
      "             n_estimators=1000, n_jobs=None, num_parallel_tree=None,\n",
      "             random_state=None, reg_alpha=None, reg_lambda=None,\n",
      "             scale_pos_weight=None, subsample=None, tree_method=None,\n",
      "             validate_parameters=None, verbosity=0)\n"
     ]
    }
   ],
   "source": [
    "from xgboost import XGBRegressor\n",
    "\n",
    "xgbr = XGBRegressor(colsample_bytree = 0.3, learning_rate = 0.01, max_depth = 10, n_estimators = 1000, verbosity=0)\n",
    "print(xgbr)"
   ]
  },
  {
   "cell_type": "code",
   "execution_count": 145,
   "id": "3dc9e581",
   "metadata": {},
   "outputs": [
    {
     "data": {
      "text/plain": [
       "XGBRegressor(base_score=0.5, booster='gbtree', colsample_bylevel=1,\n",
       "             colsample_bynode=1, colsample_bytree=0.3, gamma=0, gpu_id=-1,\n",
       "             importance_type='gain', interaction_constraints='',\n",
       "             learning_rate=0.01, max_delta_step=0, max_depth=10,\n",
       "             min_child_weight=1, missing=nan, monotone_constraints='()',\n",
       "             n_estimators=1000, n_jobs=8, num_parallel_tree=1, random_state=0,\n",
       "             reg_alpha=0, reg_lambda=1, scale_pos_weight=1, subsample=1,\n",
       "             tree_method='exact', validate_parameters=1, verbosity=0)"
      ]
     },
     "execution_count": 145,
     "metadata": {},
     "output_type": "execute_result"
    }
   ],
   "source": [
    "xgbr.fit(x_train, y_train) #2"
   ]
  },
  {
   "cell_type": "code",
   "execution_count": 146,
   "id": "259d6e13",
   "metadata": {
    "scrolled": true
   },
   "outputs": [
    {
     "name": "stdout",
     "output_type": "stream",
     "text": [
      "0.9952798795083726\n"
     ]
    }
   ],
   "source": [
    "score = xgbr.score(x_train, y_train) #3\n",
    "print(score)"
   ]
  },
  {
   "cell_type": "code",
   "execution_count": 147,
   "id": "35d998e5",
   "metadata": {
    "scrolled": true
   },
   "outputs": [
    {
     "name": "stdout",
     "output_type": "stream",
     "text": [
      "1-MAE 0.9084569377780611\n"
     ]
    }
   ],
   "source": [
    "ypred = xgbr.predict(x_test) #5\n",
    "mae = mean_absolute_error(y_test, ypred)\n",
    "\n",
    "print(\"1-MAE\", 1-mae)"
   ]
  },
  {
   "cell_type": "code",
   "execution_count": 148,
   "id": "ce24b993",
   "metadata": {},
   "outputs": [],
   "source": [
    "csv_file = \"Caucasion_train.csv\"\n",
    "x_train, y_train = split_data_labels_neuroticism(csv_file)\n",
    "csv_file = \"Caucasian_test.csv\"\n",
    "x_test, y_test = split_data_labels_neuroticism(csv_file)"
   ]
  },
  {
   "cell_type": "code",
   "execution_count": 149,
   "id": "46f6fe5e",
   "metadata": {},
   "outputs": [
    {
     "name": "stdout",
     "output_type": "stream",
     "text": [
      "XGBRegressor(base_score=None, booster=None, colsample_bylevel=None,\n",
      "             colsample_bynode=None, colsample_bytree=0.3, gamma=None,\n",
      "             gpu_id=None, importance_type='gain', interaction_constraints=None,\n",
      "             learning_rate=0.01, max_delta_step=None, max_depth=6,\n",
      "             min_child_weight=None, missing=nan, monotone_constraints=None,\n",
      "             n_estimators=1000, n_jobs=None, num_parallel_tree=None,\n",
      "             random_state=None, reg_alpha=None, reg_lambda=None,\n",
      "             scale_pos_weight=None, subsample=None, tree_method=None,\n",
      "             validate_parameters=None, verbosity=0)\n"
     ]
    }
   ],
   "source": [
    "from xgboost import XGBRegressor\n",
    "\n",
    "xgbr = XGBRegressor(colsample_bytree = 0.3, learning_rate = 0.01, max_depth = 6, n_estimators = 1000, verbosity=0)\n",
    "print(xgbr)"
   ]
  },
  {
   "cell_type": "code",
   "execution_count": 150,
   "id": "e48a2288",
   "metadata": {},
   "outputs": [
    {
     "data": {
      "text/plain": [
       "XGBRegressor(base_score=0.5, booster='gbtree', colsample_bylevel=1,\n",
       "             colsample_bynode=1, colsample_bytree=0.3, gamma=0, gpu_id=-1,\n",
       "             importance_type='gain', interaction_constraints='',\n",
       "             learning_rate=0.01, max_delta_step=0, max_depth=6,\n",
       "             min_child_weight=1, missing=nan, monotone_constraints='()',\n",
       "             n_estimators=1000, n_jobs=8, num_parallel_tree=1, random_state=0,\n",
       "             reg_alpha=0, reg_lambda=1, scale_pos_weight=1, subsample=1,\n",
       "             tree_method='exact', validate_parameters=1, verbosity=0)"
      ]
     },
     "execution_count": 150,
     "metadata": {},
     "output_type": "execute_result"
    }
   ],
   "source": [
    "xgbr.fit(x_train, y_train) #2"
   ]
  },
  {
   "cell_type": "code",
   "execution_count": 151,
   "id": "9b0c2384",
   "metadata": {
    "scrolled": true
   },
   "outputs": [
    {
     "name": "stdout",
     "output_type": "stream",
     "text": [
      "0.8172252517695595\n"
     ]
    }
   ],
   "source": [
    "score = xgbr.score(x_train, y_train) #3\n",
    "print(score)"
   ]
  },
  {
   "cell_type": "code",
   "execution_count": 152,
   "id": "41886c58",
   "metadata": {
    "scrolled": true
   },
   "outputs": [
    {
     "name": "stdout",
     "output_type": "stream",
     "text": [
      "1-MAE 0.8989536810046895\n"
     ]
    }
   ],
   "source": [
    "ypred = xgbr.predict(x_test) #5\n",
    "mae = mean_absolute_error(y_test, ypred)\n",
    "\n",
    "print(\"1-MAE\", 1-mae)"
   ]
  },
  {
   "cell_type": "code",
   "execution_count": null,
   "id": "acbfce4d",
   "metadata": {},
   "outputs": [],
   "source": []
  }
 ],
 "metadata": {
  "kernelspec": {
   "display_name": "Python 3 (ipykernel)",
   "language": "python",
   "name": "python3"
  },
  "language_info": {
   "codemirror_mode": {
    "name": "ipython",
    "version": 3
   },
   "file_extension": ".py",
   "mimetype": "text/x-python",
   "name": "python",
   "nbconvert_exporter": "python",
   "pygments_lexer": "ipython3",
   "version": "3.8.11"
  }
 },
 "nbformat": 4,
 "nbformat_minor": 5
}
