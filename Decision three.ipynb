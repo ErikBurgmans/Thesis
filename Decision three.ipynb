{
 "cells": [
  {
   "cell_type": "code",
   "execution_count": 1,
   "id": "ec75c1a1",
   "metadata": {},
   "outputs": [],
   "source": [
    "import math\n",
    "import numpy as np\n",
    "import pandas as pd\n",
    "import os\n",
    "import glob\n",
    "import pickle\n",
    "import xgboost as xgb\n",
    "import numpy as np\n",
    "import pandas as pd\n",
    "from sklearn.metrics import mutual_info_score\n",
    "from xgboost import XGBRegressor\n",
    "from sklearn.model_selection import GridSearchCV\n",
    "from sklearn.model_selection import cross_val_score\n",
    "from sklearn.metrics import mean_squared_error\n",
    "from sklearn.metrics import mean_absolute_error\n",
    "from sklearn.model_selection import train_test_split"
   ]
  },
  {
   "cell_type": "code",
   "execution_count": 23,
   "id": "a7a426b7",
   "metadata": {},
   "outputs": [],
   "source": [
    "def createcsv(dataframe, filename): #make sure to include .csv at the end of the filename\n",
    "    dataframe.to_csv(filename,index=False)"
   ]
  },
  {
   "cell_type": "code",
   "execution_count": 206,
   "id": "e584f297",
   "metadata": {},
   "outputs": [],
   "source": [
    "def labels_interview (csv_file):\n",
    "    df = pd.read_csv(csv_file)\n",
    "    x_array = df.iloc[:,1:-6]\n",
    "    y_array = df.iloc[:,230:]\n",
    "    \n",
    "    return x_array, y_array"
   ]
  },
  {
   "cell_type": "code",
   "execution_count": 242,
   "id": "ecb68ea0",
   "metadata": {},
   "outputs": [],
   "source": [
    "def labels_openness (csv_file):\n",
    "    df = pd.read_csv(csv_file)\n",
    "    x_array = df.iloc[:,1:-6]\n",
    "    y_array = df.iloc[:,225]\n",
    "    return x_array, y_array"
   ]
  },
  {
   "cell_type": "code",
   "execution_count": 243,
   "id": "885ab26b",
   "metadata": {},
   "outputs": [],
   "source": [
    "def labels_conscientiousness (csv_file):\n",
    "    df = pd.read_csv(csv_file)\n",
    "    x_array = df.iloc[:,1:-6]\n",
    "    y_array = df.iloc[:,226]\n",
    "    return x_array, y_array"
   ]
  },
  {
   "cell_type": "code",
   "execution_count": 244,
   "id": "d14258c1",
   "metadata": {},
   "outputs": [],
   "source": [
    "def labels_extroversion (csv_file):\n",
    "    df = pd.read_csv(csv_file)\n",
    "    x_array = df.iloc[:,1:-6]\n",
    "    y_array = df.iloc[:,227]\n",
    "    return x_array, y_array"
   ]
  },
  {
   "cell_type": "code",
   "execution_count": 245,
   "id": "61183774",
   "metadata": {},
   "outputs": [],
   "source": [
    "def labels_agreeableness (csv_file):\n",
    "    df = pd.read_csv(csv_file)\n",
    "    x_array = df.iloc[:,1:-6]\n",
    "    y_array = df.iloc[:,228]\n",
    "    return x_array, y_array"
   ]
  },
  {
   "cell_type": "code",
   "execution_count": 246,
   "id": "d4eb3580",
   "metadata": {},
   "outputs": [],
   "source": [
    "def labels_neuroticism (csv_file):\n",
    "    df = pd.read_csv(csv_file)\n",
    "    x_array = df.iloc[:,1:-6]\n",
    "    y_array = df.iloc[:,229]\n",
    "    return x_array, y_array"
   ]
  },
  {
   "cell_type": "code",
   "execution_count": 193,
   "id": "63cc04c1",
   "metadata": {},
   "outputs": [],
   "source": [
    "csv_file = \"complete_CSV_Train.csv\"\n",
    "x_train, y_train = split_data_labels_interview(csv_file)\n",
    "csv_file = \"complete_CSV_validation.csv\"\n",
    "x_test, y_test = split_data_labels_interview(csv_file)"
   ]
  },
  {
   "cell_type": "code",
   "execution_count": 194,
   "id": "fd771cd1",
   "metadata": {},
   "outputs": [
    {
     "data": {
      "text/html": [
       "<div>\n",
       "<style scoped>\n",
       "    .dataframe tbody tr th:only-of-type {\n",
       "        vertical-align: middle;\n",
       "    }\n",
       "\n",
       "    .dataframe tbody tr th {\n",
       "        vertical-align: top;\n",
       "    }\n",
       "\n",
       "    .dataframe thead th {\n",
       "        text-align: right;\n",
       "    }\n",
       "</style>\n",
       "<table border=\"1\" class=\"dataframe\">\n",
       "  <thead>\n",
       "    <tr style=\"text-align: right;\">\n",
       "      <th></th>\n",
       "      <th>AU01_r_max</th>\n",
       "      <th>AU02_r_max</th>\n",
       "      <th>AU04_r_max</th>\n",
       "      <th>AU05_r_max</th>\n",
       "      <th>AU06_r_max</th>\n",
       "      <th>AU07_r_max</th>\n",
       "      <th>AU09_r_max</th>\n",
       "      <th>AU10_r_max</th>\n",
       "      <th>AU12_r_max</th>\n",
       "      <th>AU14_r_max</th>\n",
       "      <th>...</th>\n",
       "      <th>left_eye_corner_mean</th>\n",
       "      <th>left_eye_corner_min</th>\n",
       "      <th>right_eye_left_max</th>\n",
       "      <th>right_eye_left_mean</th>\n",
       "      <th>right_eye_left_min</th>\n",
       "      <th>right_eye_right_max</th>\n",
       "      <th>right_eye_right_mean</th>\n",
       "      <th>right_eye_right_min</th>\n",
       "      <th>right_eye_corner_max</th>\n",
       "      <th>right_eye_corner_mean</th>\n",
       "    </tr>\n",
       "  </thead>\n",
       "  <tbody>\n",
       "    <tr>\n",
       "      <th>0</th>\n",
       "      <td>2.00</td>\n",
       "      <td>3.32</td>\n",
       "      <td>1.40</td>\n",
       "      <td>2.89</td>\n",
       "      <td>1.16</td>\n",
       "      <td>2.45</td>\n",
       "      <td>1.10</td>\n",
       "      <td>2.02</td>\n",
       "      <td>2.04</td>\n",
       "      <td>2.28</td>\n",
       "      <td>...</td>\n",
       "      <td>33.752596</td>\n",
       "      <td>0.000000</td>\n",
       "      <td>16.868906</td>\n",
       "      <td>7.867969</td>\n",
       "      <td>0.000000</td>\n",
       "      <td>16.637307</td>\n",
       "      <td>7.501700</td>\n",
       "      <td>0.000000</td>\n",
       "      <td>42.612674</td>\n",
       "      <td>33.860635</td>\n",
       "    </tr>\n",
       "    <tr>\n",
       "      <th>1</th>\n",
       "      <td>2.81</td>\n",
       "      <td>1.76</td>\n",
       "      <td>1.36</td>\n",
       "      <td>1.51</td>\n",
       "      <td>0.95</td>\n",
       "      <td>1.69</td>\n",
       "      <td>0.59</td>\n",
       "      <td>0.24</td>\n",
       "      <td>1.96</td>\n",
       "      <td>1.13</td>\n",
       "      <td>...</td>\n",
       "      <td>41.885216</td>\n",
       "      <td>38.313053</td>\n",
       "      <td>16.736188</td>\n",
       "      <td>13.547448</td>\n",
       "      <td>8.900562</td>\n",
       "      <td>16.330646</td>\n",
       "      <td>13.182526</td>\n",
       "      <td>8.402381</td>\n",
       "      <td>43.971127</td>\n",
       "      <td>41.850294</td>\n",
       "    </tr>\n",
       "    <tr>\n",
       "      <th>2</th>\n",
       "      <td>1.16</td>\n",
       "      <td>1.19</td>\n",
       "      <td>1.40</td>\n",
       "      <td>1.20</td>\n",
       "      <td>1.84</td>\n",
       "      <td>2.09</td>\n",
       "      <td>0.84</td>\n",
       "      <td>2.18</td>\n",
       "      <td>3.12</td>\n",
       "      <td>1.24</td>\n",
       "      <td>...</td>\n",
       "      <td>43.060554</td>\n",
       "      <td>40.115084</td>\n",
       "      <td>18.004999</td>\n",
       "      <td>13.164093</td>\n",
       "      <td>7.665507</td>\n",
       "      <td>17.821336</td>\n",
       "      <td>12.941948</td>\n",
       "      <td>7.144928</td>\n",
       "      <td>45.553156</td>\n",
       "      <td>42.081365</td>\n",
       "    </tr>\n",
       "    <tr>\n",
       "      <th>3</th>\n",
       "      <td>1.51</td>\n",
       "      <td>1.22</td>\n",
       "      <td>0.43</td>\n",
       "      <td>2.27</td>\n",
       "      <td>1.23</td>\n",
       "      <td>1.27</td>\n",
       "      <td>1.43</td>\n",
       "      <td>1.84</td>\n",
       "      <td>2.78</td>\n",
       "      <td>2.07</td>\n",
       "      <td>...</td>\n",
       "      <td>52.978848</td>\n",
       "      <td>31.477135</td>\n",
       "      <td>21.722109</td>\n",
       "      <td>16.988840</td>\n",
       "      <td>7.302739</td>\n",
       "      <td>21.418917</td>\n",
       "      <td>16.594454</td>\n",
       "      <td>7.100000</td>\n",
       "      <td>64.829777</td>\n",
       "      <td>55.926806</td>\n",
       "    </tr>\n",
       "    <tr>\n",
       "      <th>4</th>\n",
       "      <td>3.42</td>\n",
       "      <td>2.76</td>\n",
       "      <td>3.08</td>\n",
       "      <td>1.83</td>\n",
       "      <td>0.66</td>\n",
       "      <td>2.67</td>\n",
       "      <td>1.15</td>\n",
       "      <td>1.44</td>\n",
       "      <td>1.29</td>\n",
       "      <td>2.04</td>\n",
       "      <td>...</td>\n",
       "      <td>57.038459</td>\n",
       "      <td>46.029773</td>\n",
       "      <td>26.889589</td>\n",
       "      <td>14.679912</td>\n",
       "      <td>5.124451</td>\n",
       "      <td>27.461245</td>\n",
       "      <td>14.428156</td>\n",
       "      <td>4.767599</td>\n",
       "      <td>69.892775</td>\n",
       "      <td>51.245649</td>\n",
       "    </tr>\n",
       "    <tr>\n",
       "      <th>...</th>\n",
       "      <td>...</td>\n",
       "      <td>...</td>\n",
       "      <td>...</td>\n",
       "      <td>...</td>\n",
       "      <td>...</td>\n",
       "      <td>...</td>\n",
       "      <td>...</td>\n",
       "      <td>...</td>\n",
       "      <td>...</td>\n",
       "      <td>...</td>\n",
       "      <td>...</td>\n",
       "      <td>...</td>\n",
       "      <td>...</td>\n",
       "      <td>...</td>\n",
       "      <td>...</td>\n",
       "      <td>...</td>\n",
       "      <td>...</td>\n",
       "      <td>...</td>\n",
       "      <td>...</td>\n",
       "      <td>...</td>\n",
       "      <td>...</td>\n",
       "    </tr>\n",
       "    <tr>\n",
       "      <th>5995</th>\n",
       "      <td>2.20</td>\n",
       "      <td>1.38</td>\n",
       "      <td>0.00</td>\n",
       "      <td>1.47</td>\n",
       "      <td>1.65</td>\n",
       "      <td>2.53</td>\n",
       "      <td>1.13</td>\n",
       "      <td>1.44</td>\n",
       "      <td>3.14</td>\n",
       "      <td>1.64</td>\n",
       "      <td>...</td>\n",
       "      <td>66.412171</td>\n",
       "      <td>59.934131</td>\n",
       "      <td>24.286622</td>\n",
       "      <td>17.741192</td>\n",
       "      <td>6.519202</td>\n",
       "      <td>23.696624</td>\n",
       "      <td>16.800377</td>\n",
       "      <td>5.408327</td>\n",
       "      <td>70.058904</td>\n",
       "      <td>62.175441</td>\n",
       "    </tr>\n",
       "    <tr>\n",
       "      <th>5996</th>\n",
       "      <td>5.00</td>\n",
       "      <td>5.00</td>\n",
       "      <td>1.06</td>\n",
       "      <td>4.91</td>\n",
       "      <td>1.76</td>\n",
       "      <td>5.00</td>\n",
       "      <td>1.01</td>\n",
       "      <td>3.62</td>\n",
       "      <td>1.66</td>\n",
       "      <td>4.75</td>\n",
       "      <td>...</td>\n",
       "      <td>36.926760</td>\n",
       "      <td>6.923150</td>\n",
       "      <td>13.678085</td>\n",
       "      <td>9.143110</td>\n",
       "      <td>4.400000</td>\n",
       "      <td>13.409325</td>\n",
       "      <td>8.558219</td>\n",
       "      <td>3.900000</td>\n",
       "      <td>42.507058</td>\n",
       "      <td>38.928617</td>\n",
       "    </tr>\n",
       "    <tr>\n",
       "      <th>5997</th>\n",
       "      <td>1.99</td>\n",
       "      <td>1.36</td>\n",
       "      <td>0.09</td>\n",
       "      <td>0.79</td>\n",
       "      <td>1.00</td>\n",
       "      <td>1.15</td>\n",
       "      <td>1.14</td>\n",
       "      <td>2.30</td>\n",
       "      <td>1.30</td>\n",
       "      <td>0.98</td>\n",
       "      <td>...</td>\n",
       "      <td>55.946868</td>\n",
       "      <td>46.614161</td>\n",
       "      <td>21.319006</td>\n",
       "      <td>13.904747</td>\n",
       "      <td>2.900000</td>\n",
       "      <td>20.224737</td>\n",
       "      <td>12.839160</td>\n",
       "      <td>2.973214</td>\n",
       "      <td>69.468338</td>\n",
       "      <td>61.760180</td>\n",
       "    </tr>\n",
       "    <tr>\n",
       "      <th>5998</th>\n",
       "      <td>3.63</td>\n",
       "      <td>1.93</td>\n",
       "      <td>0.98</td>\n",
       "      <td>2.16</td>\n",
       "      <td>1.48</td>\n",
       "      <td>3.82</td>\n",
       "      <td>3.71</td>\n",
       "      <td>2.80</td>\n",
       "      <td>1.84</td>\n",
       "      <td>2.71</td>\n",
       "      <td>...</td>\n",
       "      <td>37.453094</td>\n",
       "      <td>22.913970</td>\n",
       "      <td>28.230480</td>\n",
       "      <td>11.113531</td>\n",
       "      <td>4.638965</td>\n",
       "      <td>26.761540</td>\n",
       "      <td>10.636604</td>\n",
       "      <td>4.119466</td>\n",
       "      <td>44.171484</td>\n",
       "      <td>33.500963</td>\n",
       "    </tr>\n",
       "    <tr>\n",
       "      <th>5999</th>\n",
       "      <td>3.32</td>\n",
       "      <td>3.97</td>\n",
       "      <td>0.41</td>\n",
       "      <td>1.09</td>\n",
       "      <td>0.60</td>\n",
       "      <td>0.77</td>\n",
       "      <td>0.52</td>\n",
       "      <td>1.52</td>\n",
       "      <td>0.91</td>\n",
       "      <td>2.37</td>\n",
       "      <td>...</td>\n",
       "      <td>57.095280</td>\n",
       "      <td>48.205083</td>\n",
       "      <td>21.162467</td>\n",
       "      <td>17.096011</td>\n",
       "      <td>8.089499</td>\n",
       "      <td>20.892582</td>\n",
       "      <td>16.864668</td>\n",
       "      <td>7.924645</td>\n",
       "      <td>68.402705</td>\n",
       "      <td>54.954441</td>\n",
       "    </tr>\n",
       "  </tbody>\n",
       "</table>\n",
       "<p>6000 rows × 223 columns</p>\n",
       "</div>"
      ],
      "text/plain": [
       "      AU01_r_max   AU02_r_max   AU04_r_max   AU05_r_max   AU06_r_max  \\\n",
       "0           2.00         3.32         1.40         2.89         1.16   \n",
       "1           2.81         1.76         1.36         1.51         0.95   \n",
       "2           1.16         1.19         1.40         1.20         1.84   \n",
       "3           1.51         1.22         0.43         2.27         1.23   \n",
       "4           3.42         2.76         3.08         1.83         0.66   \n",
       "...          ...          ...          ...          ...          ...   \n",
       "5995        2.20         1.38         0.00         1.47         1.65   \n",
       "5996        5.00         5.00         1.06         4.91         1.76   \n",
       "5997        1.99         1.36         0.09         0.79         1.00   \n",
       "5998        3.63         1.93         0.98         2.16         1.48   \n",
       "5999        3.32         3.97         0.41         1.09         0.60   \n",
       "\n",
       "       AU07_r_max   AU09_r_max   AU10_r_max   AU12_r_max   AU14_r_max  ...  \\\n",
       "0            2.45         1.10         2.02         2.04         2.28  ...   \n",
       "1            1.69         0.59         0.24         1.96         1.13  ...   \n",
       "2            2.09         0.84         2.18         3.12         1.24  ...   \n",
       "3            1.27         1.43         1.84         2.78         2.07  ...   \n",
       "4            2.67         1.15         1.44         1.29         2.04  ...   \n",
       "...           ...          ...          ...          ...          ...  ...   \n",
       "5995         2.53         1.13         1.44         3.14         1.64  ...   \n",
       "5996         5.00         1.01         3.62         1.66         4.75  ...   \n",
       "5997         1.15         1.14         2.30         1.30         0.98  ...   \n",
       "5998         3.82         3.71         2.80         1.84         2.71  ...   \n",
       "5999         0.77         0.52         1.52         0.91         2.37  ...   \n",
       "\n",
       "      left_eye_corner_mean  left_eye_corner_min  right_eye_left_max  \\\n",
       "0                33.752596             0.000000           16.868906   \n",
       "1                41.885216            38.313053           16.736188   \n",
       "2                43.060554            40.115084           18.004999   \n",
       "3                52.978848            31.477135           21.722109   \n",
       "4                57.038459            46.029773           26.889589   \n",
       "...                    ...                  ...                 ...   \n",
       "5995             66.412171            59.934131           24.286622   \n",
       "5996             36.926760             6.923150           13.678085   \n",
       "5997             55.946868            46.614161           21.319006   \n",
       "5998             37.453094            22.913970           28.230480   \n",
       "5999             57.095280            48.205083           21.162467   \n",
       "\n",
       "      right_eye_left_mean  right_eye_left_min  right_eye_right_max  \\\n",
       "0                7.867969            0.000000            16.637307   \n",
       "1               13.547448            8.900562            16.330646   \n",
       "2               13.164093            7.665507            17.821336   \n",
       "3               16.988840            7.302739            21.418917   \n",
       "4               14.679912            5.124451            27.461245   \n",
       "...                   ...                 ...                  ...   \n",
       "5995            17.741192            6.519202            23.696624   \n",
       "5996             9.143110            4.400000            13.409325   \n",
       "5997            13.904747            2.900000            20.224737   \n",
       "5998            11.113531            4.638965            26.761540   \n",
       "5999            17.096011            8.089499            20.892582   \n",
       "\n",
       "      right_eye_right_mean  right_eye_right_min  right_eye_corner_max  \\\n",
       "0                 7.501700             0.000000             42.612674   \n",
       "1                13.182526             8.402381             43.971127   \n",
       "2                12.941948             7.144928             45.553156   \n",
       "3                16.594454             7.100000             64.829777   \n",
       "4                14.428156             4.767599             69.892775   \n",
       "...                    ...                  ...                   ...   \n",
       "5995             16.800377             5.408327             70.058904   \n",
       "5996              8.558219             3.900000             42.507058   \n",
       "5997             12.839160             2.973214             69.468338   \n",
       "5998             10.636604             4.119466             44.171484   \n",
       "5999             16.864668             7.924645             68.402705   \n",
       "\n",
       "      right_eye_corner_mean  \n",
       "0                 33.860635  \n",
       "1                 41.850294  \n",
       "2                 42.081365  \n",
       "3                 55.926806  \n",
       "4                 51.245649  \n",
       "...                     ...  \n",
       "5995              62.175441  \n",
       "5996              38.928617  \n",
       "5997              61.760180  \n",
       "5998              33.500963  \n",
       "5999              54.954441  \n",
       "\n",
       "[6000 rows x 223 columns]"
      ]
     },
     "metadata": {},
     "output_type": "display_data"
    },
    {
     "data": {
      "text/html": [
       "<div>\n",
       "<style scoped>\n",
       "    .dataframe tbody tr th:only-of-type {\n",
       "        vertical-align: middle;\n",
       "    }\n",
       "\n",
       "    .dataframe tbody tr th {\n",
       "        vertical-align: top;\n",
       "    }\n",
       "\n",
       "    .dataframe thead th {\n",
       "        text-align: right;\n",
       "    }\n",
       "</style>\n",
       "<table border=\"1\" class=\"dataframe\">\n",
       "  <thead>\n",
       "    <tr style=\"text-align: right;\">\n",
       "      <th></th>\n",
       "      <th>Interview</th>\n",
       "    </tr>\n",
       "  </thead>\n",
       "  <tbody>\n",
       "    <tr>\n",
       "      <th>0</th>\n",
       "      <td>0.401869</td>\n",
       "    </tr>\n",
       "    <tr>\n",
       "      <th>1</th>\n",
       "      <td>0.757009</td>\n",
       "    </tr>\n",
       "    <tr>\n",
       "      <th>2</th>\n",
       "      <td>0.738318</td>\n",
       "    </tr>\n",
       "    <tr>\n",
       "      <th>3</th>\n",
       "      <td>0.383178</td>\n",
       "    </tr>\n",
       "    <tr>\n",
       "      <th>4</th>\n",
       "      <td>0.242991</td>\n",
       "    </tr>\n",
       "    <tr>\n",
       "      <th>...</th>\n",
       "      <td>...</td>\n",
       "    </tr>\n",
       "    <tr>\n",
       "      <th>5995</th>\n",
       "      <td>0.598131</td>\n",
       "    </tr>\n",
       "    <tr>\n",
       "      <th>5996</th>\n",
       "      <td>0.299065</td>\n",
       "    </tr>\n",
       "    <tr>\n",
       "      <th>5997</th>\n",
       "      <td>0.551402</td>\n",
       "    </tr>\n",
       "    <tr>\n",
       "      <th>5998</th>\n",
       "      <td>0.392523</td>\n",
       "    </tr>\n",
       "    <tr>\n",
       "      <th>5999</th>\n",
       "      <td>0.373832</td>\n",
       "    </tr>\n",
       "  </tbody>\n",
       "</table>\n",
       "<p>6000 rows × 1 columns</p>\n",
       "</div>"
      ],
      "text/plain": [
       "      Interview\n",
       "0      0.401869\n",
       "1      0.757009\n",
       "2      0.738318\n",
       "3      0.383178\n",
       "4      0.242991\n",
       "...         ...\n",
       "5995   0.598131\n",
       "5996   0.299065\n",
       "5997   0.551402\n",
       "5998   0.392523\n",
       "5999   0.373832\n",
       "\n",
       "[6000 rows x 1 columns]"
      ]
     },
     "metadata": {},
     "output_type": "display_data"
    },
    {
     "data": {
      "text/html": [
       "<div>\n",
       "<style scoped>\n",
       "    .dataframe tbody tr th:only-of-type {\n",
       "        vertical-align: middle;\n",
       "    }\n",
       "\n",
       "    .dataframe tbody tr th {\n",
       "        vertical-align: top;\n",
       "    }\n",
       "\n",
       "    .dataframe thead th {\n",
       "        text-align: right;\n",
       "    }\n",
       "</style>\n",
       "<table border=\"1\" class=\"dataframe\">\n",
       "  <thead>\n",
       "    <tr style=\"text-align: right;\">\n",
       "      <th></th>\n",
       "      <th>AU01_r_max</th>\n",
       "      <th>AU02_r_max</th>\n",
       "      <th>AU04_r_max</th>\n",
       "      <th>AU05_r_max</th>\n",
       "      <th>AU06_r_max</th>\n",
       "      <th>AU07_r_max</th>\n",
       "      <th>AU09_r_max</th>\n",
       "      <th>AU10_r_max</th>\n",
       "      <th>AU12_r_max</th>\n",
       "      <th>AU14_r_max</th>\n",
       "      <th>...</th>\n",
       "      <th>left_eye_corner_mean</th>\n",
       "      <th>left_eye_corner_min</th>\n",
       "      <th>right_eye_left_max</th>\n",
       "      <th>right_eye_left_mean</th>\n",
       "      <th>right_eye_left_min</th>\n",
       "      <th>right_eye_right_max</th>\n",
       "      <th>right_eye_right_mean</th>\n",
       "      <th>right_eye_right_min</th>\n",
       "      <th>right_eye_corner_max</th>\n",
       "      <th>right_eye_corner_mean</th>\n",
       "    </tr>\n",
       "  </thead>\n",
       "  <tbody>\n",
       "    <tr>\n",
       "      <th>0</th>\n",
       "      <td>1.52</td>\n",
       "      <td>0.85</td>\n",
       "      <td>2.34</td>\n",
       "      <td>0.75</td>\n",
       "      <td>1.62</td>\n",
       "      <td>1.54</td>\n",
       "      <td>0.65</td>\n",
       "      <td>2.61</td>\n",
       "      <td>2.07</td>\n",
       "      <td>2.17</td>\n",
       "      <td>...</td>\n",
       "      <td>60.128474</td>\n",
       "      <td>46.367230</td>\n",
       "      <td>18.558556</td>\n",
       "      <td>12.945213</td>\n",
       "      <td>3.569314</td>\n",
       "      <td>17.396839</td>\n",
       "      <td>12.038912</td>\n",
       "      <td>1.649242</td>\n",
       "      <td>67.846076</td>\n",
       "      <td>60.047009</td>\n",
       "    </tr>\n",
       "    <tr>\n",
       "      <th>1</th>\n",
       "      <td>3.95</td>\n",
       "      <td>1.11</td>\n",
       "      <td>2.25</td>\n",
       "      <td>2.25</td>\n",
       "      <td>0.95</td>\n",
       "      <td>1.91</td>\n",
       "      <td>0.85</td>\n",
       "      <td>1.90</td>\n",
       "      <td>0.75</td>\n",
       "      <td>1.51</td>\n",
       "      <td>...</td>\n",
       "      <td>55.352328</td>\n",
       "      <td>43.656958</td>\n",
       "      <td>22.934036</td>\n",
       "      <td>13.651523</td>\n",
       "      <td>3.104835</td>\n",
       "      <td>22.720035</td>\n",
       "      <td>12.763925</td>\n",
       "      <td>1.552417</td>\n",
       "      <td>62.368261</td>\n",
       "      <td>58.543807</td>\n",
       "    </tr>\n",
       "    <tr>\n",
       "      <th>2</th>\n",
       "      <td>3.08</td>\n",
       "      <td>1.72</td>\n",
       "      <td>0.00</td>\n",
       "      <td>1.40</td>\n",
       "      <td>0.52</td>\n",
       "      <td>1.16</td>\n",
       "      <td>0.75</td>\n",
       "      <td>0.87</td>\n",
       "      <td>2.21</td>\n",
       "      <td>1.56</td>\n",
       "      <td>...</td>\n",
       "      <td>39.487619</td>\n",
       "      <td>33.517160</td>\n",
       "      <td>12.340583</td>\n",
       "      <td>9.416497</td>\n",
       "      <td>6.000833</td>\n",
       "      <td>11.834272</td>\n",
       "      <td>8.920290</td>\n",
       "      <td>5.600893</td>\n",
       "      <td>43.683521</td>\n",
       "      <td>39.915656</td>\n",
       "    </tr>\n",
       "    <tr>\n",
       "      <th>3</th>\n",
       "      <td>0.93</td>\n",
       "      <td>1.18</td>\n",
       "      <td>0.00</td>\n",
       "      <td>1.83</td>\n",
       "      <td>0.00</td>\n",
       "      <td>0.30</td>\n",
       "      <td>1.23</td>\n",
       "      <td>0.00</td>\n",
       "      <td>0.21</td>\n",
       "      <td>0.46</td>\n",
       "      <td>...</td>\n",
       "      <td>51.638129</td>\n",
       "      <td>46.572095</td>\n",
       "      <td>21.324399</td>\n",
       "      <td>14.208126</td>\n",
       "      <td>6.600758</td>\n",
       "      <td>19.900754</td>\n",
       "      <td>12.847798</td>\n",
       "      <td>5.295281</td>\n",
       "      <td>58.649126</td>\n",
       "      <td>53.179319</td>\n",
       "    </tr>\n",
       "    <tr>\n",
       "      <th>4</th>\n",
       "      <td>3.77</td>\n",
       "      <td>3.27</td>\n",
       "      <td>1.81</td>\n",
       "      <td>1.04</td>\n",
       "      <td>0.28</td>\n",
       "      <td>1.70</td>\n",
       "      <td>0.60</td>\n",
       "      <td>1.75</td>\n",
       "      <td>0.85</td>\n",
       "      <td>2.76</td>\n",
       "      <td>...</td>\n",
       "      <td>33.150825</td>\n",
       "      <td>29.924071</td>\n",
       "      <td>10.131634</td>\n",
       "      <td>8.106819</td>\n",
       "      <td>4.301163</td>\n",
       "      <td>9.618732</td>\n",
       "      <td>7.636869</td>\n",
       "      <td>3.805260</td>\n",
       "      <td>34.973847</td>\n",
       "      <td>33.081941</td>\n",
       "    </tr>\n",
       "    <tr>\n",
       "      <th>...</th>\n",
       "      <td>...</td>\n",
       "      <td>...</td>\n",
       "      <td>...</td>\n",
       "      <td>...</td>\n",
       "      <td>...</td>\n",
       "      <td>...</td>\n",
       "      <td>...</td>\n",
       "      <td>...</td>\n",
       "      <td>...</td>\n",
       "      <td>...</td>\n",
       "      <td>...</td>\n",
       "      <td>...</td>\n",
       "      <td>...</td>\n",
       "      <td>...</td>\n",
       "      <td>...</td>\n",
       "      <td>...</td>\n",
       "      <td>...</td>\n",
       "      <td>...</td>\n",
       "      <td>...</td>\n",
       "      <td>...</td>\n",
       "      <td>...</td>\n",
       "    </tr>\n",
       "    <tr>\n",
       "      <th>1995</th>\n",
       "      <td>2.68</td>\n",
       "      <td>1.39</td>\n",
       "      <td>1.07</td>\n",
       "      <td>1.03</td>\n",
       "      <td>2.16</td>\n",
       "      <td>2.42</td>\n",
       "      <td>0.52</td>\n",
       "      <td>3.15</td>\n",
       "      <td>2.66</td>\n",
       "      <td>2.66</td>\n",
       "      <td>...</td>\n",
       "      <td>29.736592</td>\n",
       "      <td>26.637192</td>\n",
       "      <td>10.090094</td>\n",
       "      <td>8.352363</td>\n",
       "      <td>4.809366</td>\n",
       "      <td>9.962429</td>\n",
       "      <td>8.072210</td>\n",
       "      <td>4.501111</td>\n",
       "      <td>30.850770</td>\n",
       "      <td>27.635797</td>\n",
       "    </tr>\n",
       "    <tr>\n",
       "      <th>1996</th>\n",
       "      <td>2.58</td>\n",
       "      <td>1.30</td>\n",
       "      <td>1.26</td>\n",
       "      <td>1.24</td>\n",
       "      <td>1.73</td>\n",
       "      <td>2.35</td>\n",
       "      <td>0.82</td>\n",
       "      <td>2.29</td>\n",
       "      <td>2.37</td>\n",
       "      <td>2.40</td>\n",
       "      <td>...</td>\n",
       "      <td>40.574899</td>\n",
       "      <td>36.722745</td>\n",
       "      <td>16.302761</td>\n",
       "      <td>11.301905</td>\n",
       "      <td>6.747592</td>\n",
       "      <td>16.204938</td>\n",
       "      <td>11.096168</td>\n",
       "      <td>6.806614</td>\n",
       "      <td>43.960209</td>\n",
       "      <td>40.236056</td>\n",
       "    </tr>\n",
       "    <tr>\n",
       "      <th>1997</th>\n",
       "      <td>1.32</td>\n",
       "      <td>0.83</td>\n",
       "      <td>2.19</td>\n",
       "      <td>0.83</td>\n",
       "      <td>0.94</td>\n",
       "      <td>0.53</td>\n",
       "      <td>0.91</td>\n",
       "      <td>1.40</td>\n",
       "      <td>1.86</td>\n",
       "      <td>1.73</td>\n",
       "      <td>...</td>\n",
       "      <td>37.792483</td>\n",
       "      <td>34.606647</td>\n",
       "      <td>14.945902</td>\n",
       "      <td>12.407601</td>\n",
       "      <td>9.042677</td>\n",
       "      <td>14.454411</td>\n",
       "      <td>12.020822</td>\n",
       "      <td>8.668333</td>\n",
       "      <td>43.532976</td>\n",
       "      <td>40.535075</td>\n",
       "    </tr>\n",
       "    <tr>\n",
       "      <th>1998</th>\n",
       "      <td>1.57</td>\n",
       "      <td>1.11</td>\n",
       "      <td>1.92</td>\n",
       "      <td>2.10</td>\n",
       "      <td>1.31</td>\n",
       "      <td>1.06</td>\n",
       "      <td>1.24</td>\n",
       "      <td>1.48</td>\n",
       "      <td>2.30</td>\n",
       "      <td>1.58</td>\n",
       "      <td>...</td>\n",
       "      <td>37.931493</td>\n",
       "      <td>32.712383</td>\n",
       "      <td>16.719450</td>\n",
       "      <td>12.320985</td>\n",
       "      <td>7.542546</td>\n",
       "      <td>16.127616</td>\n",
       "      <td>11.957599</td>\n",
       "      <td>6.958448</td>\n",
       "      <td>44.261044</td>\n",
       "      <td>40.494462</td>\n",
       "    </tr>\n",
       "    <tr>\n",
       "      <th>1999</th>\n",
       "      <td>1.52</td>\n",
       "      <td>0.91</td>\n",
       "      <td>2.51</td>\n",
       "      <td>1.25</td>\n",
       "      <td>1.29</td>\n",
       "      <td>0.40</td>\n",
       "      <td>0.83</td>\n",
       "      <td>1.23</td>\n",
       "      <td>1.67</td>\n",
       "      <td>1.48</td>\n",
       "      <td>...</td>\n",
       "      <td>38.478125</td>\n",
       "      <td>35.201278</td>\n",
       "      <td>16.630695</td>\n",
       "      <td>12.940417</td>\n",
       "      <td>8.348653</td>\n",
       "      <td>16.278821</td>\n",
       "      <td>12.592591</td>\n",
       "      <td>8.050466</td>\n",
       "      <td>43.985111</td>\n",
       "      <td>40.891051</td>\n",
       "    </tr>\n",
       "  </tbody>\n",
       "</table>\n",
       "<p>2000 rows × 223 columns</p>\n",
       "</div>"
      ],
      "text/plain": [
       "      AU01_r_max   AU02_r_max   AU04_r_max   AU05_r_max   AU06_r_max  \\\n",
       "0           1.52         0.85         2.34         0.75         1.62   \n",
       "1           3.95         1.11         2.25         2.25         0.95   \n",
       "2           3.08         1.72         0.00         1.40         0.52   \n",
       "3           0.93         1.18         0.00         1.83         0.00   \n",
       "4           3.77         3.27         1.81         1.04         0.28   \n",
       "...          ...          ...          ...          ...          ...   \n",
       "1995        2.68         1.39         1.07         1.03         2.16   \n",
       "1996        2.58         1.30         1.26         1.24         1.73   \n",
       "1997        1.32         0.83         2.19         0.83         0.94   \n",
       "1998        1.57         1.11         1.92         2.10         1.31   \n",
       "1999        1.52         0.91         2.51         1.25         1.29   \n",
       "\n",
       "       AU07_r_max   AU09_r_max   AU10_r_max   AU12_r_max   AU14_r_max  ...  \\\n",
       "0            1.54         0.65         2.61         2.07         2.17  ...   \n",
       "1            1.91         0.85         1.90         0.75         1.51  ...   \n",
       "2            1.16         0.75         0.87         2.21         1.56  ...   \n",
       "3            0.30         1.23         0.00         0.21         0.46  ...   \n",
       "4            1.70         0.60         1.75         0.85         2.76  ...   \n",
       "...           ...          ...          ...          ...          ...  ...   \n",
       "1995         2.42         0.52         3.15         2.66         2.66  ...   \n",
       "1996         2.35         0.82         2.29         2.37         2.40  ...   \n",
       "1997         0.53         0.91         1.40         1.86         1.73  ...   \n",
       "1998         1.06         1.24         1.48         2.30         1.58  ...   \n",
       "1999         0.40         0.83         1.23         1.67         1.48  ...   \n",
       "\n",
       "      left_eye_corner_mean  left_eye_corner_min  right_eye_left_max  \\\n",
       "0                60.128474            46.367230           18.558556   \n",
       "1                55.352328            43.656958           22.934036   \n",
       "2                39.487619            33.517160           12.340583   \n",
       "3                51.638129            46.572095           21.324399   \n",
       "4                33.150825            29.924071           10.131634   \n",
       "...                    ...                  ...                 ...   \n",
       "1995             29.736592            26.637192           10.090094   \n",
       "1996             40.574899            36.722745           16.302761   \n",
       "1997             37.792483            34.606647           14.945902   \n",
       "1998             37.931493            32.712383           16.719450   \n",
       "1999             38.478125            35.201278           16.630695   \n",
       "\n",
       "      right_eye_left_mean  right_eye_left_min  right_eye_right_max  \\\n",
       "0               12.945213            3.569314            17.396839   \n",
       "1               13.651523            3.104835            22.720035   \n",
       "2                9.416497            6.000833            11.834272   \n",
       "3               14.208126            6.600758            19.900754   \n",
       "4                8.106819            4.301163             9.618732   \n",
       "...                   ...                 ...                  ...   \n",
       "1995             8.352363            4.809366             9.962429   \n",
       "1996            11.301905            6.747592            16.204938   \n",
       "1997            12.407601            9.042677            14.454411   \n",
       "1998            12.320985            7.542546            16.127616   \n",
       "1999            12.940417            8.348653            16.278821   \n",
       "\n",
       "      right_eye_right_mean  right_eye_right_min  right_eye_corner_max  \\\n",
       "0                12.038912             1.649242             67.846076   \n",
       "1                12.763925             1.552417             62.368261   \n",
       "2                 8.920290             5.600893             43.683521   \n",
       "3                12.847798             5.295281             58.649126   \n",
       "4                 7.636869             3.805260             34.973847   \n",
       "...                    ...                  ...                   ...   \n",
       "1995              8.072210             4.501111             30.850770   \n",
       "1996             11.096168             6.806614             43.960209   \n",
       "1997             12.020822             8.668333             43.532976   \n",
       "1998             11.957599             6.958448             44.261044   \n",
       "1999             12.592591             8.050466             43.985111   \n",
       "\n",
       "      right_eye_corner_mean  \n",
       "0                 60.047009  \n",
       "1                 58.543807  \n",
       "2                 39.915656  \n",
       "3                 53.179319  \n",
       "4                 33.081941  \n",
       "...                     ...  \n",
       "1995              27.635797  \n",
       "1996              40.236056  \n",
       "1997              40.535075  \n",
       "1998              40.494462  \n",
       "1999              40.891051  \n",
       "\n",
       "[2000 rows x 223 columns]"
      ]
     },
     "metadata": {},
     "output_type": "display_data"
    },
    {
     "data": {
      "text/html": [
       "<div>\n",
       "<style scoped>\n",
       "    .dataframe tbody tr th:only-of-type {\n",
       "        vertical-align: middle;\n",
       "    }\n",
       "\n",
       "    .dataframe tbody tr th {\n",
       "        vertical-align: top;\n",
       "    }\n",
       "\n",
       "    .dataframe thead th {\n",
       "        text-align: right;\n",
       "    }\n",
       "</style>\n",
       "<table border=\"1\" class=\"dataframe\">\n",
       "  <thead>\n",
       "    <tr style=\"text-align: right;\">\n",
       "      <th></th>\n",
       "      <th>Interview</th>\n",
       "    </tr>\n",
       "  </thead>\n",
       "  <tbody>\n",
       "    <tr>\n",
       "      <th>0</th>\n",
       "      <td>0.654206</td>\n",
       "    </tr>\n",
       "    <tr>\n",
       "      <th>1</th>\n",
       "      <td>0.644860</td>\n",
       "    </tr>\n",
       "    <tr>\n",
       "      <th>2</th>\n",
       "      <td>0.457944</td>\n",
       "    </tr>\n",
       "    <tr>\n",
       "      <th>3</th>\n",
       "      <td>0.364486</td>\n",
       "    </tr>\n",
       "    <tr>\n",
       "      <th>4</th>\n",
       "      <td>0.607477</td>\n",
       "    </tr>\n",
       "    <tr>\n",
       "      <th>...</th>\n",
       "      <td>...</td>\n",
       "    </tr>\n",
       "    <tr>\n",
       "      <th>1995</th>\n",
       "      <td>0.682243</td>\n",
       "    </tr>\n",
       "    <tr>\n",
       "      <th>1996</th>\n",
       "      <td>0.794393</td>\n",
       "    </tr>\n",
       "    <tr>\n",
       "      <th>1997</th>\n",
       "      <td>0.205607</td>\n",
       "    </tr>\n",
       "    <tr>\n",
       "      <th>1998</th>\n",
       "      <td>0.299065</td>\n",
       "    </tr>\n",
       "    <tr>\n",
       "      <th>1999</th>\n",
       "      <td>0.308411</td>\n",
       "    </tr>\n",
       "  </tbody>\n",
       "</table>\n",
       "<p>2000 rows × 1 columns</p>\n",
       "</div>"
      ],
      "text/plain": [
       "      Interview\n",
       "0      0.654206\n",
       "1      0.644860\n",
       "2      0.457944\n",
       "3      0.364486\n",
       "4      0.607477\n",
       "...         ...\n",
       "1995   0.682243\n",
       "1996   0.794393\n",
       "1997   0.205607\n",
       "1998   0.299065\n",
       "1999   0.308411\n",
       "\n",
       "[2000 rows x 1 columns]"
      ]
     },
     "metadata": {},
     "output_type": "display_data"
    }
   ],
   "source": [
    "display(x_train)\n",
    "display(y_train)\n",
    "display(x_test)\n",
    "display(y_test)"
   ]
  },
  {
   "cell_type": "code",
   "execution_count": 64,
   "id": "39a3a5ef",
   "metadata": {},
   "outputs": [],
   "source": [
    "listbestvalues_interview = [130, 212, 178, 42, 74, 25, 8, 171, 184, 72, 31, 180, 172, 61, 73, 177, 223, 192, 125, 110, 142, 213, 181, 19, 100, 76, 27, 36, 163, 7, 187, 59, 126, 109, 111, 123, 41, 158, 115, 120, 71, 79, 11, 15, 208, 118, 102, 75, 112, 176, 195, 209, 121, 105, 222, 136, 220, 16, 124, 80, 108, 191, 30, 54, 185, 168, 210, 37, 52, 117, 201, 221, 205, 190, 81, 99, 60, 182, 38, 198, 131, 165, 207, 197, 33, 173, 83, 43, 29, 186, 32, 68, 66, 129, 216, 96, 103, 24, 206, 89, 174, 2, 166, 98, 22, 132, 65, 62, 3, 95, 157, 57, 6, 17, 67, 70, 69, 85, 107, 134, 23, 188, 116, 194, 13, 153, 82, 78, 56, 86, 156, 106, 119, 28, 55, 84, 128, 77, 179, 21, 164, 218, 170, 147, 211, 135, 154, 47, 150, 183, 141, 155, 138, 219, 160, 215, 26, 101, 104, 97, 93, 94, 203, 9, 151, 196, 58, 50, 167, 146, 87, 53, 4, 45, 35, 51, 127, 175, 159, 149, 10, 169, 193, 63, 162, 202, 92, 44, 204, 217, 214, 199, 200, 49, 5, 189, 48, 64, 46, 40, 39, 88, 90, 91, 34, 1, 113, 114, 122, 133, 137, 139, 140, 143, 144, 145, 148, 152, 20, 161, 18, 14, 12, 0]"
   ]
  },
  {
   "cell_type": "code",
   "execution_count": 65,
   "id": "af8a5984",
   "metadata": {},
   "outputs": [],
   "source": [
    "def bestfeatureslist (dfX, listbestvalues, wantedfeatures):\n",
    "    output = pd.DataFrame(data=[])\n",
    "    for i in range (0, wantedfeatures):\n",
    "        output = pd.concat([output, dfX.iloc[:, listbestvalues[i]]], axis = 1).reindex(dfX.index)\n",
    "    return output"
   ]
  },
  {
   "cell_type": "code",
   "execution_count": 74,
   "id": "efb08db1",
   "metadata": {},
   "outputs": [],
   "source": [
    "X_train_10 = bestfeatureslist(x_train, listbestvalues_interview, 10)\n",
    "X_test_10 = bestfeatureslist(x_test, listbestvalues_interview, 10)"
   ]
  },
  {
   "cell_type": "code",
   "execution_count": 75,
   "id": "da707e78",
   "metadata": {},
   "outputs": [
    {
     "data": {
      "text/html": [
       "<div>\n",
       "<style scoped>\n",
       "    .dataframe tbody tr th:only-of-type {\n",
       "        vertical-align: middle;\n",
       "    }\n",
       "\n",
       "    .dataframe tbody tr th {\n",
       "        vertical-align: top;\n",
       "    }\n",
       "\n",
       "    .dataframe thead th {\n",
       "        text-align: right;\n",
       "    }\n",
       "</style>\n",
       "<table border=\"1\" class=\"dataframe\">\n",
       "  <thead>\n",
       "    <tr style=\"text-align: right;\">\n",
       "      <th></th>\n",
       "      <th>10_average</th>\n",
       "      <th>left_eye_corner_max</th>\n",
       "      <th>58_average</th>\n",
       "      <th>AU12_c_present</th>\n",
       "      <th>22_max</th>\n",
       "      <th>AU12_r_mean</th>\n",
       "      <th>AU12_r_max</th>\n",
       "      <th>51_average</th>\n",
       "      <th>64_average</th>\n",
       "      <th>20_max</th>\n",
       "    </tr>\n",
       "  </thead>\n",
       "  <tbody>\n",
       "    <tr>\n",
       "      <th>0</th>\n",
       "      <td>69.714035</td>\n",
       "      <td>43.852594</td>\n",
       "      <td>77.613532</td>\n",
       "      <td>0.059211</td>\n",
       "      <td>699.275363</td>\n",
       "      <td>0.246250</td>\n",
       "      <td>2.04</td>\n",
       "      <td>79.247476</td>\n",
       "      <td>76.298274</td>\n",
       "      <td>644.285040</td>\n",
       "    </tr>\n",
       "    <tr>\n",
       "      <th>1</th>\n",
       "      <td>10.945691</td>\n",
       "      <td>43.733054</td>\n",
       "      <td>13.542523</td>\n",
       "      <td>0.185379</td>\n",
       "      <td>31.708978</td>\n",
       "      <td>0.247885</td>\n",
       "      <td>1.96</td>\n",
       "      <td>13.391336</td>\n",
       "      <td>12.611382</td>\n",
       "      <td>29.381336</td>\n",
       "    </tr>\n",
       "    <tr>\n",
       "      <th>2</th>\n",
       "      <td>13.567198</td>\n",
       "      <td>46.472788</td>\n",
       "      <td>17.862409</td>\n",
       "      <td>0.989107</td>\n",
       "      <td>44.150717</td>\n",
       "      <td>1.400436</td>\n",
       "      <td>3.12</td>\n",
       "      <td>18.908071</td>\n",
       "      <td>17.625230</td>\n",
       "      <td>47.801170</td>\n",
       "    </tr>\n",
       "    <tr>\n",
       "      <th>3</th>\n",
       "      <td>44.724500</td>\n",
       "      <td>58.930637</td>\n",
       "      <td>44.920009</td>\n",
       "      <td>0.481481</td>\n",
       "      <td>148.267325</td>\n",
       "      <td>1.172244</td>\n",
       "      <td>2.78</td>\n",
       "      <td>46.452249</td>\n",
       "      <td>43.310840</td>\n",
       "      <td>111.461913</td>\n",
       "    </tr>\n",
       "    <tr>\n",
       "      <th>4</th>\n",
       "      <td>63.941103</td>\n",
       "      <td>81.186021</td>\n",
       "      <td>90.023705</td>\n",
       "      <td>0.002179</td>\n",
       "      <td>273.328572</td>\n",
       "      <td>0.204989</td>\n",
       "      <td>1.29</td>\n",
       "      <td>98.597146</td>\n",
       "      <td>86.380075</td>\n",
       "      <td>297.506823</td>\n",
       "    </tr>\n",
       "    <tr>\n",
       "      <th>...</th>\n",
       "      <td>...</td>\n",
       "      <td>...</td>\n",
       "      <td>...</td>\n",
       "      <td>...</td>\n",
       "      <td>...</td>\n",
       "      <td>...</td>\n",
       "      <td>...</td>\n",
       "      <td>...</td>\n",
       "      <td>...</td>\n",
       "      <td>...</td>\n",
       "    </tr>\n",
       "    <tr>\n",
       "      <th>5995</th>\n",
       "      <td>31.554197</td>\n",
       "      <td>75.432089</td>\n",
       "      <td>40.819349</td>\n",
       "      <td>0.161220</td>\n",
       "      <td>132.877408</td>\n",
       "      <td>0.507102</td>\n",
       "      <td>3.14</td>\n",
       "      <td>43.979091</td>\n",
       "      <td>36.585303</td>\n",
       "      <td>131.437548</td>\n",
       "    </tr>\n",
       "    <tr>\n",
       "      <th>5996</th>\n",
       "      <td>24.532370</td>\n",
       "      <td>40.471224</td>\n",
       "      <td>21.156202</td>\n",
       "      <td>0.047930</td>\n",
       "      <td>86.852774</td>\n",
       "      <td>0.300937</td>\n",
       "      <td>1.66</td>\n",
       "      <td>20.690121</td>\n",
       "      <td>21.632879</td>\n",
       "      <td>41.068194</td>\n",
       "    </tr>\n",
       "    <tr>\n",
       "      <th>5997</th>\n",
       "      <td>38.637180</td>\n",
       "      <td>63.254170</td>\n",
       "      <td>49.702650</td>\n",
       "      <td>0.268930</td>\n",
       "      <td>182.914081</td>\n",
       "      <td>0.497937</td>\n",
       "      <td>1.30</td>\n",
       "      <td>51.551235</td>\n",
       "      <td>43.292491</td>\n",
       "      <td>168.414219</td>\n",
       "    </tr>\n",
       "    <tr>\n",
       "      <th>5998</th>\n",
       "      <td>55.898603</td>\n",
       "      <td>61.531293</td>\n",
       "      <td>43.819777</td>\n",
       "      <td>0.244009</td>\n",
       "      <td>102.708445</td>\n",
       "      <td>0.370174</td>\n",
       "      <td>1.84</td>\n",
       "      <td>42.361021</td>\n",
       "      <td>43.322501</td>\n",
       "      <td>99.174575</td>\n",
       "    </tr>\n",
       "    <tr>\n",
       "      <th>5999</th>\n",
       "      <td>34.604363</td>\n",
       "      <td>62.771411</td>\n",
       "      <td>50.407000</td>\n",
       "      <td>0.008715</td>\n",
       "      <td>173.183164</td>\n",
       "      <td>0.202222</td>\n",
       "      <td>0.91</td>\n",
       "      <td>56.655480</td>\n",
       "      <td>50.185666</td>\n",
       "      <td>186.331326</td>\n",
       "    </tr>\n",
       "  </tbody>\n",
       "</table>\n",
       "<p>6000 rows × 10 columns</p>\n",
       "</div>"
      ],
      "text/plain": [
       "      10_average  left_eye_corner_max  58_average   AU12_c_present  \\\n",
       "0      69.714035            43.852594   77.613532         0.059211   \n",
       "1      10.945691            43.733054   13.542523         0.185379   \n",
       "2      13.567198            46.472788   17.862409         0.989107   \n",
       "3      44.724500            58.930637   44.920009         0.481481   \n",
       "4      63.941103            81.186021   90.023705         0.002179   \n",
       "...          ...                  ...         ...              ...   \n",
       "5995   31.554197            75.432089   40.819349         0.161220   \n",
       "5996   24.532370            40.471224   21.156202         0.047930   \n",
       "5997   38.637180            63.254170   49.702650         0.268930   \n",
       "5998   55.898603            61.531293   43.819777         0.244009   \n",
       "5999   34.604363            62.771411   50.407000         0.008715   \n",
       "\n",
       "          22_max   AU12_r_mean   AU12_r_max  51_average  64_average  \\\n",
       "0     699.275363      0.246250         2.04   79.247476   76.298274   \n",
       "1      31.708978      0.247885         1.96   13.391336   12.611382   \n",
       "2      44.150717      1.400436         3.12   18.908071   17.625230   \n",
       "3     148.267325      1.172244         2.78   46.452249   43.310840   \n",
       "4     273.328572      0.204989         1.29   98.597146   86.380075   \n",
       "...          ...           ...          ...         ...         ...   \n",
       "5995  132.877408      0.507102         3.14   43.979091   36.585303   \n",
       "5996   86.852774      0.300937         1.66   20.690121   21.632879   \n",
       "5997  182.914081      0.497937         1.30   51.551235   43.292491   \n",
       "5998  102.708445      0.370174         1.84   42.361021   43.322501   \n",
       "5999  173.183164      0.202222         0.91   56.655480   50.185666   \n",
       "\n",
       "          20_max  \n",
       "0     644.285040  \n",
       "1      29.381336  \n",
       "2      47.801170  \n",
       "3     111.461913  \n",
       "4     297.506823  \n",
       "...          ...  \n",
       "5995  131.437548  \n",
       "5996   41.068194  \n",
       "5997  168.414219  \n",
       "5998   99.174575  \n",
       "5999  186.331326  \n",
       "\n",
       "[6000 rows x 10 columns]"
      ]
     },
     "metadata": {},
     "output_type": "display_data"
    },
    {
     "data": {
      "text/html": [
       "<div>\n",
       "<style scoped>\n",
       "    .dataframe tbody tr th:only-of-type {\n",
       "        vertical-align: middle;\n",
       "    }\n",
       "\n",
       "    .dataframe tbody tr th {\n",
       "        vertical-align: top;\n",
       "    }\n",
       "\n",
       "    .dataframe thead th {\n",
       "        text-align: right;\n",
       "    }\n",
       "</style>\n",
       "<table border=\"1\" class=\"dataframe\">\n",
       "  <thead>\n",
       "    <tr style=\"text-align: right;\">\n",
       "      <th></th>\n",
       "      <th>10_average</th>\n",
       "      <th>left_eye_corner_max</th>\n",
       "      <th>58_average</th>\n",
       "      <th>AU12_c_present</th>\n",
       "      <th>22_max</th>\n",
       "      <th>AU12_r_mean</th>\n",
       "      <th>AU12_r_max</th>\n",
       "      <th>51_average</th>\n",
       "      <th>64_average</th>\n",
       "      <th>20_max</th>\n",
       "    </tr>\n",
       "  </thead>\n",
       "  <tbody>\n",
       "    <tr>\n",
       "      <th>0</th>\n",
       "      <td>41.035706</td>\n",
       "      <td>66.200680</td>\n",
       "      <td>53.347194</td>\n",
       "      <td>0.381201</td>\n",
       "      <td>185.316358</td>\n",
       "      <td>0.817676</td>\n",
       "      <td>2.07</td>\n",
       "      <td>56.170168</td>\n",
       "      <td>48.043457</td>\n",
       "      <td>197.159794</td>\n",
       "    </tr>\n",
       "    <tr>\n",
       "      <th>1</th>\n",
       "      <td>34.242781</td>\n",
       "      <td>63.924956</td>\n",
       "      <td>40.946696</td>\n",
       "      <td>0.000000</td>\n",
       "      <td>98.557259</td>\n",
       "      <td>0.065822</td>\n",
       "      <td>0.75</td>\n",
       "      <td>44.233608</td>\n",
       "      <td>39.763939</td>\n",
       "      <td>86.379862</td>\n",
       "    </tr>\n",
       "    <tr>\n",
       "      <th>2</th>\n",
       "      <td>16.239556</td>\n",
       "      <td>42.516938</td>\n",
       "      <td>21.134557</td>\n",
       "      <td>0.202614</td>\n",
       "      <td>86.624455</td>\n",
       "      <td>0.635381</td>\n",
       "      <td>2.21</td>\n",
       "      <td>21.284182</td>\n",
       "      <td>17.917670</td>\n",
       "      <td>82.356133</td>\n",
       "    </tr>\n",
       "    <tr>\n",
       "      <th>3</th>\n",
       "      <td>40.148859</td>\n",
       "      <td>56.011606</td>\n",
       "      <td>41.387936</td>\n",
       "      <td>0.000000</td>\n",
       "      <td>100.271879</td>\n",
       "      <td>0.002680</td>\n",
       "      <td>0.21</td>\n",
       "      <td>41.142910</td>\n",
       "      <td>41.033893</td>\n",
       "      <td>99.603596</td>\n",
       "    </tr>\n",
       "    <tr>\n",
       "      <th>4</th>\n",
       "      <td>13.674574</td>\n",
       "      <td>35.500563</td>\n",
       "      <td>16.627922</td>\n",
       "      <td>0.130548</td>\n",
       "      <td>64.206010</td>\n",
       "      <td>0.078695</td>\n",
       "      <td>0.85</td>\n",
       "      <td>18.964099</td>\n",
       "      <td>16.689389</td>\n",
       "      <td>66.324476</td>\n",
       "    </tr>\n",
       "    <tr>\n",
       "      <th>...</th>\n",
       "      <td>...</td>\n",
       "      <td>...</td>\n",
       "      <td>...</td>\n",
       "      <td>...</td>\n",
       "      <td>...</td>\n",
       "      <td>...</td>\n",
       "      <td>...</td>\n",
       "      <td>...</td>\n",
       "      <td>...</td>\n",
       "      <td>...</td>\n",
       "    </tr>\n",
       "    <tr>\n",
       "      <th>1995</th>\n",
       "      <td>15.079767</td>\n",
       "      <td>32.936909</td>\n",
       "      <td>17.029969</td>\n",
       "      <td>0.223433</td>\n",
       "      <td>50.348587</td>\n",
       "      <td>0.485995</td>\n",
       "      <td>2.66</td>\n",
       "      <td>17.480688</td>\n",
       "      <td>15.857298</td>\n",
       "      <td>43.544913</td>\n",
       "    </tr>\n",
       "    <tr>\n",
       "      <th>1996</th>\n",
       "      <td>13.403361</td>\n",
       "      <td>45.692122</td>\n",
       "      <td>19.436764</td>\n",
       "      <td>0.503268</td>\n",
       "      <td>58.531960</td>\n",
       "      <td>1.171830</td>\n",
       "      <td>2.37</td>\n",
       "      <td>18.772660</td>\n",
       "      <td>15.022523</td>\n",
       "      <td>64.748209</td>\n",
       "    </tr>\n",
       "    <tr>\n",
       "      <th>1997</th>\n",
       "      <td>12.482461</td>\n",
       "      <td>42.147479</td>\n",
       "      <td>12.063549</td>\n",
       "      <td>0.080940</td>\n",
       "      <td>27.676604</td>\n",
       "      <td>0.697363</td>\n",
       "      <td>1.86</td>\n",
       "      <td>11.330869</td>\n",
       "      <td>9.987789</td>\n",
       "      <td>25.802000</td>\n",
       "    </tr>\n",
       "    <tr>\n",
       "      <th>1998</th>\n",
       "      <td>15.541574</td>\n",
       "      <td>40.569077</td>\n",
       "      <td>14.572387</td>\n",
       "      <td>0.370757</td>\n",
       "      <td>42.001611</td>\n",
       "      <td>1.062037</td>\n",
       "      <td>2.30</td>\n",
       "      <td>14.450809</td>\n",
       "      <td>12.749255</td>\n",
       "      <td>46.431133</td>\n",
       "    </tr>\n",
       "    <tr>\n",
       "      <th>1999</th>\n",
       "      <td>13.794485</td>\n",
       "      <td>41.904296</td>\n",
       "      <td>13.585196</td>\n",
       "      <td>0.180157</td>\n",
       "      <td>31.034687</td>\n",
       "      <td>0.834674</td>\n",
       "      <td>1.67</td>\n",
       "      <td>13.549131</td>\n",
       "      <td>13.483054</td>\n",
       "      <td>28.800244</td>\n",
       "    </tr>\n",
       "  </tbody>\n",
       "</table>\n",
       "<p>2000 rows × 10 columns</p>\n",
       "</div>"
      ],
      "text/plain": [
       "      10_average  left_eye_corner_max  58_average   AU12_c_present  \\\n",
       "0      41.035706            66.200680   53.347194         0.381201   \n",
       "1      34.242781            63.924956   40.946696         0.000000   \n",
       "2      16.239556            42.516938   21.134557         0.202614   \n",
       "3      40.148859            56.011606   41.387936         0.000000   \n",
       "4      13.674574            35.500563   16.627922         0.130548   \n",
       "...          ...                  ...         ...              ...   \n",
       "1995   15.079767            32.936909   17.029969         0.223433   \n",
       "1996   13.403361            45.692122   19.436764         0.503268   \n",
       "1997   12.482461            42.147479   12.063549         0.080940   \n",
       "1998   15.541574            40.569077   14.572387         0.370757   \n",
       "1999   13.794485            41.904296   13.585196         0.180157   \n",
       "\n",
       "          22_max   AU12_r_mean   AU12_r_max  51_average  64_average  \\\n",
       "0     185.316358      0.817676         2.07   56.170168   48.043457   \n",
       "1      98.557259      0.065822         0.75   44.233608   39.763939   \n",
       "2      86.624455      0.635381         2.21   21.284182   17.917670   \n",
       "3     100.271879      0.002680         0.21   41.142910   41.033893   \n",
       "4      64.206010      0.078695         0.85   18.964099   16.689389   \n",
       "...          ...           ...          ...         ...         ...   \n",
       "1995   50.348587      0.485995         2.66   17.480688   15.857298   \n",
       "1996   58.531960      1.171830         2.37   18.772660   15.022523   \n",
       "1997   27.676604      0.697363         1.86   11.330869    9.987789   \n",
       "1998   42.001611      1.062037         2.30   14.450809   12.749255   \n",
       "1999   31.034687      0.834674         1.67   13.549131   13.483054   \n",
       "\n",
       "          20_max  \n",
       "0     197.159794  \n",
       "1      86.379862  \n",
       "2      82.356133  \n",
       "3      99.603596  \n",
       "4      66.324476  \n",
       "...          ...  \n",
       "1995   43.544913  \n",
       "1996   64.748209  \n",
       "1997   25.802000  \n",
       "1998   46.431133  \n",
       "1999   28.800244  \n",
       "\n",
       "[2000 rows x 10 columns]"
      ]
     },
     "metadata": {},
     "output_type": "display_data"
    }
   ],
   "source": [
    "display(X_train_10)\n",
    "display(X_test_10)"
   ]
  },
  {
   "cell_type": "code",
   "execution_count": null,
   "id": "0e622e0f",
   "metadata": {},
   "outputs": [],
   "source": []
  },
  {
   "cell_type": "code",
   "execution_count": null,
   "id": "a93f7ad4",
   "metadata": {},
   "outputs": [],
   "source": []
  },
  {
   "cell_type": "code",
   "execution_count": 72,
   "id": "df10493b",
   "metadata": {},
   "outputs": [],
   "source": [
    "#code taken from: https://github.com/Suji04/ML_from_Scratch/blob/master/decision%20tree%20regression.ipynb\n",
    "\n",
    "class Node():\n",
    "    def __init__(self, feature_index=None, threshold=None, left=None, right=None, var_red=None, value=None):\n",
    "        ''' constructor ''' \n",
    "        \n",
    "        # for decision node\n",
    "        self.feature_index = feature_index\n",
    "        self.threshold = threshold\n",
    "        self.left = left\n",
    "        self.right = right\n",
    "        self.var_red = var_red\n",
    "        \n",
    "        # for leaf node\n",
    "        self.value = value"
   ]
  },
  {
   "cell_type": "code",
   "execution_count": 73,
   "id": "7fa4b120",
   "metadata": {},
   "outputs": [],
   "source": [
    "#code taken from: https://github.com/Suji04/ML_from_Scratch/blob/master/decision%20tree%20regression.ipynb\n",
    "\n",
    "class DecisionTreeRegressor():\n",
    "    def __init__(self, min_samples_split=2, max_depth=2):\n",
    "        ''' constructor '''\n",
    "        \n",
    "        # initialize the root of the tree \n",
    "        self.root = None\n",
    "        \n",
    "        # stopping conditions\n",
    "        self.min_samples_split = min_samples_split\n",
    "        self.max_depth = max_depth\n",
    "        \n",
    "    def build_tree(self, dataset, curr_depth=0):\n",
    "        ''' recursive function to build the tree '''\n",
    "        \n",
    "        X, Y = dataset[:,:-1], dataset[:,-1]\n",
    "        num_samples, num_features = np.shape(X)\n",
    "        best_split = {}\n",
    "        # split until stopping conditions are met\n",
    "        if num_samples>=self.min_samples_split and curr_depth<=self.max_depth:\n",
    "            # find the best split\n",
    "            best_split = self.get_best_split(dataset, num_samples, num_features)\n",
    "            # check if information gain is positive\n",
    "            if best_split[\"var_red\"]>0:\n",
    "                # recur left\n",
    "                left_subtree = self.build_tree(best_split[\"dataset_left\"], curr_depth+1)\n",
    "                # recur right\n",
    "                right_subtree = self.build_tree(best_split[\"dataset_right\"], curr_depth+1)\n",
    "                # return decision node\n",
    "                return Node(best_split[\"feature_index\"], best_split[\"threshold\"], \n",
    "                            left_subtree, right_subtree, best_split[\"var_red\"])\n",
    "        \n",
    "        # compute leaf node\n",
    "        leaf_value = self.calculate_leaf_value(Y)\n",
    "        # return leaf node\n",
    "        return Node(value=leaf_value)\n",
    "    \n",
    "    def get_best_split(self, dataset, num_samples, num_features):\n",
    "        ''' function to find the best split '''\n",
    "        \n",
    "        # dictionary to store the best split\n",
    "        best_split = {}\n",
    "        max_var_red = -float(\"inf\")\n",
    "        # loop over all the features\n",
    "        for feature_index in range(num_features):\n",
    "            feature_values = dataset[:, feature_index]\n",
    "            possible_thresholds = np.unique(feature_values)\n",
    "            # loop over all the feature values present in the data\n",
    "            for threshold in possible_thresholds:\n",
    "                # get current split\n",
    "                dataset_left, dataset_right = self.split(dataset, feature_index, threshold)\n",
    "                # check if childs are not null\n",
    "                if len(dataset_left)>0 and len(dataset_right)>0:\n",
    "                    y, left_y, right_y = dataset[:, -1], dataset_left[:, -1], dataset_right[:, -1]\n",
    "                    # compute information gain\n",
    "                    curr_var_red = self.variance_reduction(y, left_y, right_y)\n",
    "                    # update the best split if needed\n",
    "                    if curr_var_red>max_var_red:\n",
    "                        best_split[\"feature_index\"] = feature_index\n",
    "                        best_split[\"threshold\"] = threshold\n",
    "                        best_split[\"dataset_left\"] = dataset_left\n",
    "                        best_split[\"dataset_right\"] = dataset_right\n",
    "                        best_split[\"var_red\"] = curr_var_red\n",
    "                        max_var_red = curr_var_red\n",
    "                        \n",
    "        # return best split\n",
    "        return best_split\n",
    "    \n",
    "    def split(self, dataset, feature_index, threshold):\n",
    "        ''' function to split the data '''\n",
    "        \n",
    "        dataset_left = np.array([row for row in dataset if row[feature_index]<=threshold])\n",
    "        dataset_right = np.array([row for row in dataset if row[feature_index]>threshold])\n",
    "        return dataset_left, dataset_right\n",
    "    \n",
    "    def variance_reduction(self, parent, l_child, r_child):\n",
    "        ''' function to compute variance reduction '''\n",
    "        \n",
    "        weight_l = len(l_child) / len(parent)\n",
    "        weight_r = len(r_child) / len(parent)\n",
    "        reduction = np.var(parent) - (weight_l * np.var(l_child) + weight_r * np.var(r_child))\n",
    "        return reduction\n",
    "    \n",
    "    def calculate_leaf_value(self, Y):\n",
    "        ''' function to compute leaf node '''\n",
    "        \n",
    "        val = np.mean(Y)\n",
    "        return val\n",
    "                \n",
    "    def print_tree(self, tree=None, indent=\" \"):\n",
    "        ''' function to print the tree '''\n",
    "        \n",
    "        if not tree:\n",
    "            tree = self.root\n",
    "\n",
    "        if tree.value is not None:\n",
    "            print(tree.value)\n",
    "\n",
    "        else:\n",
    "            print(\"X_\"+str(tree.feature_index), \"<=\", tree.threshold, \"?\", tree.var_red)\n",
    "            print(\"%sleft:\" % (indent), end=\"\")\n",
    "            self.print_tree(tree.left, indent + indent)\n",
    "            print(\"%sright:\" % (indent), end=\"\")\n",
    "            self.print_tree(tree.right, indent + indent)\n",
    "    \n",
    "    def fit(self, X, Y):\n",
    "        ''' function to train the tree '''\n",
    "        \n",
    "        dataset = np.concatenate((X, Y), axis=1)\n",
    "        self.root = self.build_tree(dataset)\n",
    "        \n",
    "    def make_prediction(self, x, tree):\n",
    "        ''' function to predict new dataset '''\n",
    "        \n",
    "        if tree.value!=None: return tree.value\n",
    "        feature_val = x[tree.feature_index]\n",
    "        if feature_val<=tree.threshold:\n",
    "            return self.make_prediction(x, tree.left)\n",
    "        else:\n",
    "            return self.make_prediction(x, tree.right)\n",
    "    \n",
    "    def predict(self, X):\n",
    "        ''' function to predict a single data point '''\n",
    "        \n",
    "        preditions = [self.make_prediction(x, self.root) for x in X]\n",
    "        return preditions"
   ]
  },
  {
   "cell_type": "code",
   "execution_count": 76,
   "id": "3b996f37",
   "metadata": {},
   "outputs": [
    {
     "name": "stdout",
     "output_type": "stream",
     "text": [
      "X_3 <= 0.1337719298245614 ? 0.0009977589990876438\n",
      " left:X_1 <= 69.20997037999652 ? 0.0005489327780875894\n",
      "  left:X_6 <= 0.97 ? 0.0005571466845346595\n",
      "    left:X_5 <= 0.0044444444444444 ? 0.0005442156640570149\n",
      "        left:0.39497963096093924\n",
      "        right:0.46095637601143286\n",
      "    right:X_2 <= 46.03692993819388 ? 0.00028215139137629727\n",
      "        left:0.5066927318425957\n",
      "        right:0.4591216472912392\n",
      "  right:X_5 <= 0.0321739130434782 ? 0.0010940411641542913\n",
      "    left:X_4 <= 123.88069456217666 ? 0.003501202125452147\n",
      "        left:0.259983007646559\n",
      "        right:0.37975077881619934\n",
      "    right:X_5 <= 0.0779520697167756 ? 0.0005180878056173406\n",
      "        left:0.47298837474356037\n",
      "        right:0.40946769605851274\n",
      " right:X_0 <= 33.18371348447097 ? 0.0005256733154640515\n",
      "  left:X_6 <= 2.09 ? 0.0003956716002863521\n",
      "    left:X_1 <= 31.1130197827211 ? 0.0004047581229881178\n",
      "        left:0.5963384969914223\n",
      "        right:0.5218656321636395\n",
      "    right:X_1 <= 66.54562344737629 ? 0.0006544846803031128\n",
      "        left:0.5757937906782794\n",
      "        right:0.48517253774263125\n",
      "  right:X_2 <= 63.91041743336527 ? 0.0005261790840588448\n",
      "    left:X_6 <= 2.31 ? 0.0005351986590050734\n",
      "        left:0.48661065483495386\n",
      "        right:0.5329851566794941\n",
      "    right:X_2 <= 65.53767877489362 ? 0.0010522913627570851\n",
      "        left:0.3489096573208722\n",
      "        right:0.46568430709248315\n"
     ]
    }
   ],
   "source": [
    "regressor = DecisionTreeRegressor(min_samples_split=3, max_depth=3)\n",
    "regressor.fit(X_train_10,Y_train)\n",
    "regressor.print_tree()"
   ]
  },
  {
   "cell_type": "code",
   "execution_count": 94,
   "id": "e376c20e",
   "metadata": {},
   "outputs": [
    {
     "name": "stdout",
     "output_type": "stream",
     "text": [
      "1-MAE 0.8890663991535015\n"
     ]
    }
   ],
   "source": [
    "Y_pred = regressor.predict(test_array) \n",
    "from sklearn.metrics import mean_squared_error\n",
    "np.sqrt(mean_squared_error(Y_test, Y_pred))\n",
    "\n",
    "mae = mean_absolute_error(Y_test, Y_pred)\n",
    "print(\"1-MAE\", 1-mae)"
   ]
  },
  {
   "cell_type": "code",
   "execution_count": 95,
   "id": "6402a1ba",
   "metadata": {},
   "outputs": [
    {
     "name": "stdout",
     "output_type": "stream",
     "text": [
      "<__main__.DecisionTreeRegressor object at 0x00000252B4AB51C0>\n"
     ]
    }
   ],
   "source": [
    "print(regressor)"
   ]
  },
  {
   "cell_type": "code",
   "execution_count": 91,
   "id": "88f3724e",
   "metadata": {},
   "outputs": [
    {
     "data": {
      "text/plain": [
       "array([[ 1.52      ,  0.85      ,  2.34      , ...,  1.64924225,\n",
       "        67.84607579, 60.04700887],\n",
       "       [ 3.95      ,  1.11      ,  2.25      , ...,  1.55241747,\n",
       "        62.36826116, 58.54380671],\n",
       "       [ 3.08      ,  1.72      ,  0.        , ...,  5.60089279,\n",
       "        43.68352092, 39.91565574],\n",
       "       ...,\n",
       "       [ 1.32      ,  0.83      ,  2.19      , ...,  8.66833317,\n",
       "        43.53297601, 40.53507534],\n",
       "       [ 1.57      ,  1.11      ,  1.92      , ...,  6.9584481 ,\n",
       "        44.26104382, 40.49446216],\n",
       "       [ 1.52      ,  0.91      ,  2.51      , ...,  8.05046583,\n",
       "        43.98511112, 40.89105068]])"
      ]
     },
     "metadata": {},
     "output_type": "display_data"
    },
    {
     "name": "stdout",
     "output_type": "stream",
     "text": [
      "(2000, 223)\n"
     ]
    },
    {
     "data": {
      "text/html": [
       "<div>\n",
       "<style scoped>\n",
       "    .dataframe tbody tr th:only-of-type {\n",
       "        vertical-align: middle;\n",
       "    }\n",
       "\n",
       "    .dataframe tbody tr th {\n",
       "        vertical-align: top;\n",
       "    }\n",
       "\n",
       "    .dataframe thead th {\n",
       "        text-align: right;\n",
       "    }\n",
       "</style>\n",
       "<table border=\"1\" class=\"dataframe\">\n",
       "  <thead>\n",
       "    <tr style=\"text-align: right;\">\n",
       "      <th></th>\n",
       "      <th>AU01_r_max</th>\n",
       "      <th>AU02_r_max</th>\n",
       "      <th>AU04_r_max</th>\n",
       "      <th>AU05_r_max</th>\n",
       "      <th>AU06_r_max</th>\n",
       "      <th>AU07_r_max</th>\n",
       "      <th>AU09_r_max</th>\n",
       "      <th>AU10_r_max</th>\n",
       "      <th>AU12_r_max</th>\n",
       "      <th>AU14_r_max</th>\n",
       "      <th>...</th>\n",
       "      <th>left_eye_corner_mean</th>\n",
       "      <th>left_eye_corner_min</th>\n",
       "      <th>right_eye_left_max</th>\n",
       "      <th>right_eye_left_mean</th>\n",
       "      <th>right_eye_left_min</th>\n",
       "      <th>right_eye_right_max</th>\n",
       "      <th>right_eye_right_mean</th>\n",
       "      <th>right_eye_right_min</th>\n",
       "      <th>right_eye_corner_max</th>\n",
       "      <th>right_eye_corner_mean</th>\n",
       "    </tr>\n",
       "  </thead>\n",
       "  <tbody>\n",
       "    <tr>\n",
       "      <th>0</th>\n",
       "      <td>1.52</td>\n",
       "      <td>0.85</td>\n",
       "      <td>2.34</td>\n",
       "      <td>0.75</td>\n",
       "      <td>1.62</td>\n",
       "      <td>1.54</td>\n",
       "      <td>0.65</td>\n",
       "      <td>2.61</td>\n",
       "      <td>2.07</td>\n",
       "      <td>2.17</td>\n",
       "      <td>...</td>\n",
       "      <td>60.128474</td>\n",
       "      <td>46.367230</td>\n",
       "      <td>18.558556</td>\n",
       "      <td>12.945213</td>\n",
       "      <td>3.569314</td>\n",
       "      <td>17.396839</td>\n",
       "      <td>12.038912</td>\n",
       "      <td>1.649242</td>\n",
       "      <td>67.846076</td>\n",
       "      <td>60.047009</td>\n",
       "    </tr>\n",
       "    <tr>\n",
       "      <th>1</th>\n",
       "      <td>3.95</td>\n",
       "      <td>1.11</td>\n",
       "      <td>2.25</td>\n",
       "      <td>2.25</td>\n",
       "      <td>0.95</td>\n",
       "      <td>1.91</td>\n",
       "      <td>0.85</td>\n",
       "      <td>1.90</td>\n",
       "      <td>0.75</td>\n",
       "      <td>1.51</td>\n",
       "      <td>...</td>\n",
       "      <td>55.352328</td>\n",
       "      <td>43.656958</td>\n",
       "      <td>22.934036</td>\n",
       "      <td>13.651523</td>\n",
       "      <td>3.104835</td>\n",
       "      <td>22.720035</td>\n",
       "      <td>12.763925</td>\n",
       "      <td>1.552417</td>\n",
       "      <td>62.368261</td>\n",
       "      <td>58.543807</td>\n",
       "    </tr>\n",
       "    <tr>\n",
       "      <th>2</th>\n",
       "      <td>3.08</td>\n",
       "      <td>1.72</td>\n",
       "      <td>0.00</td>\n",
       "      <td>1.40</td>\n",
       "      <td>0.52</td>\n",
       "      <td>1.16</td>\n",
       "      <td>0.75</td>\n",
       "      <td>0.87</td>\n",
       "      <td>2.21</td>\n",
       "      <td>1.56</td>\n",
       "      <td>...</td>\n",
       "      <td>39.487619</td>\n",
       "      <td>33.517160</td>\n",
       "      <td>12.340583</td>\n",
       "      <td>9.416497</td>\n",
       "      <td>6.000833</td>\n",
       "      <td>11.834272</td>\n",
       "      <td>8.920290</td>\n",
       "      <td>5.600893</td>\n",
       "      <td>43.683521</td>\n",
       "      <td>39.915656</td>\n",
       "    </tr>\n",
       "    <tr>\n",
       "      <th>3</th>\n",
       "      <td>0.93</td>\n",
       "      <td>1.18</td>\n",
       "      <td>0.00</td>\n",
       "      <td>1.83</td>\n",
       "      <td>0.00</td>\n",
       "      <td>0.30</td>\n",
       "      <td>1.23</td>\n",
       "      <td>0.00</td>\n",
       "      <td>0.21</td>\n",
       "      <td>0.46</td>\n",
       "      <td>...</td>\n",
       "      <td>51.638129</td>\n",
       "      <td>46.572095</td>\n",
       "      <td>21.324399</td>\n",
       "      <td>14.208126</td>\n",
       "      <td>6.600758</td>\n",
       "      <td>19.900754</td>\n",
       "      <td>12.847798</td>\n",
       "      <td>5.295281</td>\n",
       "      <td>58.649126</td>\n",
       "      <td>53.179319</td>\n",
       "    </tr>\n",
       "    <tr>\n",
       "      <th>4</th>\n",
       "      <td>3.77</td>\n",
       "      <td>3.27</td>\n",
       "      <td>1.81</td>\n",
       "      <td>1.04</td>\n",
       "      <td>0.28</td>\n",
       "      <td>1.70</td>\n",
       "      <td>0.60</td>\n",
       "      <td>1.75</td>\n",
       "      <td>0.85</td>\n",
       "      <td>2.76</td>\n",
       "      <td>...</td>\n",
       "      <td>33.150825</td>\n",
       "      <td>29.924071</td>\n",
       "      <td>10.131634</td>\n",
       "      <td>8.106819</td>\n",
       "      <td>4.301163</td>\n",
       "      <td>9.618732</td>\n",
       "      <td>7.636869</td>\n",
       "      <td>3.805260</td>\n",
       "      <td>34.973847</td>\n",
       "      <td>33.081941</td>\n",
       "    </tr>\n",
       "    <tr>\n",
       "      <th>...</th>\n",
       "      <td>...</td>\n",
       "      <td>...</td>\n",
       "      <td>...</td>\n",
       "      <td>...</td>\n",
       "      <td>...</td>\n",
       "      <td>...</td>\n",
       "      <td>...</td>\n",
       "      <td>...</td>\n",
       "      <td>...</td>\n",
       "      <td>...</td>\n",
       "      <td>...</td>\n",
       "      <td>...</td>\n",
       "      <td>...</td>\n",
       "      <td>...</td>\n",
       "      <td>...</td>\n",
       "      <td>...</td>\n",
       "      <td>...</td>\n",
       "      <td>...</td>\n",
       "      <td>...</td>\n",
       "      <td>...</td>\n",
       "      <td>...</td>\n",
       "    </tr>\n",
       "    <tr>\n",
       "      <th>1995</th>\n",
       "      <td>2.68</td>\n",
       "      <td>1.39</td>\n",
       "      <td>1.07</td>\n",
       "      <td>1.03</td>\n",
       "      <td>2.16</td>\n",
       "      <td>2.42</td>\n",
       "      <td>0.52</td>\n",
       "      <td>3.15</td>\n",
       "      <td>2.66</td>\n",
       "      <td>2.66</td>\n",
       "      <td>...</td>\n",
       "      <td>29.736592</td>\n",
       "      <td>26.637192</td>\n",
       "      <td>10.090094</td>\n",
       "      <td>8.352363</td>\n",
       "      <td>4.809366</td>\n",
       "      <td>9.962429</td>\n",
       "      <td>8.072210</td>\n",
       "      <td>4.501111</td>\n",
       "      <td>30.850770</td>\n",
       "      <td>27.635797</td>\n",
       "    </tr>\n",
       "    <tr>\n",
       "      <th>1996</th>\n",
       "      <td>2.58</td>\n",
       "      <td>1.30</td>\n",
       "      <td>1.26</td>\n",
       "      <td>1.24</td>\n",
       "      <td>1.73</td>\n",
       "      <td>2.35</td>\n",
       "      <td>0.82</td>\n",
       "      <td>2.29</td>\n",
       "      <td>2.37</td>\n",
       "      <td>2.40</td>\n",
       "      <td>...</td>\n",
       "      <td>40.574899</td>\n",
       "      <td>36.722745</td>\n",
       "      <td>16.302761</td>\n",
       "      <td>11.301905</td>\n",
       "      <td>6.747592</td>\n",
       "      <td>16.204938</td>\n",
       "      <td>11.096168</td>\n",
       "      <td>6.806614</td>\n",
       "      <td>43.960209</td>\n",
       "      <td>40.236056</td>\n",
       "    </tr>\n",
       "    <tr>\n",
       "      <th>1997</th>\n",
       "      <td>1.32</td>\n",
       "      <td>0.83</td>\n",
       "      <td>2.19</td>\n",
       "      <td>0.83</td>\n",
       "      <td>0.94</td>\n",
       "      <td>0.53</td>\n",
       "      <td>0.91</td>\n",
       "      <td>1.40</td>\n",
       "      <td>1.86</td>\n",
       "      <td>1.73</td>\n",
       "      <td>...</td>\n",
       "      <td>37.792483</td>\n",
       "      <td>34.606647</td>\n",
       "      <td>14.945902</td>\n",
       "      <td>12.407601</td>\n",
       "      <td>9.042677</td>\n",
       "      <td>14.454411</td>\n",
       "      <td>12.020822</td>\n",
       "      <td>8.668333</td>\n",
       "      <td>43.532976</td>\n",
       "      <td>40.535075</td>\n",
       "    </tr>\n",
       "    <tr>\n",
       "      <th>1998</th>\n",
       "      <td>1.57</td>\n",
       "      <td>1.11</td>\n",
       "      <td>1.92</td>\n",
       "      <td>2.10</td>\n",
       "      <td>1.31</td>\n",
       "      <td>1.06</td>\n",
       "      <td>1.24</td>\n",
       "      <td>1.48</td>\n",
       "      <td>2.30</td>\n",
       "      <td>1.58</td>\n",
       "      <td>...</td>\n",
       "      <td>37.931493</td>\n",
       "      <td>32.712383</td>\n",
       "      <td>16.719450</td>\n",
       "      <td>12.320985</td>\n",
       "      <td>7.542546</td>\n",
       "      <td>16.127616</td>\n",
       "      <td>11.957599</td>\n",
       "      <td>6.958448</td>\n",
       "      <td>44.261044</td>\n",
       "      <td>40.494462</td>\n",
       "    </tr>\n",
       "    <tr>\n",
       "      <th>1999</th>\n",
       "      <td>1.52</td>\n",
       "      <td>0.91</td>\n",
       "      <td>2.51</td>\n",
       "      <td>1.25</td>\n",
       "      <td>1.29</td>\n",
       "      <td>0.40</td>\n",
       "      <td>0.83</td>\n",
       "      <td>1.23</td>\n",
       "      <td>1.67</td>\n",
       "      <td>1.48</td>\n",
       "      <td>...</td>\n",
       "      <td>38.478125</td>\n",
       "      <td>35.201278</td>\n",
       "      <td>16.630695</td>\n",
       "      <td>12.940417</td>\n",
       "      <td>8.348653</td>\n",
       "      <td>16.278821</td>\n",
       "      <td>12.592591</td>\n",
       "      <td>8.050466</td>\n",
       "      <td>43.985111</td>\n",
       "      <td>40.891051</td>\n",
       "    </tr>\n",
       "  </tbody>\n",
       "</table>\n",
       "<p>2000 rows × 223 columns</p>\n",
       "</div>"
      ],
      "text/plain": [
       "      AU01_r_max   AU02_r_max   AU04_r_max   AU05_r_max   AU06_r_max  \\\n",
       "0           1.52         0.85         2.34         0.75         1.62   \n",
       "1           3.95         1.11         2.25         2.25         0.95   \n",
       "2           3.08         1.72         0.00         1.40         0.52   \n",
       "3           0.93         1.18         0.00         1.83         0.00   \n",
       "4           3.77         3.27         1.81         1.04         0.28   \n",
       "...          ...          ...          ...          ...          ...   \n",
       "1995        2.68         1.39         1.07         1.03         2.16   \n",
       "1996        2.58         1.30         1.26         1.24         1.73   \n",
       "1997        1.32         0.83         2.19         0.83         0.94   \n",
       "1998        1.57         1.11         1.92         2.10         1.31   \n",
       "1999        1.52         0.91         2.51         1.25         1.29   \n",
       "\n",
       "       AU07_r_max   AU09_r_max   AU10_r_max   AU12_r_max   AU14_r_max  ...  \\\n",
       "0            1.54         0.65         2.61         2.07         2.17  ...   \n",
       "1            1.91         0.85         1.90         0.75         1.51  ...   \n",
       "2            1.16         0.75         0.87         2.21         1.56  ...   \n",
       "3            0.30         1.23         0.00         0.21         0.46  ...   \n",
       "4            1.70         0.60         1.75         0.85         2.76  ...   \n",
       "...           ...          ...          ...          ...          ...  ...   \n",
       "1995         2.42         0.52         3.15         2.66         2.66  ...   \n",
       "1996         2.35         0.82         2.29         2.37         2.40  ...   \n",
       "1997         0.53         0.91         1.40         1.86         1.73  ...   \n",
       "1998         1.06         1.24         1.48         2.30         1.58  ...   \n",
       "1999         0.40         0.83         1.23         1.67         1.48  ...   \n",
       "\n",
       "      left_eye_corner_mean  left_eye_corner_min  right_eye_left_max  \\\n",
       "0                60.128474            46.367230           18.558556   \n",
       "1                55.352328            43.656958           22.934036   \n",
       "2                39.487619            33.517160           12.340583   \n",
       "3                51.638129            46.572095           21.324399   \n",
       "4                33.150825            29.924071           10.131634   \n",
       "...                    ...                  ...                 ...   \n",
       "1995             29.736592            26.637192           10.090094   \n",
       "1996             40.574899            36.722745           16.302761   \n",
       "1997             37.792483            34.606647           14.945902   \n",
       "1998             37.931493            32.712383           16.719450   \n",
       "1999             38.478125            35.201278           16.630695   \n",
       "\n",
       "      right_eye_left_mean  right_eye_left_min  right_eye_right_max  \\\n",
       "0               12.945213            3.569314            17.396839   \n",
       "1               13.651523            3.104835            22.720035   \n",
       "2                9.416497            6.000833            11.834272   \n",
       "3               14.208126            6.600758            19.900754   \n",
       "4                8.106819            4.301163             9.618732   \n",
       "...                   ...                 ...                  ...   \n",
       "1995             8.352363            4.809366             9.962429   \n",
       "1996            11.301905            6.747592            16.204938   \n",
       "1997            12.407601            9.042677            14.454411   \n",
       "1998            12.320985            7.542546            16.127616   \n",
       "1999            12.940417            8.348653            16.278821   \n",
       "\n",
       "      right_eye_right_mean  right_eye_right_min  right_eye_corner_max  \\\n",
       "0                12.038912             1.649242             67.846076   \n",
       "1                12.763925             1.552417             62.368261   \n",
       "2                 8.920290             5.600893             43.683521   \n",
       "3                12.847798             5.295281             58.649126   \n",
       "4                 7.636869             3.805260             34.973847   \n",
       "...                    ...                  ...                   ...   \n",
       "1995              8.072210             4.501111             30.850770   \n",
       "1996             11.096168             6.806614             43.960209   \n",
       "1997             12.020822             8.668333             43.532976   \n",
       "1998             11.957599             6.958448             44.261044   \n",
       "1999             12.592591             8.050466             43.985111   \n",
       "\n",
       "      right_eye_corner_mean  \n",
       "0                 60.047009  \n",
       "1                 58.543807  \n",
       "2                 39.915656  \n",
       "3                 53.179319  \n",
       "4                 33.081941  \n",
       "...                     ...  \n",
       "1995              27.635797  \n",
       "1996              40.236056  \n",
       "1997              40.535075  \n",
       "1998              40.494462  \n",
       "1999              40.891051  \n",
       "\n",
       "[2000 rows x 223 columns]"
      ]
     },
     "metadata": {},
     "output_type": "display_data"
    },
    {
     "data": {
      "text/plain": [
       "array([[ 41.03570634,  66.20067975,  53.34719376, ...,  56.17016823,\n",
       "         48.04345677, 197.15979359],\n",
       "       [ 34.2427806 ,  63.924956  ,  40.94669573, ...,  44.23360825,\n",
       "         39.76393889,  86.37986183],\n",
       "       [ 16.2395564 ,  42.5169378 ,  21.13455725, ...,  21.28418204,\n",
       "         17.91766965,  82.35613317],\n",
       "       ...,\n",
       "       [ 12.4824614 ,  42.14747917,  12.06354886, ...,  11.33086909,\n",
       "          9.98778862,  25.80199979],\n",
       "       [ 15.54157377,  40.56907689,  14.57238658, ...,  14.45080882,\n",
       "         12.74925521,  46.43113288],\n",
       "       [ 13.79448511,  41.90429572,  13.58519621, ...,  13.54913064,\n",
       "         13.48305438,  28.80024427]])"
      ]
     },
     "metadata": {},
     "output_type": "display_data"
    }
   ],
   "source": [
    "display(X_test)\n",
    "print(X_test.shape)\n",
    "display(x_test)\n",
    "\n",
    "test_array = np.array(X_test_10)\n",
    "display(test_array)"
   ]
  },
  {
   "cell_type": "code",
   "execution_count": 85,
   "id": "62dd0769",
   "metadata": {},
   "outputs": [
    {
     "data": {
      "text/html": [
       "<div>\n",
       "<style scoped>\n",
       "    .dataframe tbody tr th:only-of-type {\n",
       "        vertical-align: middle;\n",
       "    }\n",
       "\n",
       "    .dataframe tbody tr th {\n",
       "        vertical-align: top;\n",
       "    }\n",
       "\n",
       "    .dataframe thead th {\n",
       "        text-align: right;\n",
       "    }\n",
       "</style>\n",
       "<table border=\"1\" class=\"dataframe\">\n",
       "  <thead>\n",
       "    <tr style=\"text-align: right;\">\n",
       "      <th></th>\n",
       "      <th>10_average</th>\n",
       "      <th>left_eye_corner_max</th>\n",
       "      <th>58_average</th>\n",
       "      <th>AU12_c_present</th>\n",
       "      <th>22_max</th>\n",
       "      <th>AU12_r_mean</th>\n",
       "      <th>AU12_r_max</th>\n",
       "      <th>51_average</th>\n",
       "      <th>64_average</th>\n",
       "      <th>20_max</th>\n",
       "    </tr>\n",
       "  </thead>\n",
       "  <tbody>\n",
       "    <tr>\n",
       "      <th>0</th>\n",
       "      <td>41.035706</td>\n",
       "      <td>66.200680</td>\n",
       "      <td>53.347194</td>\n",
       "      <td>0.381201</td>\n",
       "      <td>185.316358</td>\n",
       "      <td>0.817676</td>\n",
       "      <td>2.07</td>\n",
       "      <td>56.170168</td>\n",
       "      <td>48.043457</td>\n",
       "      <td>197.159794</td>\n",
       "    </tr>\n",
       "    <tr>\n",
       "      <th>1</th>\n",
       "      <td>34.242781</td>\n",
       "      <td>63.924956</td>\n",
       "      <td>40.946696</td>\n",
       "      <td>0.000000</td>\n",
       "      <td>98.557259</td>\n",
       "      <td>0.065822</td>\n",
       "      <td>0.75</td>\n",
       "      <td>44.233608</td>\n",
       "      <td>39.763939</td>\n",
       "      <td>86.379862</td>\n",
       "    </tr>\n",
       "    <tr>\n",
       "      <th>2</th>\n",
       "      <td>16.239556</td>\n",
       "      <td>42.516938</td>\n",
       "      <td>21.134557</td>\n",
       "      <td>0.202614</td>\n",
       "      <td>86.624455</td>\n",
       "      <td>0.635381</td>\n",
       "      <td>2.21</td>\n",
       "      <td>21.284182</td>\n",
       "      <td>17.917670</td>\n",
       "      <td>82.356133</td>\n",
       "    </tr>\n",
       "    <tr>\n",
       "      <th>3</th>\n",
       "      <td>40.148859</td>\n",
       "      <td>56.011606</td>\n",
       "      <td>41.387936</td>\n",
       "      <td>0.000000</td>\n",
       "      <td>100.271879</td>\n",
       "      <td>0.002680</td>\n",
       "      <td>0.21</td>\n",
       "      <td>41.142910</td>\n",
       "      <td>41.033893</td>\n",
       "      <td>99.603596</td>\n",
       "    </tr>\n",
       "    <tr>\n",
       "      <th>4</th>\n",
       "      <td>13.674574</td>\n",
       "      <td>35.500563</td>\n",
       "      <td>16.627922</td>\n",
       "      <td>0.130548</td>\n",
       "      <td>64.206010</td>\n",
       "      <td>0.078695</td>\n",
       "      <td>0.85</td>\n",
       "      <td>18.964099</td>\n",
       "      <td>16.689389</td>\n",
       "      <td>66.324476</td>\n",
       "    </tr>\n",
       "    <tr>\n",
       "      <th>...</th>\n",
       "      <td>...</td>\n",
       "      <td>...</td>\n",
       "      <td>...</td>\n",
       "      <td>...</td>\n",
       "      <td>...</td>\n",
       "      <td>...</td>\n",
       "      <td>...</td>\n",
       "      <td>...</td>\n",
       "      <td>...</td>\n",
       "      <td>...</td>\n",
       "    </tr>\n",
       "    <tr>\n",
       "      <th>1995</th>\n",
       "      <td>15.079767</td>\n",
       "      <td>32.936909</td>\n",
       "      <td>17.029969</td>\n",
       "      <td>0.223433</td>\n",
       "      <td>50.348587</td>\n",
       "      <td>0.485995</td>\n",
       "      <td>2.66</td>\n",
       "      <td>17.480688</td>\n",
       "      <td>15.857298</td>\n",
       "      <td>43.544913</td>\n",
       "    </tr>\n",
       "    <tr>\n",
       "      <th>1996</th>\n",
       "      <td>13.403361</td>\n",
       "      <td>45.692122</td>\n",
       "      <td>19.436764</td>\n",
       "      <td>0.503268</td>\n",
       "      <td>58.531960</td>\n",
       "      <td>1.171830</td>\n",
       "      <td>2.37</td>\n",
       "      <td>18.772660</td>\n",
       "      <td>15.022523</td>\n",
       "      <td>64.748209</td>\n",
       "    </tr>\n",
       "    <tr>\n",
       "      <th>1997</th>\n",
       "      <td>12.482461</td>\n",
       "      <td>42.147479</td>\n",
       "      <td>12.063549</td>\n",
       "      <td>0.080940</td>\n",
       "      <td>27.676604</td>\n",
       "      <td>0.697363</td>\n",
       "      <td>1.86</td>\n",
       "      <td>11.330869</td>\n",
       "      <td>9.987789</td>\n",
       "      <td>25.802000</td>\n",
       "    </tr>\n",
       "    <tr>\n",
       "      <th>1998</th>\n",
       "      <td>15.541574</td>\n",
       "      <td>40.569077</td>\n",
       "      <td>14.572387</td>\n",
       "      <td>0.370757</td>\n",
       "      <td>42.001611</td>\n",
       "      <td>1.062037</td>\n",
       "      <td>2.30</td>\n",
       "      <td>14.450809</td>\n",
       "      <td>12.749255</td>\n",
       "      <td>46.431133</td>\n",
       "    </tr>\n",
       "    <tr>\n",
       "      <th>1999</th>\n",
       "      <td>13.794485</td>\n",
       "      <td>41.904296</td>\n",
       "      <td>13.585196</td>\n",
       "      <td>0.180157</td>\n",
       "      <td>31.034687</td>\n",
       "      <td>0.834674</td>\n",
       "      <td>1.67</td>\n",
       "      <td>13.549131</td>\n",
       "      <td>13.483054</td>\n",
       "      <td>28.800244</td>\n",
       "    </tr>\n",
       "  </tbody>\n",
       "</table>\n",
       "<p>2000 rows × 10 columns</p>\n",
       "</div>"
      ],
      "text/plain": [
       "      10_average  left_eye_corner_max  58_average   AU12_c_present  \\\n",
       "0      41.035706            66.200680   53.347194         0.381201   \n",
       "1      34.242781            63.924956   40.946696         0.000000   \n",
       "2      16.239556            42.516938   21.134557         0.202614   \n",
       "3      40.148859            56.011606   41.387936         0.000000   \n",
       "4      13.674574            35.500563   16.627922         0.130548   \n",
       "...          ...                  ...         ...              ...   \n",
       "1995   15.079767            32.936909   17.029969         0.223433   \n",
       "1996   13.403361            45.692122   19.436764         0.503268   \n",
       "1997   12.482461            42.147479   12.063549         0.080940   \n",
       "1998   15.541574            40.569077   14.572387         0.370757   \n",
       "1999   13.794485            41.904296   13.585196         0.180157   \n",
       "\n",
       "          22_max   AU12_r_mean   AU12_r_max  51_average  64_average  \\\n",
       "0     185.316358      0.817676         2.07   56.170168   48.043457   \n",
       "1      98.557259      0.065822         0.75   44.233608   39.763939   \n",
       "2      86.624455      0.635381         2.21   21.284182   17.917670   \n",
       "3     100.271879      0.002680         0.21   41.142910   41.033893   \n",
       "4      64.206010      0.078695         0.85   18.964099   16.689389   \n",
       "...          ...           ...          ...         ...         ...   \n",
       "1995   50.348587      0.485995         2.66   17.480688   15.857298   \n",
       "1996   58.531960      1.171830         2.37   18.772660   15.022523   \n",
       "1997   27.676604      0.697363         1.86   11.330869    9.987789   \n",
       "1998   42.001611      1.062037         2.30   14.450809   12.749255   \n",
       "1999   31.034687      0.834674         1.67   13.549131   13.483054   \n",
       "\n",
       "          20_max  \n",
       "0     197.159794  \n",
       "1      86.379862  \n",
       "2      82.356133  \n",
       "3      99.603596  \n",
       "4      66.324476  \n",
       "...          ...  \n",
       "1995   43.544913  \n",
       "1996   64.748209  \n",
       "1997   25.802000  \n",
       "1998   46.431133  \n",
       "1999   28.800244  \n",
       "\n",
       "[2000 rows x 10 columns]"
      ]
     },
     "metadata": {},
     "output_type": "display_data"
    }
   ],
   "source": [
    "display(X_test_10)\n",
    "\n"
   ]
  },
  {
   "cell_type": "code",
   "execution_count": 104,
   "id": "fe3f3446",
   "metadata": {},
   "outputs": [],
   "source": [
    "param_dist={\n",
    "    \"max_depth\": [1,2,3,4,5,6,7,None]\n",
    "}"
   ]
  },
  {
   "cell_type": "code",
   "execution_count": 105,
   "id": "fd71a0c5",
   "metadata": {},
   "outputs": [],
   "source": [
    "from sklearn.model_selection import GridSearchCV\n",
    "grid=GridSearchCV(clf, param_grid=param_dist, cv=10, n_jobs=-1)"
   ]
  },
  {
   "cell_type": "code",
   "execution_count": 106,
   "id": "1d84ddf0",
   "metadata": {},
   "outputs": [
    {
     "ename": "ValueError",
     "evalue": "Invalid parameter max_depth for estimator GridSearchCV(estimator=<__main__.DecisionTreeRegressor object at 0x000001659B10F1C0>,\n             param_grid={'max_depth': [3, 6, 10],\n                         'min_samples_split': [1, 2, 3, 4]},\n             scoring='neg_mean_absolute_error', verbose=1). Check the list of available parameters with `estimator.get_params().keys()`.",
     "output_type": "error",
     "traceback": [
      "\u001b[1;31m---------------------------------------------------------------------------\u001b[0m",
      "\u001b[1;31m_RemoteTraceback\u001b[0m                          Traceback (most recent call last)",
      "\u001b[1;31m_RemoteTraceback\u001b[0m: \n\"\"\"\nTraceback (most recent call last):\n  File \"C:\\Anaconda\\envs\\Thesis\\lib\\site-packages\\joblib\\externals\\loky\\process_executor.py\", line 431, in _process_worker\n    r = call_item()\n  File \"C:\\Anaconda\\envs\\Thesis\\lib\\site-packages\\joblib\\externals\\loky\\process_executor.py\", line 285, in __call__\n    return self.fn(*self.args, **self.kwargs)\n  File \"C:\\Anaconda\\envs\\Thesis\\lib\\site-packages\\joblib\\_parallel_backends.py\", line 595, in __call__\n    return self.func(*args, **kwargs)\n  File \"C:\\Anaconda\\envs\\Thesis\\lib\\site-packages\\joblib\\parallel.py\", line 262, in __call__\n    return [func(*args, **kwargs)\n  File \"C:\\Anaconda\\envs\\Thesis\\lib\\site-packages\\joblib\\parallel.py\", line 262, in <listcomp>\n    return [func(*args, **kwargs)\n  File \"C:\\Anaconda\\envs\\Thesis\\lib\\site-packages\\sklearn\\utils\\fixes.py\", line 222, in __call__\n    return self.function(*args, **kwargs)\n  File \"C:\\Anaconda\\envs\\Thesis\\lib\\site-packages\\sklearn\\model_selection\\_validation.py\", line 586, in _fit_and_score\n    estimator = estimator.set_params(**cloned_parameters)\n  File \"C:\\Anaconda\\envs\\Thesis\\lib\\site-packages\\sklearn\\base.py\", line 230, in set_params\n    raise ValueError('Invalid parameter %s for estimator %s. '\nValueError: Invalid parameter max_depth for estimator GridSearchCV(estimator=<__main__.DecisionTreeRegressor object at 0x000001659B10F1C0>,\n             param_grid={'max_depth': [3, 6, 10],\n                         'min_samples_split': [1, 2, 3, 4]},\n             scoring='neg_mean_absolute_error', verbose=1). Check the list of available parameters with `estimator.get_params().keys()`.\n\"\"\"",
      "\nThe above exception was the direct cause of the following exception:\n",
      "\u001b[1;31mValueError\u001b[0m                                Traceback (most recent call last)",
      "\u001b[1;32mC:\\Users\\ERIKBU~1\\AppData\\Local\\Temp/ipykernel_47268/1598726058.py\u001b[0m in \u001b[0;36m<module>\u001b[1;34m\u001b[0m\n\u001b[1;32m----> 1\u001b[1;33m \u001b[0mgrid\u001b[0m\u001b[1;33m.\u001b[0m\u001b[0mfit\u001b[0m\u001b[1;33m(\u001b[0m\u001b[0mX_train_10\u001b[0m\u001b[1;33m,\u001b[0m \u001b[0mY_train\u001b[0m\u001b[1;33m)\u001b[0m\u001b[1;33m\u001b[0m\u001b[1;33m\u001b[0m\u001b[0m\n\u001b[0m",
      "\u001b[1;32mC:\\Anaconda\\envs\\Thesis\\lib\\site-packages\\sklearn\\utils\\validation.py\u001b[0m in \u001b[0;36minner_f\u001b[1;34m(*args, **kwargs)\u001b[0m\n\u001b[0;32m     61\u001b[0m             \u001b[0mextra_args\u001b[0m \u001b[1;33m=\u001b[0m \u001b[0mlen\u001b[0m\u001b[1;33m(\u001b[0m\u001b[0margs\u001b[0m\u001b[1;33m)\u001b[0m \u001b[1;33m-\u001b[0m \u001b[0mlen\u001b[0m\u001b[1;33m(\u001b[0m\u001b[0mall_args\u001b[0m\u001b[1;33m)\u001b[0m\u001b[1;33m\u001b[0m\u001b[1;33m\u001b[0m\u001b[0m\n\u001b[0;32m     62\u001b[0m             \u001b[1;32mif\u001b[0m \u001b[0mextra_args\u001b[0m \u001b[1;33m<=\u001b[0m \u001b[1;36m0\u001b[0m\u001b[1;33m:\u001b[0m\u001b[1;33m\u001b[0m\u001b[1;33m\u001b[0m\u001b[0m\n\u001b[1;32m---> 63\u001b[1;33m                 \u001b[1;32mreturn\u001b[0m \u001b[0mf\u001b[0m\u001b[1;33m(\u001b[0m\u001b[1;33m*\u001b[0m\u001b[0margs\u001b[0m\u001b[1;33m,\u001b[0m \u001b[1;33m**\u001b[0m\u001b[0mkwargs\u001b[0m\u001b[1;33m)\u001b[0m\u001b[1;33m\u001b[0m\u001b[1;33m\u001b[0m\u001b[0m\n\u001b[0m\u001b[0;32m     64\u001b[0m \u001b[1;33m\u001b[0m\u001b[0m\n\u001b[0;32m     65\u001b[0m             \u001b[1;31m# extra_args > 0\u001b[0m\u001b[1;33m\u001b[0m\u001b[1;33m\u001b[0m\u001b[1;33m\u001b[0m\u001b[0m\n",
      "\u001b[1;32mC:\\Anaconda\\envs\\Thesis\\lib\\site-packages\\sklearn\\model_selection\\_search.py\u001b[0m in \u001b[0;36mfit\u001b[1;34m(self, X, y, groups, **fit_params)\u001b[0m\n\u001b[0;32m    839\u001b[0m                 \u001b[1;32mreturn\u001b[0m \u001b[0mresults\u001b[0m\u001b[1;33m\u001b[0m\u001b[1;33m\u001b[0m\u001b[0m\n\u001b[0;32m    840\u001b[0m \u001b[1;33m\u001b[0m\u001b[0m\n\u001b[1;32m--> 841\u001b[1;33m             \u001b[0mself\u001b[0m\u001b[1;33m.\u001b[0m\u001b[0m_run_search\u001b[0m\u001b[1;33m(\u001b[0m\u001b[0mevaluate_candidates\u001b[0m\u001b[1;33m)\u001b[0m\u001b[1;33m\u001b[0m\u001b[1;33m\u001b[0m\u001b[0m\n\u001b[0m\u001b[0;32m    842\u001b[0m \u001b[1;33m\u001b[0m\u001b[0m\n\u001b[0;32m    843\u001b[0m             \u001b[1;31m# multimetric is determined here because in the case of a callable\u001b[0m\u001b[1;33m\u001b[0m\u001b[1;33m\u001b[0m\u001b[1;33m\u001b[0m\u001b[0m\n",
      "\u001b[1;32mC:\\Anaconda\\envs\\Thesis\\lib\\site-packages\\sklearn\\model_selection\\_search.py\u001b[0m in \u001b[0;36m_run_search\u001b[1;34m(self, evaluate_candidates)\u001b[0m\n\u001b[0;32m   1294\u001b[0m     \u001b[1;32mdef\u001b[0m \u001b[0m_run_search\u001b[0m\u001b[1;33m(\u001b[0m\u001b[0mself\u001b[0m\u001b[1;33m,\u001b[0m \u001b[0mevaluate_candidates\u001b[0m\u001b[1;33m)\u001b[0m\u001b[1;33m:\u001b[0m\u001b[1;33m\u001b[0m\u001b[1;33m\u001b[0m\u001b[0m\n\u001b[0;32m   1295\u001b[0m         \u001b[1;34m\"\"\"Search all candidates in param_grid\"\"\"\u001b[0m\u001b[1;33m\u001b[0m\u001b[1;33m\u001b[0m\u001b[0m\n\u001b[1;32m-> 1296\u001b[1;33m         \u001b[0mevaluate_candidates\u001b[0m\u001b[1;33m(\u001b[0m\u001b[0mParameterGrid\u001b[0m\u001b[1;33m(\u001b[0m\u001b[0mself\u001b[0m\u001b[1;33m.\u001b[0m\u001b[0mparam_grid\u001b[0m\u001b[1;33m)\u001b[0m\u001b[1;33m)\u001b[0m\u001b[1;33m\u001b[0m\u001b[1;33m\u001b[0m\u001b[0m\n\u001b[0m\u001b[0;32m   1297\u001b[0m \u001b[1;33m\u001b[0m\u001b[0m\n\u001b[0;32m   1298\u001b[0m \u001b[1;33m\u001b[0m\u001b[0m\n",
      "\u001b[1;32mC:\\Anaconda\\envs\\Thesis\\lib\\site-packages\\sklearn\\model_selection\\_search.py\u001b[0m in \u001b[0;36mevaluate_candidates\u001b[1;34m(candidate_params, cv, more_results)\u001b[0m\n\u001b[0;32m    793\u001b[0m                               n_splits, n_candidates, n_candidates * n_splits))\n\u001b[0;32m    794\u001b[0m \u001b[1;33m\u001b[0m\u001b[0m\n\u001b[1;32m--> 795\u001b[1;33m                 out = parallel(delayed(_fit_and_score)(clone(base_estimator),\n\u001b[0m\u001b[0;32m    796\u001b[0m                                                        \u001b[0mX\u001b[0m\u001b[1;33m,\u001b[0m \u001b[0my\u001b[0m\u001b[1;33m,\u001b[0m\u001b[1;33m\u001b[0m\u001b[1;33m\u001b[0m\u001b[0m\n\u001b[0;32m    797\u001b[0m                                                        \u001b[0mtrain\u001b[0m\u001b[1;33m=\u001b[0m\u001b[0mtrain\u001b[0m\u001b[1;33m,\u001b[0m \u001b[0mtest\u001b[0m\u001b[1;33m=\u001b[0m\u001b[0mtest\u001b[0m\u001b[1;33m,\u001b[0m\u001b[1;33m\u001b[0m\u001b[1;33m\u001b[0m\u001b[0m\n",
      "\u001b[1;32mC:\\Anaconda\\envs\\Thesis\\lib\\site-packages\\joblib\\parallel.py\u001b[0m in \u001b[0;36m__call__\u001b[1;34m(self, iterable)\u001b[0m\n\u001b[0;32m   1052\u001b[0m \u001b[1;33m\u001b[0m\u001b[0m\n\u001b[0;32m   1053\u001b[0m             \u001b[1;32mwith\u001b[0m \u001b[0mself\u001b[0m\u001b[1;33m.\u001b[0m\u001b[0m_backend\u001b[0m\u001b[1;33m.\u001b[0m\u001b[0mretrieval_context\u001b[0m\u001b[1;33m(\u001b[0m\u001b[1;33m)\u001b[0m\u001b[1;33m:\u001b[0m\u001b[1;33m\u001b[0m\u001b[1;33m\u001b[0m\u001b[0m\n\u001b[1;32m-> 1054\u001b[1;33m                 \u001b[0mself\u001b[0m\u001b[1;33m.\u001b[0m\u001b[0mretrieve\u001b[0m\u001b[1;33m(\u001b[0m\u001b[1;33m)\u001b[0m\u001b[1;33m\u001b[0m\u001b[1;33m\u001b[0m\u001b[0m\n\u001b[0m\u001b[0;32m   1055\u001b[0m             \u001b[1;31m# Make sure that we get a last message telling us we are done\u001b[0m\u001b[1;33m\u001b[0m\u001b[1;33m\u001b[0m\u001b[1;33m\u001b[0m\u001b[0m\n\u001b[0;32m   1056\u001b[0m             \u001b[0melapsed_time\u001b[0m \u001b[1;33m=\u001b[0m \u001b[0mtime\u001b[0m\u001b[1;33m.\u001b[0m\u001b[0mtime\u001b[0m\u001b[1;33m(\u001b[0m\u001b[1;33m)\u001b[0m \u001b[1;33m-\u001b[0m \u001b[0mself\u001b[0m\u001b[1;33m.\u001b[0m\u001b[0m_start_time\u001b[0m\u001b[1;33m\u001b[0m\u001b[1;33m\u001b[0m\u001b[0m\n",
      "\u001b[1;32mC:\\Anaconda\\envs\\Thesis\\lib\\site-packages\\joblib\\parallel.py\u001b[0m in \u001b[0;36mretrieve\u001b[1;34m(self)\u001b[0m\n\u001b[0;32m    931\u001b[0m             \u001b[1;32mtry\u001b[0m\u001b[1;33m:\u001b[0m\u001b[1;33m\u001b[0m\u001b[1;33m\u001b[0m\u001b[0m\n\u001b[0;32m    932\u001b[0m                 \u001b[1;32mif\u001b[0m \u001b[0mgetattr\u001b[0m\u001b[1;33m(\u001b[0m\u001b[0mself\u001b[0m\u001b[1;33m.\u001b[0m\u001b[0m_backend\u001b[0m\u001b[1;33m,\u001b[0m \u001b[1;34m'supports_timeout'\u001b[0m\u001b[1;33m,\u001b[0m \u001b[1;32mFalse\u001b[0m\u001b[1;33m)\u001b[0m\u001b[1;33m:\u001b[0m\u001b[1;33m\u001b[0m\u001b[1;33m\u001b[0m\u001b[0m\n\u001b[1;32m--> 933\u001b[1;33m                     \u001b[0mself\u001b[0m\u001b[1;33m.\u001b[0m\u001b[0m_output\u001b[0m\u001b[1;33m.\u001b[0m\u001b[0mextend\u001b[0m\u001b[1;33m(\u001b[0m\u001b[0mjob\u001b[0m\u001b[1;33m.\u001b[0m\u001b[0mget\u001b[0m\u001b[1;33m(\u001b[0m\u001b[0mtimeout\u001b[0m\u001b[1;33m=\u001b[0m\u001b[0mself\u001b[0m\u001b[1;33m.\u001b[0m\u001b[0mtimeout\u001b[0m\u001b[1;33m)\u001b[0m\u001b[1;33m)\u001b[0m\u001b[1;33m\u001b[0m\u001b[1;33m\u001b[0m\u001b[0m\n\u001b[0m\u001b[0;32m    934\u001b[0m                 \u001b[1;32melse\u001b[0m\u001b[1;33m:\u001b[0m\u001b[1;33m\u001b[0m\u001b[1;33m\u001b[0m\u001b[0m\n\u001b[0;32m    935\u001b[0m                     \u001b[0mself\u001b[0m\u001b[1;33m.\u001b[0m\u001b[0m_output\u001b[0m\u001b[1;33m.\u001b[0m\u001b[0mextend\u001b[0m\u001b[1;33m(\u001b[0m\u001b[0mjob\u001b[0m\u001b[1;33m.\u001b[0m\u001b[0mget\u001b[0m\u001b[1;33m(\u001b[0m\u001b[1;33m)\u001b[0m\u001b[1;33m)\u001b[0m\u001b[1;33m\u001b[0m\u001b[1;33m\u001b[0m\u001b[0m\n",
      "\u001b[1;32mC:\\Anaconda\\envs\\Thesis\\lib\\site-packages\\joblib\\_parallel_backends.py\u001b[0m in \u001b[0;36mwrap_future_result\u001b[1;34m(future, timeout)\u001b[0m\n\u001b[0;32m    540\u001b[0m         AsyncResults.get from multiprocessing.\"\"\"\n\u001b[0;32m    541\u001b[0m         \u001b[1;32mtry\u001b[0m\u001b[1;33m:\u001b[0m\u001b[1;33m\u001b[0m\u001b[1;33m\u001b[0m\u001b[0m\n\u001b[1;32m--> 542\u001b[1;33m             \u001b[1;32mreturn\u001b[0m \u001b[0mfuture\u001b[0m\u001b[1;33m.\u001b[0m\u001b[0mresult\u001b[0m\u001b[1;33m(\u001b[0m\u001b[0mtimeout\u001b[0m\u001b[1;33m=\u001b[0m\u001b[0mtimeout\u001b[0m\u001b[1;33m)\u001b[0m\u001b[1;33m\u001b[0m\u001b[1;33m\u001b[0m\u001b[0m\n\u001b[0m\u001b[0;32m    543\u001b[0m         \u001b[1;32mexcept\u001b[0m \u001b[0mCfTimeoutError\u001b[0m \u001b[1;32mas\u001b[0m \u001b[0me\u001b[0m\u001b[1;33m:\u001b[0m\u001b[1;33m\u001b[0m\u001b[1;33m\u001b[0m\u001b[0m\n\u001b[0;32m    544\u001b[0m             \u001b[1;32mraise\u001b[0m \u001b[0mTimeoutError\u001b[0m \u001b[1;32mfrom\u001b[0m \u001b[0me\u001b[0m\u001b[1;33m\u001b[0m\u001b[1;33m\u001b[0m\u001b[0m\n",
      "\u001b[1;32mC:\\Anaconda\\envs\\Thesis\\lib\\concurrent\\futures\\_base.py\u001b[0m in \u001b[0;36mresult\u001b[1;34m(self, timeout)\u001b[0m\n\u001b[0;32m    442\u001b[0m                     \u001b[1;32mraise\u001b[0m \u001b[0mCancelledError\u001b[0m\u001b[1;33m(\u001b[0m\u001b[1;33m)\u001b[0m\u001b[1;33m\u001b[0m\u001b[1;33m\u001b[0m\u001b[0m\n\u001b[0;32m    443\u001b[0m                 \u001b[1;32melif\u001b[0m \u001b[0mself\u001b[0m\u001b[1;33m.\u001b[0m\u001b[0m_state\u001b[0m \u001b[1;33m==\u001b[0m \u001b[0mFINISHED\u001b[0m\u001b[1;33m:\u001b[0m\u001b[1;33m\u001b[0m\u001b[1;33m\u001b[0m\u001b[0m\n\u001b[1;32m--> 444\u001b[1;33m                     \u001b[1;32mreturn\u001b[0m \u001b[0mself\u001b[0m\u001b[1;33m.\u001b[0m\u001b[0m__get_result\u001b[0m\u001b[1;33m(\u001b[0m\u001b[1;33m)\u001b[0m\u001b[1;33m\u001b[0m\u001b[1;33m\u001b[0m\u001b[0m\n\u001b[0m\u001b[0;32m    445\u001b[0m                 \u001b[1;32melse\u001b[0m\u001b[1;33m:\u001b[0m\u001b[1;33m\u001b[0m\u001b[1;33m\u001b[0m\u001b[0m\n\u001b[0;32m    446\u001b[0m                     \u001b[1;32mraise\u001b[0m \u001b[0mTimeoutError\u001b[0m\u001b[1;33m(\u001b[0m\u001b[1;33m)\u001b[0m\u001b[1;33m\u001b[0m\u001b[1;33m\u001b[0m\u001b[0m\n",
      "\u001b[1;32mC:\\Anaconda\\envs\\Thesis\\lib\\concurrent\\futures\\_base.py\u001b[0m in \u001b[0;36m__get_result\u001b[1;34m(self)\u001b[0m\n\u001b[0;32m    387\u001b[0m         \u001b[1;32mif\u001b[0m \u001b[0mself\u001b[0m\u001b[1;33m.\u001b[0m\u001b[0m_exception\u001b[0m\u001b[1;33m:\u001b[0m\u001b[1;33m\u001b[0m\u001b[1;33m\u001b[0m\u001b[0m\n\u001b[0;32m    388\u001b[0m             \u001b[1;32mtry\u001b[0m\u001b[1;33m:\u001b[0m\u001b[1;33m\u001b[0m\u001b[1;33m\u001b[0m\u001b[0m\n\u001b[1;32m--> 389\u001b[1;33m                 \u001b[1;32mraise\u001b[0m \u001b[0mself\u001b[0m\u001b[1;33m.\u001b[0m\u001b[0m_exception\u001b[0m\u001b[1;33m\u001b[0m\u001b[1;33m\u001b[0m\u001b[0m\n\u001b[0m\u001b[0;32m    390\u001b[0m             \u001b[1;32mfinally\u001b[0m\u001b[1;33m:\u001b[0m\u001b[1;33m\u001b[0m\u001b[1;33m\u001b[0m\u001b[0m\n\u001b[0;32m    391\u001b[0m                 \u001b[1;31m# Break a reference cycle with the exception in self._exception\u001b[0m\u001b[1;33m\u001b[0m\u001b[1;33m\u001b[0m\u001b[1;33m\u001b[0m\u001b[0m\n",
      "\u001b[1;31mValueError\u001b[0m: Invalid parameter max_depth for estimator GridSearchCV(estimator=<__main__.DecisionTreeRegressor object at 0x000001659B10F1C0>,\n             param_grid={'max_depth': [3, 6, 10],\n                         'min_samples_split': [1, 2, 3, 4]},\n             scoring='neg_mean_absolute_error', verbose=1). Check the list of available parameters with `estimator.get_params().keys()`."
     ]
    }
   ],
   "source": [
    "grid.fit(X_train_10, Y_train)"
   ]
  },
  {
   "cell_type": "code",
   "execution_count": 112,
   "id": "da887d07",
   "metadata": {},
   "outputs": [],
   "source": [
    "from sklearn.tree import DecisionTreeRegressor\n",
    "from sklearn.metrics import mean_squared_error as MSE\n",
    "\n",
    "\n",
    "dt = DecisionTreeRegressor(max_depth=4,\n",
    "                          min_samples_leaf = 0.1,\n",
    "                          random_state=3)"
   ]
  },
  {
   "cell_type": "code",
   "execution_count": 113,
   "id": "1abb144f",
   "metadata": {},
   "outputs": [
    {
     "data": {
      "text/plain": [
       "DecisionTreeRegressor(max_depth=4, min_samples_leaf=0.1, random_state=3)"
      ]
     },
     "execution_count": 113,
     "metadata": {},
     "output_type": "execute_result"
    }
   ],
   "source": [
    "dt.fit(X_train_10, Y_train)"
   ]
  },
  {
   "cell_type": "code",
   "execution_count": 116,
   "id": "8f9b185b",
   "metadata": {},
   "outputs": [],
   "source": [
    "Y_pred = dt.predict(X_test_10)"
   ]
  },
  {
   "cell_type": "code",
   "execution_count": 119,
   "id": "82b6e456",
   "metadata": {},
   "outputs": [
    {
     "name": "stdout",
     "output_type": "stream",
     "text": [
      "0.13858125702552201\n",
      "1-MAE 0.8885078782464706\n"
     ]
    }
   ],
   "source": [
    "mse_dt = MSE(Y_test, Y_pred)\n",
    "rmse_dt = mse_dt**(1/2)\n",
    "print(rmse_dt)\n",
    "\n",
    "mae = mean_absolute_error(Y_test, Y_pred)\n",
    "\n",
    "print(\"1-MAE\", 1-mae)"
   ]
  },
  {
   "cell_type": "code",
   "execution_count": 120,
   "id": "1b3e7c77",
   "metadata": {},
   "outputs": [
    {
     "data": {
      "text/plain": [
       "DecisionTreeRegressor(max_depth=4, min_samples_leaf=0.1, random_state=3)"
      ]
     },
     "execution_count": 120,
     "metadata": {},
     "output_type": "execute_result"
    }
   ],
   "source": [
    "dt"
   ]
  },
  {
   "cell_type": "code",
   "execution_count": 152,
   "id": "7cae2067",
   "metadata": {},
   "outputs": [
    {
     "name": "stdout",
     "output_type": "stream",
     "text": [
      "Fitting 5 folds for each of 28 candidates, totalling 140 fits\n",
      "Best parameters: {'max_depth': 4, 'min_samples_leaf': 0.01}\n",
      "Lowest score:  0.3414124153552239\n"
     ]
    }
   ],
   "source": [
    "import pandas as pd\n",
    "from sklearn.model_selection import GridSearchCV\n",
    "\n",
    "data = pd.read_csv(\"complete_CSV_Train.csv\")\n",
    "\n",
    "X, y = x_train_10, y_train #1\n",
    "    \n",
    "params = { 'max_depth': [1,2,3,4,5,6, None],\n",
    "         'min_samples_leaf': [0.1, 0.5, 0.01, 1],\n",
    "         }\n",
    "\n",
    "dt = dt\n",
    "clf = GridSearchCV(estimator=dt, \n",
    "                   param_grid=params,\n",
    "                   scoring='neg_mean_absolute_error', \n",
    "                   verbose=1)\n",
    "\n",
    "clf.fit(X, y)\n",
    "print(\"Best parameters:\", clf.best_params_)\n",
    "print(\"Lowest score: \", (-clf.best_score_)**(1/2.0))"
   ]
  },
  {
   "cell_type": "code",
   "execution_count": 134,
   "id": "77b219f9",
   "metadata": {},
   "outputs": [],
   "source": [
    "from sklearn.model_selection import GridSearchCV\n",
    "grid=GridSearchCV(clf, param_grid=param_dist, cv=10, n_jobs=-1)"
   ]
  },
  {
   "cell_type": "code",
   "execution_count": 144,
   "id": "673ee183",
   "metadata": {},
   "outputs": [],
   "source": [
    "param_dist={\n",
    "    \"max_depth\":[1,2,3,4,5,6,7,None],\n",
    "    \"min_samples_split\": [1, 2, 3, 4],\n",
    "    \"min_samples_leaf\": [1, 2, 3, 4],\n",
    "    \n",
    "}"
   ]
  },
  {
   "cell_type": "code",
   "execution_count": 146,
   "id": "d46b062e",
   "metadata": {},
   "outputs": [],
   "source": [
    "from sklearn.model_selection import GridSearchCV\n",
    "gird=GridSearchCV(clf, param_grid=param_dist, cv=10, n_jobs=-1)"
   ]
  },
  {
   "cell_type": "code",
   "execution_count": 147,
   "id": "0de5b258",
   "metadata": {},
   "outputs": [
    {
     "ename": "ValueError",
     "evalue": "Invalid parameter max_depth for estimator GridSearchCV(estimator=DecisionTreeRegressor(max_depth=4, min_samples_leaf=0.1,\n                                             random_state=3),\n             param_grid={'criterion': ['gini', 'entropy'],\n                         'max_depth': [3, 6, 10, None],\n                         'min_samples_leaf': [0.1, 0.5, 0.01]},\n             scoring='neg_mean_absolute_error', verbose=1). Check the list of available parameters with `estimator.get_params().keys()`.",
     "output_type": "error",
     "traceback": [
      "\u001b[1;31m---------------------------------------------------------------------------\u001b[0m",
      "\u001b[1;31m_RemoteTraceback\u001b[0m                          Traceback (most recent call last)",
      "\u001b[1;31m_RemoteTraceback\u001b[0m: \n\"\"\"\nTraceback (most recent call last):\n  File \"C:\\Anaconda\\envs\\Thesis\\lib\\site-packages\\joblib\\externals\\loky\\process_executor.py\", line 431, in _process_worker\n    r = call_item()\n  File \"C:\\Anaconda\\envs\\Thesis\\lib\\site-packages\\joblib\\externals\\loky\\process_executor.py\", line 285, in __call__\n    return self.fn(*self.args, **self.kwargs)\n  File \"C:\\Anaconda\\envs\\Thesis\\lib\\site-packages\\joblib\\_parallel_backends.py\", line 595, in __call__\n    return self.func(*args, **kwargs)\n  File \"C:\\Anaconda\\envs\\Thesis\\lib\\site-packages\\joblib\\parallel.py\", line 262, in __call__\n    return [func(*args, **kwargs)\n  File \"C:\\Anaconda\\envs\\Thesis\\lib\\site-packages\\joblib\\parallel.py\", line 262, in <listcomp>\n    return [func(*args, **kwargs)\n  File \"C:\\Anaconda\\envs\\Thesis\\lib\\site-packages\\sklearn\\utils\\fixes.py\", line 222, in __call__\n    return self.function(*args, **kwargs)\n  File \"C:\\Anaconda\\envs\\Thesis\\lib\\site-packages\\sklearn\\model_selection\\_validation.py\", line 586, in _fit_and_score\n    estimator = estimator.set_params(**cloned_parameters)\n  File \"C:\\Anaconda\\envs\\Thesis\\lib\\site-packages\\sklearn\\base.py\", line 230, in set_params\n    raise ValueError('Invalid parameter %s for estimator %s. '\nValueError: Invalid parameter max_depth for estimator GridSearchCV(estimator=DecisionTreeRegressor(max_depth=4, min_samples_leaf=0.1,\n                                             random_state=3),\n             param_grid={'criterion': ['gini', 'entropy'],\n                         'max_depth': [3, 6, 10, None],\n                         'min_samples_leaf': [0.1, 0.5, 0.01]},\n             scoring='neg_mean_absolute_error', verbose=1). Check the list of available parameters with `estimator.get_params().keys()`.\n\"\"\"",
      "\nThe above exception was the direct cause of the following exception:\n",
      "\u001b[1;31mValueError\u001b[0m                                Traceback (most recent call last)",
      "\u001b[1;32mC:\\Users\\ERIKBU~1\\AppData\\Local\\Temp/ipykernel_47268/1598726058.py\u001b[0m in \u001b[0;36m<module>\u001b[1;34m\u001b[0m\n\u001b[1;32m----> 1\u001b[1;33m \u001b[0mgrid\u001b[0m\u001b[1;33m.\u001b[0m\u001b[0mfit\u001b[0m\u001b[1;33m(\u001b[0m\u001b[0mX_train_10\u001b[0m\u001b[1;33m,\u001b[0m \u001b[0mY_train\u001b[0m\u001b[1;33m)\u001b[0m\u001b[1;33m\u001b[0m\u001b[1;33m\u001b[0m\u001b[0m\n\u001b[0m",
      "\u001b[1;32mC:\\Anaconda\\envs\\Thesis\\lib\\site-packages\\sklearn\\utils\\validation.py\u001b[0m in \u001b[0;36minner_f\u001b[1;34m(*args, **kwargs)\u001b[0m\n\u001b[0;32m     61\u001b[0m             \u001b[0mextra_args\u001b[0m \u001b[1;33m=\u001b[0m \u001b[0mlen\u001b[0m\u001b[1;33m(\u001b[0m\u001b[0margs\u001b[0m\u001b[1;33m)\u001b[0m \u001b[1;33m-\u001b[0m \u001b[0mlen\u001b[0m\u001b[1;33m(\u001b[0m\u001b[0mall_args\u001b[0m\u001b[1;33m)\u001b[0m\u001b[1;33m\u001b[0m\u001b[1;33m\u001b[0m\u001b[0m\n\u001b[0;32m     62\u001b[0m             \u001b[1;32mif\u001b[0m \u001b[0mextra_args\u001b[0m \u001b[1;33m<=\u001b[0m \u001b[1;36m0\u001b[0m\u001b[1;33m:\u001b[0m\u001b[1;33m\u001b[0m\u001b[1;33m\u001b[0m\u001b[0m\n\u001b[1;32m---> 63\u001b[1;33m                 \u001b[1;32mreturn\u001b[0m \u001b[0mf\u001b[0m\u001b[1;33m(\u001b[0m\u001b[1;33m*\u001b[0m\u001b[0margs\u001b[0m\u001b[1;33m,\u001b[0m \u001b[1;33m**\u001b[0m\u001b[0mkwargs\u001b[0m\u001b[1;33m)\u001b[0m\u001b[1;33m\u001b[0m\u001b[1;33m\u001b[0m\u001b[0m\n\u001b[0m\u001b[0;32m     64\u001b[0m \u001b[1;33m\u001b[0m\u001b[0m\n\u001b[0;32m     65\u001b[0m             \u001b[1;31m# extra_args > 0\u001b[0m\u001b[1;33m\u001b[0m\u001b[1;33m\u001b[0m\u001b[1;33m\u001b[0m\u001b[0m\n",
      "\u001b[1;32mC:\\Anaconda\\envs\\Thesis\\lib\\site-packages\\sklearn\\model_selection\\_search.py\u001b[0m in \u001b[0;36mfit\u001b[1;34m(self, X, y, groups, **fit_params)\u001b[0m\n\u001b[0;32m    839\u001b[0m                 \u001b[1;32mreturn\u001b[0m \u001b[0mresults\u001b[0m\u001b[1;33m\u001b[0m\u001b[1;33m\u001b[0m\u001b[0m\n\u001b[0;32m    840\u001b[0m \u001b[1;33m\u001b[0m\u001b[0m\n\u001b[1;32m--> 841\u001b[1;33m             \u001b[0mself\u001b[0m\u001b[1;33m.\u001b[0m\u001b[0m_run_search\u001b[0m\u001b[1;33m(\u001b[0m\u001b[0mevaluate_candidates\u001b[0m\u001b[1;33m)\u001b[0m\u001b[1;33m\u001b[0m\u001b[1;33m\u001b[0m\u001b[0m\n\u001b[0m\u001b[0;32m    842\u001b[0m \u001b[1;33m\u001b[0m\u001b[0m\n\u001b[0;32m    843\u001b[0m             \u001b[1;31m# multimetric is determined here because in the case of a callable\u001b[0m\u001b[1;33m\u001b[0m\u001b[1;33m\u001b[0m\u001b[1;33m\u001b[0m\u001b[0m\n",
      "\u001b[1;32mC:\\Anaconda\\envs\\Thesis\\lib\\site-packages\\sklearn\\model_selection\\_search.py\u001b[0m in \u001b[0;36m_run_search\u001b[1;34m(self, evaluate_candidates)\u001b[0m\n\u001b[0;32m   1294\u001b[0m     \u001b[1;32mdef\u001b[0m \u001b[0m_run_search\u001b[0m\u001b[1;33m(\u001b[0m\u001b[0mself\u001b[0m\u001b[1;33m,\u001b[0m \u001b[0mevaluate_candidates\u001b[0m\u001b[1;33m)\u001b[0m\u001b[1;33m:\u001b[0m\u001b[1;33m\u001b[0m\u001b[1;33m\u001b[0m\u001b[0m\n\u001b[0;32m   1295\u001b[0m         \u001b[1;34m\"\"\"Search all candidates in param_grid\"\"\"\u001b[0m\u001b[1;33m\u001b[0m\u001b[1;33m\u001b[0m\u001b[0m\n\u001b[1;32m-> 1296\u001b[1;33m         \u001b[0mevaluate_candidates\u001b[0m\u001b[1;33m(\u001b[0m\u001b[0mParameterGrid\u001b[0m\u001b[1;33m(\u001b[0m\u001b[0mself\u001b[0m\u001b[1;33m.\u001b[0m\u001b[0mparam_grid\u001b[0m\u001b[1;33m)\u001b[0m\u001b[1;33m)\u001b[0m\u001b[1;33m\u001b[0m\u001b[1;33m\u001b[0m\u001b[0m\n\u001b[0m\u001b[0;32m   1297\u001b[0m \u001b[1;33m\u001b[0m\u001b[0m\n\u001b[0;32m   1298\u001b[0m \u001b[1;33m\u001b[0m\u001b[0m\n",
      "\u001b[1;32mC:\\Anaconda\\envs\\Thesis\\lib\\site-packages\\sklearn\\model_selection\\_search.py\u001b[0m in \u001b[0;36mevaluate_candidates\u001b[1;34m(candidate_params, cv, more_results)\u001b[0m\n\u001b[0;32m    793\u001b[0m                               n_splits, n_candidates, n_candidates * n_splits))\n\u001b[0;32m    794\u001b[0m \u001b[1;33m\u001b[0m\u001b[0m\n\u001b[1;32m--> 795\u001b[1;33m                 out = parallel(delayed(_fit_and_score)(clone(base_estimator),\n\u001b[0m\u001b[0;32m    796\u001b[0m                                                        \u001b[0mX\u001b[0m\u001b[1;33m,\u001b[0m \u001b[0my\u001b[0m\u001b[1;33m,\u001b[0m\u001b[1;33m\u001b[0m\u001b[1;33m\u001b[0m\u001b[0m\n\u001b[0;32m    797\u001b[0m                                                        \u001b[0mtrain\u001b[0m\u001b[1;33m=\u001b[0m\u001b[0mtrain\u001b[0m\u001b[1;33m,\u001b[0m \u001b[0mtest\u001b[0m\u001b[1;33m=\u001b[0m\u001b[0mtest\u001b[0m\u001b[1;33m,\u001b[0m\u001b[1;33m\u001b[0m\u001b[1;33m\u001b[0m\u001b[0m\n",
      "\u001b[1;32mC:\\Anaconda\\envs\\Thesis\\lib\\site-packages\\joblib\\parallel.py\u001b[0m in \u001b[0;36m__call__\u001b[1;34m(self, iterable)\u001b[0m\n\u001b[0;32m   1052\u001b[0m \u001b[1;33m\u001b[0m\u001b[0m\n\u001b[0;32m   1053\u001b[0m             \u001b[1;32mwith\u001b[0m \u001b[0mself\u001b[0m\u001b[1;33m.\u001b[0m\u001b[0m_backend\u001b[0m\u001b[1;33m.\u001b[0m\u001b[0mretrieval_context\u001b[0m\u001b[1;33m(\u001b[0m\u001b[1;33m)\u001b[0m\u001b[1;33m:\u001b[0m\u001b[1;33m\u001b[0m\u001b[1;33m\u001b[0m\u001b[0m\n\u001b[1;32m-> 1054\u001b[1;33m                 \u001b[0mself\u001b[0m\u001b[1;33m.\u001b[0m\u001b[0mretrieve\u001b[0m\u001b[1;33m(\u001b[0m\u001b[1;33m)\u001b[0m\u001b[1;33m\u001b[0m\u001b[1;33m\u001b[0m\u001b[0m\n\u001b[0m\u001b[0;32m   1055\u001b[0m             \u001b[1;31m# Make sure that we get a last message telling us we are done\u001b[0m\u001b[1;33m\u001b[0m\u001b[1;33m\u001b[0m\u001b[1;33m\u001b[0m\u001b[0m\n\u001b[0;32m   1056\u001b[0m             \u001b[0melapsed_time\u001b[0m \u001b[1;33m=\u001b[0m \u001b[0mtime\u001b[0m\u001b[1;33m.\u001b[0m\u001b[0mtime\u001b[0m\u001b[1;33m(\u001b[0m\u001b[1;33m)\u001b[0m \u001b[1;33m-\u001b[0m \u001b[0mself\u001b[0m\u001b[1;33m.\u001b[0m\u001b[0m_start_time\u001b[0m\u001b[1;33m\u001b[0m\u001b[1;33m\u001b[0m\u001b[0m\n",
      "\u001b[1;32mC:\\Anaconda\\envs\\Thesis\\lib\\site-packages\\joblib\\parallel.py\u001b[0m in \u001b[0;36mretrieve\u001b[1;34m(self)\u001b[0m\n\u001b[0;32m    931\u001b[0m             \u001b[1;32mtry\u001b[0m\u001b[1;33m:\u001b[0m\u001b[1;33m\u001b[0m\u001b[1;33m\u001b[0m\u001b[0m\n\u001b[0;32m    932\u001b[0m                 \u001b[1;32mif\u001b[0m \u001b[0mgetattr\u001b[0m\u001b[1;33m(\u001b[0m\u001b[0mself\u001b[0m\u001b[1;33m.\u001b[0m\u001b[0m_backend\u001b[0m\u001b[1;33m,\u001b[0m \u001b[1;34m'supports_timeout'\u001b[0m\u001b[1;33m,\u001b[0m \u001b[1;32mFalse\u001b[0m\u001b[1;33m)\u001b[0m\u001b[1;33m:\u001b[0m\u001b[1;33m\u001b[0m\u001b[1;33m\u001b[0m\u001b[0m\n\u001b[1;32m--> 933\u001b[1;33m                     \u001b[0mself\u001b[0m\u001b[1;33m.\u001b[0m\u001b[0m_output\u001b[0m\u001b[1;33m.\u001b[0m\u001b[0mextend\u001b[0m\u001b[1;33m(\u001b[0m\u001b[0mjob\u001b[0m\u001b[1;33m.\u001b[0m\u001b[0mget\u001b[0m\u001b[1;33m(\u001b[0m\u001b[0mtimeout\u001b[0m\u001b[1;33m=\u001b[0m\u001b[0mself\u001b[0m\u001b[1;33m.\u001b[0m\u001b[0mtimeout\u001b[0m\u001b[1;33m)\u001b[0m\u001b[1;33m)\u001b[0m\u001b[1;33m\u001b[0m\u001b[1;33m\u001b[0m\u001b[0m\n\u001b[0m\u001b[0;32m    934\u001b[0m                 \u001b[1;32melse\u001b[0m\u001b[1;33m:\u001b[0m\u001b[1;33m\u001b[0m\u001b[1;33m\u001b[0m\u001b[0m\n\u001b[0;32m    935\u001b[0m                     \u001b[0mself\u001b[0m\u001b[1;33m.\u001b[0m\u001b[0m_output\u001b[0m\u001b[1;33m.\u001b[0m\u001b[0mextend\u001b[0m\u001b[1;33m(\u001b[0m\u001b[0mjob\u001b[0m\u001b[1;33m.\u001b[0m\u001b[0mget\u001b[0m\u001b[1;33m(\u001b[0m\u001b[1;33m)\u001b[0m\u001b[1;33m)\u001b[0m\u001b[1;33m\u001b[0m\u001b[1;33m\u001b[0m\u001b[0m\n",
      "\u001b[1;32mC:\\Anaconda\\envs\\Thesis\\lib\\site-packages\\joblib\\_parallel_backends.py\u001b[0m in \u001b[0;36mwrap_future_result\u001b[1;34m(future, timeout)\u001b[0m\n\u001b[0;32m    540\u001b[0m         AsyncResults.get from multiprocessing.\"\"\"\n\u001b[0;32m    541\u001b[0m         \u001b[1;32mtry\u001b[0m\u001b[1;33m:\u001b[0m\u001b[1;33m\u001b[0m\u001b[1;33m\u001b[0m\u001b[0m\n\u001b[1;32m--> 542\u001b[1;33m             \u001b[1;32mreturn\u001b[0m \u001b[0mfuture\u001b[0m\u001b[1;33m.\u001b[0m\u001b[0mresult\u001b[0m\u001b[1;33m(\u001b[0m\u001b[0mtimeout\u001b[0m\u001b[1;33m=\u001b[0m\u001b[0mtimeout\u001b[0m\u001b[1;33m)\u001b[0m\u001b[1;33m\u001b[0m\u001b[1;33m\u001b[0m\u001b[0m\n\u001b[0m\u001b[0;32m    543\u001b[0m         \u001b[1;32mexcept\u001b[0m \u001b[0mCfTimeoutError\u001b[0m \u001b[1;32mas\u001b[0m \u001b[0me\u001b[0m\u001b[1;33m:\u001b[0m\u001b[1;33m\u001b[0m\u001b[1;33m\u001b[0m\u001b[0m\n\u001b[0;32m    544\u001b[0m             \u001b[1;32mraise\u001b[0m \u001b[0mTimeoutError\u001b[0m \u001b[1;32mfrom\u001b[0m \u001b[0me\u001b[0m\u001b[1;33m\u001b[0m\u001b[1;33m\u001b[0m\u001b[0m\n",
      "\u001b[1;32mC:\\Anaconda\\envs\\Thesis\\lib\\concurrent\\futures\\_base.py\u001b[0m in \u001b[0;36mresult\u001b[1;34m(self, timeout)\u001b[0m\n\u001b[0;32m    442\u001b[0m                     \u001b[1;32mraise\u001b[0m \u001b[0mCancelledError\u001b[0m\u001b[1;33m(\u001b[0m\u001b[1;33m)\u001b[0m\u001b[1;33m\u001b[0m\u001b[1;33m\u001b[0m\u001b[0m\n\u001b[0;32m    443\u001b[0m                 \u001b[1;32melif\u001b[0m \u001b[0mself\u001b[0m\u001b[1;33m.\u001b[0m\u001b[0m_state\u001b[0m \u001b[1;33m==\u001b[0m \u001b[0mFINISHED\u001b[0m\u001b[1;33m:\u001b[0m\u001b[1;33m\u001b[0m\u001b[1;33m\u001b[0m\u001b[0m\n\u001b[1;32m--> 444\u001b[1;33m                     \u001b[1;32mreturn\u001b[0m \u001b[0mself\u001b[0m\u001b[1;33m.\u001b[0m\u001b[0m__get_result\u001b[0m\u001b[1;33m(\u001b[0m\u001b[1;33m)\u001b[0m\u001b[1;33m\u001b[0m\u001b[1;33m\u001b[0m\u001b[0m\n\u001b[0m\u001b[0;32m    445\u001b[0m                 \u001b[1;32melse\u001b[0m\u001b[1;33m:\u001b[0m\u001b[1;33m\u001b[0m\u001b[1;33m\u001b[0m\u001b[0m\n\u001b[0;32m    446\u001b[0m                     \u001b[1;32mraise\u001b[0m \u001b[0mTimeoutError\u001b[0m\u001b[1;33m(\u001b[0m\u001b[1;33m)\u001b[0m\u001b[1;33m\u001b[0m\u001b[1;33m\u001b[0m\u001b[0m\n",
      "\u001b[1;32mC:\\Anaconda\\envs\\Thesis\\lib\\concurrent\\futures\\_base.py\u001b[0m in \u001b[0;36m__get_result\u001b[1;34m(self)\u001b[0m\n\u001b[0;32m    387\u001b[0m         \u001b[1;32mif\u001b[0m \u001b[0mself\u001b[0m\u001b[1;33m.\u001b[0m\u001b[0m_exception\u001b[0m\u001b[1;33m:\u001b[0m\u001b[1;33m\u001b[0m\u001b[1;33m\u001b[0m\u001b[0m\n\u001b[0;32m    388\u001b[0m             \u001b[1;32mtry\u001b[0m\u001b[1;33m:\u001b[0m\u001b[1;33m\u001b[0m\u001b[1;33m\u001b[0m\u001b[0m\n\u001b[1;32m--> 389\u001b[1;33m                 \u001b[1;32mraise\u001b[0m \u001b[0mself\u001b[0m\u001b[1;33m.\u001b[0m\u001b[0m_exception\u001b[0m\u001b[1;33m\u001b[0m\u001b[1;33m\u001b[0m\u001b[0m\n\u001b[0m\u001b[0;32m    390\u001b[0m             \u001b[1;32mfinally\u001b[0m\u001b[1;33m:\u001b[0m\u001b[1;33m\u001b[0m\u001b[1;33m\u001b[0m\u001b[0m\n\u001b[0;32m    391\u001b[0m                 \u001b[1;31m# Break a reference cycle with the exception in self._exception\u001b[0m\u001b[1;33m\u001b[0m\u001b[1;33m\u001b[0m\u001b[1;33m\u001b[0m\u001b[0m\n",
      "\u001b[1;31mValueError\u001b[0m: Invalid parameter max_depth for estimator GridSearchCV(estimator=DecisionTreeRegressor(max_depth=4, min_samples_leaf=0.1,\n                                             random_state=3),\n             param_grid={'criterion': ['gini', 'entropy'],\n                         'max_depth': [3, 6, 10, None],\n                         'min_samples_leaf': [0.1, 0.5, 0.01]},\n             scoring='neg_mean_absolute_error', verbose=1). Check the list of available parameters with `estimator.get_params().keys()`."
     ]
    }
   ],
   "source": [
    "grid.fit(X_train_10, Y_train)"
   ]
  },
  {
   "cell_type": "code",
   "execution_count": 143,
   "id": "7884ba1a",
   "metadata": {},
   "outputs": [
    {
     "data": {
      "text/plain": [
       "dict_keys(['cv', 'error_score', 'estimator__cv', 'estimator__error_score', 'estimator__estimator__ccp_alpha', 'estimator__estimator__criterion', 'estimator__estimator__max_depth', 'estimator__estimator__max_features', 'estimator__estimator__max_leaf_nodes', 'estimator__estimator__min_impurity_decrease', 'estimator__estimator__min_impurity_split', 'estimator__estimator__min_samples_leaf', 'estimator__estimator__min_samples_split', 'estimator__estimator__min_weight_fraction_leaf', 'estimator__estimator__random_state', 'estimator__estimator__splitter', 'estimator__estimator', 'estimator__n_jobs', 'estimator__param_grid', 'estimator__pre_dispatch', 'estimator__refit', 'estimator__return_train_score', 'estimator__scoring', 'estimator__verbose', 'estimator', 'n_jobs', 'param_grid', 'pre_dispatch', 'refit', 'return_train_score', 'scoring', 'verbose'])"
      ]
     },
     "execution_count": 143,
     "metadata": {},
     "output_type": "execute_result"
    }
   ],
   "source": [
    "grid.get_params().keys()"
   ]
  },
  {
   "cell_type": "code",
   "execution_count": null,
   "id": "67ded3c0",
   "metadata": {},
   "outputs": [],
   "source": []
  },
  {
   "cell_type": "code",
   "execution_count": null,
   "id": "b54e8626",
   "metadata": {},
   "outputs": [],
   "source": []
  },
  {
   "cell_type": "code",
   "execution_count": null,
   "id": "40b3706c",
   "metadata": {},
   "outputs": [],
   "source": []
  },
  {
   "cell_type": "code",
   "execution_count": null,
   "id": "5f61b514",
   "metadata": {},
   "outputs": [],
   "source": []
  },
  {
   "cell_type": "code",
   "execution_count": 259,
   "id": "ecc1b5e6",
   "metadata": {},
   "outputs": [],
   "source": [
    "csv_file = \"complete_CSV_Train.csv\"\n",
    "x_train, y_train = labels_interview(csv_file)\n",
    "csv_file = \"complete_CSV_validation.csv\"\n",
    "x_test, y_test = labels_interview(csv_file)"
   ]
  },
  {
   "cell_type": "code",
   "execution_count": 208,
   "id": "f49ab380",
   "metadata": {},
   "outputs": [],
   "source": [
    "listbestvalues_interview = [130, 212, 178, 42, 74, 25, 8, 171, 184, 72, 31, 180, 172, 61, 73, 177, 223, 192, 125, 110, 142, 213, 181, 19, 100, 76, 27, 36, 163, 7, 187, 59, 126, 109, 111, 123, 41, 158, 115, 120, 71, 79, 11, 15, 208, 118, 102, 75, 112, 176, 195, 209, 121, 105, 222, 136, 220, 16, 124, 80, 108, 191, 30, 54, 185, 168, 210, 37, 52, 117, 201, 221, 205, 190, 81, 99, 60, 182, 38, 198, 131, 165, 207, 197, 33, 173, 83, 43, 29, 186, 32, 68, 66, 129, 216, 96, 103, 24, 206, 89, 174, 2, 166, 98, 22, 132, 65, 62, 3, 95, 157, 57, 6, 17, 67, 70, 69, 85, 107, 134, 23, 188, 116, 194, 13, 153, 82, 78, 56, 86, 156, 106, 119, 28, 55, 84, 128, 77, 179, 21, 164, 218, 170, 147, 211, 135, 154, 47, 150, 183, 141, 155, 138, 219, 160, 215, 26, 101, 104, 97, 93, 94, 203, 9, 151, 196, 58, 50, 167, 146, 87, 53, 4, 45, 35, 51, 127, 175, 159, 149, 10, 169, 193, 63, 162, 202, 92, 44, 204, 217, 214, 199, 200, 49, 5, 189, 48, 64, 46, 40, 39, 88, 90, 91, 34, 1, 113, 114, 122, 133, 137, 139, 140, 143, 144, 145, 148, 152, 20, 161, 18, 14, 12, 0]"
   ]
  },
  {
   "cell_type": "code",
   "execution_count": 248,
   "id": "63e768a3",
   "metadata": {},
   "outputs": [],
   "source": [
    "listbestvalues_openness = [42, 36, 19, 37, 25, 51, 8, 48, 27, 6, 53, 61, 33, 41, 39, 130, 38, 198, 186, 71, 16, 101, 141, 223, 192, 21, 83, 106, 12, 92, 188, 150, 30, 189, 182, 120, 118, 68, 70, 17, 104, 3, 52, 11, 127, 179, 205, 108, 49, 176, 32, 187, 115, 199, 184, 58, 123, 133, 102, 0, 109, 103, 5, 107, 56, 135, 168, 197, 29, 116, 147, 105, 77, 117, 124, 85, 216, 119, 34, 169, 212, 132, 46, 173, 91, 202, 63, 137, 72, 64, 13, 9, 163, 185, 23, 162, 43, 181, 177, 121, 35, 180, 113, 90, 167, 40, 59, 151, 4, 213, 191, 154, 175, 131, 138, 222, 129, 142, 28, 18, 62, 60, 84, 20, 194, 125, 164, 155, 75, 7, 178, 143, 156, 31, 153, 171, 174, 15, 136, 14, 161, 140, 86, 10, 114, 112, 166, 217, 110, 128, 211, 93, 66, 159, 195, 201, 200, 55, 73, 74, 196, 221, 203, 126, 193, 1, 190, 76, 111, 69, 2, 204, 220, 206, 78, 207, 208, 209, 210, 57, 67, 214, 215, 65, 218, 219, 146, 79, 97, 44, 139, 50, 24, 160, 158, 157, 98, 144, 94, 145, 152, 95, 96, 149, 148, 165, 89, 88, 54, 183, 80, 81, 82, 45, 26, 22, 87, 134, 47, 100, 172, 99, 170, 122]"
   ]
  },
  {
   "cell_type": "code",
   "execution_count": 249,
   "id": "36359711",
   "metadata": {},
   "outputs": [],
   "source": [
    "listbestvalues_conscientiousness = [150, 221, 82, 169, 57, 180, 173, 77, 129, 145, 36, 55, 93, 185, 88, 30, 204, 119, 209, 53, 167, 83, 87, 137, 29, 168, 179, 59, 203, 170, 66, 151, 115, 160, 177, 90, 108, 74, 136, 159, 68, 175, 118, 98, 158, 84, 222, 110, 117, 72, 128, 61, 178, 141, 60, 132, 8, 86, 50, 210, 78, 152, 155, 164, 149, 182, 156, 120, 154, 166, 218, 69, 200, 92, 219, 163, 109, 127, 201, 161, 97, 126, 206, 144, 153, 102, 212, 23, 162, 111, 99, 140, 125, 10, 100, 186, 114, 63, 143, 202, 95, 208, 105, 205, 184, 171, 89, 76, 73, 94, 148, 62, 124, 75, 5, 147, 133, 103, 181, 67, 1, 70, 12, 195, 54, 81, 142, 106, 96, 131, 116, 134, 107, 191, 174, 176, 85, 64, 165, 71, 123, 45, 130, 138, 26, 183, 157, 146, 19, 80, 192, 104, 211, 196, 139, 9, 27, 52, 56, 58, 32, 47, 198, 31, 112, 20, 18, 113, 187, 46, 193, 22, 2, 213, 51, 189, 79, 13, 188, 220, 16, 223, 38, 15, 214, 33, 91, 135, 11, 28, 14, 44, 199, 0, 3, 172, 49, 216, 194, 101, 48, 6, 40, 121, 41, 122, 4, 7, 217, 215, 65, 21, 17, 197, 24, 25, 207, 190, 34, 43, 37, 39, 42, 35]"
   ]
  },
  {
   "cell_type": "code",
   "execution_count": 250,
   "id": "520c43b9",
   "metadata": {},
   "outputs": [],
   "source": [
    "listbestvalues_extroversion = [42, 25, 38, 8, 198, 41, 31, 46, 197, 191, 19, 6, 143, 2, 3, 125, 63, 202, 4, 20, 37, 200, 16, 192, 99, 100, 220, 194, 27, 32, 127, 51, 159, 109, 36, 112, 212, 172, 0, 130, 108, 175, 5, 56, 173, 74, 7, 30, 217, 105, 209, 23, 75, 188, 1, 134, 94, 67, 47, 111, 213, 184, 21, 107, 174, 208, 70, 15, 89, 48, 114, 44, 52, 196, 170, 133, 195, 113, 90, 142, 59, 149, 84, 215, 18, 165, 210, 160, 176, 123, 139, 40, 144, 91, 28, 141, 98, 155, 124, 140, 121, 145, 33, 190, 216, 116, 43, 150, 218, 10, 110, 88, 203, 169, 183, 34, 13, 29, 62, 164, 66, 49, 206, 132, 78, 151, 97, 119, 95, 128, 214, 76, 58, 177, 161, 199, 55, 69, 156, 83, 45, 148, 24, 65, 14, 87, 96, 166, 71, 11, 146, 135, 181, 179, 178, 180, 39, 182, 185, 186, 187, 189, 193, 201, 9, 204, 205, 207, 211, 219, 221, 222, 12, 131, 17, 77, 101, 26, 93, 92, 86, 85, 82, 81, 80, 79, 73, 171, 72, 68, 64, 61, 60, 57, 54, 53, 50, 35, 102, 103, 104, 106, 168, 167, 163, 162, 158, 157, 154, 153, 152, 147, 138, 137, 136, 129, 22, 126, 122, 120, 118, 117, 115, 223]"
   ]
  },
  {
   "cell_type": "code",
   "execution_count": 251,
   "id": "e58ba1fb",
   "metadata": {},
   "outputs": [],
   "source": [
    "listbestvalues_agreeableness = [150, 186, 166, 163, 147, 8, 168, 164, 170, 141, 64, 145, 212, 47, 27, 122, 165, 108, 94, 162, 182, 207, 172, 54, 220, 144, 116, 205, 91, 55, 83, 167, 213, 41, 185, 159, 149, 181, 179, 133, 171, 148, 173, 67, 96, 31, 33, 151, 61, 180, 152, 84, 131, 124, 49, 28, 222, 80, 32, 93, 174, 104, 35, 126, 143, 42, 43, 161, 175, 183, 121, 204, 184, 221, 71, 92, 214, 58, 29, 119, 187, 98, 100, 140, 37, 87, 36, 52, 95, 153, 169, 63, 17, 110, 177, 88, 45, 23, 139, 59, 68, 103, 2, 97, 196, 73, 102, 62, 191, 105, 158, 190, 200, 137, 146, 127, 176, 89, 13, 154, 34, 77, 65, 132, 125, 115, 44, 223, 81, 99, 192, 85, 24, 202, 160, 53, 22, 155, 217, 56, 38, 210, 142, 156, 113, 50, 112, 106, 60, 66, 117, 118, 20, 21, 4, 130, 3, 19, 74, 70, 178, 90, 76, 12, 198, 30, 82, 25, 129, 72, 203, 208, 6, 75, 114, 128, 197, 78, 216, 199, 18, 5, 219, 218, 201, 16, 15, 14, 206, 215, 7, 209, 9, 10, 211, 11, 138, 39, 195, 194, 135, 134, 123, 120, 157, 1, 111, 109, 107, 101, 86, 79, 69, 57, 51, 48, 46, 40, 136, 26, 188, 189, 193, 0]"
   ]
  },
  {
   "cell_type": "code",
   "execution_count": 252,
   "id": "e93e8adf",
   "metadata": {},
   "outputs": [],
   "source": [
    "listbestvalues_neuroticism = [42, 8, 41, 36, 197, 25, 198, 132, 155, 16, 21, 192, 7, 212, 142, 218, 222, 6, 53, 30, 18, 144, 4, 133, 217, 19, 27, 214, 179, 55, 74, 143, 193, 185, 129, 203, 154, 23, 32, 200, 3, 147, 80, 189, 59, 49, 88, 186, 219, 76, 172, 151, 140, 148, 77, 209, 20, 92, 101, 130, 208, 54, 61, 82, 191, 171, 78, 9, 141, 45, 165, 81, 38, 205, 11, 187, 12, 87, 91, 176, 106, 207, 194, 95, 161, 206, 17, 195, 199, 46, 139, 196, 52, 28, 153, 105, 83, 168, 167, 184, 58, 156, 104, 47, 98, 158, 145, 97, 152, 138, 14, 163, 150, 146, 57, 96, 215, 136, 210, 34, 211, 64, 40, 108, 178, 86, 66, 166, 137, 202, 10, 123, 33, 79, 0, 110, 164, 67, 94, 174, 13, 221, 175, 126, 103, 182, 119, 99, 125, 102, 115, 69, 201, 31, 181, 180, 204, 213, 183, 190, 216, 170, 169, 220, 173, 188, 177, 112, 162, 160, 73, 72, 71, 70, 68, 65, 63, 62, 60, 56, 51, 50, 48, 44, 43, 39, 37, 35, 29, 26, 24, 22, 15, 5, 2, 75, 84, 85, 120, 159, 157, 149, 135, 134, 131, 128, 127, 124, 122, 121, 118, 89, 117, 116, 114, 113, 1, 111, 109, 107, 100, 93, 90, 223]"
   ]
  },
  {
   "cell_type": "code",
   "execution_count": 209,
   "id": "6b2a869e",
   "metadata": {},
   "outputs": [],
   "source": [
    "x_train_10 = bestfeatureslist(x_train, listbestvalues_interview, 10)\n",
    "x_test_10 = bestfeatureslist(x_test, listbestvalues_interview, 10)"
   ]
  },
  {
   "cell_type": "code",
   "execution_count": 210,
   "id": "6f303860",
   "metadata": {},
   "outputs": [
    {
     "name": "stdout",
     "output_type": "stream",
     "text": [
      "Fitting 5 folds for each of 28 candidates, totalling 140 fits\n",
      "Best parameters: {'max_depth': 4, 'min_samples_leaf': 0.01}\n",
      "Lowest score:  0.3414124153552239\n"
     ]
    }
   ],
   "source": [
    "import pandas as pd\n",
    "from sklearn.model_selection import GridSearchCV\n",
    "\n",
    "data = pd.read_csv(\"complete_CSV_Train.csv\")\n",
    "\n",
    "X, y = x_train_10, y_train #1\n",
    "    \n",
    "params = { 'max_depth': [1,2,3,4,5,6, None],\n",
    "         'min_samples_leaf': [0.1, 0.5, 0.01, 1],\n",
    "         }\n",
    "\n",
    "dt = dt\n",
    "clf = GridSearchCV(estimator=dt, \n",
    "                   param_grid=params,\n",
    "                   scoring='neg_mean_absolute_error', \n",
    "                   verbose=1)\n",
    "\n",
    "clf.fit(X, y)\n",
    "print(\"Best parameters:\", clf.best_params_)\n",
    "print(\"Lowest score: \", (-clf.best_score_)**(1/2.0))"
   ]
  },
  {
   "cell_type": "code",
   "execution_count": 211,
   "id": "5f4a1400",
   "metadata": {},
   "outputs": [],
   "source": [
    "from sklearn.tree import DecisionTreeRegressor\n",
    "from sklearn.metrics import mean_squared_error as MSE\n",
    "\n",
    "\n",
    "dt = DecisionTreeRegressor(max_depth=4,\n",
    "                          min_samples_leaf = 0.01,\n",
    "                          random_state=3)"
   ]
  },
  {
   "cell_type": "code",
   "execution_count": 212,
   "id": "62c9bef2",
   "metadata": {},
   "outputs": [
    {
     "data": {
      "text/plain": [
       "DecisionTreeRegressor(max_depth=4, min_samples_leaf=0.01, random_state=3)"
      ]
     },
     "execution_count": 212,
     "metadata": {},
     "output_type": "execute_result"
    }
   ],
   "source": [
    "dt.fit(X_train_10, y_train)"
   ]
  },
  {
   "cell_type": "code",
   "execution_count": 213,
   "id": "267c508a",
   "metadata": {},
   "outputs": [],
   "source": [
    "Y_pred = dt.predict(X_test_10)"
   ]
  },
  {
   "cell_type": "code",
   "execution_count": 214,
   "id": "fca3fa3b",
   "metadata": {},
   "outputs": [
    {
     "name": "stdout",
     "output_type": "stream",
     "text": [
      "1-MAE 0.8890877487609727\n"
     ]
    }
   ],
   "source": [
    "mae = mean_absolute_error(Y_test, Y_pred)\n",
    "\n",
    "print(\"1-MAE\", 1-mae)"
   ]
  },
  {
   "cell_type": "code",
   "execution_count": 260,
   "id": "cc8959f8",
   "metadata": {},
   "outputs": [],
   "source": [
    "x_train_20 = bestfeatureslist(x_train, listbestvalues_interview, 20)\n",
    "x_test_20 = bestfeatureslist(x_test, listbestvalues_interview, 20)"
   ]
  },
  {
   "cell_type": "code",
   "execution_count": 261,
   "id": "29d6e7b8",
   "metadata": {},
   "outputs": [
    {
     "name": "stdout",
     "output_type": "stream",
     "text": [
      "Fitting 5 folds for each of 28 candidates, totalling 140 fits\n",
      "Best parameters: {'max_depth': 6, 'min_samples_leaf': 0.01}\n",
      "Lowest score:  0.34023790171343443\n"
     ]
    }
   ],
   "source": [
    "import pandas as pd\n",
    "from sklearn.model_selection import GridSearchCV\n",
    "\n",
    "data = pd.read_csv(\"complete_CSV_Train.csv\")\n",
    "\n",
    "X, y = x_train_20, y_train #1\n",
    "    \n",
    "params = { 'max_depth': [1,2,3,4,5,6, None],\n",
    "         'min_samples_leaf': [0.1, 0.5, 0.01, 1],\n",
    "         }\n",
    "\n",
    "dt = dt\n",
    "clf = GridSearchCV(estimator=dt, \n",
    "                   param_grid=params,\n",
    "                   scoring='neg_mean_absolute_error', \n",
    "                   verbose=1)\n",
    "\n",
    "clf.fit(X, y)\n",
    "print(\"Best parameters:\", clf.best_params_)\n",
    "print(\"Lowest score: \", (-clf.best_score_)**(1/2.0))"
   ]
  },
  {
   "cell_type": "code",
   "execution_count": 262,
   "id": "785ccd29",
   "metadata": {},
   "outputs": [],
   "source": [
    "from sklearn.tree import DecisionTreeRegressor\n",
    "from sklearn.metrics import mean_squared_error as MSE\n",
    "\n",
    "\n",
    "dt = DecisionTreeRegressor(max_depth=6,\n",
    "                          min_samples_leaf = 0.01,\n",
    "                          random_state=3)"
   ]
  },
  {
   "cell_type": "code",
   "execution_count": 264,
   "id": "92fee9d5",
   "metadata": {},
   "outputs": [
    {
     "data": {
      "text/plain": [
       "DecisionTreeRegressor(max_depth=6, min_samples_leaf=0.01, random_state=3)"
      ]
     },
     "execution_count": 264,
     "metadata": {},
     "output_type": "execute_result"
    }
   ],
   "source": [
    "dt.fit(x_train_20, y_train)"
   ]
  },
  {
   "cell_type": "code",
   "execution_count": 266,
   "id": "a20b731a",
   "metadata": {},
   "outputs": [],
   "source": [
    "Y_pred = dt.predict(x_test_20)"
   ]
  },
  {
   "cell_type": "code",
   "execution_count": 267,
   "id": "cb4d4e77",
   "metadata": {},
   "outputs": [
    {
     "name": "stdout",
     "output_type": "stream",
     "text": [
      "1-MAE 0.8887142381055186\n"
     ]
    }
   ],
   "source": [
    "mae = mean_absolute_error(Y_test, Y_pred)\n",
    "\n",
    "print(\"1-MAE\", 1-mae)"
   ]
  },
  {
   "cell_type": "code",
   "execution_count": 218,
   "id": "51d41c7c",
   "metadata": {},
   "outputs": [],
   "source": [
    "x_train_50 = bestfeatureslist(x_train, listbestvalues_interview, 50)\n",
    "x_test_50 = bestfeatureslist(x_test, listbestvalues_interview, 50)"
   ]
  },
  {
   "cell_type": "code",
   "execution_count": 219,
   "id": "1613c7cb",
   "metadata": {},
   "outputs": [
    {
     "name": "stdout",
     "output_type": "stream",
     "text": [
      "Fitting 5 folds for each of 28 candidates, totalling 140 fits\n",
      "Best parameters: {'max_depth': 4, 'min_samples_leaf': 1}\n",
      "Lowest score:  0.3408188522307302\n"
     ]
    }
   ],
   "source": [
    "import pandas as pd\n",
    "from sklearn.model_selection import GridSearchCV\n",
    "\n",
    "data = pd.read_csv(\"complete_CSV_Train.csv\")\n",
    "\n",
    "X, y = x_train_50, y_train #1\n",
    "    \n",
    "params = { 'max_depth': [1,2,3,4,5,6, None],\n",
    "         'min_samples_leaf': [0.1, 0.5, 0.01, 1],\n",
    "         }\n",
    "\n",
    "dt = dt\n",
    "clf = GridSearchCV(estimator=dt, \n",
    "                   param_grid=params,\n",
    "                   scoring='neg_mean_absolute_error', \n",
    "                   verbose=1)\n",
    "\n",
    "clf.fit(X, y)\n",
    "print(\"Best parameters:\", clf.best_params_)\n",
    "print(\"Lowest score: \", (-clf.best_score_)**(1/2.0))"
   ]
  },
  {
   "cell_type": "code",
   "execution_count": 220,
   "id": "c9e42ddf",
   "metadata": {},
   "outputs": [],
   "source": [
    "from sklearn.tree import DecisionTreeRegressor\n",
    "from sklearn.metrics import mean_squared_error as MSE\n",
    "\n",
    "\n",
    "dt = DecisionTreeRegressor(max_depth=4,\n",
    "                          min_samples_leaf = 1,\n",
    "                          random_state=3)"
   ]
  },
  {
   "cell_type": "code",
   "execution_count": 222,
   "id": "0d5adb9a",
   "metadata": {},
   "outputs": [
    {
     "data": {
      "text/plain": [
       "DecisionTreeRegressor(max_depth=4, random_state=3)"
      ]
     },
     "execution_count": 222,
     "metadata": {},
     "output_type": "execute_result"
    }
   ],
   "source": [
    "dt.fit(x_train_50, y_train)"
   ]
  },
  {
   "cell_type": "code",
   "execution_count": 224,
   "id": "864dcc1a",
   "metadata": {},
   "outputs": [],
   "source": [
    "Y_pred = dt.predict(x_test_50)"
   ]
  },
  {
   "cell_type": "code",
   "execution_count": 225,
   "id": "18d566ff",
   "metadata": {},
   "outputs": [
    {
     "name": "stdout",
     "output_type": "stream",
     "text": [
      "1-MAE 0.8885367851265525\n"
     ]
    }
   ],
   "source": [
    "mae = mean_absolute_error(Y_test, Y_pred)\n",
    "\n",
    "print(\"1-MAE\", 1-mae)"
   ]
  },
  {
   "cell_type": "code",
   "execution_count": 226,
   "id": "3512f13c",
   "metadata": {},
   "outputs": [],
   "source": [
    "x_train_100 = bestfeatureslist(x_train, listbestvalues_interview, 100)\n",
    "x_test_100 = bestfeatureslist(x_test, listbestvalues_interview, 100)"
   ]
  },
  {
   "cell_type": "code",
   "execution_count": 241,
   "id": "2fedb5a8",
   "metadata": {},
   "outputs": [
    {
     "name": "stdout",
     "output_type": "stream",
     "text": [
      "Fitting 5 folds for each of 28 candidates, totalling 140 fits\n",
      "Best parameters: {'max_depth': 4, 'min_samples_leaf': 1}\n",
      "Lowest score:  0.34107832272060695\n"
     ]
    }
   ],
   "source": [
    "import pandas as pd\n",
    "from sklearn.model_selection import GridSearchCV\n",
    "\n",
    "data = pd.read_csv(\"complete_CSV_Train.csv\")\n",
    "\n",
    "X, y = x_train_100, y_train #1\n",
    "    \n",
    "params = { 'max_depth': [1,2,3,4,5,6, None],\n",
    "         'min_samples_leaf': [0.1, 0.5, 0.01, 1],\n",
    "         }\n",
    "\n",
    "dt = dt\n",
    "clf = GridSearchCV(estimator=dt, \n",
    "                   param_grid=params,\n",
    "                   scoring='neg_mean_absolute_error', \n",
    "                   verbose=1)\n",
    "\n",
    "clf.fit(X, y)\n",
    "print(\"Best parameters:\", clf.best_params_)\n",
    "print(\"Lowest score: \", (-clf.best_score_)**(1/2.0))"
   ]
  },
  {
   "cell_type": "code",
   "execution_count": 228,
   "id": "01f77f93",
   "metadata": {},
   "outputs": [],
   "source": [
    "from sklearn.tree import DecisionTreeRegressor\n",
    "from sklearn.metrics import mean_squared_error as MSE\n",
    "\n",
    "\n",
    "dt = DecisionTreeRegressor(max_depth=4,\n",
    "                          min_samples_leaf = 1,\n",
    "                          random_state=3)"
   ]
  },
  {
   "cell_type": "code",
   "execution_count": 229,
   "id": "24e5749f",
   "metadata": {},
   "outputs": [
    {
     "data": {
      "text/plain": [
       "DecisionTreeRegressor(max_depth=4, random_state=3)"
      ]
     },
     "execution_count": 229,
     "metadata": {},
     "output_type": "execute_result"
    }
   ],
   "source": [
    "dt.fit(x_train_100, y_train)"
   ]
  },
  {
   "cell_type": "code",
   "execution_count": 230,
   "id": "58e9a816",
   "metadata": {},
   "outputs": [],
   "source": [
    "Y_pred = dt.predict(x_test_100)"
   ]
  },
  {
   "cell_type": "code",
   "execution_count": 231,
   "id": "299dc682",
   "metadata": {},
   "outputs": [
    {
     "name": "stdout",
     "output_type": "stream",
     "text": [
      "1-MAE 0.8876965336618408\n"
     ]
    }
   ],
   "source": [
    "mae = mean_absolute_error(Y_test, Y_pred)\n",
    "\n",
    "print(\"1-MAE\", 1-mae)"
   ]
  },
  {
   "cell_type": "code",
   "execution_count": 234,
   "id": "4182e08f",
   "metadata": {},
   "outputs": [],
   "source": [
    "x_train_224 = bestfeatureslist(x_train, listbestvalues_interview, 224)\n",
    "x_test_224 = bestfeatureslist(x_test, listbestvalues_interview, 224)"
   ]
  },
  {
   "cell_type": "code",
   "execution_count": 235,
   "id": "2fa29853",
   "metadata": {},
   "outputs": [
    {
     "name": "stdout",
     "output_type": "stream",
     "text": [
      "Fitting 5 folds for each of 28 candidates, totalling 140 fits\n",
      "Best parameters: {'max_depth': 4, 'min_samples_leaf': 1}\n",
      "Lowest score:  0.34107832272060695\n"
     ]
    }
   ],
   "source": [
    "import pandas as pd\n",
    "from sklearn.model_selection import GridSearchCV\n",
    "\n",
    "data = pd.read_csv(\"complete_CSV_Train.csv\")\n",
    "\n",
    "X, y = x_train_224, y_train #1\n",
    "    \n",
    "params = { 'max_depth': [1,2,3,4,5,6, None],\n",
    "         'min_samples_leaf': [0.1, 0.5, 0.01, 1],\n",
    "         }\n",
    "\n",
    "dt = dt\n",
    "clf = GridSearchCV(estimator=dt, \n",
    "                   param_grid=params,\n",
    "                   scoring='neg_mean_absolute_error', \n",
    "                   verbose=1)\n",
    "\n",
    "clf.fit(X, y)\n",
    "print(\"Best parameters:\", clf.best_params_)\n",
    "print(\"Lowest score: \", (-clf.best_score_)**(1/2.0))"
   ]
  },
  {
   "cell_type": "code",
   "execution_count": 236,
   "id": "234a594c",
   "metadata": {},
   "outputs": [],
   "source": [
    "from sklearn.tree import DecisionTreeRegressor\n",
    "from sklearn.metrics import mean_squared_error as MSE\n",
    "\n",
    "\n",
    "dt = DecisionTreeRegressor(max_depth=4,\n",
    "                          min_samples_leaf = 1,\n",
    "                          random_state=3)"
   ]
  },
  {
   "cell_type": "code",
   "execution_count": 237,
   "id": "d8ce404e",
   "metadata": {},
   "outputs": [
    {
     "data": {
      "text/plain": [
       "DecisionTreeRegressor(max_depth=4, random_state=3)"
      ]
     },
     "execution_count": 237,
     "metadata": {},
     "output_type": "execute_result"
    }
   ],
   "source": [
    "dt.fit(x_train_224, y_train)"
   ]
  },
  {
   "cell_type": "code",
   "execution_count": 238,
   "id": "811ce154",
   "metadata": {},
   "outputs": [],
   "source": [
    "Y_pred = dt.predict(x_test_224)"
   ]
  },
  {
   "cell_type": "code",
   "execution_count": 239,
   "id": "902298c5",
   "metadata": {},
   "outputs": [
    {
     "name": "stdout",
     "output_type": "stream",
     "text": [
      "1-MAE 0.8882734101998978\n"
     ]
    }
   ],
   "source": [
    "mae = mean_absolute_error(Y_test, Y_pred)\n",
    "\n",
    "print(\"1-MAE\", 1-mae)"
   ]
  },
  {
   "cell_type": "code",
   "execution_count": 293,
   "id": "4932fb6d",
   "metadata": {},
   "outputs": [],
   "source": [
    "csv_file = \"complete_CSV_Train.csv\"\n",
    "x_train, y_train = labels_openness(csv_file)\n",
    "csv_file = \"complete_CSV_validation.csv\"\n",
    "x_test, y_test = labels_openness(csv_file)"
   ]
  },
  {
   "cell_type": "code",
   "execution_count": 253,
   "id": "9e65c4cc",
   "metadata": {},
   "outputs": [],
   "source": [
    "x_train_10 = bestfeatureslist(x_train, listbestvalues_openness, 10)\n",
    "x_test_10 = bestfeatureslist(x_test, listbestvalues_openness, 10)"
   ]
  },
  {
   "cell_type": "code",
   "execution_count": 254,
   "id": "664be968",
   "metadata": {},
   "outputs": [
    {
     "name": "stdout",
     "output_type": "stream",
     "text": [
      "Fitting 5 folds for each of 28 candidates, totalling 140 fits\n",
      "Best parameters: {'max_depth': 3, 'min_samples_leaf': 1}\n",
      "Lowest score:  0.33492788759419356\n"
     ]
    }
   ],
   "source": [
    "import pandas as pd\n",
    "from sklearn.model_selection import GridSearchCV\n",
    "\n",
    "data = pd.read_csv(\"complete_CSV_Train.csv\")\n",
    "\n",
    "X, y = x_train_10, y_train #1\n",
    "    \n",
    "params = { 'max_depth': [1,2,3,4,5,6, None],\n",
    "         'min_samples_leaf': [0.1, 0.5, 0.01, 1],\n",
    "         }\n",
    "\n",
    "dt = dt\n",
    "clf = GridSearchCV(estimator=dt, \n",
    "                   param_grid=params,\n",
    "                   scoring='neg_mean_absolute_error', \n",
    "                   verbose=1)\n",
    "\n",
    "clf.fit(X, y)\n",
    "print(\"Best parameters:\", clf.best_params_)\n",
    "print(\"Lowest score: \", (-clf.best_score_)**(1/2.0))"
   ]
  },
  {
   "cell_type": "code",
   "execution_count": 255,
   "id": "22152f94",
   "metadata": {},
   "outputs": [],
   "source": [
    "from sklearn.tree import DecisionTreeRegressor\n",
    "from sklearn.metrics import mean_squared_error as MSE\n",
    "\n",
    "\n",
    "dt = DecisionTreeRegressor(max_depth=3,\n",
    "                          min_samples_leaf = 1,\n",
    "                          random_state=3)"
   ]
  },
  {
   "cell_type": "code",
   "execution_count": 256,
   "id": "47141dc0",
   "metadata": {},
   "outputs": [
    {
     "data": {
      "text/plain": [
       "DecisionTreeRegressor(max_depth=3, random_state=3)"
      ]
     },
     "execution_count": 256,
     "metadata": {},
     "output_type": "execute_result"
    }
   ],
   "source": [
    "dt.fit(x_train_10, y_train)"
   ]
  },
  {
   "cell_type": "code",
   "execution_count": 257,
   "id": "3c0531c6",
   "metadata": {},
   "outputs": [],
   "source": [
    "Y_pred = dt.predict(x_test_10)"
   ]
  },
  {
   "cell_type": "code",
   "execution_count": 258,
   "id": "c20be5bb",
   "metadata": {},
   "outputs": [
    {
     "name": "stdout",
     "output_type": "stream",
     "text": [
      "1-MAE 0.8781633056268389\n"
     ]
    }
   ],
   "source": [
    "mae = mean_absolute_error(Y_test, Y_pred)\n",
    "\n",
    "print(\"1-MAE\", 1-mae)"
   ]
  },
  {
   "cell_type": "code",
   "execution_count": 269,
   "id": "fba48aca",
   "metadata": {},
   "outputs": [],
   "source": [
    "x_train_50 = bestfeatureslist(x_train, listbestvalues_openness, 50)\n",
    "x_test_50 = bestfeatureslist(x_test, listbestvalues_openness, 50)"
   ]
  },
  {
   "cell_type": "code",
   "execution_count": 270,
   "id": "37b5d2d9",
   "metadata": {},
   "outputs": [
    {
     "name": "stdout",
     "output_type": "stream",
     "text": [
      "Fitting 5 folds for each of 28 candidates, totalling 140 fits\n",
      "Best parameters: {'max_depth': 5, 'min_samples_leaf': 0.01}\n",
      "Lowest score:  0.33296604391065954\n"
     ]
    }
   ],
   "source": [
    "import pandas as pd\n",
    "from sklearn.model_selection import GridSearchCV\n",
    "\n",
    "data = pd.read_csv(\"complete_CSV_Train.csv\")\n",
    "\n",
    "X, y = x_train_50, y_train #1\n",
    "    \n",
    "params = { 'max_depth': [1,2,3,4,5,6, None],\n",
    "         'min_samples_leaf': [0.1, 0.5, 0.01, 1],\n",
    "         }\n",
    "\n",
    "dt = dt\n",
    "clf = GridSearchCV(estimator=dt, \n",
    "                   param_grid=params,\n",
    "                   scoring='neg_mean_absolute_error', \n",
    "                   verbose=1)\n",
    "\n",
    "clf.fit(X, y)\n",
    "print(\"Best parameters:\", clf.best_params_)\n",
    "print(\"Lowest score: \", (-clf.best_score_)**(1/2.0))"
   ]
  },
  {
   "cell_type": "code",
   "execution_count": 271,
   "id": "f304c431",
   "metadata": {},
   "outputs": [],
   "source": [
    "from sklearn.tree import DecisionTreeRegressor\n",
    "from sklearn.metrics import mean_squared_error as MSE\n",
    "\n",
    "\n",
    "dt = DecisionTreeRegressor(max_depth=5,\n",
    "                          min_samples_leaf = 1,\n",
    "                          random_state=3)"
   ]
  },
  {
   "cell_type": "code",
   "execution_count": 277,
   "id": "3bb49312",
   "metadata": {},
   "outputs": [
    {
     "data": {
      "text/plain": [
       "DecisionTreeRegressor(max_depth=5, random_state=3)"
      ]
     },
     "execution_count": 277,
     "metadata": {},
     "output_type": "execute_result"
    }
   ],
   "source": [
    "dt.fit(x_train_50, y_train)"
   ]
  },
  {
   "cell_type": "code",
   "execution_count": 278,
   "id": "d56d19b2",
   "metadata": {},
   "outputs": [],
   "source": [
    "Y_pred = dt.predict(x_test_50)"
   ]
  },
  {
   "cell_type": "code",
   "execution_count": 279,
   "id": "b40d72fa",
   "metadata": {},
   "outputs": [
    {
     "name": "stdout",
     "output_type": "stream",
     "text": [
      "1-MAE 0.8762624345305351\n"
     ]
    }
   ],
   "source": [
    "mae = mean_absolute_error(Y_test, Y_pred)\n",
    "\n",
    "print(\"1-MAE\", 1-mae)"
   ]
  },
  {
   "cell_type": "code",
   "execution_count": 275,
   "id": "e60a325e",
   "metadata": {},
   "outputs": [],
   "source": [
    "x_train_100 = bestfeatureslist(x_train, listbestvalues_openness, 100)\n",
    "x_test_100 = bestfeatureslist(x_test, listbestvalues_openness, 100)"
   ]
  },
  {
   "cell_type": "code",
   "execution_count": 276,
   "id": "2f074c15",
   "metadata": {},
   "outputs": [
    {
     "name": "stdout",
     "output_type": "stream",
     "text": [
      "Fitting 5 folds for each of 28 candidates, totalling 140 fits\n",
      "Best parameters: {'max_depth': 6, 'min_samples_leaf': 0.01}\n",
      "Lowest score:  0.3334343455440495\n"
     ]
    }
   ],
   "source": [
    "import pandas as pd\n",
    "from sklearn.model_selection import GridSearchCV\n",
    "\n",
    "data = pd.read_csv(\"complete_CSV_Train.csv\")\n",
    "\n",
    "X, y = x_train_100, y_train #1\n",
    "    \n",
    "params = { 'max_depth': [1,2,3,4,5,6, None],\n",
    "         'min_samples_leaf': [0.1, 0.5, 0.01, 1],\n",
    "         }\n",
    "\n",
    "dt = dt\n",
    "clf = GridSearchCV(estimator=dt, \n",
    "                   param_grid=params,\n",
    "                   scoring='neg_mean_absolute_error', \n",
    "                   verbose=1)\n",
    "\n",
    "clf.fit(X, y)\n",
    "print(\"Best parameters:\", clf.best_params_)\n",
    "print(\"Lowest score: \", (-clf.best_score_)**(1/2.0))"
   ]
  },
  {
   "cell_type": "code",
   "execution_count": 280,
   "id": "2adb2b09",
   "metadata": {},
   "outputs": [],
   "source": [
    "from sklearn.tree import DecisionTreeRegressor\n",
    "from sklearn.metrics import mean_squared_error as MSE\n",
    "\n",
    "\n",
    "dt = DecisionTreeRegressor(max_depth=6,\n",
    "                          min_samples_leaf = 0.01,\n",
    "                          random_state=3)"
   ]
  },
  {
   "cell_type": "code",
   "execution_count": 281,
   "id": "39236269",
   "metadata": {},
   "outputs": [
    {
     "data": {
      "text/plain": [
       "DecisionTreeRegressor(max_depth=6, min_samples_leaf=0.01, random_state=3)"
      ]
     },
     "execution_count": 281,
     "metadata": {},
     "output_type": "execute_result"
    }
   ],
   "source": [
    "dt.fit(x_train_100, y_train)"
   ]
  },
  {
   "cell_type": "code",
   "execution_count": 282,
   "id": "26498e18",
   "metadata": {},
   "outputs": [],
   "source": [
    "Y_pred = dt.predict(x_test_100)"
   ]
  },
  {
   "cell_type": "code",
   "execution_count": 283,
   "id": "88d7e3ef",
   "metadata": {},
   "outputs": [
    {
     "name": "stdout",
     "output_type": "stream",
     "text": [
      "1-MAE 0.8772759979190977\n"
     ]
    }
   ],
   "source": [
    "mae = mean_absolute_error(Y_test, Y_pred)\n",
    "\n",
    "print(\"1-MAE\", 1-mae)"
   ]
  },
  {
   "cell_type": "code",
   "execution_count": 290,
   "id": "2e6edf3d",
   "metadata": {},
   "outputs": [],
   "source": [
    "x_train_224 = bestfeatureslist(x_train, listbestvalues_openness, 224)\n",
    "x_test_224 = bestfeatureslist(x_test, listbestvalues_openness, 224)"
   ]
  },
  {
   "cell_type": "code",
   "execution_count": 291,
   "id": "095ac02a",
   "metadata": {},
   "outputs": [
    {
     "name": "stdout",
     "output_type": "stream",
     "text": [
      "Fitting 5 folds for each of 28 candidates, totalling 140 fits\n",
      "Best parameters: {'max_depth': 5, 'min_samples_leaf': 0.01}\n",
      "Lowest score:  0.3325363652557089\n"
     ]
    }
   ],
   "source": [
    "import pandas as pd\n",
    "from sklearn.model_selection import GridSearchCV\n",
    "\n",
    "data = pd.read_csv(\"complete_CSV_Train.csv\")\n",
    "\n",
    "X, y = x_train_224, y_train #1\n",
    "    \n",
    "params = { 'max_depth': [1,2,3,4,5,6, None],\n",
    "         'min_samples_leaf': [0.1, 0.5, 0.01, 1],\n",
    "         }\n",
    "\n",
    "dt = dt\n",
    "clf = GridSearchCV(estimator=dt, \n",
    "                   param_grid=params,\n",
    "                   scoring='neg_mean_absolute_error', \n",
    "                   verbose=1)\n",
    "\n",
    "clf.fit(X, y)\n",
    "print(\"Best parameters:\", clf.best_params_)\n",
    "print(\"Lowest score: \", (-clf.best_score_)**(1/2.0))"
   ]
  },
  {
   "cell_type": "code",
   "execution_count": 294,
   "id": "8df6e0ea",
   "metadata": {},
   "outputs": [],
   "source": [
    "from sklearn.tree import DecisionTreeRegressor\n",
    "from sklearn.metrics import mean_squared_error as MSE\n",
    "\n",
    "\n",
    "dt = DecisionTreeRegressor(max_depth=5,\n",
    "                          min_samples_leaf = 0.01,\n",
    "                          random_state=3)"
   ]
  },
  {
   "cell_type": "code",
   "execution_count": 295,
   "id": "76ef4735",
   "metadata": {},
   "outputs": [
    {
     "data": {
      "text/plain": [
       "DecisionTreeRegressor(max_depth=5, min_samples_leaf=0.01, random_state=3)"
      ]
     },
     "execution_count": 295,
     "metadata": {},
     "output_type": "execute_result"
    }
   ],
   "source": [
    "dt.fit(x_train_224, y_train)"
   ]
  },
  {
   "cell_type": "code",
   "execution_count": 296,
   "id": "c73c15a0",
   "metadata": {},
   "outputs": [],
   "source": [
    "Y_pred = dt.predict(x_test_224)"
   ]
  },
  {
   "cell_type": "code",
   "execution_count": 297,
   "id": "4b46ad78",
   "metadata": {},
   "outputs": [
    {
     "name": "stdout",
     "output_type": "stream",
     "text": [
      "1-MAE 0.8770253870277304\n"
     ]
    }
   ],
   "source": [
    "mae = mean_absolute_error(Y_test, Y_pred)\n",
    "\n",
    "print(\"1-MAE\", 1-mae)"
   ]
  },
  {
   "cell_type": "code",
   "execution_count": 298,
   "id": "488ab754",
   "metadata": {},
   "outputs": [],
   "source": [
    "csv_file = \"complete_CSV_Train.csv\"\n",
    "x_train, y_train = labels_conscientiousness(csv_file)\n",
    "csv_file = \"complete_CSV_validation.csv\"\n",
    "x_test, y_test = labels_conscientiousness(csv_file)"
   ]
  },
  {
   "cell_type": "code",
   "execution_count": 299,
   "id": "66f52e36",
   "metadata": {},
   "outputs": [],
   "source": [
    "x_train_10 = bestfeatureslist(x_train, listbestvalues_conscientiousness, 10)\n",
    "x_test_10 = bestfeatureslist(x_test, listbestvalues_conscientiousness, 10)"
   ]
  },
  {
   "cell_type": "code",
   "execution_count": 300,
   "id": "6652216b",
   "metadata": {},
   "outputs": [
    {
     "name": "stdout",
     "output_type": "stream",
     "text": [
      "Fitting 5 folds for each of 28 candidates, totalling 140 fits\n",
      "Best parameters: {'max_depth': 4, 'min_samples_leaf': 0.01}\n",
      "Lowest score:  0.3502785168290907\n"
     ]
    }
   ],
   "source": [
    "import pandas as pd\n",
    "from sklearn.model_selection import GridSearchCV\n",
    "\n",
    "data = pd.read_csv(\"complete_CSV_Train.csv\")\n",
    "\n",
    "X, y = x_train_10, y_train #1\n",
    "    \n",
    "params = { 'max_depth': [1,2,3,4,5,6, None],\n",
    "         'min_samples_leaf': [0.1, 0.5, 0.01, 1],\n",
    "         }\n",
    "\n",
    "dt = dt\n",
    "clf = GridSearchCV(estimator=dt, \n",
    "                   param_grid=params,\n",
    "                   scoring='neg_mean_absolute_error', \n",
    "                   verbose=1)\n",
    "\n",
    "clf.fit(X, y)\n",
    "print(\"Best parameters:\", clf.best_params_)\n",
    "print(\"Lowest score: \", (-clf.best_score_)**(1/2.0))"
   ]
  },
  {
   "cell_type": "code",
   "execution_count": 301,
   "id": "dd5eb5ec",
   "metadata": {},
   "outputs": [],
   "source": [
    "from sklearn.tree import DecisionTreeRegressor\n",
    "from sklearn.metrics import mean_squared_error as MSE\n",
    "\n",
    "\n",
    "dt = DecisionTreeRegressor(max_depth=4,\n",
    "                          min_samples_leaf = 0.01,\n",
    "                          random_state=3)"
   ]
  },
  {
   "cell_type": "code",
   "execution_count": 302,
   "id": "0279af00",
   "metadata": {},
   "outputs": [
    {
     "data": {
      "text/plain": [
       "DecisionTreeRegressor(max_depth=4, min_samples_leaf=0.01, random_state=3)"
      ]
     },
     "execution_count": 302,
     "metadata": {},
     "output_type": "execute_result"
    }
   ],
   "source": [
    "dt.fit(x_train_10, y_train)"
   ]
  },
  {
   "cell_type": "code",
   "execution_count": 303,
   "id": "ece3772e",
   "metadata": {},
   "outputs": [],
   "source": [
    "Y_pred = dt.predict(x_test_10)"
   ]
  },
  {
   "cell_type": "code",
   "execution_count": 304,
   "id": "2ae94f8e",
   "metadata": {},
   "outputs": [
    {
     "name": "stdout",
     "output_type": "stream",
     "text": [
      "1-MAE 0.8853546544984787\n"
     ]
    }
   ],
   "source": [
    "mae = mean_absolute_error(Y_test, Y_pred)\n",
    "\n",
    "print(\"1-MAE\", 1-mae)"
   ]
  },
  {
   "cell_type": "code",
   "execution_count": 305,
   "id": "f77bb889",
   "metadata": {},
   "outputs": [],
   "source": [
    "x_train_50 = bestfeatureslist(x_train, listbestvalues_conscientiousness, 50)\n",
    "x_test_50 = bestfeatureslist(x_test, listbestvalues_conscientiousness, 50)"
   ]
  },
  {
   "cell_type": "code",
   "execution_count": 306,
   "id": "44b3b545",
   "metadata": {},
   "outputs": [
    {
     "name": "stdout",
     "output_type": "stream",
     "text": [
      "Fitting 5 folds for each of 28 candidates, totalling 140 fits\n",
      "Best parameters: {'max_depth': 5, 'min_samples_leaf': 0.01}\n",
      "Lowest score:  0.34876024543891376\n"
     ]
    }
   ],
   "source": [
    "import pandas as pd\n",
    "from sklearn.model_selection import GridSearchCV\n",
    "\n",
    "data = pd.read_csv(\"complete_CSV_Train.csv\")\n",
    "\n",
    "X, y = x_train_50, y_train #1\n",
    "    \n",
    "params = { 'max_depth': [1,2,3,4,5,6, None],\n",
    "         'min_samples_leaf': [0.1, 0.5, 0.01, 1],\n",
    "         }\n",
    "\n",
    "dt = dt\n",
    "clf = GridSearchCV(estimator=dt, \n",
    "                   param_grid=params,\n",
    "                   scoring='neg_mean_absolute_error', \n",
    "                   verbose=1)\n",
    "\n",
    "clf.fit(X, y)\n",
    "print(\"Best parameters:\", clf.best_params_)\n",
    "print(\"Lowest score: \", (-clf.best_score_)**(1/2.0))"
   ]
  },
  {
   "cell_type": "code",
   "execution_count": 307,
   "id": "e76a2369",
   "metadata": {},
   "outputs": [],
   "source": [
    "from sklearn.tree import DecisionTreeRegressor\n",
    "from sklearn.metrics import mean_squared_error as MSE\n",
    "\n",
    "\n",
    "dt = DecisionTreeRegressor(max_depth=5,\n",
    "                          min_samples_leaf = 0.01,\n",
    "                          random_state=3)"
   ]
  },
  {
   "cell_type": "code",
   "execution_count": 308,
   "id": "5e0f1aaa",
   "metadata": {},
   "outputs": [
    {
     "data": {
      "text/plain": [
       "DecisionTreeRegressor(max_depth=5, min_samples_leaf=0.01, random_state=3)"
      ]
     },
     "execution_count": 308,
     "metadata": {},
     "output_type": "execute_result"
    }
   ],
   "source": [
    "dt.fit(x_train_50, y_train)"
   ]
  },
  {
   "cell_type": "code",
   "execution_count": 309,
   "id": "514091b1",
   "metadata": {},
   "outputs": [],
   "source": [
    "Y_pred = dt.predict(x_test_50)"
   ]
  },
  {
   "cell_type": "code",
   "execution_count": 310,
   "id": "b6851239",
   "metadata": {},
   "outputs": [
    {
     "name": "stdout",
     "output_type": "stream",
     "text": [
      "1-MAE 0.8847445042753344\n"
     ]
    }
   ],
   "source": [
    "mae = mean_absolute_error(Y_test, Y_pred)\n",
    "\n",
    "print(\"1-MAE\", 1-mae)"
   ]
  },
  {
   "cell_type": "code",
   "execution_count": 311,
   "id": "38f2aee7",
   "metadata": {},
   "outputs": [],
   "source": [
    "x_train_100 = bestfeatureslist(x_train, listbestvalues_conscientiousness, 100)\n",
    "x_test_100 = bestfeatureslist(x_test, listbestvalues_conscientiousness, 100)"
   ]
  },
  {
   "cell_type": "code",
   "execution_count": 312,
   "id": "1c2b5af6",
   "metadata": {},
   "outputs": [
    {
     "name": "stdout",
     "output_type": "stream",
     "text": [
      "Fitting 5 folds for each of 28 candidates, totalling 140 fits\n",
      "Best parameters: {'max_depth': 4, 'min_samples_leaf': 1}\n",
      "Lowest score:  0.3484549735325411\n"
     ]
    }
   ],
   "source": [
    "import pandas as pd\n",
    "from sklearn.model_selection import GridSearchCV\n",
    "\n",
    "data = pd.read_csv(\"complete_CSV_Train.csv\")\n",
    "\n",
    "X, y = x_train_100, y_train #1\n",
    "    \n",
    "params = { 'max_depth': [1,2,3,4,5,6, None],\n",
    "         'min_samples_leaf': [0.1, 0.5, 0.01, 1],\n",
    "         }\n",
    "\n",
    "dt = dt\n",
    "clf = GridSearchCV(estimator=dt, \n",
    "                   param_grid=params,\n",
    "                   scoring='neg_mean_absolute_error', \n",
    "                   verbose=1)\n",
    "\n",
    "clf.fit(X, y)\n",
    "print(\"Best parameters:\", clf.best_params_)\n",
    "print(\"Lowest score: \", (-clf.best_score_)**(1/2.0))"
   ]
  },
  {
   "cell_type": "code",
   "execution_count": 315,
   "id": "d2dd6f0f",
   "metadata": {},
   "outputs": [],
   "source": [
    "from sklearn.tree import DecisionTreeRegressor\n",
    "from sklearn.metrics import mean_squared_error as MSE\n",
    "\n",
    "\n",
    "dt = DecisionTreeRegressor(max_depth=4,\n",
    "                          min_samples_leaf = 1,\n",
    "                          random_state=3)"
   ]
  },
  {
   "cell_type": "code",
   "execution_count": 316,
   "id": "4d0069db",
   "metadata": {},
   "outputs": [
    {
     "data": {
      "text/plain": [
       "DecisionTreeRegressor(max_depth=4, random_state=3)"
      ]
     },
     "execution_count": 316,
     "metadata": {},
     "output_type": "execute_result"
    }
   ],
   "source": [
    "dt.fit(x_train_100, y_train)"
   ]
  },
  {
   "cell_type": "code",
   "execution_count": 317,
   "id": "3b62f29f",
   "metadata": {},
   "outputs": [],
   "source": [
    "Y_pred = dt.predict(x_test_100)"
   ]
  },
  {
   "cell_type": "code",
   "execution_count": 318,
   "id": "aa24768b",
   "metadata": {},
   "outputs": [
    {
     "name": "stdout",
     "output_type": "stream",
     "text": [
      "1-MAE 0.8861007146153306\n"
     ]
    }
   ],
   "source": [
    "mae = mean_absolute_error(Y_test, Y_pred)\n",
    "\n",
    "print(\"1-MAE\", 1-mae)"
   ]
  },
  {
   "cell_type": "code",
   "execution_count": 319,
   "id": "fc2f5701",
   "metadata": {},
   "outputs": [],
   "source": [
    "x_train_224 = bestfeatureslist(x_train, listbestvalues_conscientiousness, 224)\n",
    "x_test_224 = bestfeatureslist(x_test, listbestvalues_conscientiousness, 224)"
   ]
  },
  {
   "cell_type": "code",
   "execution_count": 320,
   "id": "c16595ec",
   "metadata": {},
   "outputs": [
    {
     "name": "stdout",
     "output_type": "stream",
     "text": [
      "Fitting 5 folds for each of 28 candidates, totalling 140 fits\n",
      "Best parameters: {'max_depth': 4, 'min_samples_leaf': 0.01}\n",
      "Lowest score:  0.3478370138548622\n"
     ]
    }
   ],
   "source": [
    "import pandas as pd\n",
    "from sklearn.model_selection import GridSearchCV\n",
    "\n",
    "data = pd.read_csv(\"complete_CSV_Train.csv\")\n",
    "\n",
    "X, y = x_train_224, y_train #1\n",
    "    \n",
    "params = { 'max_depth': [1,2,3,4,5,6, None],\n",
    "         'min_samples_leaf': [0.1, 0.5, 0.01, 1],\n",
    "         }\n",
    "\n",
    "dt = dt\n",
    "clf = GridSearchCV(estimator=dt, \n",
    "                   param_grid=params,\n",
    "                   scoring='neg_mean_absolute_error', \n",
    "                   verbose=1)\n",
    "\n",
    "clf.fit(X, y)\n",
    "print(\"Best parameters:\", clf.best_params_)\n",
    "print(\"Lowest score: \", (-clf.best_score_)**(1/2.0))"
   ]
  },
  {
   "cell_type": "code",
   "execution_count": 321,
   "id": "a0bae3e3",
   "metadata": {},
   "outputs": [],
   "source": [
    "from sklearn.tree import DecisionTreeRegressor\n",
    "from sklearn.metrics import mean_squared_error as MSE\n",
    "\n",
    "\n",
    "dt = DecisionTreeRegressor(max_depth=4,\n",
    "                          min_samples_leaf = 0.01,\n",
    "                          random_state=3)"
   ]
  },
  {
   "cell_type": "code",
   "execution_count": 322,
   "id": "a49843df",
   "metadata": {},
   "outputs": [
    {
     "data": {
      "text/plain": [
       "DecisionTreeRegressor(max_depth=4, min_samples_leaf=0.01, random_state=3)"
      ]
     },
     "execution_count": 322,
     "metadata": {},
     "output_type": "execute_result"
    }
   ],
   "source": [
    "dt.fit(x_train_224, y_train)"
   ]
  },
  {
   "cell_type": "code",
   "execution_count": 323,
   "id": "00fd081b",
   "metadata": {},
   "outputs": [],
   "source": [
    "Y_pred = dt.predict(x_test_224)"
   ]
  },
  {
   "cell_type": "code",
   "execution_count": 324,
   "id": "586d422d",
   "metadata": {},
   "outputs": [
    {
     "name": "stdout",
     "output_type": "stream",
     "text": [
      "1-MAE 0.887546106384091\n"
     ]
    }
   ],
   "source": [
    "mae = mean_absolute_error(Y_test, Y_pred)\n",
    "\n",
    "print(\"1-MAE\", 1-mae)"
   ]
  },
  {
   "cell_type": "code",
   "execution_count": 325,
   "id": "34e7d660",
   "metadata": {},
   "outputs": [],
   "source": [
    "csv_file = \"complete_CSV_Train.csv\"\n",
    "x_train, y_train = labels_extroversion(csv_file)\n",
    "csv_file = \"complete_CSV_validation.csv\"\n",
    "x_test, y_test = labels_extroversion(csv_file)"
   ]
  },
  {
   "cell_type": "code",
   "execution_count": 326,
   "id": "d8f9c7f1",
   "metadata": {},
   "outputs": [],
   "source": [
    "x_train_10 = bestfeatureslist(x_train, listbestvalues_extroversion, 10)\n",
    "x_test_10 = bestfeatureslist(x_test, listbestvalues_extroversion, 10)"
   ]
  },
  {
   "cell_type": "code",
   "execution_count": 327,
   "id": "81af4c12",
   "metadata": {},
   "outputs": [
    {
     "name": "stdout",
     "output_type": "stream",
     "text": [
      "Fitting 5 folds for each of 28 candidates, totalling 140 fits\n",
      "Best parameters: {'max_depth': 4, 'min_samples_leaf': 0.01}\n",
      "Lowest score:  0.33298806239631273\n"
     ]
    }
   ],
   "source": [
    "import pandas as pd\n",
    "from sklearn.model_selection import GridSearchCV\n",
    "\n",
    "data = pd.read_csv(\"complete_CSV_Train.csv\")\n",
    "\n",
    "X, y = x_train_10, y_train #1\n",
    "    \n",
    "params = { 'max_depth': [1,2,3,4,5,6, None],\n",
    "         'min_samples_leaf': [0.1, 0.5, 0.01, 1],\n",
    "         }\n",
    "\n",
    "dt = dt\n",
    "clf = GridSearchCV(estimator=dt, \n",
    "                   param_grid=params,\n",
    "                   scoring='neg_mean_absolute_error', \n",
    "                   verbose=1)\n",
    "\n",
    "clf.fit(X, y)\n",
    "print(\"Best parameters:\", clf.best_params_)\n",
    "print(\"Lowest score: \", (-clf.best_score_)**(1/2.0))"
   ]
  },
  {
   "cell_type": "code",
   "execution_count": 328,
   "id": "d88e3f9c",
   "metadata": {},
   "outputs": [],
   "source": [
    "from sklearn.tree import DecisionTreeRegressor\n",
    "from sklearn.metrics import mean_squared_error as MSE\n",
    "\n",
    "\n",
    "dt = DecisionTreeRegressor(max_depth=4,\n",
    "                          min_samples_leaf = 0.01,\n",
    "                          random_state=3)"
   ]
  },
  {
   "cell_type": "code",
   "execution_count": 329,
   "id": "6e51ff7e",
   "metadata": {},
   "outputs": [
    {
     "data": {
      "text/plain": [
       "DecisionTreeRegressor(max_depth=4, min_samples_leaf=0.01, random_state=3)"
      ]
     },
     "execution_count": 329,
     "metadata": {},
     "output_type": "execute_result"
    }
   ],
   "source": [
    "dt.fit(x_train_10, y_train)"
   ]
  },
  {
   "cell_type": "code",
   "execution_count": 330,
   "id": "c974eb2c",
   "metadata": {},
   "outputs": [],
   "source": [
    "Y_pred = dt.predict(x_test_10)"
   ]
  },
  {
   "cell_type": "code",
   "execution_count": 331,
   "id": "ed4f365d",
   "metadata": {},
   "outputs": [
    {
     "name": "stdout",
     "output_type": "stream",
     "text": [
      "1-MAE 0.8832887019157342\n"
     ]
    }
   ],
   "source": [
    "mae = mean_absolute_error(Y_test, Y_pred)\n",
    "\n",
    "print(\"1-MAE\", 1-mae)"
   ]
  },
  {
   "cell_type": "code",
   "execution_count": 332,
   "id": "7afcac06",
   "metadata": {},
   "outputs": [],
   "source": [
    "x_train_50 = bestfeatureslist(x_train, listbestvalues_conscientiousness, 50)\n",
    "x_test_50 = bestfeatureslist(x_test, listbestvalues_conscientiousness, 50)"
   ]
  },
  {
   "cell_type": "code",
   "execution_count": 333,
   "id": "eaae1608",
   "metadata": {},
   "outputs": [
    {
     "name": "stdout",
     "output_type": "stream",
     "text": [
      "Fitting 5 folds for each of 28 candidates, totalling 140 fits\n",
      "Best parameters: {'max_depth': 4, 'min_samples_leaf': 0.01}\n",
      "Lowest score:  0.34505270143785954\n"
     ]
    }
   ],
   "source": [
    "import pandas as pd\n",
    "from sklearn.model_selection import GridSearchCV\n",
    "\n",
    "data = pd.read_csv(\"complete_CSV_Train.csv\")\n",
    "\n",
    "X, y = x_train_50, y_train #1\n",
    "    \n",
    "params = { 'max_depth': [1,2,3,4,5,6, None],\n",
    "         'min_samples_leaf': [0.1, 0.5, 0.01, 1],\n",
    "         }\n",
    "\n",
    "dt = dt\n",
    "clf = GridSearchCV(estimator=dt, \n",
    "                   param_grid=params,\n",
    "                   scoring='neg_mean_absolute_error', \n",
    "                   verbose=1)\n",
    "\n",
    "clf.fit(X, y)\n",
    "print(\"Best parameters:\", clf.best_params_)\n",
    "print(\"Lowest score: \", (-clf.best_score_)**(1/2.0))"
   ]
  },
  {
   "cell_type": "code",
   "execution_count": 334,
   "id": "4aa7028a",
   "metadata": {},
   "outputs": [],
   "source": [
    "from sklearn.tree import DecisionTreeRegressor\n",
    "from sklearn.metrics import mean_squared_error as MSE\n",
    "\n",
    "\n",
    "dt = DecisionTreeRegressor(max_depth=4,\n",
    "                          min_samples_leaf = 0.01,\n",
    "                          random_state=3)"
   ]
  },
  {
   "cell_type": "code",
   "execution_count": 335,
   "id": "923bbc26",
   "metadata": {},
   "outputs": [
    {
     "data": {
      "text/plain": [
       "DecisionTreeRegressor(max_depth=4, min_samples_leaf=0.01, random_state=3)"
      ]
     },
     "execution_count": 335,
     "metadata": {},
     "output_type": "execute_result"
    }
   ],
   "source": [
    "dt.fit(x_train_50, y_train)"
   ]
  },
  {
   "cell_type": "code",
   "execution_count": 336,
   "id": "9dfb2c06",
   "metadata": {},
   "outputs": [],
   "source": [
    "Y_pred = dt.predict(x_test_50)"
   ]
  },
  {
   "cell_type": "code",
   "execution_count": 337,
   "id": "ea1fefd3",
   "metadata": {},
   "outputs": [
    {
     "name": "stdout",
     "output_type": "stream",
     "text": [
      "1-MAE 0.8837639227780332\n"
     ]
    }
   ],
   "source": [
    "mae = mean_absolute_error(Y_test, Y_pred)\n",
    "\n",
    "print(\"1-MAE\", 1-mae)"
   ]
  },
  {
   "cell_type": "code",
   "execution_count": 338,
   "id": "79a27bef",
   "metadata": {},
   "outputs": [],
   "source": [
    "x_train_100 = bestfeatureslist(x_train, listbestvalues_conscientiousness, 100)\n",
    "x_test_100 = bestfeatureslist(x_test, listbestvalues_conscientiousness, 100)"
   ]
  },
  {
   "cell_type": "code",
   "execution_count": 339,
   "id": "2f467877",
   "metadata": {},
   "outputs": [
    {
     "name": "stdout",
     "output_type": "stream",
     "text": [
      "Fitting 5 folds for each of 28 candidates, totalling 140 fits\n",
      "Best parameters: {'max_depth': 3, 'min_samples_leaf': 0.01}\n",
      "Lowest score:  0.33707570916947965\n"
     ]
    }
   ],
   "source": [
    "import pandas as pd\n",
    "from sklearn.model_selection import GridSearchCV\n",
    "\n",
    "data = pd.read_csv(\"complete_CSV_Train.csv\")\n",
    "\n",
    "X, y = x_train_100, y_train #1\n",
    "    \n",
    "params = { 'max_depth': [1,2,3,4,5,6, None],\n",
    "         'min_samples_leaf': [0.1, 0.5, 0.01, 1],\n",
    "         }\n",
    "\n",
    "dt = dt\n",
    "clf = GridSearchCV(estimator=dt, \n",
    "                   param_grid=params,\n",
    "                   scoring='neg_mean_absolute_error', \n",
    "                   verbose=1)\n",
    "\n",
    "clf.fit(X, y)\n",
    "print(\"Best parameters:\", clf.best_params_)\n",
    "print(\"Lowest score: \", (-clf.best_score_)**(1/2.0))"
   ]
  },
  {
   "cell_type": "code",
   "execution_count": 340,
   "id": "768848b5",
   "metadata": {},
   "outputs": [],
   "source": [
    "from sklearn.tree import DecisionTreeRegressor\n",
    "from sklearn.metrics import mean_squared_error as MSE\n",
    "\n",
    "\n",
    "dt = DecisionTreeRegressor(max_depth=3,\n",
    "                          min_samples_leaf = 0.01,\n",
    "                          random_state=3)"
   ]
  },
  {
   "cell_type": "code",
   "execution_count": 341,
   "id": "bef7c418",
   "metadata": {},
   "outputs": [
    {
     "data": {
      "text/plain": [
       "DecisionTreeRegressor(max_depth=3, min_samples_leaf=0.01, random_state=3)"
      ]
     },
     "execution_count": 341,
     "metadata": {},
     "output_type": "execute_result"
    }
   ],
   "source": [
    "dt.fit(x_train_100, y_train)"
   ]
  },
  {
   "cell_type": "code",
   "execution_count": 342,
   "id": "940c794a",
   "metadata": {},
   "outputs": [],
   "source": [
    "Y_pred = dt.predict(x_test_100)"
   ]
  },
  {
   "cell_type": "code",
   "execution_count": 343,
   "id": "fafeaed2",
   "metadata": {},
   "outputs": [
    {
     "name": "stdout",
     "output_type": "stream",
     "text": [
      "1-MAE 0.8842406019819199\n"
     ]
    }
   ],
   "source": [
    "mae = mean_absolute_error(Y_test, Y_pred)\n",
    "\n",
    "print(\"1-MAE\", 1-mae)"
   ]
  },
  {
   "cell_type": "code",
   "execution_count": 344,
   "id": "97fd96bc",
   "metadata": {},
   "outputs": [],
   "source": [
    "x_train_224 = bestfeatureslist(x_train, listbestvalues_conscientiousness, 224)\n",
    "x_test_224 = bestfeatureslist(x_test, listbestvalues_conscientiousness, 224)"
   ]
  },
  {
   "cell_type": "code",
   "execution_count": 345,
   "id": "963424f9",
   "metadata": {},
   "outputs": [
    {
     "name": "stdout",
     "output_type": "stream",
     "text": [
      "Fitting 5 folds for each of 28 candidates, totalling 140 fits\n",
      "Best parameters: {'max_depth': 5, 'min_samples_leaf': 0.01}\n",
      "Lowest score:  0.3318535911340461\n"
     ]
    }
   ],
   "source": [
    "import pandas as pd\n",
    "from sklearn.model_selection import GridSearchCV\n",
    "\n",
    "data = pd.read_csv(\"complete_CSV_Train.csv\")\n",
    "\n",
    "X, y = x_train_224, y_train #1\n",
    "    \n",
    "params = { 'max_depth': [1,2,3,4,5,6, None],\n",
    "         'min_samples_leaf': [0.1, 0.5, 0.01, 1],\n",
    "         }\n",
    "\n",
    "dt = dt\n",
    "clf = GridSearchCV(estimator=dt, \n",
    "                   param_grid=params,\n",
    "                   scoring='neg_mean_absolute_error', \n",
    "                   verbose=1)\n",
    "\n",
    "clf.fit(X, y)\n",
    "print(\"Best parameters:\", clf.best_params_)\n",
    "print(\"Lowest score: \", (-clf.best_score_)**(1/2.0))"
   ]
  },
  {
   "cell_type": "code",
   "execution_count": 346,
   "id": "837d08e2",
   "metadata": {},
   "outputs": [],
   "source": [
    "from sklearn.tree import DecisionTreeRegressor\n",
    "from sklearn.metrics import mean_squared_error as MSE\n",
    "\n",
    "\n",
    "dt = DecisionTreeRegressor(max_depth=5,\n",
    "                          min_samples_leaf = 0.01,\n",
    "                          random_state=3)"
   ]
  },
  {
   "cell_type": "code",
   "execution_count": 347,
   "id": "78e6cd86",
   "metadata": {},
   "outputs": [
    {
     "data": {
      "text/plain": [
       "DecisionTreeRegressor(max_depth=5, min_samples_leaf=0.01, random_state=3)"
      ]
     },
     "execution_count": 347,
     "metadata": {},
     "output_type": "execute_result"
    }
   ],
   "source": [
    "dt.fit(x_train_224, y_train)"
   ]
  },
  {
   "cell_type": "code",
   "execution_count": 348,
   "id": "0dab3f23",
   "metadata": {},
   "outputs": [],
   "source": [
    "Y_pred = dt.predict(x_test_224)"
   ]
  },
  {
   "cell_type": "code",
   "execution_count": 349,
   "id": "eba412af",
   "metadata": {},
   "outputs": [
    {
     "name": "stdout",
     "output_type": "stream",
     "text": [
      "1-MAE 0.8837679887058789\n"
     ]
    }
   ],
   "source": [
    "mae = mean_absolute_error(Y_test, Y_pred)\n",
    "\n",
    "print(\"1-MAE\", 1-mae)"
   ]
  },
  {
   "cell_type": "code",
   "execution_count": 351,
   "id": "3dc09bd7",
   "metadata": {},
   "outputs": [],
   "source": [
    "csv_file = \"complete_CSV_Train.csv\"\n",
    "x_train, y_train = labels_agreeableness(csv_file)\n",
    "csv_file = \"complete_CSV_validation.csv\"\n",
    "x_test, y_test = labels_agreeableness(csv_file)"
   ]
  },
  {
   "cell_type": "code",
   "execution_count": 352,
   "id": "306852d2",
   "metadata": {},
   "outputs": [],
   "source": [
    "x_train_10 = bestfeatureslist(x_train, listbestvalues_agreeableness, 10)\n",
    "x_test_10 = bestfeatureslist(x_test, listbestvalues_agreeableness, 10)"
   ]
  },
  {
   "cell_type": "code",
   "execution_count": 353,
   "id": "d0ea724c",
   "metadata": {
    "scrolled": true
   },
   "outputs": [
    {
     "name": "stdout",
     "output_type": "stream",
     "text": [
      "Fitting 5 folds for each of 28 candidates, totalling 140 fits\n",
      "Best parameters: {'max_depth': 4, 'min_samples_leaf': 0.01}\n",
      "Lowest score:  0.32618840924725234\n"
     ]
    }
   ],
   "source": [
    "import pandas as pd\n",
    "from sklearn.model_selection import GridSearchCV\n",
    "\n",
    "data = pd.read_csv(\"complete_CSV_Train.csv\")\n",
    "\n",
    "X, y = x_train_10, y_train #1\n",
    "    \n",
    "params = { 'max_depth': [1,2,3,4,5,6, None],\n",
    "         'min_samples_leaf': [0.1, 0.5, 0.01, 1],\n",
    "         }\n",
    "\n",
    "dt = dt\n",
    "clf = GridSearchCV(estimator=dt, \n",
    "                   param_grid=params,\n",
    "                   scoring='neg_mean_absolute_error', \n",
    "                   verbose=1)\n",
    "\n",
    "clf.fit(X, y)\n",
    "print(\"Best parameters:\", clf.best_params_)\n",
    "print(\"Lowest score: \", (-clf.best_score_)**(1/2.0))"
   ]
  },
  {
   "cell_type": "code",
   "execution_count": 354,
   "id": "f033c7f8",
   "metadata": {},
   "outputs": [],
   "source": [
    "from sklearn.tree import DecisionTreeRegressor\n",
    "from sklearn.metrics import mean_squared_error as MSE\n",
    "\n",
    "\n",
    "dt = DecisionTreeRegressor(max_depth=4,\n",
    "                          min_samples_leaf = 0.01,\n",
    "                          random_state=3)"
   ]
  },
  {
   "cell_type": "code",
   "execution_count": 366,
   "id": "b1d2ccd5",
   "metadata": {},
   "outputs": [
    {
     "data": {
      "text/plain": [
       "DecisionTreeRegressor(max_depth=3, min_samples_leaf=0.01, random_state=3)"
      ]
     },
     "execution_count": 366,
     "metadata": {},
     "output_type": "execute_result"
    }
   ],
   "source": [
    "dt.fit(x_train_10, y_train)"
   ]
  },
  {
   "cell_type": "code",
   "execution_count": 367,
   "id": "2f27531f",
   "metadata": {},
   "outputs": [],
   "source": [
    "Y_pred = dt.predict(x_test_10)"
   ]
  },
  {
   "cell_type": "code",
   "execution_count": 368,
   "id": "0a808304",
   "metadata": {},
   "outputs": [
    {
     "name": "stdout",
     "output_type": "stream",
     "text": [
      "1-MAE 0.8835091590984064\n"
     ]
    }
   ],
   "source": [
    "mae = mean_absolute_error(Y_test, Y_pred)\n",
    "\n",
    "print(\"1-MAE\", 1-mae)"
   ]
  },
  {
   "cell_type": "code",
   "execution_count": 358,
   "id": "c483aded",
   "metadata": {},
   "outputs": [],
   "source": [
    "x_train_50 = bestfeatureslist(x_train, listbestvalues_agreeableness, 50)\n",
    "x_test_50 = bestfeatureslist(x_test, listbestvalues_agreeableness, 50)"
   ]
  },
  {
   "cell_type": "code",
   "execution_count": 359,
   "id": "5fb3628c",
   "metadata": {},
   "outputs": [
    {
     "name": "stdout",
     "output_type": "stream",
     "text": [
      "Fitting 5 folds for each of 28 candidates, totalling 140 fits\n",
      "Best parameters: {'max_depth': 3, 'min_samples_leaf': 0.01}\n",
      "Lowest score:  0.3258941191882124\n"
     ]
    }
   ],
   "source": [
    "import pandas as pd\n",
    "from sklearn.model_selection import GridSearchCV\n",
    "\n",
    "data = pd.read_csv(\"complete_CSV_Train.csv\")\n",
    "\n",
    "X, y = x_train_50, y_train #1\n",
    "    \n",
    "params = { 'max_depth': [1,2,3,4,5,6, None],\n",
    "         'min_samples_leaf': [0.1, 0.5, 0.01, 1],\n",
    "         }\n",
    "\n",
    "dt = dt\n",
    "clf = GridSearchCV(estimator=dt, \n",
    "                   param_grid=params,\n",
    "                   scoring='neg_mean_absolute_error', \n",
    "                   verbose=1)\n",
    "\n",
    "clf.fit(X, y)\n",
    "print(\"Best parameters:\", clf.best_params_)\n",
    "print(\"Lowest score: \", (-clf.best_score_)**(1/2.0))"
   ]
  },
  {
   "cell_type": "code",
   "execution_count": 360,
   "id": "7ef14c49",
   "metadata": {},
   "outputs": [],
   "source": [
    "from sklearn.tree import DecisionTreeRegressor\n",
    "from sklearn.metrics import mean_squared_error as MSE\n",
    "\n",
    "\n",
    "dt = DecisionTreeRegressor(max_depth=3,\n",
    "                          min_samples_leaf = 0.01,\n",
    "                          random_state=3)"
   ]
  },
  {
   "cell_type": "code",
   "execution_count": 361,
   "id": "4699c37b",
   "metadata": {},
   "outputs": [
    {
     "data": {
      "text/plain": [
       "DecisionTreeRegressor(max_depth=3, min_samples_leaf=0.01, random_state=3)"
      ]
     },
     "execution_count": 361,
     "metadata": {},
     "output_type": "execute_result"
    }
   ],
   "source": [
    "dt.fit(x_train_50, y_train)"
   ]
  },
  {
   "cell_type": "code",
   "execution_count": 362,
   "id": "e42339ac",
   "metadata": {},
   "outputs": [],
   "source": [
    "Y_pred = dt.predict(x_test_50)"
   ]
  },
  {
   "cell_type": "code",
   "execution_count": 363,
   "id": "433a232d",
   "metadata": {},
   "outputs": [
    {
     "name": "stdout",
     "output_type": "stream",
     "text": [
      "1-MAE 0.8832329136765776\n"
     ]
    }
   ],
   "source": [
    "mae = mean_absolute_error(Y_test, Y_pred)\n",
    "\n",
    "print(\"1-MAE\", 1-mae)"
   ]
  },
  {
   "cell_type": "code",
   "execution_count": 364,
   "id": "4a9a224e",
   "metadata": {},
   "outputs": [],
   "source": [
    "x_train_100 = bestfeatureslist(x_train, listbestvalues_agreeableness, 100)\n",
    "x_test_100 = bestfeatureslist(x_test, listbestvalues_agreeableness, 100)"
   ]
  },
  {
   "cell_type": "code",
   "execution_count": 365,
   "id": "4da81203",
   "metadata": {},
   "outputs": [
    {
     "name": "stdout",
     "output_type": "stream",
     "text": [
      "Fitting 5 folds for each of 28 candidates, totalling 140 fits\n",
      "Best parameters: {'max_depth': 4, 'min_samples_leaf': 0.01}\n",
      "Lowest score:  0.32542323672604817\n"
     ]
    }
   ],
   "source": [
    "import pandas as pd\n",
    "from sklearn.model_selection import GridSearchCV\n",
    "\n",
    "data = pd.read_csv(\"complete_CSV_Train.csv\")\n",
    "\n",
    "X, y = x_train_100, y_train #1\n",
    "    \n",
    "params = { 'max_depth': [1,2,3,4,5,6, None],\n",
    "         'min_samples_leaf': [0.1, 0.5, 0.01, 1],\n",
    "         }\n",
    "\n",
    "dt = dt\n",
    "clf = GridSearchCV(estimator=dt, \n",
    "                   param_grid=params,\n",
    "                   scoring='neg_mean_absolute_error', \n",
    "                   verbose=1)\n",
    "\n",
    "clf.fit(X, y)\n",
    "print(\"Best parameters:\", clf.best_params_)\n",
    "print(\"Lowest score: \", (-clf.best_score_)**(1/2.0))"
   ]
  },
  {
   "cell_type": "code",
   "execution_count": 354,
   "id": "c5d7a9d2",
   "metadata": {},
   "outputs": [],
   "source": [
    "from sklearn.tree import DecisionTreeRegressor\n",
    "from sklearn.metrics import mean_squared_error as MSE\n",
    "\n",
    "\n",
    "dt = DecisionTreeRegressor(max_depth=4,\n",
    "                          min_samples_leaf = 0.01,\n",
    "                          random_state=3)"
   ]
  },
  {
   "cell_type": "code",
   "execution_count": 355,
   "id": "c45db8fd",
   "metadata": {},
   "outputs": [
    {
     "data": {
      "text/plain": [
       "DecisionTreeRegressor(max_depth=4, min_samples_leaf=0.01, random_state=3)"
      ]
     },
     "execution_count": 355,
     "metadata": {},
     "output_type": "execute_result"
    }
   ],
   "source": [
    "dt.fit(x_train_100, y_train)"
   ]
  },
  {
   "cell_type": "code",
   "execution_count": 356,
   "id": "530271fd",
   "metadata": {},
   "outputs": [],
   "source": [
    "Y_pred = dt.predict(x_test_224)"
   ]
  },
  {
   "cell_type": "code",
   "execution_count": 357,
   "id": "ba29dbc4",
   "metadata": {},
   "outputs": [
    {
     "name": "stdout",
     "output_type": "stream",
     "text": [
      "1-MAE 0.8838025631876771\n"
     ]
    }
   ],
   "source": [
    "mae = mean_absolute_error(Y_test, Y_pred)\n",
    "\n",
    "print(\"1-MAE\", 1-mae)"
   ]
  },
  {
   "cell_type": "code",
   "execution_count": 369,
   "id": "dc60b818",
   "metadata": {},
   "outputs": [],
   "source": [
    "x_train_224 = bestfeatureslist(x_train, listbestvalues_agreeableness, 224)\n",
    "x_test_224 = bestfeatureslist(x_test, listbestvalues_agreeableness, 224)"
   ]
  },
  {
   "cell_type": "code",
   "execution_count": 370,
   "id": "0b52e1f0",
   "metadata": {},
   "outputs": [
    {
     "name": "stdout",
     "output_type": "stream",
     "text": [
      "Fitting 5 folds for each of 28 candidates, totalling 140 fits\n",
      "Best parameters: {'max_depth': 5, 'min_samples_leaf': 0.1}\n",
      "Lowest score:  0.3257159764457204\n"
     ]
    }
   ],
   "source": [
    "import pandas as pd\n",
    "from sklearn.model_selection import GridSearchCV\n",
    "\n",
    "data = pd.read_csv(\"complete_CSV_Train.csv\")\n",
    "\n",
    "X, y = x_train_224, y_train #1\n",
    "    \n",
    "params = { 'max_depth': [1,2,3,4,5,6, None],\n",
    "         'min_samples_leaf': [0.1, 0.5, 0.01, 1],\n",
    "         }\n",
    "\n",
    "dt = dt\n",
    "clf = GridSearchCV(estimator=dt, \n",
    "                   param_grid=params,\n",
    "                   scoring='neg_mean_absolute_error', \n",
    "                   verbose=1)\n",
    "\n",
    "clf.fit(X, y)\n",
    "print(\"Best parameters:\", clf.best_params_)\n",
    "print(\"Lowest score: \", (-clf.best_score_)**(1/2.0))"
   ]
  },
  {
   "cell_type": "code",
   "execution_count": 371,
   "id": "70b60106",
   "metadata": {},
   "outputs": [],
   "source": [
    "from sklearn.tree import DecisionTreeRegressor\n",
    "from sklearn.metrics import mean_squared_error as MSE\n",
    "\n",
    "\n",
    "dt = DecisionTreeRegressor(max_depth=5,\n",
    "                          min_samples_leaf = 0.01,\n",
    "                          random_state=3)"
   ]
  },
  {
   "cell_type": "code",
   "execution_count": 372,
   "id": "a0706c9d",
   "metadata": {},
   "outputs": [
    {
     "data": {
      "text/plain": [
       "DecisionTreeRegressor(max_depth=5, min_samples_leaf=0.01, random_state=3)"
      ]
     },
     "execution_count": 372,
     "metadata": {},
     "output_type": "execute_result"
    }
   ],
   "source": [
    "dt.fit(x_train_224, y_train)"
   ]
  },
  {
   "cell_type": "code",
   "execution_count": 373,
   "id": "97418c4e",
   "metadata": {},
   "outputs": [],
   "source": [
    "Y_pred = dt.predict(x_test_224)"
   ]
  },
  {
   "cell_type": "code",
   "execution_count": 374,
   "id": "10fcffce",
   "metadata": {},
   "outputs": [
    {
     "name": "stdout",
     "output_type": "stream",
     "text": [
      "1-MAE 0.8834263836453933\n"
     ]
    }
   ],
   "source": [
    "mae = mean_absolute_error(Y_test, Y_pred)\n",
    "\n",
    "print(\"1-MAE\", 1-mae)"
   ]
  },
  {
   "cell_type": "code",
   "execution_count": 376,
   "id": "bed4b5e7",
   "metadata": {},
   "outputs": [],
   "source": [
    "csv_file = \"complete_CSV_Train.csv\"\n",
    "x_train, y_train = labels_neuroticism(csv_file)\n",
    "csv_file = \"complete_CSV_validation.csv\"\n",
    "x_test, y_test = labels_neuroticism(csv_file)"
   ]
  },
  {
   "cell_type": "code",
   "execution_count": 377,
   "id": "da4a3637",
   "metadata": {},
   "outputs": [],
   "source": [
    "x_train_10 = bestfeatureslist(x_train, listbestvalues_neuroticism, 10)\n",
    "x_test_10 = bestfeatureslist(x_test, listbestvalues_neuroticism, 10)"
   ]
  },
  {
   "cell_type": "code",
   "execution_count": 378,
   "id": "db146a52",
   "metadata": {
    "scrolled": true
   },
   "outputs": [
    {
     "name": "stdout",
     "output_type": "stream",
     "text": [
      "Fitting 5 folds for each of 28 candidates, totalling 140 fits\n",
      "Best parameters: {'max_depth': 4, 'min_samples_leaf': 0.01}\n",
      "Lowest score:  0.3430921420157639\n"
     ]
    }
   ],
   "source": [
    "import pandas as pd\n",
    "from sklearn.model_selection import GridSearchCV\n",
    "\n",
    "data = pd.read_csv(\"complete_CSV_Train.csv\")\n",
    "\n",
    "X, y = x_train_10, y_train #1\n",
    "    \n",
    "params = { 'max_depth': [1,2,3,4,5,6, None],\n",
    "         'min_samples_leaf': [0.1, 0.5, 0.01, 1],\n",
    "         }\n",
    "\n",
    "dt = dt\n",
    "clf = GridSearchCV(estimator=dt, \n",
    "                   param_grid=params,\n",
    "                   scoring='neg_mean_absolute_error', \n",
    "                   verbose=1)\n",
    "\n",
    "clf.fit(X, y)\n",
    "print(\"Best parameters:\", clf.best_params_)\n",
    "print(\"Lowest score: \", (-clf.best_score_)**(1/2.0))"
   ]
  },
  {
   "cell_type": "code",
   "execution_count": 379,
   "id": "f9120540",
   "metadata": {},
   "outputs": [],
   "source": [
    "from sklearn.tree import DecisionTreeRegressor\n",
    "from sklearn.metrics import mean_squared_error as MSE\n",
    "\n",
    "\n",
    "dt = DecisionTreeRegressor(max_depth=4,\n",
    "                          min_samples_leaf = 0.01,\n",
    "                          random_state=3)"
   ]
  },
  {
   "cell_type": "code",
   "execution_count": 380,
   "id": "54caf201",
   "metadata": {},
   "outputs": [
    {
     "data": {
      "text/plain": [
       "DecisionTreeRegressor(max_depth=4, min_samples_leaf=0.01, random_state=3)"
      ]
     },
     "execution_count": 380,
     "metadata": {},
     "output_type": "execute_result"
    }
   ],
   "source": [
    "dt.fit(x_train_10, y_train)"
   ]
  },
  {
   "cell_type": "code",
   "execution_count": 381,
   "id": "35298b63",
   "metadata": {},
   "outputs": [],
   "source": [
    "Y_pred = dt.predict(x_test_10)"
   ]
  },
  {
   "cell_type": "code",
   "execution_count": 382,
   "id": "4516f755",
   "metadata": {},
   "outputs": [
    {
     "name": "stdout",
     "output_type": "stream",
     "text": [
      "1-MAE 0.8868573774550677\n"
     ]
    }
   ],
   "source": [
    "mae = mean_absolute_error(Y_test, Y_pred)\n",
    "\n",
    "print(\"1-MAE\", 1-mae)"
   ]
  },
  {
   "cell_type": "code",
   "execution_count": 383,
   "id": "33c06146",
   "metadata": {},
   "outputs": [],
   "source": [
    "x_train_50 = bestfeatureslist(x_train, listbestvalues_neuroticism, 50)\n",
    "x_test_50 = bestfeatureslist(x_test, listbestvalues_neuroticism, 50)"
   ]
  },
  {
   "cell_type": "code",
   "execution_count": 384,
   "id": "8eb5d1f5",
   "metadata": {
    "scrolled": true
   },
   "outputs": [
    {
     "name": "stdout",
     "output_type": "stream",
     "text": [
      "Fitting 5 folds for each of 28 candidates, totalling 140 fits\n",
      "Best parameters: {'max_depth': 5, 'min_samples_leaf': 0.01}\n",
      "Lowest score:  0.3428547709511748\n"
     ]
    }
   ],
   "source": [
    "import pandas as pd\n",
    "from sklearn.model_selection import GridSearchCV\n",
    "\n",
    "data = pd.read_csv(\"complete_CSV_Train.csv\")\n",
    "\n",
    "X, y = x_train_50, y_train #1\n",
    "    \n",
    "params = { 'max_depth': [1,2,3,4,5,6, None],\n",
    "         'min_samples_leaf': [0.1, 0.5, 0.01, 1],\n",
    "         }\n",
    "\n",
    "dt = dt\n",
    "clf = GridSearchCV(estimator=dt, \n",
    "                   param_grid=params,\n",
    "                   scoring='neg_mean_absolute_error', \n",
    "                   verbose=1)\n",
    "\n",
    "clf.fit(X, y)\n",
    "print(\"Best parameters:\", clf.best_params_)\n",
    "print(\"Lowest score: \", (-clf.best_score_)**(1/2.0))"
   ]
  },
  {
   "cell_type": "code",
   "execution_count": 385,
   "id": "0a3d646b",
   "metadata": {},
   "outputs": [],
   "source": [
    "from sklearn.tree import DecisionTreeRegressor\n",
    "from sklearn.metrics import mean_squared_error as MSE\n",
    "\n",
    "\n",
    "dt = DecisionTreeRegressor(max_depth=5,\n",
    "                          min_samples_leaf = 0.01,\n",
    "                          random_state=3)"
   ]
  },
  {
   "cell_type": "code",
   "execution_count": 387,
   "id": "acccec52",
   "metadata": {},
   "outputs": [
    {
     "data": {
      "text/plain": [
       "DecisionTreeRegressor(max_depth=5, min_samples_leaf=0.01, random_state=3)"
      ]
     },
     "execution_count": 387,
     "metadata": {},
     "output_type": "execute_result"
    }
   ],
   "source": [
    "dt.fit(x_train_50, y_train)"
   ]
  },
  {
   "cell_type": "code",
   "execution_count": 388,
   "id": "e9c55347",
   "metadata": {},
   "outputs": [],
   "source": [
    "Y_pred = dt.predict(x_test_50)"
   ]
  },
  {
   "cell_type": "code",
   "execution_count": 389,
   "id": "c394b5eb",
   "metadata": {},
   "outputs": [
    {
     "name": "stdout",
     "output_type": "stream",
     "text": [
      "1-MAE 0.8882965903622089\n"
     ]
    }
   ],
   "source": [
    "mae = mean_absolute_error(Y_test, Y_pred)\n",
    "\n",
    "print(\"1-MAE\", 1-mae)"
   ]
  },
  {
   "cell_type": "code",
   "execution_count": 390,
   "id": "adbfdc42",
   "metadata": {},
   "outputs": [],
   "source": [
    "x_train_100 = bestfeatureslist(x_train, listbestvalues_neuroticism, 100)\n",
    "x_test_100 = bestfeatureslist(x_test, listbestvalues_neuroticism, 100)"
   ]
  },
  {
   "cell_type": "code",
   "execution_count": 391,
   "id": "3328bca2",
   "metadata": {
    "scrolled": true
   },
   "outputs": [
    {
     "name": "stdout",
     "output_type": "stream",
     "text": [
      "Fitting 5 folds for each of 28 candidates, totalling 140 fits\n",
      "Best parameters: {'max_depth': 6, 'min_samples_leaf': 0.01}\n",
      "Lowest score:  0.3427925658525875\n"
     ]
    }
   ],
   "source": [
    "import pandas as pd\n",
    "from sklearn.model_selection import GridSearchCV\n",
    "\n",
    "data = pd.read_csv(\"complete_CSV_Train.csv\")\n",
    "\n",
    "X, y = x_train_100, y_train #1\n",
    "    \n",
    "params = { 'max_depth': [1,2,3,4,5,6, None],\n",
    "         'min_samples_leaf': [0.1, 0.5, 0.01, 1],\n",
    "         }\n",
    "\n",
    "dt = dt\n",
    "clf = GridSearchCV(estimator=dt, \n",
    "                   param_grid=params,\n",
    "                   scoring='neg_mean_absolute_error', \n",
    "                   verbose=1)\n",
    "\n",
    "clf.fit(X, y)\n",
    "print(\"Best parameters:\", clf.best_params_)\n",
    "print(\"Lowest score: \", (-clf.best_score_)**(1/2.0))"
   ]
  },
  {
   "cell_type": "code",
   "execution_count": 392,
   "id": "8b308b41",
   "metadata": {},
   "outputs": [],
   "source": [
    "from sklearn.tree import DecisionTreeRegressor\n",
    "from sklearn.metrics import mean_squared_error as MSE\n",
    "\n",
    "\n",
    "dt = DecisionTreeRegressor(max_depth=6,\n",
    "                          min_samples_leaf = 0.01,\n",
    "                          random_state=3)"
   ]
  },
  {
   "cell_type": "code",
   "execution_count": 393,
   "id": "64f8c443",
   "metadata": {},
   "outputs": [
    {
     "data": {
      "text/plain": [
       "DecisionTreeRegressor(max_depth=6, min_samples_leaf=0.01, random_state=3)"
      ]
     },
     "execution_count": 393,
     "metadata": {},
     "output_type": "execute_result"
    }
   ],
   "source": [
    "dt.fit(x_train_100, y_train)"
   ]
  },
  {
   "cell_type": "code",
   "execution_count": 394,
   "id": "49cba475",
   "metadata": {},
   "outputs": [],
   "source": [
    "Y_pred = dt.predict(x_test_100)"
   ]
  },
  {
   "cell_type": "code",
   "execution_count": 395,
   "id": "7e92f156",
   "metadata": {},
   "outputs": [
    {
     "name": "stdout",
     "output_type": "stream",
     "text": [
      "1-MAE 0.887695219415155\n"
     ]
    }
   ],
   "source": [
    "mae = mean_absolute_error(Y_test, Y_pred)\n",
    "\n",
    "print(\"1-MAE\", 1-mae)"
   ]
  },
  {
   "cell_type": "code",
   "execution_count": 396,
   "id": "989530e5",
   "metadata": {},
   "outputs": [],
   "source": [
    "x_train_224 = bestfeatureslist(x_train, listbestvalues_neuroticism, 224)\n",
    "x_test_224 = bestfeatureslist(x_test, listbestvalues_neuroticism, 224)"
   ]
  },
  {
   "cell_type": "code",
   "execution_count": 397,
   "id": "930c1d01",
   "metadata": {
    "scrolled": true
   },
   "outputs": [
    {
     "name": "stdout",
     "output_type": "stream",
     "text": [
      "Fitting 5 folds for each of 28 candidates, totalling 140 fits\n",
      "Best parameters: {'max_depth': 4, 'min_samples_leaf': 1}\n",
      "Lowest score:  0.34288052577038014\n"
     ]
    }
   ],
   "source": [
    "import pandas as pd\n",
    "from sklearn.model_selection import GridSearchCV\n",
    "\n",
    "data = pd.read_csv(\"complete_CSV_Train.csv\")\n",
    "\n",
    "X, y = x_train_224, y_train #1\n",
    "    \n",
    "params = { 'max_depth': [1,2,3,4,5,6, None],\n",
    "         'min_samples_leaf': [0.1, 0.5, 0.01, 1],\n",
    "         }\n",
    "\n",
    "dt = dt\n",
    "clf = GridSearchCV(estimator=dt, \n",
    "                   param_grid=params,\n",
    "                   scoring='neg_mean_absolute_error', \n",
    "                   verbose=1)\n",
    "\n",
    "clf.fit(X, y)\n",
    "print(\"Best parameters:\", clf.best_params_)\n",
    "print(\"Lowest score: \", (-clf.best_score_)**(1/2.0))"
   ]
  },
  {
   "cell_type": "code",
   "execution_count": 398,
   "id": "1fca2c51",
   "metadata": {},
   "outputs": [],
   "source": [
    "from sklearn.tree import DecisionTreeRegressor\n",
    "from sklearn.metrics import mean_squared_error as MSE\n",
    "\n",
    "\n",
    "dt = DecisionTreeRegressor(max_depth=4,\n",
    "                          min_samples_leaf = 1,\n",
    "                          random_state=3)"
   ]
  },
  {
   "cell_type": "code",
   "execution_count": 399,
   "id": "b7a5f7c9",
   "metadata": {},
   "outputs": [
    {
     "data": {
      "text/plain": [
       "DecisionTreeRegressor(max_depth=4, random_state=3)"
      ]
     },
     "execution_count": 399,
     "metadata": {},
     "output_type": "execute_result"
    }
   ],
   "source": [
    "dt.fit(x_train_224, y_train)"
   ]
  },
  {
   "cell_type": "code",
   "execution_count": 400,
   "id": "466606b9",
   "metadata": {},
   "outputs": [],
   "source": [
    "Y_pred = dt.predict(x_test_224)"
   ]
  },
  {
   "cell_type": "code",
   "execution_count": 401,
   "id": "35b4f198",
   "metadata": {},
   "outputs": [
    {
     "name": "stdout",
     "output_type": "stream",
     "text": [
      "1-MAE 0.8886674523834072\n"
     ]
    }
   ],
   "source": [
    "mae = mean_absolute_error(Y_test, Y_pred)\n",
    "\n",
    "print(\"1-MAE\", 1-mae)"
   ]
  },
  {
   "cell_type": "code",
   "execution_count": null,
   "id": "c4c9bf1d",
   "metadata": {},
   "outputs": [],
   "source": []
  }
 ],
 "metadata": {
  "kernelspec": {
   "display_name": "Python 3 (ipykernel)",
   "language": "python",
   "name": "python3"
  },
  "language_info": {
   "codemirror_mode": {
    "name": "ipython",
    "version": 3
   },
   "file_extension": ".py",
   "mimetype": "text/x-python",
   "name": "python",
   "nbconvert_exporter": "python",
   "pygments_lexer": "ipython3",
   "version": "3.8.11"
  }
 },
 "nbformat": 4,
 "nbformat_minor": 5
}
