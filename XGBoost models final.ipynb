{
 "cells": [
  {
   "cell_type": "code",
   "execution_count": 2,
   "id": "e33e6bbb",
   "metadata": {},
   "outputs": [],
   "source": [
    "import math\n",
    "import numpy as np\n",
    "import pandas as pd\n",
    "import os\n",
    "import glob\n",
    "import pickle\n",
    "import xgboost as xgb\n",
    "from sklearn.feature_selection import SelectKBest\n",
    "from sklearn.feature_selection import chi2\n",
    "from sklearn.feature_selection import f_regression\n",
    "from sklearn.feature_selection import mutual_info_regression"
   ]
  },
  {
   "cell_type": "code",
   "execution_count": 3,
   "id": "17ecc28d",
   "metadata": {},
   "outputs": [],
   "source": [
    "def bestfeatureslist (dfX, listbestvalues, wantedfeatures):\n",
    "    output = pd.DataFrame(data=[])\n",
    "    for i in range (0, wantedfeatures):\n",
    "        output = pd.concat([output, dfX.iloc[:, listbestvalues[i]]], axis = 1).reindex(dfX.index)\n",
    "    return output"
   ]
  },
  {
   "cell_type": "code",
   "execution_count": 4,
   "id": "df98a42c",
   "metadata": {},
   "outputs": [],
   "source": [
    "def split_data_labels_interview (csv_file):\n",
    "    df = pd.read_csv(csv_file)\n",
    "    x_array = df.iloc[:,1:-6]\n",
    "    y_array = df.iloc[:,230:]\n",
    "    return x_array, y_array"
   ]
  },
  {
   "cell_type": "code",
   "execution_count": 5,
   "id": "8b4913a2",
   "metadata": {},
   "outputs": [],
   "source": [
    "def split_data_labels_openness (csv_file):\n",
    "    df = pd.read_csv(csv_file)\n",
    "    x_array = df.iloc[:,1:-6]\n",
    "    y_array = df.iloc[:,225]\n",
    "    return x_array, y_array"
   ]
  },
  {
   "cell_type": "code",
   "execution_count": 5,
   "id": "ed0b1ec6",
   "metadata": {},
   "outputs": [],
   "source": [
    "def split_data_labels_conscientiousness (csv_file):\n",
    "    df = pd.read_csv(csv_file)\n",
    "    x_array = df.iloc[:,1:-6]\n",
    "    y_array = df.iloc[:,226]\n",
    "    return x_array, y_array"
   ]
  },
  {
   "cell_type": "code",
   "execution_count": 6,
   "id": "baba6645",
   "metadata": {},
   "outputs": [],
   "source": [
    "def split_data_labels_extroversion (csv_file):\n",
    "    df = pd.read_csv(csv_file)\n",
    "    x_array = df.iloc[:,1:-6]\n",
    "    y_array = df.iloc[:,227]\n",
    "    return x_array, y_array"
   ]
  },
  {
   "cell_type": "code",
   "execution_count": 7,
   "id": "c3ab5ff1",
   "metadata": {},
   "outputs": [],
   "source": [
    "def split_data_labels_agreeableness (csv_file):\n",
    "    df = pd.read_csv(csv_file)\n",
    "    x_array = df.iloc[:,1:-6]\n",
    "    y_array = df.iloc[:,228]\n",
    "    return x_array, y_array"
   ]
  },
  {
   "cell_type": "code",
   "execution_count": 8,
   "id": "7a4f7cf2",
   "metadata": {},
   "outputs": [],
   "source": [
    "def split_data_labels_neuroticism (csv_file):\n",
    "    df = pd.read_csv(csv_file)\n",
    "    x_array = df.iloc[:,1:-6]\n",
    "    y_array = df.iloc[:,229]\n",
    "    return x_array, y_array"
   ]
  },
  {
   "cell_type": "code",
   "execution_count": 11,
   "id": "de390b27",
   "metadata": {},
   "outputs": [],
   "source": [
    "listbestvalues_interview = [130, 212, 178, 42, 74, 25, 8, 171, 184, 72, 31, 180, 172, 61, 73, 177, 223, 192, 125, 110, 142, 213, 181, 19, 100, 76, 27, 36, 163, 7, 187, 59, 126, 109, 111, 123, 41, 158, 115, 120, 71, 79, 11, 15, 208, 118, 102, 75, 112, 176, 195, 209, 121, 105, 222, 136, 220, 16, 124, 80, 108, 191, 30, 54, 185, 168, 210, 37, 52, 117, 201, 221, 205, 190, 81, 99, 60, 182, 38, 198, 131, 165, 207, 197, 33, 173, 83, 43, 29, 186, 32, 68, 66, 129, 216, 96, 103, 24, 206, 89, 174, 2, 166, 98, 22, 132, 65, 62, 3, 95, 157, 57, 6, 17, 67, 70, 69, 85, 107, 134, 23, 188, 116, 194, 13, 153, 82, 78, 56, 86, 156, 106, 119, 28, 55, 84, 128, 77, 179, 21, 164, 218, 170, 147, 211, 135, 154, 47, 150, 183, 141, 155, 138, 219, 160, 215, 26, 101, 104, 97, 93, 94, 203, 9, 151, 196, 58, 50, 167, 146, 87, 53, 4, 45, 35, 51, 127, 175, 159, 149, 10, 169, 193, 63, 162, 202, 92, 44, 204, 217, 214, 199, 200, 49, 5, 189, 48, 64, 46, 40, 39, 88, 90, 91, 34, 1, 113, 114, 122, 133, 137, 139, 140, 143, 144, 145, 148, 152, 20, 161, 18, 14, 12, 0]"
   ]
  },
  {
   "cell_type": "code",
   "execution_count": 8,
   "id": "05358773",
   "metadata": {},
   "outputs": [],
   "source": [
    "listbestvalues_openness = [42, 36, 19, 37, 25, 51, 8, 48, 27, 6, 53, 61, 33, 41, 39, 130, 38, 198, 186, 71, 16, 101, 141, 223, 192, 21, 83, 106, 12, 92, 188, 150, 30, 189, 182, 120, 118, 68, 70, 17, 104, 3, 52, 11, 127, 179, 205, 108, 49, 176, 32, 187, 115, 199, 184, 58, 123, 133, 102, 0, 109, 103, 5, 107, 56, 135, 168, 197, 29, 116, 147, 105, 77, 117, 124, 85, 216, 119, 34, 169, 212, 132, 46, 173, 91, 202, 63, 137, 72, 64, 13, 9, 163, 185, 23, 162, 43, 181, 177, 121, 35, 180, 113, 90, 167, 40, 59, 151, 4, 213, 191, 154, 175, 131, 138, 222, 129, 142, 28, 18, 62, 60, 84, 20, 194, 125, 164, 155, 75, 7, 178, 143, 156, 31, 153, 171, 174, 15, 136, 14, 161, 140, 86, 10, 114, 112, 166, 217, 110, 128, 211, 93, 66, 159, 195, 201, 200, 55, 73, 74, 196, 221, 203, 126, 193, 1, 190, 76, 111, 69, 2, 204, 220, 206, 78, 207, 208, 209, 210, 57, 67, 214, 215, 65, 218, 219, 146, 79, 97, 44, 139, 50, 24, 160, 158, 157, 98, 144, 94, 145, 152, 95, 96, 149, 148, 165, 89, 88, 54, 183, 80, 81, 82, 45, 26, 22, 87, 134, 47, 100, 172, 99, 170, 122]"
   ]
  },
  {
   "cell_type": "code",
   "execution_count": 10,
   "id": "27da6652",
   "metadata": {},
   "outputs": [],
   "source": [
    "listbestvalues_conscientiousness = [150, 221, 82, 169, 57, 180, 173, 77, 129, 145, 36, 55, 93, 185, 88, 30, 204, 119, 209, 53, 167, 83, 87, 137, 29, 168, 179, 59, 203, 170, 66, 151, 115, 160, 177, 90, 108, 74, 136, 159, 68, 175, 118, 98, 158, 84, 222, 110, 117, 72, 128, 61, 178, 141, 60, 132, 8, 86, 50, 210, 78, 152, 155, 164, 149, 182, 156, 120, 154, 166, 218, 69, 200, 92, 219, 163, 109, 127, 201, 161, 97, 126, 206, 144, 153, 102, 212, 23, 162, 111, 99, 140, 125, 10, 100, 186, 114, 63, 143, 202, 95, 208, 105, 205, 184, 171, 89, 76, 73, 94, 148, 62, 124, 75, 5, 147, 133, 103, 181, 67, 1, 70, 12, 195, 54, 81, 142, 106, 96, 131, 116, 134, 107, 191, 174, 176, 85, 64, 165, 71, 123, 45, 130, 138, 26, 183, 157, 146, 19, 80, 192, 104, 211, 196, 139, 9, 27, 52, 56, 58, 32, 47, 198, 31, 112, 20, 18, 113, 187, 46, 193, 22, 2, 213, 51, 189, 79, 13, 188, 220, 16, 223, 38, 15, 214, 33, 91, 135, 11, 28, 14, 44, 199, 0, 3, 172, 49, 216, 194, 101, 48, 6, 40, 121, 41, 122, 4, 7, 217, 215, 65, 21, 17, 197, 24, 25, 207, 190, 34, 43, 37, 39, 42, 35]"
   ]
  },
  {
   "cell_type": "code",
   "execution_count": 11,
   "id": "9ebc26e5",
   "metadata": {},
   "outputs": [],
   "source": [
    "listbestvalues_extroversion = [42, 25, 38, 8, 198, 41, 31, 46, 197, 191, 19, 6, 143, 2, 3, 125, 63, 202, 4, 20, 37, 200, 16, 192, 99, 100, 220, 194, 27, 32, 127, 51, 159, 109, 36, 112, 212, 172, 0, 130, 108, 175, 5, 56, 173, 74, 7, 30, 217, 105, 209, 23, 75, 188, 1, 134, 94, 67, 47, 111, 213, 184, 21, 107, 174, 208, 70, 15, 89, 48, 114, 44, 52, 196, 170, 133, 195, 113, 90, 142, 59, 149, 84, 215, 18, 165, 210, 160, 176, 123, 139, 40, 144, 91, 28, 141, 98, 155, 124, 140, 121, 145, 33, 190, 216, 116, 43, 150, 218, 10, 110, 88, 203, 169, 183, 34, 13, 29, 62, 164, 66, 49, 206, 132, 78, 151, 97, 119, 95, 128, 214, 76, 58, 177, 161, 199, 55, 69, 156, 83, 45, 148, 24, 65, 14, 87, 96, 166, 71, 11, 146, 135, 181, 179, 178, 180, 39, 182, 185, 186, 187, 189, 193, 201, 9, 204, 205, 207, 211, 219, 221, 222, 12, 131, 17, 77, 101, 26, 93, 92, 86, 85, 82, 81, 80, 79, 73, 171, 72, 68, 64, 61, 60, 57, 54, 53, 50, 35, 102, 103, 104, 106, 168, 167, 163, 162, 158, 157, 154, 153, 152, 147, 138, 137, 136, 129, 22, 126, 122, 120, 118, 117, 115, 223]"
   ]
  },
  {
   "cell_type": "code",
   "execution_count": 12,
   "id": "e21420ab",
   "metadata": {},
   "outputs": [],
   "source": [
    "listbestvalues_agreeableness = [150, 186, 166, 163, 147, 8, 168, 164, 170, 141, 64, 145, 212, 47, 27, 122, 165, 108, 94, 162, 182, 207, 172, 54, 220, 144, 116, 205, 91, 55, 83, 167, 213, 41, 185, 159, 149, 181, 179, 133, 171, 148, 173, 67, 96, 31, 33, 151, 61, 180, 152, 84, 131, 124, 49, 28, 222, 80, 32, 93, 174, 104, 35, 126, 143, 42, 43, 161, 175, 183, 121, 204, 184, 221, 71, 92, 214, 58, 29, 119, 187, 98, 100, 140, 37, 87, 36, 52, 95, 153, 169, 63, 17, 110, 177, 88, 45, 23, 139, 59, 68, 103, 2, 97, 196, 73, 102, 62, 191, 105, 158, 190, 200, 137, 146, 127, 176, 89, 13, 154, 34, 77, 65, 132, 125, 115, 44, 223, 81, 99, 192, 85, 24, 202, 160, 53, 22, 155, 217, 56, 38, 210, 142, 156, 113, 50, 112, 106, 60, 66, 117, 118, 20, 21, 4, 130, 3, 19, 74, 70, 178, 90, 76, 12, 198, 30, 82, 25, 129, 72, 203, 208, 6, 75, 114, 128, 197, 78, 216, 199, 18, 5, 219, 218, 201, 16, 15, 14, 206, 215, 7, 209, 9, 10, 211, 11, 138, 39, 195, 194, 135, 134, 123, 120, 157, 1, 111, 109, 107, 101, 86, 79, 69, 57, 51, 48, 46, 40, 136, 26, 188, 189, 193, 0]"
   ]
  },
  {
   "cell_type": "code",
   "execution_count": 13,
   "id": "97a2f392",
   "metadata": {},
   "outputs": [],
   "source": [
    "listbestvalues_neuroticism = [42, 8, 41, 36, 197, 25, 198, 132, 155, 16, 21, 192, 7, 212, 142, 218, 222, 6, 53, 30, 18, 144, 4, 133, 217, 19, 27, 214, 179, 55, 74, 143, 193, 185, 129, 203, 154, 23, 32, 200, 3, 147, 80, 189, 59, 49, 88, 186, 219, 76, 172, 151, 140, 148, 77, 209, 20, 92, 101, 130, 208, 54, 61, 82, 191, 171, 78, 9, 141, 45, 165, 81, 38, 205, 11, 187, 12, 87, 91, 176, 106, 207, 194, 95, 161, 206, 17, 195, 199, 46, 139, 196, 52, 28, 153, 105, 83, 168, 167, 184, 58, 156, 104, 47, 98, 158, 145, 97, 152, 138, 14, 163, 150, 146, 57, 96, 215, 136, 210, 34, 211, 64, 40, 108, 178, 86, 66, 166, 137, 202, 10, 123, 33, 79, 0, 110, 164, 67, 94, 174, 13, 221, 175, 126, 103, 182, 119, 99, 125, 102, 115, 69, 201, 31, 181, 180, 204, 213, 183, 190, 216, 170, 169, 220, 173, 188, 177, 112, 162, 160, 73, 72, 71, 70, 68, 65, 63, 62, 60, 56, 51, 50, 48, 44, 43, 39, 37, 35, 29, 26, 24, 22, 15, 5, 2, 75, 84, 85, 120, 159, 157, 149, 135, 134, 131, 128, 127, 124, 122, 121, 118, 89, 117, 116, 114, 113, 1, 111, 109, 107, 100, 93, 90, 223]"
   ]
  },
  {
   "cell_type": "code",
   "execution_count": 6,
   "id": "abf05459",
   "metadata": {},
   "outputs": [],
   "source": [
    "csv_file = \"complete_CSV_Train.csv\"\n",
    "x_train, y_train = split_data_labels_openness(csv_file)\n",
    "csv_file = \"complete_CSV_validation.csv\"\n",
    "x_test, y_test = split_data_labels_openness(csv_file)"
   ]
  },
  {
   "cell_type": "code",
   "execution_count": 17,
   "id": "2da27179",
   "metadata": {},
   "outputs": [],
   "source": [
    "x_train_10 = bestfeatureslist(x_train, listbestvalues_interview, 17\n",
    "                             )\n",
    "x_test_10 = bestfeatureslist(x_test, listbestvalues_openness, 10)"
   ]
  },
  {
   "cell_type": "code",
   "execution_count": 59,
   "id": "4d016a4b",
   "metadata": {},
   "outputs": [
    {
     "name": "stdout",
     "output_type": "stream",
     "text": [
      "Fitting 5 folds for each of 54 candidates, totalling 270 fits\n",
      "Best parameters: {'colsample_bytree': 0.7, 'learning_rate': 0.01, 'max_depth': 6, 'n_estimators': 500}\n",
      "Lowest mae:  0.33945826336344803\n"
     ]
    }
   ],
   "source": [
    "import pandas as pd\n",
    "import xgboost as xgb\n",
    "from sklearn.model_selection import GridSearchCV\n",
    "\n",
    "data = pd.read_csv(\"complete_CSV_Train.csv\")\n",
    "\n",
    "X, y = x_train_10, y_train #1\n",
    "    \n",
    "params = { 'max_depth': [3,6,10],\n",
    "           'learning_rate': [0.01, 0.05, 0.1],\n",
    "           'n_estimators': [100, 500, 1000],\n",
    "           'colsample_bytree': [0.3, 0.7]}\n",
    "\n",
    "xgbr = xgb.XGBRegressor(seed = 20)\n",
    "clf = GridSearchCV(estimator=xgbr, \n",
    "                   param_grid=params,\n",
    "                   scoring='neg_mean_absolute_error', \n",
    "                   verbose=1)\n",
    "\n",
    "clf.fit(X, y)\n",
    "print(\"Best parameters:\", clf.best_params_)\n",
    "print(\"Lowest mae: \", (-clf.best_score_)**(1/2.0))"
   ]
  },
  {
   "cell_type": "code",
   "execution_count": 16,
   "id": "ebb3cfb3",
   "metadata": {},
   "outputs": [],
   "source": [
    "x_train_50 = bestfeatureslist(x_train, listbestvalues_openness, 50)\n",
    "x_test_50 = bestfeatureslist(x_test, listbestvalues_openness, 50)"
   ]
  },
  {
   "cell_type": "code",
   "execution_count": 17,
   "id": "aa2597e8",
   "metadata": {},
   "outputs": [
    {
     "name": "stdout",
     "output_type": "stream",
     "text": [
      "Fitting 5 folds for each of 54 candidates, totalling 270 fits\n",
      "Best parameters: {'colsample_bytree': 0.7, 'learning_rate': 0.01, 'max_depth': 10, 'n_estimators': 1000}\n",
      "Lowest mae:  0.3202892847666448\n"
     ]
    }
   ],
   "source": [
    "import pandas as pd\n",
    "import xgboost as xgb\n",
    "from sklearn.model_selection import GridSearchCV\n",
    "\n",
    "data = pd.read_csv(\"complete_CSV_Train.csv\")\n",
    "\n",
    "X, y = x_train_50, y_train #1\n",
    "    \n",
    "params = { 'max_depth': [3,6,10],\n",
    "           'learning_rate': [0.01, 0.05, 0.1],\n",
    "           'n_estimators': [100, 500, 1000],\n",
    "           'colsample_bytree': [0.3, 0.7]}\n",
    "\n",
    "xgbr = xgb.XGBRegressor(seed = 20)\n",
    "clf = GridSearchCV(estimator=xgbr, \n",
    "                   param_grid=params,\n",
    "                   scoring='neg_mean_absolute_error', \n",
    "                   verbose=1)\n",
    "\n",
    "clf.fit(X, y)\n",
    "print(\"Best parameters:\", clf.best_params_)\n",
    "print(\"Lowest mae: \", (-clf.best_score_)**(1/2.0))"
   ]
  },
  {
   "cell_type": "code",
   "execution_count": 18,
   "id": "c6dbbe77",
   "metadata": {},
   "outputs": [],
   "source": [
    "x_train_100 = bestfeatureslist(x_train, listbestvalues_openness, 100)\n",
    "x_test_100 = bestfeatureslist(x_test, listbestvalues_openness, 100)"
   ]
  },
  {
   "cell_type": "code",
   "execution_count": 19,
   "id": "01fe53c3",
   "metadata": {},
   "outputs": [
    {
     "name": "stdout",
     "output_type": "stream",
     "text": [
      "Fitting 5 folds for each of 54 candidates, totalling 270 fits\n",
      "Best parameters: {'colsample_bytree': 0.7, 'learning_rate': 0.01, 'max_depth': 10, 'n_estimators': 1000}\n",
      "Lowest mae:  0.3175640735059191\n"
     ]
    }
   ],
   "source": [
    "import pandas as pd\n",
    "import xgboost as xgb\n",
    "from sklearn.model_selection import GridSearchCV\n",
    "\n",
    "data = pd.read_csv(\"complete_CSV_Train.csv\")\n",
    "\n",
    "X, y = x_train_100, y_train #1\n",
    "    \n",
    "params = { 'max_depth': [3,6,10],\n",
    "           'learning_rate': [0.01, 0.05, 0.1],\n",
    "           'n_estimators': [100, 500, 1000],\n",
    "           'colsample_bytree': [0.3, 0.7]}\n",
    "\n",
    "xgbr = xgb.XGBRegressor(seed = 20)\n",
    "clf = GridSearchCV(estimator=xgbr, \n",
    "                   param_grid=params,\n",
    "                   scoring='neg_mean_absolute_error', \n",
    "                   verbose=1)\n",
    "\n",
    "clf.fit(X, y)\n",
    "print(\"Best parameters:\", clf.best_params_)\n",
    "print(\"Lowest mae: \", (-clf.best_score_)**(1/2.0))"
   ]
  },
  {
   "cell_type": "code",
   "execution_count": 20,
   "id": "079184cc",
   "metadata": {},
   "outputs": [],
   "source": [
    "x_train = bestfeatureslist(x_train, listbestvalues_openness, 224)\n",
    "x_test = bestfeatureslist(x_test, listbestvalues_openness, 224)"
   ]
  },
  {
   "cell_type": "code",
   "execution_count": 21,
   "id": "d4e11fab",
   "metadata": {},
   "outputs": [
    {
     "name": "stdout",
     "output_type": "stream",
     "text": [
      "Fitting 5 folds for each of 54 candidates, totalling 270 fits\n",
      "Best parameters: {'colsample_bytree': 0.3, 'learning_rate': 0.01, 'max_depth': 6, 'n_estimators': 1000}\n",
      "Lowest mae:  0.3146695120795427\n"
     ]
    }
   ],
   "source": [
    "import pandas as pd\n",
    "import xgboost as xgb\n",
    "from sklearn.model_selection import GridSearchCV\n",
    "\n",
    "data = pd.read_csv(\"complete_CSV_Train.csv\")\n",
    "\n",
    "X, y = x_train, y_train #1\n",
    "    \n",
    "params = { 'max_depth': [3,6,10],\n",
    "           'learning_rate': [0.01, 0.05, 0.1],\n",
    "           'n_estimators': [100, 500, 1000],\n",
    "           'colsample_bytree': [0.3, 0.7]}\n",
    "\n",
    "xgbr = xgb.XGBRegressor(seed = 20)\n",
    "clf = GridSearchCV(estimator=xgbr, \n",
    "                   param_grid=params,\n",
    "                   scoring='neg_mean_absolute_error', \n",
    "                   verbose=1)\n",
    "\n",
    "clf.fit(X, y)\n",
    "print(\"Best parameters:\", clf.best_params_)\n",
    "print(\"Lowest mae: \", (-clf.best_score_)**(1/2.0))"
   ]
  },
  {
   "cell_type": "code",
   "execution_count": 15,
   "id": "bbbe7342",
   "metadata": {},
   "outputs": [],
   "source": [
    "csv_file = \"complete_CSV_Train.csv\"\n",
    "x_train, y_train = split_data_labels_conscientiousness(csv_file)\n",
    "csv_file = \"complete_CSV_validation.csv\"\n",
    "x_test, y_test = split_data_labels_conscientiousness(csv_file)"
   ]
  },
  {
   "cell_type": "code",
   "execution_count": 23,
   "id": "ef1f61b8",
   "metadata": {},
   "outputs": [],
   "source": [
    "x_train_10 = bestfeatureslist(x_train, listbestvalues_conscientiousness, 10)\n",
    "x_test_10 = bestfeatureslist(x_test, listbestvalues_conscientiousness, 10)"
   ]
  },
  {
   "cell_type": "code",
   "execution_count": 24,
   "id": "7b5c6975",
   "metadata": {},
   "outputs": [
    {
     "name": "stdout",
     "output_type": "stream",
     "text": [
      "Fitting 5 folds for each of 54 candidates, totalling 270 fits\n",
      "Best parameters: {'colsample_bytree': 0.3, 'learning_rate': 0.01, 'max_depth': 3, 'n_estimators': 1000}\n",
      "Lowest mae:  0.3484722705490323\n"
     ]
    }
   ],
   "source": [
    "import pandas as pd\n",
    "import xgboost as xgb\n",
    "from sklearn.model_selection import GridSearchCV\n",
    "\n",
    "data = pd.read_csv(\"complete_CSV_Train.csv\")\n",
    "\n",
    "X, y = x_train_10, y_train #1\n",
    "    \n",
    "params = { 'max_depth': [3,6,10],\n",
    "           'learning_rate': [0.01, 0.05, 0.1],\n",
    "           'n_estimators': [100, 500, 1000],\n",
    "           'colsample_bytree': [0.3, 0.7]}\n",
    "\n",
    "xgbr = xgb.XGBRegressor(seed = 20)\n",
    "clf = GridSearchCV(estimator=xgbr, \n",
    "                   param_grid=params,\n",
    "                   scoring='neg_mean_absolute_error', \n",
    "                   verbose=1)\n",
    "\n",
    "clf.fit(X, y)\n",
    "print(\"Best parameters:\", clf.best_params_)\n",
    "print(\"Lowest mae: \", (-clf.best_score_)**(1/2.0))"
   ]
  },
  {
   "cell_type": "code",
   "execution_count": 18,
   "id": "15386ed7",
   "metadata": {},
   "outputs": [],
   "source": [
    "x_train_50 = bestfeatureslist(x_train, listbestvalues_conscientiousness, 50)\n",
    "x_test_50 = bestfeatureslist(x_test, listbestvalues_conscientiousness, 50)"
   ]
  },
  {
   "cell_type": "code",
   "execution_count": 19,
   "id": "7230d128",
   "metadata": {},
   "outputs": [
    {
     "name": "stdout",
     "output_type": "stream",
     "text": [
      "Fitting 5 folds for each of 54 candidates, totalling 270 fits\n",
      "Best parameters: {'colsample_bytree': 0.7, 'learning_rate': 0.01, 'max_depth': 6, 'n_estimators': 500}\n",
      "Lowest mae:  0.34424855720129777\n"
     ]
    }
   ],
   "source": [
    "import pandas as pd\n",
    "import xgboost as xgb\n",
    "from sklearn.model_selection import GridSearchCV\n",
    "\n",
    "data = pd.read_csv(\"complete_CSV_Train.csv\")\n",
    "\n",
    "X, y = x_train_50, y_train #1\n",
    "    \n",
    "params = { 'max_depth': [3,6,10],\n",
    "           'learning_rate': [0.01, 0.05, 0.1],\n",
    "           'n_estimators': [100, 500, 1000],\n",
    "           'colsample_bytree': [0.3, 0.7]}\n",
    "\n",
    "xgbr = xgb.XGBRegressor(seed = 20)\n",
    "clf = GridSearchCV(estimator=xgbr, \n",
    "                   param_grid=params,\n",
    "                   scoring='neg_mean_absolute_error', \n",
    "                   verbose=1)\n",
    "\n",
    "clf.fit(X, y)\n",
    "print(\"Best parameters:\", clf.best_params_)\n",
    "print(\"Lowest mae: \", (-clf.best_score_)**(1/2.0))"
   ]
  },
  {
   "cell_type": "code",
   "execution_count": 20,
   "id": "e0ae4f19",
   "metadata": {},
   "outputs": [],
   "source": [
    "x_train_100 = bestfeatureslist(x_train, listbestvalues_conscientiousness, 100)\n",
    "x_test_100 = bestfeatureslist(x_test, listbestvalues_openness, 100)"
   ]
  },
  {
   "cell_type": "code",
   "execution_count": 21,
   "id": "80c3645a",
   "metadata": {},
   "outputs": [
    {
     "name": "stdout",
     "output_type": "stream",
     "text": [
      "Fitting 5 folds for each of 54 candidates, totalling 270 fits\n",
      "Best parameters: {'colsample_bytree': 0.3, 'learning_rate': 0.01, 'max_depth': 6, 'n_estimators': 1000}\n",
      "Lowest mae:  0.3396954798487488\n"
     ]
    }
   ],
   "source": [
    "import pandas as pd\n",
    "import xgboost as xgb\n",
    "from sklearn.model_selection import GridSearchCV\n",
    "\n",
    "data = pd.read_csv(\"complete_CSV_Train.csv\")\n",
    "\n",
    "X, y = x_train_100, y_train #1\n",
    "    \n",
    "params = { 'max_depth': [3,6,10],\n",
    "           'learning_rate': [0.01, 0.05, 0.1],\n",
    "           'n_estimators': [100, 500, 1000],\n",
    "           'colsample_bytree': [0.3, 0.7]}\n",
    "\n",
    "xgbr = xgb.XGBRegressor(seed = 20)\n",
    "clf = GridSearchCV(estimator=xgbr, \n",
    "                   param_grid=params,\n",
    "                   scoring='neg_mean_absolute_error', \n",
    "                   verbose=1)\n",
    "\n",
    "clf.fit(X, y)\n",
    "print(\"Best parameters:\", clf.best_params_)\n",
    "print(\"Lowest mae: \", (-clf.best_score_)**(1/2.0))"
   ]
  },
  {
   "cell_type": "code",
   "execution_count": 22,
   "id": "5abd1077",
   "metadata": {},
   "outputs": [],
   "source": [
    "x_train = bestfeatureslist(x_train, listbestvalues_conscientiousness, 224)\n",
    "x_test = bestfeatureslist(x_test, listbestvalues_conscientiousness, 224)"
   ]
  },
  {
   "cell_type": "code",
   "execution_count": 23,
   "id": "fd934064",
   "metadata": {},
   "outputs": [
    {
     "name": "stdout",
     "output_type": "stream",
     "text": [
      "Fitting 5 folds for each of 54 candidates, totalling 270 fits\n",
      "Best parameters: {'colsample_bytree': 0.7, 'learning_rate': 0.01, 'max_depth': 10, 'n_estimators': 1000}\n",
      "Lowest mae:  0.32791774779364397\n"
     ]
    }
   ],
   "source": [
    "import pandas as pd\n",
    "import xgboost as xgb\n",
    "from sklearn.model_selection import GridSearchCV\n",
    "\n",
    "data = pd.read_csv(\"complete_CSV_Train.csv\")\n",
    "\n",
    "X, y = x_train, y_train #1\n",
    "    \n",
    "params = { 'max_depth': [3,6,10],\n",
    "           'learning_rate': [0.01, 0.05, 0.1],\n",
    "           'n_estimators': [100, 500, 1000],\n",
    "           'colsample_bytree': [0.3, 0.7]}\n",
    "\n",
    "xgbr = xgb.XGBRegressor(seed = 20)\n",
    "clf = GridSearchCV(estimator=xgbr, \n",
    "                   param_grid=params,\n",
    "                   scoring='neg_mean_absolute_error', \n",
    "                   verbose=1)\n",
    "\n",
    "clf.fit(X, y)\n",
    "print(\"Best parameters:\", clf.best_params_)\n",
    "print(\"Lowest mae: \", (-clf.best_score_)**(1/2.0))"
   ]
  },
  {
   "cell_type": "code",
   "execution_count": 31,
   "id": "c08de440",
   "metadata": {},
   "outputs": [],
   "source": [
    "csv_file = \"complete_CSV_Train.csv\"\n",
    "x_train, y_train = split_data_labels_extroversion(csv_file)\n",
    "csv_file = \"complete_CSV_validation.csv\"\n",
    "x_test, y_test = split_data_labels_extroversion(csv_file)"
   ]
  },
  {
   "cell_type": "code",
   "execution_count": 32,
   "id": "e57ac557",
   "metadata": {},
   "outputs": [],
   "source": [
    "x_train_10 = bestfeatureslist(x_train, listbestvalues_extroversion, 10)\n",
    "x_test_10 = bestfeatureslist(x_test, listbestvalues_extroversion, 10)"
   ]
  },
  {
   "cell_type": "code",
   "execution_count": 33,
   "id": "9353cd06",
   "metadata": {},
   "outputs": [
    {
     "name": "stdout",
     "output_type": "stream",
     "text": [
      "Fitting 5 folds for each of 54 candidates, totalling 270 fits\n",
      "Best parameters: {'colsample_bytree': 0.7, 'learning_rate': 0.01, 'max_depth': 6, 'n_estimators': 500}\n",
      "Lowest mae:  0.3260729131610285\n"
     ]
    }
   ],
   "source": [
    "import pandas as pd\n",
    "import xgboost as xgb\n",
    "from sklearn.model_selection import GridSearchCV\n",
    "\n",
    "data = pd.read_csv(\"complete_CSV_Train.csv\")\n",
    "\n",
    "X, y = x_train_10, y_train #1\n",
    "    \n",
    "params = { 'max_depth': [3,6,10],\n",
    "           'learning_rate': [0.01, 0.05, 0.1],\n",
    "           'n_estimators': [100, 500, 1000],\n",
    "           'colsample_bytree': [0.3, 0.7]}\n",
    "\n",
    "xgbr = xgb.XGBRegressor(seed = 20)\n",
    "clf = GridSearchCV(estimator=xgbr, \n",
    "                   param_grid=params,\n",
    "                   scoring='neg_mean_absolute_error', \n",
    "                   verbose=1)\n",
    "\n",
    "clf.fit(X, y)\n",
    "print(\"Best parameters:\", clf.best_params_)\n",
    "print(\"Lowest mae: \", (-clf.best_score_)**(1/2.0))"
   ]
  },
  {
   "cell_type": "code",
   "execution_count": 34,
   "id": "7b0a233a",
   "metadata": {},
   "outputs": [],
   "source": [
    "x_train_50 = bestfeatureslist(x_train, listbestvalues_extroversion, 50)\n",
    "x_test_50 = bestfeatureslist(x_test, listbestvalues_extroversion, 50)"
   ]
  },
  {
   "cell_type": "code",
   "execution_count": 35,
   "id": "00817c0a",
   "metadata": {},
   "outputs": [
    {
     "name": "stdout",
     "output_type": "stream",
     "text": [
      "Fitting 5 folds for each of 54 candidates, totalling 270 fits\n",
      "Best parameters: {'colsample_bytree': 0.7, 'learning_rate': 0.01, 'max_depth': 6, 'n_estimators': 1000}\n",
      "Lowest mae:  0.31419569746158105\n"
     ]
    }
   ],
   "source": [
    "import pandas as pd\n",
    "import xgboost as xgb\n",
    "from sklearn.model_selection import GridSearchCV\n",
    "\n",
    "data = pd.read_csv(\"complete_CSV_Train.csv\")\n",
    "\n",
    "X, y = x_train_50, y_train #1\n",
    "    \n",
    "params = { 'max_depth': [3,6,10],\n",
    "           'learning_rate': [0.01, 0.05, 0.1],\n",
    "           'n_estimators': [100, 500, 1000],\n",
    "           'colsample_bytree': [0.3, 0.7]}\n",
    "\n",
    "xgbr = xgb.XGBRegressor(seed = 20)\n",
    "clf = GridSearchCV(estimator=xgbr, \n",
    "                   param_grid=params,\n",
    "                   scoring='neg_mean_absolute_error', \n",
    "                   verbose=1)\n",
    "\n",
    "clf.fit(X, y)\n",
    "print(\"Best parameters:\", clf.best_params_)\n",
    "print(\"Lowest mae: \", (-clf.best_score_)**(1/2.0))"
   ]
  },
  {
   "cell_type": "code",
   "execution_count": 36,
   "id": "a1edc5b9",
   "metadata": {},
   "outputs": [],
   "source": [
    "x_train_100 = bestfeatureslist(x_train, listbestvalues_extroversion, 100)\n",
    "x_test_100 = bestfeatureslist(x_test, listbestvalues_extroversion, 100)"
   ]
  },
  {
   "cell_type": "code",
   "execution_count": 37,
   "id": "e731fced",
   "metadata": {},
   "outputs": [
    {
     "name": "stdout",
     "output_type": "stream",
     "text": [
      "Fitting 5 folds for each of 54 candidates, totalling 270 fits\n",
      "Best parameters: {'colsample_bytree': 0.3, 'learning_rate': 0.01, 'max_depth': 6, 'n_estimators': 1000}\n",
      "Lowest mae:  0.31299302463527423\n"
     ]
    }
   ],
   "source": [
    "import pandas as pd\n",
    "import xgboost as xgb\n",
    "from sklearn.model_selection import GridSearchCV\n",
    "\n",
    "data = pd.read_csv(\"complete_CSV_Train.csv\")\n",
    "\n",
    "X, y = x_train_100, y_train #1\n",
    "    \n",
    "params = { 'max_depth': [3,6,10],\n",
    "           'learning_rate': [0.01, 0.05, 0.1],\n",
    "           'n_estimators': [100, 500, 1000],\n",
    "           'colsample_bytree': [0.3, 0.7]}\n",
    "\n",
    "xgbr = xgb.XGBRegressor(seed = 20)\n",
    "clf = GridSearchCV(estimator=xgbr, \n",
    "                   param_grid=params,\n",
    "                   scoring='neg_mean_absolute_error', \n",
    "                   verbose=1)\n",
    "\n",
    "clf.fit(X, y)\n",
    "print(\"Best parameters:\", clf.best_params_)\n",
    "print(\"Lowest mae: \", (-clf.best_score_)**(1/2.0))"
   ]
  },
  {
   "cell_type": "code",
   "execution_count": 38,
   "id": "18ebee31",
   "metadata": {},
   "outputs": [],
   "source": [
    "x_train = bestfeatureslist(x_train, listbestvalues_extroversion, 224)\n",
    "x_test = bestfeatureslist(x_test, listbestvalues_extroversion, 224)"
   ]
  },
  {
   "cell_type": "code",
   "execution_count": 39,
   "id": "47dbf8eb",
   "metadata": {},
   "outputs": [
    {
     "name": "stdout",
     "output_type": "stream",
     "text": [
      "Fitting 5 folds for each of 54 candidates, totalling 270 fits\n",
      "Best parameters: {'colsample_bytree': 0.7, 'learning_rate': 0.01, 'max_depth': 6, 'n_estimators': 1000}\n",
      "Lowest mae:  0.31180543951227946\n"
     ]
    }
   ],
   "source": [
    "import pandas as pd\n",
    "import xgboost as xgb\n",
    "from sklearn.model_selection import GridSearchCV\n",
    "\n",
    "data = pd.read_csv(\"complete_CSV_Train.csv\")\n",
    "\n",
    "X, y = x_train, y_train #1\n",
    "    \n",
    "params = { 'max_depth': [3,6,10],\n",
    "           'learning_rate': [0.01, 0.05, 0.1],\n",
    "           'n_estimators': [100, 500, 1000],\n",
    "           'colsample_bytree': [0.3, 0.7]}\n",
    "\n",
    "xgbr = xgb.XGBRegressor(seed = 20)\n",
    "clf = GridSearchCV(estimator=xgbr, \n",
    "                   param_grid=params,\n",
    "                   scoring='neg_mean_absolute_error', \n",
    "                   verbose=1)\n",
    "\n",
    "clf.fit(X, y)\n",
    "print(\"Best parameters:\", clf.best_params_)\n",
    "print(\"Lowest mae: \", (-clf.best_score_)**(1/2.0))"
   ]
  },
  {
   "cell_type": "code",
   "execution_count": 40,
   "id": "84ea9716",
   "metadata": {},
   "outputs": [],
   "source": [
    "csv_file = \"complete_CSV_Train.csv\"\n",
    "x_train, y_train = split_data_labels_agreeableness(csv_file)\n",
    "csv_file = \"complete_CSV_validation.csv\"\n",
    "x_test, y_test = split_data_labels_agreeableness(csv_file)"
   ]
  },
  {
   "cell_type": "code",
   "execution_count": 41,
   "id": "3a3e05f6",
   "metadata": {},
   "outputs": [],
   "source": [
    "x_train_10 = bestfeatureslist(x_train, listbestvalues_agreeableness, 10)\n",
    "x_test_10 = bestfeatureslist(x_test, listbestvalues_agreeableness, 10)"
   ]
  },
  {
   "cell_type": "code",
   "execution_count": 42,
   "id": "b9f8300e",
   "metadata": {},
   "outputs": [
    {
     "name": "stdout",
     "output_type": "stream",
     "text": [
      "Fitting 5 folds for each of 54 candidates, totalling 270 fits\n",
      "Best parameters: {'colsample_bytree': 0.7, 'learning_rate': 0.01, 'max_depth': 3, 'n_estimators': 1000}\n",
      "Lowest mae:  0.3248431998401827\n"
     ]
    }
   ],
   "source": [
    "import pandas as pd\n",
    "import xgboost as xgb\n",
    "from sklearn.model_selection import GridSearchCV\n",
    "\n",
    "data = pd.read_csv(\"complete_CSV_Train.csv\")\n",
    "\n",
    "X, y = x_train_10, y_train #1\n",
    "    \n",
    "params = { 'max_depth': [3,6,10],\n",
    "           'learning_rate': [0.01, 0.05, 0.1],\n",
    "           'n_estimators': [100, 500, 1000],\n",
    "           'colsample_bytree': [0.3, 0.7]}\n",
    "\n",
    "xgbr = xgb.XGBRegressor(seed = 20)\n",
    "clf = GridSearchCV(estimator=xgbr, \n",
    "                   param_grid=params,\n",
    "                   scoring='neg_mean_absolute_error', \n",
    "                   verbose=1)\n",
    "\n",
    "clf.fit(X, y)\n",
    "print(\"Best parameters:\", clf.best_params_)\n",
    "print(\"Lowest mae: \", (-clf.best_score_)**(1/2.0))"
   ]
  },
  {
   "cell_type": "code",
   "execution_count": 43,
   "id": "46f6b8c1",
   "metadata": {},
   "outputs": [],
   "source": [
    "x_train_50 = bestfeatureslist(x_train, listbestvalues_agreeableness, 50)\n",
    "x_test_50 = bestfeatureslist(x_test, listbestvalues_agreeableness, 50)"
   ]
  },
  {
   "cell_type": "code",
   "execution_count": 44,
   "id": "92a5737a",
   "metadata": {},
   "outputs": [
    {
     "name": "stdout",
     "output_type": "stream",
     "text": [
      "Fitting 5 folds for each of 54 candidates, totalling 270 fits\n",
      "Best parameters: {'colsample_bytree': 0.3, 'learning_rate': 0.01, 'max_depth': 6, 'n_estimators': 1000}\n",
      "Lowest mae:  0.3207951993246344\n"
     ]
    }
   ],
   "source": [
    "import pandas as pd\n",
    "import xgboost as xgb\n",
    "from sklearn.model_selection import GridSearchCV\n",
    "\n",
    "data = pd.read_csv(\"complete_CSV_Train.csv\")\n",
    "\n",
    "X, y = x_train_50, y_train #1\n",
    "    \n",
    "params = { 'max_depth': [3,6,10],\n",
    "           'learning_rate': [0.01, 0.05, 0.1],\n",
    "           'n_estimators': [100, 500, 1000],\n",
    "           'colsample_bytree': [0.3, 0.7]}\n",
    "\n",
    "xgbr = xgb.XGBRegressor(seed = 20)\n",
    "clf = GridSearchCV(estimator=xgbr, \n",
    "                   param_grid=params,\n",
    "                   scoring='neg_mean_absolute_error', \n",
    "                   verbose=1)\n",
    "\n",
    "clf.fit(X, y)\n",
    "print(\"Best parameters:\", clf.best_params_)\n",
    "print(\"Lowest mae: \", (-clf.best_score_)**(1/2.0))"
   ]
  },
  {
   "cell_type": "code",
   "execution_count": 45,
   "id": "731e36c7",
   "metadata": {},
   "outputs": [],
   "source": [
    "x_train_100 = bestfeatureslist(x_train, listbestvalues_agreeableness, 100)\n",
    "x_test_100 = bestfeatureslist(x_test, listbestvalues_agreeableness, 100)"
   ]
  },
  {
   "cell_type": "code",
   "execution_count": 46,
   "id": "f4918d5f",
   "metadata": {},
   "outputs": [
    {
     "name": "stdout",
     "output_type": "stream",
     "text": [
      "Fitting 5 folds for each of 54 candidates, totalling 270 fits\n",
      "Best parameters: {'colsample_bytree': 0.7, 'learning_rate': 0.01, 'max_depth': 6, 'n_estimators': 1000}\n",
      "Lowest mae:  0.31726686933854825\n"
     ]
    }
   ],
   "source": [
    "import pandas as pd\n",
    "import xgboost as xgb\n",
    "from sklearn.model_selection import GridSearchCV\n",
    "\n",
    "data = pd.read_csv(\"complete_CSV_Train.csv\")\n",
    "\n",
    "X, y = x_train_100, y_train #1\n",
    "    \n",
    "params = { 'max_depth': [3,6,10],\n",
    "           'learning_rate': [0.01, 0.05, 0.1],\n",
    "           'n_estimators': [100, 500, 1000],\n",
    "           'colsample_bytree': [0.3, 0.7]}\n",
    "\n",
    "xgbr = xgb.XGBRegressor(seed = 20)\n",
    "clf = GridSearchCV(estimator=xgbr, \n",
    "                   param_grid=params,\n",
    "                   scoring='neg_mean_absolute_error', \n",
    "                   verbose=1)\n",
    "\n",
    "clf.fit(X, y)\n",
    "print(\"Best parameters:\", clf.best_params_)\n",
    "print(\"Lowest mae: \", (-clf.best_score_)**(1/2.0))"
   ]
  },
  {
   "cell_type": "code",
   "execution_count": 47,
   "id": "33be5d09",
   "metadata": {},
   "outputs": [],
   "source": [
    "x_train = bestfeatureslist(x_train, listbestvalues_agreeableness, 224)\n",
    "x_test = bestfeatureslist(x_test, listbestvalues_agreeableness, 224)"
   ]
  },
  {
   "cell_type": "code",
   "execution_count": 48,
   "id": "8e783d56",
   "metadata": {},
   "outputs": [
    {
     "name": "stdout",
     "output_type": "stream",
     "text": [
      "Fitting 5 folds for each of 54 candidates, totalling 270 fits\n",
      "Best parameters: {'colsample_bytree': 0.3, 'learning_rate': 0.01, 'max_depth': 10, 'n_estimators': 1000}\n",
      "Lowest mae:  0.31518806704480357\n"
     ]
    }
   ],
   "source": [
    "import pandas as pd\n",
    "import xgboost as xgb\n",
    "from sklearn.model_selection import GridSearchCV\n",
    "\n",
    "data = pd.read_csv(\"complete_CSV_Train.csv\")\n",
    "\n",
    "X, y = x_train, y_train #1\n",
    "    \n",
    "params = { 'max_depth': [3,6,10],\n",
    "           'learning_rate': [0.01, 0.05, 0.1],\n",
    "           'n_estimators': [100, 500, 1000],\n",
    "           'colsample_bytree': [0.3, 0.7]}\n",
    "\n",
    "xgbr = xgb.XGBRegressor(seed = 20)\n",
    "clf = GridSearchCV(estimator=xgbr, \n",
    "                   param_grid=params,\n",
    "                   scoring='neg_mean_absolute_error', \n",
    "                   verbose=1)\n",
    "\n",
    "clf.fit(X, y)\n",
    "print(\"Best parameters:\", clf.best_params_)\n",
    "print(\"Lowest mae: \", (-clf.best_score_)**(1/2.0))"
   ]
  },
  {
   "cell_type": "code",
   "execution_count": 49,
   "id": "5c311016",
   "metadata": {},
   "outputs": [],
   "source": [
    "csv_file = \"complete_CSV_Train.csv\"\n",
    "x_train, y_train = split_data_labels_neuroticism(csv_file)\n",
    "csv_file = \"complete_CSV_validation.csv\"\n",
    "x_test, y_test = split_data_labels_neuroticism(csv_file)"
   ]
  },
  {
   "cell_type": "code",
   "execution_count": 50,
   "id": "636c1a36",
   "metadata": {},
   "outputs": [],
   "source": [
    "x_train_10 = bestfeatureslist(x_train, listbestvalues_neuroticism, 10)\n",
    "x_test_10 = bestfeatureslist(x_test, listbestvalues_neuroticism, 10)"
   ]
  },
  {
   "cell_type": "code",
   "execution_count": 51,
   "id": "fef3456f",
   "metadata": {},
   "outputs": [
    {
     "name": "stdout",
     "output_type": "stream",
     "text": [
      "Fitting 5 folds for each of 54 candidates, totalling 270 fits\n",
      "Best parameters: {'colsample_bytree': 0.7, 'learning_rate': 0.01, 'max_depth': 6, 'n_estimators': 500}\n",
      "Lowest mae:  0.33642796923536916\n"
     ]
    }
   ],
   "source": [
    "import pandas as pd\n",
    "import xgboost as xgb\n",
    "from sklearn.model_selection import GridSearchCV\n",
    "\n",
    "data = pd.read_csv(\"complete_CSV_Train.csv\")\n",
    "\n",
    "X, y = x_train_10, y_train #1\n",
    "    \n",
    "params = { 'max_depth': [3,6,10],\n",
    "           'learning_rate': [0.01, 0.05, 0.1],\n",
    "           'n_estimators': [100, 500, 1000],\n",
    "           'colsample_bytree': [0.3, 0.7]}\n",
    "\n",
    "xgbr = xgb.XGBRegressor(seed = 20)\n",
    "clf = GridSearchCV(estimator=xgbr, \n",
    "                   param_grid=params,\n",
    "                   scoring='neg_mean_absolute_error', \n",
    "                   verbose=1)\n",
    "\n",
    "clf.fit(X, y)\n",
    "print(\"Best parameters:\", clf.best_params_)\n",
    "print(\"Lowest mae: \", (-clf.best_score_)**(1/2.0))"
   ]
  },
  {
   "cell_type": "code",
   "execution_count": 52,
   "id": "0d70410f",
   "metadata": {},
   "outputs": [],
   "source": [
    "x_train_50 = bestfeatureslist(x_train, listbestvalues_neuroticism, 50)\n",
    "x_test_50 = bestfeatureslist(x_test, listbestvalues_neuroticism, 50)"
   ]
  },
  {
   "cell_type": "code",
   "execution_count": 53,
   "id": "db00c8bd",
   "metadata": {},
   "outputs": [
    {
     "name": "stdout",
     "output_type": "stream",
     "text": [
      "Fitting 5 folds for each of 54 candidates, totalling 270 fits\n",
      "Best parameters: {'colsample_bytree': 0.7, 'learning_rate': 0.01, 'max_depth': 10, 'n_estimators': 1000}\n",
      "Lowest mae:  0.32591546571319985\n"
     ]
    }
   ],
   "source": [
    "import pandas as pd\n",
    "import xgboost as xgb\n",
    "from sklearn.model_selection import GridSearchCV\n",
    "\n",
    "data = pd.read_csv(\"complete_CSV_Train.csv\")\n",
    "\n",
    "X, y = x_train_50, y_train #1\n",
    "    \n",
    "params = { 'max_depth': [3,6,10],\n",
    "           'learning_rate': [0.01, 0.05, 0.1],\n",
    "           'n_estimators': [100, 500, 1000],\n",
    "           'colsample_bytree': [0.3, 0.7]}\n",
    "\n",
    "xgbr = xgb.XGBRegressor(seed = 20)\n",
    "clf = GridSearchCV(estimator=xgbr, \n",
    "                   param_grid=params,\n",
    "                   scoring='neg_mean_absolute_error', \n",
    "                   verbose=1)\n",
    "\n",
    "clf.fit(X, y)\n",
    "print(\"Best parameters:\", clf.best_params_)\n",
    "print(\"Lowest mae: \", (-clf.best_score_)**(1/2.0))"
   ]
  },
  {
   "cell_type": "code",
   "execution_count": 54,
   "id": "727d9918",
   "metadata": {},
   "outputs": [],
   "source": [
    "x_train_100 = bestfeatureslist(x_train, listbestvalues_neuroticism, 100)\n",
    "x_test_100 = bestfeatureslist(x_test, listbestvalues_neuroticism, 100)"
   ]
  },
  {
   "cell_type": "code",
   "execution_count": 55,
   "id": "468f7585",
   "metadata": {},
   "outputs": [
    {
     "name": "stdout",
     "output_type": "stream",
     "text": [
      "Fitting 5 folds for each of 54 candidates, totalling 270 fits\n",
      "Best parameters: {'colsample_bytree': 0.7, 'learning_rate': 0.01, 'max_depth': 10, 'n_estimators': 1000}\n",
      "Lowest mae:  0.3242815261093007\n"
     ]
    }
   ],
   "source": [
    "import pandas as pd\n",
    "import xgboost as xgb\n",
    "from sklearn.model_selection import GridSearchCV\n",
    "\n",
    "data = pd.read_csv(\"complete_CSV_Train.csv\")\n",
    "\n",
    "X, y = x_train_100, y_train #1\n",
    "    \n",
    "params = { 'max_depth': [3,6,10],\n",
    "           'learning_rate': [0.01, 0.05, 0.1],\n",
    "           'n_estimators': [100, 500, 1000],\n",
    "           'colsample_bytree': [0.3, 0.7]}\n",
    "\n",
    "xgbr = xgb.XGBRegressor(seed = 20)\n",
    "clf = GridSearchCV(estimator=xgbr, \n",
    "                   param_grid=params,\n",
    "                   scoring='neg_mean_absolute_error', \n",
    "                   verbose=1)\n",
    "\n",
    "clf.fit(X, y)\n",
    "print(\"Best parameters:\", clf.best_params_)\n",
    "print(\"Lowest mae: \", (-clf.best_score_)**(1/2.0))"
   ]
  },
  {
   "cell_type": "code",
   "execution_count": 56,
   "id": "60862e0a",
   "metadata": {},
   "outputs": [],
   "source": [
    "x_train = bestfeatureslist(x_train, listbestvalues_neuroticism, 224)\n",
    "x_test = bestfeatureslist(x_test, listbestvalues_neuroticism, 224)"
   ]
  },
  {
   "cell_type": "code",
   "execution_count": 57,
   "id": "de92678c",
   "metadata": {},
   "outputs": [
    {
     "name": "stdout",
     "output_type": "stream",
     "text": [
      "Fitting 5 folds for each of 54 candidates, totalling 270 fits\n",
      "Best parameters: {'colsample_bytree': 0.7, 'learning_rate': 0.01, 'max_depth': 10, 'n_estimators': 1000}\n",
      "Lowest mae:  0.3230100708781289\n"
     ]
    }
   ],
   "source": [
    "import pandas as pd\n",
    "import xgboost as xgb\n",
    "from sklearn.model_selection import GridSearchCV\n",
    "\n",
    "data = pd.read_csv(\"complete_CSV_Train.csv\")\n",
    "\n",
    "X, y = x_train, y_train #1\n",
    "    \n",
    "params = { 'max_depth': [3,6,10],\n",
    "           'learning_rate': [0.01, 0.05, 0.1],\n",
    "           'n_estimators': [100, 500, 1000],\n",
    "           'colsample_bytree': [0.3, 0.7]}\n",
    "\n",
    "xgbr = xgb.XGBRegressor(seed = 20)\n",
    "clf = GridSearchCV(estimator=xgbr, \n",
    "                   param_grid=params,\n",
    "                   scoring='neg_mean_absolute_error', \n",
    "                   verbose=1)\n",
    "\n",
    "clf.fit(X, y)\n",
    "print(\"Best parameters:\", clf.best_params_)\n",
    "print(\"Lowest mae: \", (-clf.best_score_)**(1/2.0))"
   ]
  },
  {
   "cell_type": "code",
   "execution_count": 24,
   "id": "fee4f9d5",
   "metadata": {},
   "outputs": [],
   "source": [
    "#XGBoost openness"
   ]
  },
  {
   "cell_type": "code",
   "execution_count": 25,
   "id": "a1d7ba53",
   "metadata": {},
   "outputs": [],
   "source": [
    "csv_file = \"complete_CSV_Train.csv\"\n",
    "x_train, y_train = split_data_labels_openness(csv_file)\n",
    "csv_file = \"complete_CSV_validation.csv\"\n",
    "x_test, y_test = split_data_labels_openness(csv_file)"
   ]
  },
  {
   "cell_type": "code",
   "execution_count": 26,
   "id": "3e53b3f6",
   "metadata": {},
   "outputs": [],
   "source": [
    "x_train_10 = bestfeatureslist(x_train, listbestvalues_openness, 10)\n",
    "x_test_10 = bestfeatureslist(x_test, listbestvalues_openness, 10)"
   ]
  },
  {
   "cell_type": "code",
   "execution_count": 27,
   "id": "cb6f65e5",
   "metadata": {},
   "outputs": [
    {
     "name": "stdout",
     "output_type": "stream",
     "text": [
      "XGBRegressor(base_score=None, booster=None, colsample_bylevel=None,\n",
      "             colsample_bynode=None, colsample_bytree=0.7, gamma=None,\n",
      "             gpu_id=None, importance_type='gain', interaction_constraints=None,\n",
      "             learning_rate=0.01, max_delta_step=None, max_depth=6,\n",
      "             min_child_weight=None, missing=nan, monotone_constraints=None,\n",
      "             n_estimators=500, n_jobs=None, num_parallel_tree=None,\n",
      "             random_state=None, reg_alpha=None, reg_lambda=None,\n",
      "             scale_pos_weight=None, subsample=None, tree_method=None,\n",
      "             validate_parameters=None, verbosity=0)\n"
     ]
    }
   ],
   "source": [
    "from xgboost import XGBRegressor\n",
    "\n",
    "xgbr = XGBRegressor(colsample_bytree = 0.7, learning_rate = 0.01, max_depth = 6, n_estimators = 500, verbosity=0)\n",
    "print(xgbr)"
   ]
  },
  {
   "cell_type": "code",
   "execution_count": 28,
   "id": "de708ee7",
   "metadata": {},
   "outputs": [
    {
     "data": {
      "text/plain": [
       "XGBRegressor(base_score=0.5, booster='gbtree', colsample_bylevel=1,\n",
       "             colsample_bynode=1, colsample_bytree=0.7, gamma=0, gpu_id=-1,\n",
       "             importance_type='gain', interaction_constraints='',\n",
       "             learning_rate=0.01, max_delta_step=0, max_depth=6,\n",
       "             min_child_weight=1, missing=nan, monotone_constraints='()',\n",
       "             n_estimators=500, n_jobs=8, num_parallel_tree=1, random_state=0,\n",
       "             reg_alpha=0, reg_lambda=1, scale_pos_weight=1, subsample=1,\n",
       "             tree_method='exact', validate_parameters=1, verbosity=0)"
      ]
     },
     "execution_count": 28,
     "metadata": {},
     "output_type": "execute_result"
    }
   ],
   "source": [
    "xgbr.fit(x_train_10, y_train) #1"
   ]
  },
  {
   "cell_type": "code",
   "execution_count": 29,
   "id": "39581db5",
   "metadata": {},
   "outputs": [
    {
     "name": "stdout",
     "output_type": "stream",
     "text": [
      "0.42525501882508976\n"
     ]
    }
   ],
   "source": [
    "score = xgbr.score(x_train_10, y_train) #2\n",
    "print(score)"
   ]
  },
  {
   "cell_type": "code",
   "execution_count": 30,
   "id": "3b96de56",
   "metadata": {},
   "outputs": [
    {
     "name": "stdout",
     "output_type": "stream",
     "text": [
      "CV mean score: 0.14169287723162222\n"
     ]
    }
   ],
   "source": [
    "from xgboost import XGBRegressor\n",
    "from sklearn.model_selection import cross_val_score\n",
    "from sklearn.metrics import mean_squared_error\n",
    "from sklearn.metrics import mean_absolute_error\n",
    "\n",
    "\n",
    "cv_score = cross_val_score(xgbr, x_train_10, y_train, cv=10) #3\n",
    "print(\"CV mean score:\", cv_score.mean())"
   ]
  },
  {
   "cell_type": "code",
   "execution_count": 31,
   "id": "0eab5230",
   "metadata": {},
   "outputs": [
    {
     "name": "stdout",
     "output_type": "stream",
     "text": [
      "1-MAE 0.8944191771580113\n"
     ]
    }
   ],
   "source": [
    "ypred = xgbr.predict(x_test_10) #4\n",
    "mae = mean_absolute_error(y_test, ypred)\n",
    "\n",
    "print(\"1-MAE\", 1-mae)"
   ]
  },
  {
   "cell_type": "code",
   "execution_count": 32,
   "id": "c0779e56",
   "metadata": {},
   "outputs": [],
   "source": [
    "x_train_50 = bestfeatureslist(x_train, listbestvalues_openness, 50)\n",
    "x_test_50 = bestfeatureslist(x_test, listbestvalues_openness, 50)"
   ]
  },
  {
   "cell_type": "code",
   "execution_count": 33,
   "id": "5ce4244c",
   "metadata": {},
   "outputs": [
    {
     "name": "stdout",
     "output_type": "stream",
     "text": [
      "XGBRegressor(base_score=None, booster=None, colsample_bylevel=None,\n",
      "             colsample_bynode=None, colsample_bytree=0.7, gamma=None,\n",
      "             gpu_id=None, importance_type='gain', interaction_constraints=None,\n",
      "             learning_rate=0.01, max_delta_step=None, max_depth=10,\n",
      "             min_child_weight=None, missing=nan, monotone_constraints=None,\n",
      "             n_estimators=1000, n_jobs=None, num_parallel_tree=None,\n",
      "             random_state=None, reg_alpha=None, reg_lambda=None,\n",
      "             scale_pos_weight=None, subsample=None, tree_method=None,\n",
      "             validate_parameters=None, verbosity=0)\n"
     ]
    }
   ],
   "source": [
    "from xgboost import XGBRegressor\n",
    "\n",
    "xgbr = XGBRegressor(colsample_bytree = 0.7, learning_rate = 0.01, max_depth = 10, n_estimators = 1000, verbosity=0)\n",
    "print(xgbr)"
   ]
  },
  {
   "cell_type": "code",
   "execution_count": 34,
   "id": "890077c8",
   "metadata": {},
   "outputs": [
    {
     "data": {
      "text/plain": [
       "XGBRegressor(base_score=0.5, booster='gbtree', colsample_bylevel=1,\n",
       "             colsample_bynode=1, colsample_bytree=0.7, gamma=0, gpu_id=-1,\n",
       "             importance_type='gain', interaction_constraints='',\n",
       "             learning_rate=0.01, max_delta_step=0, max_depth=10,\n",
       "             min_child_weight=1, missing=nan, monotone_constraints='()',\n",
       "             n_estimators=1000, n_jobs=8, num_parallel_tree=1, random_state=0,\n",
       "             reg_alpha=0, reg_lambda=1, scale_pos_weight=1, subsample=1,\n",
       "             tree_method='exact', validate_parameters=1, verbosity=0)"
      ]
     },
     "execution_count": 34,
     "metadata": {},
     "output_type": "execute_result"
    }
   ],
   "source": [
    "xgbr.fit(x_train_50, y_train) #1"
   ]
  },
  {
   "cell_type": "code",
   "execution_count": 35,
   "id": "d54f399a",
   "metadata": {},
   "outputs": [
    {
     "name": "stdout",
     "output_type": "stream",
     "text": [
      "0.9867677654164091\n"
     ]
    }
   ],
   "source": [
    "score = xgbr.score(x_train_50, y_train) #2\n",
    "print(score)"
   ]
  },
  {
   "cell_type": "code",
   "execution_count": 37,
   "id": "accb0273",
   "metadata": {},
   "outputs": [
    {
     "name": "stdout",
     "output_type": "stream",
     "text": [
      "CV mean score: 0.23215948773361178\n"
     ]
    }
   ],
   "source": [
    "from xgboost import XGBRegressor\n",
    "from sklearn.model_selection import cross_val_score\n",
    "from sklearn.metrics import mean_squared_error\n",
    "from sklearn.metrics import mean_absolute_error\n",
    "\n",
    "\n",
    "cv_score = cross_val_score(xgbr, x_train_50, y_train, cv=10) #3\n",
    "print(\"CV mean score:\", cv_score.mean())"
   ]
  },
  {
   "cell_type": "code",
   "execution_count": 38,
   "id": "fa037ce9",
   "metadata": {},
   "outputs": [
    {
     "name": "stdout",
     "output_type": "stream",
     "text": [
      "1-MAE 0.9001984692368242\n"
     ]
    }
   ],
   "source": [
    "ypred = xgbr.predict(x_test_50) #4\n",
    "mae = mean_absolute_error(y_test, ypred)\n",
    "\n",
    "print(\"1-MAE\", 1-mae)"
   ]
  },
  {
   "cell_type": "code",
   "execution_count": 39,
   "id": "8855bd74",
   "metadata": {},
   "outputs": [],
   "source": [
    "x_train_100 = bestfeatureslist(x_train, listbestvalues_openness, 100)\n",
    "x_test_100 = bestfeatureslist(x_test, listbestvalues_openness, 100)"
   ]
  },
  {
   "cell_type": "code",
   "execution_count": 40,
   "id": "37921f7b",
   "metadata": {},
   "outputs": [
    {
     "name": "stdout",
     "output_type": "stream",
     "text": [
      "XGBRegressor(base_score=None, booster=None, colsample_bylevel=None,\n",
      "             colsample_bynode=None, colsample_bytree=0.7, gamma=None,\n",
      "             gpu_id=None, importance_type='gain', interaction_constraints=None,\n",
      "             learning_rate=0.01, max_delta_step=None, max_depth=10,\n",
      "             min_child_weight=None, missing=nan, monotone_constraints=None,\n",
      "             n_estimators=1000, n_jobs=None, num_parallel_tree=None,\n",
      "             random_state=None, reg_alpha=None, reg_lambda=None,\n",
      "             scale_pos_weight=None, subsample=None, tree_method=None,\n",
      "             validate_parameters=None, verbosity=0)\n"
     ]
    }
   ],
   "source": [
    "from xgboost import XGBRegressor\n",
    "\n",
    "xgbr = XGBRegressor(colsample_bytree = 0.7, learning_rate = 0.01, max_depth = 10, n_estimators = 1000, verbosity=0)\n",
    "print(xgbr)"
   ]
  },
  {
   "cell_type": "code",
   "execution_count": 41,
   "id": "87bd741d",
   "metadata": {},
   "outputs": [
    {
     "data": {
      "text/plain": [
       "XGBRegressor(base_score=0.5, booster='gbtree', colsample_bylevel=1,\n",
       "             colsample_bynode=1, colsample_bytree=0.7, gamma=0, gpu_id=-1,\n",
       "             importance_type='gain', interaction_constraints='',\n",
       "             learning_rate=0.01, max_delta_step=0, max_depth=10,\n",
       "             min_child_weight=1, missing=nan, monotone_constraints='()',\n",
       "             n_estimators=1000, n_jobs=8, num_parallel_tree=1, random_state=0,\n",
       "             reg_alpha=0, reg_lambda=1, scale_pos_weight=1, subsample=1,\n",
       "             tree_method='exact', validate_parameters=1, verbosity=0)"
      ]
     },
     "execution_count": 41,
     "metadata": {},
     "output_type": "execute_result"
    }
   ],
   "source": [
    "xgbr.fit(x_train_100, y_train) #1"
   ]
  },
  {
   "cell_type": "code",
   "execution_count": 42,
   "id": "f731e01e",
   "metadata": {},
   "outputs": [
    {
     "name": "stdout",
     "output_type": "stream",
     "text": [
      "0.994061110871919\n"
     ]
    }
   ],
   "source": [
    "score = xgbr.score(x_train_100, y_train) #2\n",
    "print(score)"
   ]
  },
  {
   "cell_type": "code",
   "execution_count": 43,
   "id": "ffa277b5",
   "metadata": {},
   "outputs": [
    {
     "name": "stdout",
     "output_type": "stream",
     "text": [
      "CV mean score: 0.25344987886605497\n"
     ]
    }
   ],
   "source": [
    "from xgboost import XGBRegressor\n",
    "from sklearn.model_selection import cross_val_score\n",
    "from sklearn.metrics import mean_squared_error\n",
    "from sklearn.metrics import mean_absolute_error\n",
    "\n",
    "\n",
    "cv_score = cross_val_score(xgbr, x_train_100, y_train, cv=10) #3\n",
    "print(\"CV mean score:\", cv_score.mean())"
   ]
  },
  {
   "cell_type": "code",
   "execution_count": 44,
   "id": "650f0b0f",
   "metadata": {},
   "outputs": [
    {
     "name": "stdout",
     "output_type": "stream",
     "text": [
      "1-MAE 0.9012774353196223\n"
     ]
    }
   ],
   "source": [
    "ypred = xgbr.predict(x_test_100) #4\n",
    "mae = mean_absolute_error(y_test, ypred)\n",
    "\n",
    "print(\"1-MAE\", 1-mae)"
   ]
  },
  {
   "cell_type": "code",
   "execution_count": 45,
   "id": "41bedfcb",
   "metadata": {},
   "outputs": [],
   "source": [
    "x_train_224 = bestfeatureslist(x_train, listbestvalues_openness, 224)\n",
    "x_test_224 = bestfeatureslist(x_test, listbestvalues_openness, 224)"
   ]
  },
  {
   "cell_type": "code",
   "execution_count": 46,
   "id": "19455c5e",
   "metadata": {},
   "outputs": [
    {
     "name": "stdout",
     "output_type": "stream",
     "text": [
      "XGBRegressor(base_score=None, booster=None, colsample_bylevel=None,\n",
      "             colsample_bynode=None, colsample_bytree=0.3, gamma=None,\n",
      "             gpu_id=None, importance_type='gain', interaction_constraints=None,\n",
      "             learning_rate=0.01, max_delta_step=None, max_depth=6,\n",
      "             min_child_weight=None, missing=nan, monotone_constraints=None,\n",
      "             n_estimators=1000, n_jobs=None, num_parallel_tree=None,\n",
      "             random_state=None, reg_alpha=None, reg_lambda=None,\n",
      "             scale_pos_weight=None, subsample=None, tree_method=None,\n",
      "             validate_parameters=None, verbosity=0)\n"
     ]
    }
   ],
   "source": [
    "from xgboost import XGBRegressor\n",
    "\n",
    "xgbr = XGBRegressor(colsample_bytree = 0.3, learning_rate = 0.01, max_depth = 6, n_estimators = 1000, verbosity=0)\n",
    "print(xgbr)"
   ]
  },
  {
   "cell_type": "code",
   "execution_count": 47,
   "id": "279cd7ba",
   "metadata": {},
   "outputs": [
    {
     "data": {
      "text/plain": [
       "XGBRegressor(base_score=0.5, booster='gbtree', colsample_bylevel=1,\n",
       "             colsample_bynode=1, colsample_bytree=0.3, gamma=0, gpu_id=-1,\n",
       "             importance_type='gain', interaction_constraints='',\n",
       "             learning_rate=0.01, max_delta_step=0, max_depth=6,\n",
       "             min_child_weight=1, missing=nan, monotone_constraints='()',\n",
       "             n_estimators=1000, n_jobs=8, num_parallel_tree=1, random_state=0,\n",
       "             reg_alpha=0, reg_lambda=1, scale_pos_weight=1, subsample=1,\n",
       "             tree_method='exact', validate_parameters=1, verbosity=0)"
      ]
     },
     "execution_count": 47,
     "metadata": {},
     "output_type": "execute_result"
    }
   ],
   "source": [
    "xgbr.fit(x_train_224, y_train) #1"
   ]
  },
  {
   "cell_type": "code",
   "execution_count": 48,
   "id": "403751bb",
   "metadata": {},
   "outputs": [
    {
     "name": "stdout",
     "output_type": "stream",
     "text": [
      "0.7917210723322067\n"
     ]
    }
   ],
   "source": [
    "score = xgbr.score(x_train_224, y_train) #2\n",
    "print(score)"
   ]
  },
  {
   "cell_type": "code",
   "execution_count": 49,
   "id": "4e9f2d2f",
   "metadata": {},
   "outputs": [
    {
     "name": "stdout",
     "output_type": "stream",
     "text": [
      "CV mean score: 0.2756652366241622\n"
     ]
    }
   ],
   "source": [
    "from xgboost import XGBRegressor\n",
    "from sklearn.model_selection import cross_val_score\n",
    "from sklearn.metrics import mean_squared_error\n",
    "from sklearn.metrics import mean_absolute_error\n",
    "\n",
    "\n",
    "cv_score = cross_val_score(xgbr, x_train_224, y_train, cv=10) #3\n",
    "print(\"CV mean score:\", cv_score.mean())"
   ]
  },
  {
   "cell_type": "code",
   "execution_count": 50,
   "id": "4705658f",
   "metadata": {},
   "outputs": [
    {
     "name": "stdout",
     "output_type": "stream",
     "text": [
      "1-MAE 0.9034726799226469\n"
     ]
    }
   ],
   "source": [
    "ypred = xgbr.predict(x_test_224) #4\n",
    "mae = mean_absolute_error(y_test, ypred)\n",
    "\n",
    "print(\"1-MAE\", 1-mae)"
   ]
  },
  {
   "cell_type": "code",
   "execution_count": null,
   "id": "45f00561",
   "metadata": {},
   "outputs": [],
   "source": [
    "#XGBoost conscientiousness"
   ]
  },
  {
   "cell_type": "code",
   "execution_count": 51,
   "id": "def51587",
   "metadata": {},
   "outputs": [],
   "source": [
    "csv_file = \"complete_CSV_Train.csv\"\n",
    "x_train, y_train = split_data_labels_conscientiousness(csv_file)\n",
    "csv_file = \"complete_CSV_validation.csv\"\n",
    "x_test, y_test = split_data_labels_conscientiousness(csv_file)"
   ]
  },
  {
   "cell_type": "code",
   "execution_count": 52,
   "id": "059f4fb3",
   "metadata": {},
   "outputs": [],
   "source": [
    "x_train_10 = bestfeatureslist(x_train, listbestvalues_conscientiousness, 10)\n",
    "x_test_10 = bestfeatureslist(x_test, listbestvalues_conscientiousness, 10)"
   ]
  },
  {
   "cell_type": "code",
   "execution_count": 53,
   "id": "7300ea45",
   "metadata": {},
   "outputs": [
    {
     "name": "stdout",
     "output_type": "stream",
     "text": [
      "XGBRegressor(base_score=None, booster=None, colsample_bylevel=None,\n",
      "             colsample_bynode=None, colsample_bytree=0.3, gamma=None,\n",
      "             gpu_id=None, importance_type='gain', interaction_constraints=None,\n",
      "             learning_rate=0.01, max_delta_step=None, max_depth=3,\n",
      "             min_child_weight=None, missing=nan, monotone_constraints=None,\n",
      "             n_estimators=1000, n_jobs=None, num_parallel_tree=None,\n",
      "             random_state=None, reg_alpha=None, reg_lambda=None,\n",
      "             scale_pos_weight=None, subsample=None, tree_method=None,\n",
      "             validate_parameters=None, verbosity=0)\n"
     ]
    }
   ],
   "source": [
    "from xgboost import XGBRegressor\n",
    "\n",
    "xgbr = XGBRegressor(colsample_bytree = 0.3, learning_rate = 0.01, max_depth = 3, n_estimators = 1000, verbosity=0)\n",
    "print(xgbr)"
   ]
  },
  {
   "cell_type": "code",
   "execution_count": 54,
   "id": "7913c0e0",
   "metadata": {},
   "outputs": [
    {
     "data": {
      "text/plain": [
       "XGBRegressor(base_score=0.5, booster='gbtree', colsample_bylevel=1,\n",
       "             colsample_bynode=1, colsample_bytree=0.3, gamma=0, gpu_id=-1,\n",
       "             importance_type='gain', interaction_constraints='',\n",
       "             learning_rate=0.01, max_delta_step=0, max_depth=3,\n",
       "             min_child_weight=1, missing=nan, monotone_constraints='()',\n",
       "             n_estimators=1000, n_jobs=8, num_parallel_tree=1, random_state=0,\n",
       "             reg_alpha=0, reg_lambda=1, scale_pos_weight=1, subsample=1,\n",
       "             tree_method='exact', validate_parameters=1, verbosity=0)"
      ]
     },
     "execution_count": 54,
     "metadata": {},
     "output_type": "execute_result"
    }
   ],
   "source": [
    "xgbr.fit(x_train_10, y_train) #1"
   ]
  },
  {
   "cell_type": "code",
   "execution_count": 55,
   "id": "65d5a1b4",
   "metadata": {},
   "outputs": [
    {
     "name": "stdout",
     "output_type": "stream",
     "text": [
      "0.15655031231860939\n"
     ]
    }
   ],
   "source": [
    "score = xgbr.score(x_train_10, y_train) #2\n",
    "print(score)"
   ]
  },
  {
   "cell_type": "code",
   "execution_count": 56,
   "id": "f990d407",
   "metadata": {},
   "outputs": [
    {
     "name": "stdout",
     "output_type": "stream",
     "text": [
      "CV mean score: 0.07006297326839583\n"
     ]
    }
   ],
   "source": [
    "from xgboost import XGBRegressor\n",
    "from sklearn.model_selection import cross_val_score\n",
    "from sklearn.metrics import mean_squared_error\n",
    "from sklearn.metrics import mean_absolute_error\n",
    "\n",
    "\n",
    "cv_score = cross_val_score(xgbr, x_train_10, y_train, cv=10) #3\n",
    "print(\"CV mean score:\", cv_score.mean())"
   ]
  },
  {
   "cell_type": "code",
   "execution_count": 57,
   "id": "7cdc5e8a",
   "metadata": {},
   "outputs": [
    {
     "name": "stdout",
     "output_type": "stream",
     "text": [
      "1-MAE 0.8793791132138192\n"
     ]
    }
   ],
   "source": [
    "ypred = xgbr.predict(x_test_10) #4\n",
    "mae = mean_absolute_error(y_test, ypred)\n",
    "\n",
    "print(\"1-MAE\", 1-mae)"
   ]
  },
  {
   "cell_type": "code",
   "execution_count": 64,
   "id": "8f4c35ca",
   "metadata": {},
   "outputs": [],
   "source": [
    "x_train_50 = bestfeatureslist(x_train, listbestvalues_conscientiousness, 50)\n",
    "x_test_50 = bestfeatureslist(x_test, listbestvalues_conscientiousness, 50)"
   ]
  },
  {
   "cell_type": "code",
   "execution_count": 65,
   "id": "a23299fb",
   "metadata": {},
   "outputs": [
    {
     "name": "stdout",
     "output_type": "stream",
     "text": [
      "XGBRegressor(base_score=None, booster=None, colsample_bylevel=None,\n",
      "             colsample_bynode=None, colsample_bytree=0.7, gamma=None,\n",
      "             gpu_id=None, importance_type='gain', interaction_constraints=None,\n",
      "             learning_rate=0.01, max_delta_step=None, max_depth=6,\n",
      "             min_child_weight=None, missing=nan, monotone_constraints=None,\n",
      "             n_estimators=500, n_jobs=None, num_parallel_tree=None,\n",
      "             random_state=None, reg_alpha=None, reg_lambda=None,\n",
      "             scale_pos_weight=None, subsample=None, tree_method=None,\n",
      "             validate_parameters=None, verbosity=0)\n"
     ]
    }
   ],
   "source": [
    "from xgboost import XGBRegressor\n",
    "\n",
    "xgbr = XGBRegressor(colsample_bytree = 0.7, learning_rate = 0.01, max_depth = 6, n_estimators = 500, verbosity=0)\n",
    "print(xgbr)"
   ]
  },
  {
   "cell_type": "code",
   "execution_count": 66,
   "id": "d5011f93",
   "metadata": {},
   "outputs": [
    {
     "data": {
      "text/plain": [
       "XGBRegressor(base_score=0.5, booster='gbtree', colsample_bylevel=1,\n",
       "             colsample_bynode=1, colsample_bytree=0.7, gamma=0, gpu_id=-1,\n",
       "             importance_type='gain', interaction_constraints='',\n",
       "             learning_rate=0.01, max_delta_step=0, max_depth=6,\n",
       "             min_child_weight=1, missing=nan, monotone_constraints='()',\n",
       "             n_estimators=500, n_jobs=8, num_parallel_tree=1, random_state=0,\n",
       "             reg_alpha=0, reg_lambda=1, scale_pos_weight=1, subsample=1,\n",
       "             tree_method='exact', validate_parameters=1, verbosity=0)"
      ]
     },
     "execution_count": 66,
     "metadata": {},
     "output_type": "execute_result"
    }
   ],
   "source": [
    "xgbr.fit(x_train_50, y_train) #1"
   ]
  },
  {
   "cell_type": "code",
   "execution_count": 67,
   "id": "d8df7016",
   "metadata": {},
   "outputs": [
    {
     "name": "stdout",
     "output_type": "stream",
     "text": [
      "0.4252550459952389\n"
     ]
    }
   ],
   "source": [
    "score = xgbr.score(x_train_50, y_train) #2\n",
    "print(score)"
   ]
  },
  {
   "cell_type": "code",
   "execution_count": 68,
   "id": "2dea1fa8",
   "metadata": {},
   "outputs": [
    {
     "name": "stdout",
     "output_type": "stream",
     "text": [
      "CV mean score: 0.10470034694081809\n"
     ]
    }
   ],
   "source": [
    "from xgboost import XGBRegressor\n",
    "from sklearn.model_selection import cross_val_score\n",
    "from sklearn.metrics import mean_squared_error\n",
    "from sklearn.metrics import mean_absolute_error\n",
    "\n",
    "\n",
    "cv_score = cross_val_score(xgbr, x_train_50, y_train, cv=10) #3\n",
    "print(\"CV mean score:\", cv_score.mean())"
   ]
  },
  {
   "cell_type": "code",
   "execution_count": 69,
   "id": "8385d5bb",
   "metadata": {},
   "outputs": [
    {
     "name": "stdout",
     "output_type": "stream",
     "text": [
      "1-MAE 0.8835694304039177\n"
     ]
    }
   ],
   "source": [
    "ypred = xgbr.predict(x_test_50) #4\n",
    "mae = mean_absolute_error(y_test, ypred)\n",
    "\n",
    "print(\"1-MAE\", 1-mae)"
   ]
  },
  {
   "cell_type": "code",
   "execution_count": 70,
   "id": "9a6218b0",
   "metadata": {},
   "outputs": [],
   "source": [
    "x_train_100 = bestfeatureslist(x_train, listbestvalues_conscientiousness, 100)\n",
    "x_test_100 = bestfeatureslist(x_test, listbestvalues_conscientiousness, 100)"
   ]
  },
  {
   "cell_type": "code",
   "execution_count": 71,
   "id": "d8860b73",
   "metadata": {},
   "outputs": [
    {
     "name": "stdout",
     "output_type": "stream",
     "text": [
      "XGBRegressor(base_score=None, booster=None, colsample_bylevel=None,\n",
      "             colsample_bynode=None, colsample_bytree=0.3, gamma=None,\n",
      "             gpu_id=None, importance_type='gain', interaction_constraints=None,\n",
      "             learning_rate=0.01, max_delta_step=None, max_depth=6,\n",
      "             min_child_weight=None, missing=nan, monotone_constraints=None,\n",
      "             n_estimators=1000, n_jobs=None, num_parallel_tree=None,\n",
      "             random_state=None, reg_alpha=None, reg_lambda=None,\n",
      "             scale_pos_weight=None, subsample=None, tree_method=None,\n",
      "             validate_parameters=None, verbosity=0)\n"
     ]
    }
   ],
   "source": [
    "from xgboost import XGBRegressor\n",
    "\n",
    "xgbr = XGBRegressor(colsample_bytree = 0.3, learning_rate = 0.01, max_depth = 6, n_estimators = 1000, verbosity=0)\n",
    "print(xgbr)"
   ]
  },
  {
   "cell_type": "code",
   "execution_count": 72,
   "id": "8a51c1eb",
   "metadata": {},
   "outputs": [
    {
     "data": {
      "text/plain": [
       "XGBRegressor(base_score=0.5, booster='gbtree', colsample_bylevel=1,\n",
       "             colsample_bynode=1, colsample_bytree=0.3, gamma=0, gpu_id=-1,\n",
       "             importance_type='gain', interaction_constraints='',\n",
       "             learning_rate=0.01, max_delta_step=0, max_depth=6,\n",
       "             min_child_weight=1, missing=nan, monotone_constraints='()',\n",
       "             n_estimators=1000, n_jobs=8, num_parallel_tree=1, random_state=0,\n",
       "             reg_alpha=0, reg_lambda=1, scale_pos_weight=1, subsample=1,\n",
       "             tree_method='exact', validate_parameters=1, verbosity=0)"
      ]
     },
     "execution_count": 72,
     "metadata": {},
     "output_type": "execute_result"
    }
   ],
   "source": [
    "xgbr.fit(x_train_100, y_train) #1"
   ]
  },
  {
   "cell_type": "code",
   "execution_count": 73,
   "id": "bc0dd6fc",
   "metadata": {},
   "outputs": [
    {
     "name": "stdout",
     "output_type": "stream",
     "text": [
      "0.6447879082459275\n"
     ]
    }
   ],
   "source": [
    "score = xgbr.score(x_train_100, y_train) #2\n",
    "print(score)"
   ]
  },
  {
   "cell_type": "code",
   "execution_count": 74,
   "id": "92b70681",
   "metadata": {},
   "outputs": [
    {
     "name": "stdout",
     "output_type": "stream",
     "text": [
      "CV mean score: 0.15428568453596841\n"
     ]
    }
   ],
   "source": [
    "from xgboost import XGBRegressor\n",
    "from sklearn.model_selection import cross_val_score\n",
    "from sklearn.metrics import mean_squared_error\n",
    "from sklearn.metrics import mean_absolute_error\n",
    "\n",
    "\n",
    "cv_score = cross_val_score(xgbr, x_train_100, y_train, cv=10) #3\n",
    "print(\"CV mean score:\", cv_score.mean())"
   ]
  },
  {
   "cell_type": "code",
   "execution_count": 75,
   "id": "e049b476",
   "metadata": {},
   "outputs": [
    {
     "name": "stdout",
     "output_type": "stream",
     "text": [
      "1-MAE 0.8870086063683322\n"
     ]
    }
   ],
   "source": [
    "ypred = xgbr.predict(x_test_100) #4\n",
    "mae = mean_absolute_error(y_test, ypred)\n",
    "\n",
    "print(\"1-MAE\", 1-mae)"
   ]
  },
  {
   "cell_type": "code",
   "execution_count": 76,
   "id": "d2b6a1a5",
   "metadata": {},
   "outputs": [],
   "source": [
    "x_train_224 = bestfeatureslist(x_train, listbestvalues_conscientiousness, 224)\n",
    "x_test_224 = bestfeatureslist(x_test, listbestvalues_conscientiousness, 224)"
   ]
  },
  {
   "cell_type": "code",
   "execution_count": 77,
   "id": "ee2b532e",
   "metadata": {},
   "outputs": [
    {
     "name": "stdout",
     "output_type": "stream",
     "text": [
      "XGBRegressor(base_score=None, booster=None, colsample_bylevel=None,\n",
      "             colsample_bynode=None, colsample_bytree=0.7, gamma=None,\n",
      "             gpu_id=None, importance_type='gain', interaction_constraints=None,\n",
      "             learning_rate=0.01, max_delta_step=None, max_depth=10,\n",
      "             min_child_weight=None, missing=nan, monotone_constraints=None,\n",
      "             n_estimators=1000, n_jobs=None, num_parallel_tree=None,\n",
      "             random_state=None, reg_alpha=None, reg_lambda=None,\n",
      "             scale_pos_weight=None, subsample=None, tree_method=None,\n",
      "             validate_parameters=None, verbosity=0)\n"
     ]
    }
   ],
   "source": [
    "from xgboost import XGBRegressor\n",
    "\n",
    "xgbr = XGBRegressor(colsample_bytree = 0.7, learning_rate = 0.01, max_depth = 10, n_estimators = 1000, verbosity=0)\n",
    "print(xgbr)"
   ]
  },
  {
   "cell_type": "code",
   "execution_count": 78,
   "id": "e7b34c3d",
   "metadata": {},
   "outputs": [
    {
     "data": {
      "text/plain": [
       "XGBRegressor(base_score=0.5, booster='gbtree', colsample_bylevel=1,\n",
       "             colsample_bynode=1, colsample_bytree=0.7, gamma=0, gpu_id=-1,\n",
       "             importance_type='gain', interaction_constraints='',\n",
       "             learning_rate=0.01, max_delta_step=0, max_depth=10,\n",
       "             min_child_weight=1, missing=nan, monotone_constraints='()',\n",
       "             n_estimators=1000, n_jobs=8, num_parallel_tree=1, random_state=0,\n",
       "             reg_alpha=0, reg_lambda=1, scale_pos_weight=1, subsample=1,\n",
       "             tree_method='exact', validate_parameters=1, verbosity=0)"
      ]
     },
     "execution_count": 78,
     "metadata": {},
     "output_type": "execute_result"
    }
   ],
   "source": [
    "xgbr.fit(x_train_224, y_train) #1"
   ]
  },
  {
   "cell_type": "code",
   "execution_count": 79,
   "id": "dfe5d1fa",
   "metadata": {},
   "outputs": [
    {
     "name": "stdout",
     "output_type": "stream",
     "text": [
      "0.9941307191124407\n"
     ]
    }
   ],
   "source": [
    "score = xgbr.score(x_train_224, y_train) #2\n",
    "print(score)"
   ]
  },
  {
   "cell_type": "code",
   "execution_count": 80,
   "id": "bf4d8d1a",
   "metadata": {},
   "outputs": [
    {
     "name": "stdout",
     "output_type": "stream",
     "text": [
      "CV mean score: 0.2645229263778699\n"
     ]
    }
   ],
   "source": [
    "from xgboost import XGBRegressor\n",
    "from sklearn.model_selection import cross_val_score\n",
    "from sklearn.metrics import mean_squared_error\n",
    "from sklearn.metrics import mean_absolute_error\n",
    "\n",
    "\n",
    "cv_score = cross_val_score(xgbr, x_train_224, y_train, cv=10) #3\n",
    "print(\"CV mean score:\", cv_score.mean())"
   ]
  },
  {
   "cell_type": "code",
   "execution_count": 81,
   "id": "1fbf6e3d",
   "metadata": {},
   "outputs": [
    {
     "name": "stdout",
     "output_type": "stream",
     "text": [
      "1-MAE 0.8959409390377622\n"
     ]
    }
   ],
   "source": [
    "ypred = xgbr.predict(x_test_224) #4\n",
    "mae = mean_absolute_error(y_test, ypred)\n",
    "\n",
    "print(\"1-MAE\", 1-mae)"
   ]
  },
  {
   "cell_type": "code",
   "execution_count": null,
   "id": "a0c55050",
   "metadata": {},
   "outputs": [],
   "source": [
    "#XGBoost extroversion"
   ]
  },
  {
   "cell_type": "code",
   "execution_count": 82,
   "id": "0a8e4c63",
   "metadata": {},
   "outputs": [],
   "source": [
    "csv_file = \"complete_CSV_Train.csv\"\n",
    "x_train, y_train = split_data_labels_extroversion(csv_file)\n",
    "csv_file = \"complete_CSV_validation.csv\"\n",
    "x_test, y_test = split_data_labels_extroversion(csv_file)"
   ]
  },
  {
   "cell_type": "code",
   "execution_count": 83,
   "id": "3e534221",
   "metadata": {},
   "outputs": [],
   "source": [
    "x_train_10 = bestfeatureslist(x_train, listbestvalues_extroversion, 10)\n",
    "x_test_10 = bestfeatureslist(x_test, listbestvalues_extroversion, 10)"
   ]
  },
  {
   "cell_type": "code",
   "execution_count": 84,
   "id": "6f3527df",
   "metadata": {},
   "outputs": [
    {
     "name": "stdout",
     "output_type": "stream",
     "text": [
      "XGBRegressor(base_score=None, booster=None, colsample_bylevel=None,\n",
      "             colsample_bynode=None, colsample_bytree=0.7, gamma=None,\n",
      "             gpu_id=None, importance_type='gain', interaction_constraints=None,\n",
      "             learning_rate=0.01, max_delta_step=None, max_depth=6,\n",
      "             min_child_weight=None, missing=nan, monotone_constraints=None,\n",
      "             n_estimators=500, n_jobs=None, num_parallel_tree=None,\n",
      "             random_state=None, reg_alpha=None, reg_lambda=None,\n",
      "             scale_pos_weight=None, subsample=None, tree_method=None,\n",
      "             validate_parameters=None, verbosity=0)\n"
     ]
    }
   ],
   "source": [
    "from xgboost import XGBRegressor\n",
    "\n",
    "xgbr = XGBRegressor(colsample_bytree = 0.7, learning_rate = 0.01, max_depth = 6, n_estimators = 500, verbosity=0)\n",
    "print(xgbr)"
   ]
  },
  {
   "cell_type": "code",
   "execution_count": 85,
   "id": "0c962018",
   "metadata": {},
   "outputs": [
    {
     "data": {
      "text/plain": [
       "XGBRegressor(base_score=0.5, booster='gbtree', colsample_bylevel=1,\n",
       "             colsample_bynode=1, colsample_bytree=0.7, gamma=0, gpu_id=-1,\n",
       "             importance_type='gain', interaction_constraints='',\n",
       "             learning_rate=0.01, max_delta_step=0, max_depth=6,\n",
       "             min_child_weight=1, missing=nan, monotone_constraints='()',\n",
       "             n_estimators=500, n_jobs=8, num_parallel_tree=1, random_state=0,\n",
       "             reg_alpha=0, reg_lambda=1, scale_pos_weight=1, subsample=1,\n",
       "             tree_method='exact', validate_parameters=1, verbosity=0)"
      ]
     },
     "execution_count": 85,
     "metadata": {},
     "output_type": "execute_result"
    }
   ],
   "source": [
    "xgbr.fit(x_train_10, y_train) #1"
   ]
  },
  {
   "cell_type": "code",
   "execution_count": 86,
   "id": "ae306652",
   "metadata": {},
   "outputs": [
    {
     "name": "stdout",
     "output_type": "stream",
     "text": [
      "0.4989008898873364\n"
     ]
    }
   ],
   "source": [
    "score = xgbr.score(x_train_10, y_train) #2\n",
    "print(score)"
   ]
  },
  {
   "cell_type": "code",
   "execution_count": 87,
   "id": "9fbeb305",
   "metadata": {},
   "outputs": [
    {
     "name": "stdout",
     "output_type": "stream",
     "text": [
      "CV mean score: 0.22937561118128796\n"
     ]
    }
   ],
   "source": [
    "from xgboost import XGBRegressor\n",
    "from sklearn.model_selection import cross_val_score\n",
    "from sklearn.metrics import mean_squared_error\n",
    "from sklearn.metrics import mean_absolute_error\n",
    "\n",
    "\n",
    "cv_score = cross_val_score(xgbr, x_train_10, y_train, cv=10) #3\n",
    "print(\"CV mean score:\", cv_score.mean())"
   ]
  },
  {
   "cell_type": "code",
   "execution_count": 88,
   "id": "5e30cf51",
   "metadata": {},
   "outputs": [
    {
     "name": "stdout",
     "output_type": "stream",
     "text": [
      "1-MAE 0.896627368362429\n"
     ]
    }
   ],
   "source": [
    "ypred = xgbr.predict(x_test_10) #4\n",
    "mae = mean_absolute_error(y_test, ypred)\n",
    "\n",
    "print(\"1-MAE\", 1-mae)"
   ]
  },
  {
   "cell_type": "code",
   "execution_count": 89,
   "id": "112db6f3",
   "metadata": {},
   "outputs": [],
   "source": [
    "x_train_50 = bestfeatureslist(x_train, listbestvalues_extroversion, 50)\n",
    "x_test_50 = bestfeatureslist(x_test, listbestvalues_extroversion, 50)"
   ]
  },
  {
   "cell_type": "code",
   "execution_count": 90,
   "id": "1f8bb389",
   "metadata": {},
   "outputs": [
    {
     "name": "stdout",
     "output_type": "stream",
     "text": [
      "XGBRegressor(base_score=None, booster=None, colsample_bylevel=None,\n",
      "             colsample_bynode=None, colsample_bytree=0.7, gamma=None,\n",
      "             gpu_id=None, importance_type='gain', interaction_constraints=None,\n",
      "             learning_rate=0.01, max_delta_step=None, max_depth=6,\n",
      "             min_child_weight=None, missing=nan, monotone_constraints=None,\n",
      "             n_estimators=1000, n_jobs=None, num_parallel_tree=None,\n",
      "             random_state=None, reg_alpha=None, reg_lambda=None,\n",
      "             scale_pos_weight=None, subsample=None, tree_method=None,\n",
      "             validate_parameters=None, verbosity=0)\n"
     ]
    }
   ],
   "source": [
    "from xgboost import XGBRegressor\n",
    "\n",
    "xgbr = XGBRegressor(colsample_bytree = 0.7, learning_rate = 0.01, max_depth = 6, n_estimators = 1000, verbosity=0)\n",
    "print(xgbr)"
   ]
  },
  {
   "cell_type": "code",
   "execution_count": 91,
   "id": "bc0ae378",
   "metadata": {},
   "outputs": [
    {
     "data": {
      "text/plain": [
       "XGBRegressor(base_score=0.5, booster='gbtree', colsample_bylevel=1,\n",
       "             colsample_bynode=1, colsample_bytree=0.7, gamma=0, gpu_id=-1,\n",
       "             importance_type='gain', interaction_constraints='',\n",
       "             learning_rate=0.01, max_delta_step=0, max_depth=6,\n",
       "             min_child_weight=1, missing=nan, monotone_constraints='()',\n",
       "             n_estimators=1000, n_jobs=8, num_parallel_tree=1, random_state=0,\n",
       "             reg_alpha=0, reg_lambda=1, scale_pos_weight=1, subsample=1,\n",
       "             tree_method='exact', validate_parameters=1, verbosity=0)"
      ]
     },
     "execution_count": 91,
     "metadata": {},
     "output_type": "execute_result"
    }
   ],
   "source": [
    "xgbr.fit(x_train_50, y_train) #1"
   ]
  },
  {
   "cell_type": "code",
   "execution_count": 92,
   "id": "02d7aeac",
   "metadata": {},
   "outputs": [
    {
     "name": "stdout",
     "output_type": "stream",
     "text": [
      "0.753452737354478\n"
     ]
    }
   ],
   "source": [
    "score = xgbr.score(x_train_50, y_train) #2\n",
    "print(score)"
   ]
  },
  {
   "cell_type": "code",
   "execution_count": 93,
   "id": "6ae28326",
   "metadata": {},
   "outputs": [
    {
     "name": "stdout",
     "output_type": "stream",
     "text": [
      "CV mean score: 0.33390524707361735\n"
     ]
    }
   ],
   "source": [
    "from xgboost import XGBRegressor\n",
    "from sklearn.model_selection import cross_val_score\n",
    "from sklearn.metrics import mean_squared_error\n",
    "from sklearn.metrics import mean_absolute_error\n",
    "\n",
    "\n",
    "cv_score = cross_val_score(xgbr, x_train_50, y_train, cv=10) #3\n",
    "print(\"CV mean score:\", cv_score.mean())"
   ]
  },
  {
   "cell_type": "code",
   "execution_count": 94,
   "id": "47825c2b",
   "metadata": {},
   "outputs": [
    {
     "name": "stdout",
     "output_type": "stream",
     "text": [
      "1-MAE 0.9043758539732232\n"
     ]
    }
   ],
   "source": [
    "ypred = xgbr.predict(x_test_50) #4\n",
    "mae = mean_absolute_error(y_test, ypred)\n",
    "\n",
    "print(\"1-MAE\", 1-mae)"
   ]
  },
  {
   "cell_type": "code",
   "execution_count": 95,
   "id": "00beecbd",
   "metadata": {},
   "outputs": [],
   "source": [
    "x_train_100 = bestfeatureslist(x_train, listbestvalues_extroversion, 100)\n",
    "x_test_100 = bestfeatureslist(x_test, listbestvalues_extroversion, 100)"
   ]
  },
  {
   "cell_type": "code",
   "execution_count": 96,
   "id": "634b7d0b",
   "metadata": {},
   "outputs": [
    {
     "name": "stdout",
     "output_type": "stream",
     "text": [
      "XGBRegressor(base_score=None, booster=None, colsample_bylevel=None,\n",
      "             colsample_bynode=None, colsample_bytree=0.3, gamma=None,\n",
      "             gpu_id=None, importance_type='gain', interaction_constraints=None,\n",
      "             learning_rate=0.01, max_delta_step=None, max_depth=6,\n",
      "             min_child_weight=None, missing=nan, monotone_constraints=None,\n",
      "             n_estimators=1000, n_jobs=None, num_parallel_tree=None,\n",
      "             random_state=None, reg_alpha=None, reg_lambda=None,\n",
      "             scale_pos_weight=None, subsample=None, tree_method=None,\n",
      "             validate_parameters=None, verbosity=0)\n"
     ]
    }
   ],
   "source": [
    "from xgboost import XGBRegressor\n",
    "\n",
    "xgbr = XGBRegressor(colsample_bytree = 0.3, learning_rate = 0.01, max_depth = 6, n_estimators = 1000, verbosity=0)\n",
    "print(xgbr)"
   ]
  },
  {
   "cell_type": "code",
   "execution_count": 97,
   "id": "f09d5f9f",
   "metadata": {},
   "outputs": [
    {
     "data": {
      "text/plain": [
       "XGBRegressor(base_score=0.5, booster='gbtree', colsample_bylevel=1,\n",
       "             colsample_bynode=1, colsample_bytree=0.3, gamma=0, gpu_id=-1,\n",
       "             importance_type='gain', interaction_constraints='',\n",
       "             learning_rate=0.01, max_delta_step=0, max_depth=6,\n",
       "             min_child_weight=1, missing=nan, monotone_constraints='()',\n",
       "             n_estimators=1000, n_jobs=8, num_parallel_tree=1, random_state=0,\n",
       "             reg_alpha=0, reg_lambda=1, scale_pos_weight=1, subsample=1,\n",
       "             tree_method='exact', validate_parameters=1, verbosity=0)"
      ]
     },
     "execution_count": 97,
     "metadata": {},
     "output_type": "execute_result"
    }
   ],
   "source": [
    "xgbr.fit(x_train_100, y_train) #1"
   ]
  },
  {
   "cell_type": "code",
   "execution_count": 98,
   "id": "8cea2781",
   "metadata": {},
   "outputs": [
    {
     "name": "stdout",
     "output_type": "stream",
     "text": [
      "0.7764749727084175\n"
     ]
    }
   ],
   "source": [
    "score = xgbr.score(x_train_100, y_train) #2\n",
    "print(score)"
   ]
  },
  {
   "cell_type": "code",
   "execution_count": 99,
   "id": "7f5b82b2",
   "metadata": {},
   "outputs": [
    {
     "name": "stdout",
     "output_type": "stream",
     "text": [
      "CV mean score: 0.3433772175105627\n"
     ]
    }
   ],
   "source": [
    "from xgboost import XGBRegressor\n",
    "from sklearn.model_selection import cross_val_score\n",
    "from sklearn.metrics import mean_squared_error\n",
    "from sklearn.metrics import mean_absolute_error\n",
    "\n",
    "\n",
    "cv_score = cross_val_score(xgbr, x_train_100, y_train, cv=10) #3\n",
    "print(\"CV mean score:\", cv_score.mean())"
   ]
  },
  {
   "cell_type": "code",
   "execution_count": 100,
   "id": "2da3d335",
   "metadata": {},
   "outputs": [
    {
     "name": "stdout",
     "output_type": "stream",
     "text": [
      "1-MAE 0.9055461702578674\n"
     ]
    }
   ],
   "source": [
    "ypred = xgbr.predict(x_test_100) #4\n",
    "mae = mean_absolute_error(y_test, ypred)\n",
    "\n",
    "print(\"1-MAE\", 1-mae)"
   ]
  },
  {
   "cell_type": "code",
   "execution_count": 101,
   "id": "91de635c",
   "metadata": {},
   "outputs": [],
   "source": [
    "x_train_224 = bestfeatureslist(x_train, listbestvalues_extroversion, 224)\n",
    "x_test_224 = bestfeatureslist(x_test, listbestvalues_extroversion, 224)"
   ]
  },
  {
   "cell_type": "code",
   "execution_count": 102,
   "id": "f0fb02f9",
   "metadata": {},
   "outputs": [
    {
     "name": "stdout",
     "output_type": "stream",
     "text": [
      "XGBRegressor(base_score=None, booster=None, colsample_bylevel=None,\n",
      "             colsample_bynode=None, colsample_bytree=0.7, gamma=None,\n",
      "             gpu_id=None, importance_type='gain', interaction_constraints=None,\n",
      "             learning_rate=0.01, max_delta_step=None, max_depth=6,\n",
      "             min_child_weight=None, missing=nan, monotone_constraints=None,\n",
      "             n_estimators=1000, n_jobs=None, num_parallel_tree=None,\n",
      "             random_state=None, reg_alpha=None, reg_lambda=None,\n",
      "             scale_pos_weight=None, subsample=None, tree_method=None,\n",
      "             validate_parameters=None, verbosity=0)\n"
     ]
    }
   ],
   "source": [
    "from xgboost import XGBRegressor\n",
    "\n",
    "xgbr = XGBRegressor(colsample_bytree = 0.7, learning_rate = 0.01, max_depth = 6, n_estimators = 1000, verbosity=0)\n",
    "print(xgbr)"
   ]
  },
  {
   "cell_type": "code",
   "execution_count": 103,
   "id": "6a3a1964",
   "metadata": {},
   "outputs": [
    {
     "data": {
      "text/plain": [
       "XGBRegressor(base_score=0.5, booster='gbtree', colsample_bylevel=1,\n",
       "             colsample_bynode=1, colsample_bytree=0.7, gamma=0, gpu_id=-1,\n",
       "             importance_type='gain', interaction_constraints='',\n",
       "             learning_rate=0.01, max_delta_step=0, max_depth=6,\n",
       "             min_child_weight=1, missing=nan, monotone_constraints='()',\n",
       "             n_estimators=1000, n_jobs=8, num_parallel_tree=1, random_state=0,\n",
       "             reg_alpha=0, reg_lambda=1, scale_pos_weight=1, subsample=1,\n",
       "             tree_method='exact', validate_parameters=1, verbosity=0)"
      ]
     },
     "execution_count": 103,
     "metadata": {},
     "output_type": "execute_result"
    }
   ],
   "source": [
    "xgbr.fit(x_train_224, y_train) #1"
   ]
  },
  {
   "cell_type": "code",
   "execution_count": 104,
   "id": "4145933e",
   "metadata": {},
   "outputs": [
    {
     "name": "stdout",
     "output_type": "stream",
     "text": [
      "0.8184858919539533\n"
     ]
    }
   ],
   "source": [
    "score = xgbr.score(x_train_224, y_train) #2\n",
    "print(score)"
   ]
  },
  {
   "cell_type": "code",
   "execution_count": 105,
   "id": "bcc387fa",
   "metadata": {},
   "outputs": [
    {
     "name": "stdout",
     "output_type": "stream",
     "text": [
      "CV mean score: 0.355500367565168\n"
     ]
    }
   ],
   "source": [
    "from xgboost import XGBRegressor\n",
    "from sklearn.model_selection import cross_val_score\n",
    "from sklearn.metrics import mean_squared_error\n",
    "from sklearn.metrics import mean_absolute_error\n",
    "\n",
    "\n",
    "cv_score = cross_val_score(xgbr, x_train_224, y_train, cv=10) #3\n",
    "print(\"CV mean score:\", cv_score.mean())"
   ]
  },
  {
   "cell_type": "code",
   "execution_count": 106,
   "id": "85d11e83",
   "metadata": {},
   "outputs": [
    {
     "name": "stdout",
     "output_type": "stream",
     "text": [
      "1-MAE 0.9062166214810214\n"
     ]
    }
   ],
   "source": [
    "ypred = xgbr.predict(x_test_224) #4\n",
    "mae = mean_absolute_error(y_test, ypred)\n",
    "\n",
    "print(\"1-MAE\", 1-mae)"
   ]
  },
  {
   "cell_type": "code",
   "execution_count": null,
   "id": "16048279",
   "metadata": {},
   "outputs": [],
   "source": [
    "#XGBoost agreeableness"
   ]
  },
  {
   "cell_type": "code",
   "execution_count": 107,
   "id": "6e65abdb",
   "metadata": {},
   "outputs": [],
   "source": [
    "csv_file = \"complete_CSV_Train.csv\"\n",
    "x_train, y_train = split_data_labels_agreeableness(csv_file)\n",
    "csv_file = \"complete_CSV_validation.csv\"\n",
    "x_test, y_test = split_data_labels_agreeableness(csv_file)"
   ]
  },
  {
   "cell_type": "code",
   "execution_count": 108,
   "id": "4ceb65e0",
   "metadata": {},
   "outputs": [],
   "source": [
    "x_train_10 = bestfeatureslist(x_train, listbestvalues_agreeableness, 10)\n",
    "x_test_10 = bestfeatureslist(x_test, listbestvalues_agreeableness, 10)"
   ]
  },
  {
   "cell_type": "code",
   "execution_count": 109,
   "id": "ebe7b7a0",
   "metadata": {},
   "outputs": [
    {
     "name": "stdout",
     "output_type": "stream",
     "text": [
      "XGBRegressor(base_score=None, booster=None, colsample_bylevel=None,\n",
      "             colsample_bynode=None, colsample_bytree=0.7, gamma=None,\n",
      "             gpu_id=None, importance_type='gain', interaction_constraints=None,\n",
      "             learning_rate=0.01, max_delta_step=None, max_depth=3,\n",
      "             min_child_weight=None, missing=nan, monotone_constraints=None,\n",
      "             n_estimators=1000, n_jobs=None, num_parallel_tree=None,\n",
      "             random_state=None, reg_alpha=None, reg_lambda=None,\n",
      "             scale_pos_weight=None, subsample=None, tree_method=None,\n",
      "             validate_parameters=None, verbosity=0)\n"
     ]
    }
   ],
   "source": [
    "from xgboost import XGBRegressor\n",
    "\n",
    "xgbr = XGBRegressor(colsample_bytree = 0.7, learning_rate = 0.01, max_depth = 3, n_estimators = 1000, verbosity=0)\n",
    "print(xgbr)"
   ]
  },
  {
   "cell_type": "code",
   "execution_count": 110,
   "id": "5f49868c",
   "metadata": {},
   "outputs": [
    {
     "data": {
      "text/plain": [
       "XGBRegressor(base_score=0.5, booster='gbtree', colsample_bylevel=1,\n",
       "             colsample_bynode=1, colsample_bytree=0.7, gamma=0, gpu_id=-1,\n",
       "             importance_type='gain', interaction_constraints='',\n",
       "             learning_rate=0.01, max_delta_step=0, max_depth=3,\n",
       "             min_child_weight=1, missing=nan, monotone_constraints='()',\n",
       "             n_estimators=1000, n_jobs=8, num_parallel_tree=1, random_state=0,\n",
       "             reg_alpha=0, reg_lambda=1, scale_pos_weight=1, subsample=1,\n",
       "             tree_method='exact', validate_parameters=1, verbosity=0)"
      ]
     },
     "execution_count": 110,
     "metadata": {},
     "output_type": "execute_result"
    }
   ],
   "source": [
    "xgbr.fit(x_train_10, y_train) #1"
   ]
  },
  {
   "cell_type": "code",
   "execution_count": 111,
   "id": "035bdf35",
   "metadata": {},
   "outputs": [
    {
     "name": "stdout",
     "output_type": "stream",
     "text": [
      "0.14344023040289866\n"
     ]
    }
   ],
   "source": [
    "score = xgbr.score(x_train_10, y_train) #2\n",
    "print(score)"
   ]
  },
  {
   "cell_type": "code",
   "execution_count": 112,
   "id": "c3421dad",
   "metadata": {},
   "outputs": [
    {
     "name": "stdout",
     "output_type": "stream",
     "text": [
      "CV mean score: 0.04517301317963851\n"
     ]
    }
   ],
   "source": [
    "from xgboost import XGBRegressor\n",
    "from sklearn.model_selection import cross_val_score\n",
    "from sklearn.metrics import mean_squared_error\n",
    "from sklearn.metrics import mean_absolute_error\n",
    "\n",
    "\n",
    "cv_score = cross_val_score(xgbr, x_train_10, y_train, cv=10) #3\n",
    "print(\"CV mean score:\", cv_score.mean())"
   ]
  },
  {
   "cell_type": "code",
   "execution_count": 113,
   "id": "2a5c39e6",
   "metadata": {},
   "outputs": [
    {
     "name": "stdout",
     "output_type": "stream",
     "text": [
      "1-MAE 0.9024170515828736\n"
     ]
    }
   ],
   "source": [
    "ypred = xgbr.predict(x_test_10) #4\n",
    "mae = mean_absolute_error(y_test, ypred)\n",
    "\n",
    "print(\"1-MAE\", 1-mae)"
   ]
  },
  {
   "cell_type": "code",
   "execution_count": 114,
   "id": "8f15c4ef",
   "metadata": {},
   "outputs": [],
   "source": [
    "x_train_50 = bestfeatureslist(x_train, listbestvalues_agreeableness, 50)\n",
    "x_test_50 = bestfeatureslist(x_test, listbestvalues_agreeableness, 50)"
   ]
  },
  {
   "cell_type": "code",
   "execution_count": 115,
   "id": "40838236",
   "metadata": {},
   "outputs": [
    {
     "name": "stdout",
     "output_type": "stream",
     "text": [
      "XGBRegressor(base_score=None, booster=None, colsample_bylevel=None,\n",
      "             colsample_bynode=None, colsample_bytree=0.3, gamma=None,\n",
      "             gpu_id=None, importance_type='gain', interaction_constraints=None,\n",
      "             learning_rate=0.01, max_delta_step=None, max_depth=6,\n",
      "             min_child_weight=None, missing=nan, monotone_constraints=None,\n",
      "             n_estimators=1000, n_jobs=None, num_parallel_tree=None,\n",
      "             random_state=None, reg_alpha=None, reg_lambda=None,\n",
      "             scale_pos_weight=None, subsample=None, tree_method=None,\n",
      "             validate_parameters=None, verbosity=0)\n"
     ]
    }
   ],
   "source": [
    "from xgboost import XGBRegressor\n",
    "\n",
    "xgbr = XGBRegressor(colsample_bytree = 0.3, learning_rate = 0.01, max_depth = 6, n_estimators = 1000, verbosity=0)\n",
    "print(xgbr)"
   ]
  },
  {
   "cell_type": "code",
   "execution_count": 116,
   "id": "880780ed",
   "metadata": {},
   "outputs": [
    {
     "data": {
      "text/plain": [
       "XGBRegressor(base_score=0.5, booster='gbtree', colsample_bylevel=1,\n",
       "             colsample_bynode=1, colsample_bytree=0.3, gamma=0, gpu_id=-1,\n",
       "             importance_type='gain', interaction_constraints='',\n",
       "             learning_rate=0.01, max_delta_step=0, max_depth=6,\n",
       "             min_child_weight=1, missing=nan, monotone_constraints='()',\n",
       "             n_estimators=1000, n_jobs=8, num_parallel_tree=1, random_state=0,\n",
       "             reg_alpha=0, reg_lambda=1, scale_pos_weight=1, subsample=1,\n",
       "             tree_method='exact', validate_parameters=1, verbosity=0)"
      ]
     },
     "execution_count": 116,
     "metadata": {},
     "output_type": "execute_result"
    }
   ],
   "source": [
    "xgbr.fit(x_train_50, y_train) #1"
   ]
  },
  {
   "cell_type": "code",
   "execution_count": 117,
   "id": "71cfffc8",
   "metadata": {},
   "outputs": [
    {
     "name": "stdout",
     "output_type": "stream",
     "text": [
      "0.5463352206012\n"
     ]
    }
   ],
   "source": [
    "score = xgbr.score(x_train_50, y_train) #2\n",
    "print(score)"
   ]
  },
  {
   "cell_type": "code",
   "execution_count": 118,
   "id": "88524269",
   "metadata": {},
   "outputs": [
    {
     "name": "stdout",
     "output_type": "stream",
     "text": [
      "CV mean score: 0.09189522882766019\n"
     ]
    }
   ],
   "source": [
    "from xgboost import XGBRegressor\n",
    "from sklearn.model_selection import cross_val_score\n",
    "from sklearn.metrics import mean_squared_error\n",
    "from sklearn.metrics import mean_absolute_error\n",
    "\n",
    "\n",
    "cv_score = cross_val_score(xgbr, x_train_50, y_train, cv=10) #3\n",
    "print(\"CV mean score:\", cv_score.mean())"
   ]
  },
  {
   "cell_type": "code",
   "execution_count": 119,
   "id": "30b4c9fb",
   "metadata": {},
   "outputs": [
    {
     "name": "stdout",
     "output_type": "stream",
     "text": [
      "1-MAE 0.9042304898002645\n"
     ]
    }
   ],
   "source": [
    "ypred = xgbr.predict(x_test_50) #4\n",
    "mae = mean_absolute_error(y_test, ypred)\n",
    "\n",
    "print(\"1-MAE\", 1-mae)"
   ]
  },
  {
   "cell_type": "code",
   "execution_count": 120,
   "id": "976b7e8f",
   "metadata": {},
   "outputs": [],
   "source": [
    "x_train_100 = bestfeatureslist(x_train, listbestvalues_agreeableness, 100)\n",
    "x_test_100 = bestfeatureslist(x_test, listbestvalues_agreeableness, 100)"
   ]
  },
  {
   "cell_type": "code",
   "execution_count": 121,
   "id": "78546dda",
   "metadata": {},
   "outputs": [
    {
     "name": "stdout",
     "output_type": "stream",
     "text": [
      "XGBRegressor(base_score=None, booster=None, colsample_bylevel=None,\n",
      "             colsample_bynode=None, colsample_bytree=0.7, gamma=None,\n",
      "             gpu_id=None, importance_type='gain', interaction_constraints=None,\n",
      "             learning_rate=0.01, max_delta_step=None, max_depth=6,\n",
      "             min_child_weight=None, missing=nan, monotone_constraints=None,\n",
      "             n_estimators=1000, n_jobs=None, num_parallel_tree=None,\n",
      "             random_state=None, reg_alpha=None, reg_lambda=None,\n",
      "             scale_pos_weight=None, subsample=None, tree_method=None,\n",
      "             validate_parameters=None, verbosity=0)\n"
     ]
    }
   ],
   "source": [
    "from xgboost import XGBRegressor\n",
    "\n",
    "xgbr = XGBRegressor(colsample_bytree = 0.7, learning_rate = 0.01, max_depth = 6, n_estimators = 1000, verbosity=0)\n",
    "print(xgbr)"
   ]
  },
  {
   "cell_type": "code",
   "execution_count": 122,
   "id": "603df868",
   "metadata": {},
   "outputs": [
    {
     "data": {
      "text/plain": [
       "XGBRegressor(base_score=0.5, booster='gbtree', colsample_bylevel=1,\n",
       "             colsample_bynode=1, colsample_bytree=0.7, gamma=0, gpu_id=-1,\n",
       "             importance_type='gain', interaction_constraints='',\n",
       "             learning_rate=0.01, max_delta_step=0, max_depth=6,\n",
       "             min_child_weight=1, missing=nan, monotone_constraints='()',\n",
       "             n_estimators=1000, n_jobs=8, num_parallel_tree=1, random_state=0,\n",
       "             reg_alpha=0, reg_lambda=1, scale_pos_weight=1, subsample=1,\n",
       "             tree_method='exact', validate_parameters=1, verbosity=0)"
      ]
     },
     "execution_count": 122,
     "metadata": {},
     "output_type": "execute_result"
    }
   ],
   "source": [
    "xgbr.fit(x_train_100, y_train) #1"
   ]
  },
  {
   "cell_type": "code",
   "execution_count": 123,
   "id": "93ff74f8",
   "metadata": {},
   "outputs": [
    {
     "name": "stdout",
     "output_type": "stream",
     "text": [
      "0.6515535647404972\n"
     ]
    }
   ],
   "source": [
    "score = xgbr.score(x_train_100, y_train) #2\n",
    "print(score)"
   ]
  },
  {
   "cell_type": "code",
   "execution_count": 124,
   "id": "257c83f2",
   "metadata": {},
   "outputs": [
    {
     "name": "stdout",
     "output_type": "stream",
     "text": [
      "CV mean score: 0.13311733632252426\n"
     ]
    }
   ],
   "source": [
    "from xgboost import XGBRegressor\n",
    "from sklearn.model_selection import cross_val_score\n",
    "from sklearn.metrics import mean_squared_error\n",
    "from sklearn.metrics import mean_absolute_error\n",
    "\n",
    "\n",
    "cv_score = cross_val_score(xgbr, x_train_100, y_train, cv=10) #3\n",
    "print(\"CV mean score:\", cv_score.mean())"
   ]
  },
  {
   "cell_type": "code",
   "execution_count": 125,
   "id": "4e253af3",
   "metadata": {},
   "outputs": [
    {
     "name": "stdout",
     "output_type": "stream",
     "text": [
      "1-MAE 0.9058317683565092\n"
     ]
    }
   ],
   "source": [
    "ypred = xgbr.predict(x_test_100) #4\n",
    "mae = mean_absolute_error(y_test, ypred)\n",
    "\n",
    "print(\"1-MAE\", 1-mae)"
   ]
  },
  {
   "cell_type": "code",
   "execution_count": 126,
   "id": "82cdd761",
   "metadata": {},
   "outputs": [],
   "source": [
    "x_train_224 = bestfeatureslist(x_train, listbestvalues_agreeableness, 224)\n",
    "x_test_224 = bestfeatureslist(x_test, listbestvalues_agreeableness, 224)"
   ]
  },
  {
   "cell_type": "code",
   "execution_count": 127,
   "id": "bebce29d",
   "metadata": {},
   "outputs": [
    {
     "name": "stdout",
     "output_type": "stream",
     "text": [
      "XGBRegressor(base_score=None, booster=None, colsample_bylevel=None,\n",
      "             colsample_bynode=None, colsample_bytree=0.3, gamma=None,\n",
      "             gpu_id=None, importance_type='gain', interaction_constraints=None,\n",
      "             learning_rate=0.01, max_delta_step=None, max_depth=10,\n",
      "             min_child_weight=None, missing=nan, monotone_constraints=None,\n",
      "             n_estimators=1000, n_jobs=None, num_parallel_tree=None,\n",
      "             random_state=None, reg_alpha=None, reg_lambda=None,\n",
      "             scale_pos_weight=None, subsample=None, tree_method=None,\n",
      "             validate_parameters=None, verbosity=0)\n"
     ]
    }
   ],
   "source": [
    "from xgboost import XGBRegressor\n",
    "\n",
    "xgbr = XGBRegressor(colsample_bytree = 0.3, learning_rate = 0.01, max_depth = 10, n_estimators = 1000, verbosity=0)\n",
    "print(xgbr)"
   ]
  },
  {
   "cell_type": "code",
   "execution_count": 128,
   "id": "148ee601",
   "metadata": {},
   "outputs": [
    {
     "data": {
      "text/plain": [
       "XGBRegressor(base_score=0.5, booster='gbtree', colsample_bylevel=1,\n",
       "             colsample_bynode=1, colsample_bytree=0.3, gamma=0, gpu_id=-1,\n",
       "             importance_type='gain', interaction_constraints='',\n",
       "             learning_rate=0.01, max_delta_step=0, max_depth=10,\n",
       "             min_child_weight=1, missing=nan, monotone_constraints='()',\n",
       "             n_estimators=1000, n_jobs=8, num_parallel_tree=1, random_state=0,\n",
       "             reg_alpha=0, reg_lambda=1, scale_pos_weight=1, subsample=1,\n",
       "             tree_method='exact', validate_parameters=1, verbosity=0)"
      ]
     },
     "execution_count": 128,
     "metadata": {},
     "output_type": "execute_result"
    }
   ],
   "source": [
    "xgbr.fit(x_train_224, y_train) #1"
   ]
  },
  {
   "cell_type": "code",
   "execution_count": 129,
   "id": "f6362a27",
   "metadata": {},
   "outputs": [
    {
     "name": "stdout",
     "output_type": "stream",
     "text": [
      "0.9906076694308384\n"
     ]
    }
   ],
   "source": [
    "score = xgbr.score(x_train_224, y_train) #2\n",
    "print(score)"
   ]
  },
  {
   "cell_type": "code",
   "execution_count": 130,
   "id": "242fbced",
   "metadata": {},
   "outputs": [
    {
     "name": "stdout",
     "output_type": "stream",
     "text": [
      "CV mean score: 0.15970091364667596\n"
     ]
    }
   ],
   "source": [
    "from xgboost import XGBRegressor\n",
    "from sklearn.model_selection import cross_val_score\n",
    "from sklearn.metrics import mean_squared_error\n",
    "from sklearn.metrics import mean_absolute_error\n",
    "\n",
    "\n",
    "cv_score = cross_val_score(xgbr, x_train_224, y_train, cv=10) #3\n",
    "print(\"CV mean score:\", cv_score.mean())"
   ]
  },
  {
   "cell_type": "code",
   "execution_count": 131,
   "id": "8db79bcb",
   "metadata": {},
   "outputs": [
    {
     "name": "stdout",
     "output_type": "stream",
     "text": [
      "1-MAE 0.9081222003446175\n"
     ]
    }
   ],
   "source": [
    "ypred = xgbr.predict(x_test_224) #4\n",
    "mae = mean_absolute_error(y_test, ypred)\n",
    "\n",
    "print(\"1-MAE\", 1-mae)"
   ]
  },
  {
   "cell_type": "code",
   "execution_count": null,
   "id": "f76830f6",
   "metadata": {},
   "outputs": [],
   "source": [
    "#XGBoost neuroticism"
   ]
  },
  {
   "cell_type": "code",
   "execution_count": 132,
   "id": "01548394",
   "metadata": {},
   "outputs": [],
   "source": [
    "csv_file = \"complete_CSV_Train.csv\"\n",
    "x_train, y_train = split_data_labels_neuroticism(csv_file)\n",
    "csv_file = \"complete_CSV_validation.csv\"\n",
    "x_test, y_test = split_data_labels_neuroticism(csv_file)"
   ]
  },
  {
   "cell_type": "code",
   "execution_count": 133,
   "id": "0116bcba",
   "metadata": {},
   "outputs": [],
   "source": [
    "x_train_10 = bestfeatureslist(x_train, listbestvalues_neuroticism, 10)\n",
    "x_test_10 = bestfeatureslist(x_test, listbestvalues_neuroticism, 10)"
   ]
  },
  {
   "cell_type": "code",
   "execution_count": 134,
   "id": "879c2856",
   "metadata": {},
   "outputs": [
    {
     "name": "stdout",
     "output_type": "stream",
     "text": [
      "XGBRegressor(base_score=None, booster=None, colsample_bylevel=None,\n",
      "             colsample_bynode=None, colsample_bytree=0.7, gamma=None,\n",
      "             gpu_id=None, importance_type='gain', interaction_constraints=None,\n",
      "             learning_rate=0.01, max_delta_step=None, max_depth=3,\n",
      "             min_child_weight=None, missing=nan, monotone_constraints=None,\n",
      "             n_estimators=1000, n_jobs=None, num_parallel_tree=None,\n",
      "             random_state=None, reg_alpha=None, reg_lambda=None,\n",
      "             scale_pos_weight=None, subsample=None, tree_method=None,\n",
      "             validate_parameters=None, verbosity=0)\n"
     ]
    }
   ],
   "source": [
    "from xgboost import XGBRegressor\n",
    "\n",
    "xgbr = XGBRegressor(colsample_bytree = 0.7, learning_rate = 0.01, max_depth = 3, n_estimators = 1000, verbosity=0)\n",
    "print(xgbr)"
   ]
  },
  {
   "cell_type": "code",
   "execution_count": 135,
   "id": "bf7a2281",
   "metadata": {},
   "outputs": [
    {
     "data": {
      "text/plain": [
       "XGBRegressor(base_score=0.5, booster='gbtree', colsample_bylevel=1,\n",
       "             colsample_bynode=1, colsample_bytree=0.7, gamma=0, gpu_id=-1,\n",
       "             importance_type='gain', interaction_constraints='',\n",
       "             learning_rate=0.01, max_delta_step=0, max_depth=3,\n",
       "             min_child_weight=1, missing=nan, monotone_constraints='()',\n",
       "             n_estimators=1000, n_jobs=8, num_parallel_tree=1, random_state=0,\n",
       "             reg_alpha=0, reg_lambda=1, scale_pos_weight=1, subsample=1,\n",
       "             tree_method='exact', validate_parameters=1, verbosity=0)"
      ]
     },
     "execution_count": 135,
     "metadata": {},
     "output_type": "execute_result"
    }
   ],
   "source": [
    "xgbr.fit(x_train_10, y_train) #1"
   ]
  },
  {
   "cell_type": "code",
   "execution_count": 136,
   "id": "763fab61",
   "metadata": {},
   "outputs": [
    {
     "name": "stdout",
     "output_type": "stream",
     "text": [
      "0.25518737409234427\n"
     ]
    }
   ],
   "source": [
    "score = xgbr.score(x_train_10, y_train) #2\n",
    "print(score)"
   ]
  },
  {
   "cell_type": "code",
   "execution_count": 137,
   "id": "3334273d",
   "metadata": {},
   "outputs": [
    {
     "name": "stdout",
     "output_type": "stream",
     "text": [
      "CV mean score: 0.14822913743015617\n"
     ]
    }
   ],
   "source": [
    "from xgboost import XGBRegressor\n",
    "from sklearn.model_selection import cross_val_score\n",
    "from sklearn.metrics import mean_squared_error\n",
    "from sklearn.metrics import mean_absolute_error\n",
    "\n",
    "\n",
    "cv_score = cross_val_score(xgbr, x_train_10, y_train, cv=10) #3\n",
    "print(\"CV mean score:\", cv_score.mean())"
   ]
  },
  {
   "cell_type": "code",
   "execution_count": 138,
   "id": "ca54aa4e",
   "metadata": {},
   "outputs": [
    {
     "name": "stdout",
     "output_type": "stream",
     "text": [
      "1-MAE 0.8884211068501076\n"
     ]
    }
   ],
   "source": [
    "ypred = xgbr.predict(x_test_10) #4\n",
    "mae = mean_absolute_error(y_test, ypred)\n",
    "\n",
    "print(\"1-MAE\", 1-mae)"
   ]
  },
  {
   "cell_type": "code",
   "execution_count": 139,
   "id": "eb09d9e0",
   "metadata": {},
   "outputs": [],
   "source": [
    "x_train_50 = bestfeatureslist(x_train, listbestvalues_neuroticism, 50)\n",
    "x_test_50 = bestfeatureslist(x_test, listbestvalues_neuroticism, 50)"
   ]
  },
  {
   "cell_type": "code",
   "execution_count": 140,
   "id": "a5afe6b6",
   "metadata": {},
   "outputs": [
    {
     "name": "stdout",
     "output_type": "stream",
     "text": [
      "XGBRegressor(base_score=None, booster=None, colsample_bylevel=None,\n",
      "             colsample_bynode=None, colsample_bytree=0.7, gamma=None,\n",
      "             gpu_id=None, importance_type='gain', interaction_constraints=None,\n",
      "             learning_rate=0.01, max_delta_step=None, max_depth=10,\n",
      "             min_child_weight=None, missing=nan, monotone_constraints=None,\n",
      "             n_estimators=1000, n_jobs=None, num_parallel_tree=None,\n",
      "             random_state=None, reg_alpha=None, reg_lambda=None,\n",
      "             scale_pos_weight=None, subsample=None, tree_method=None,\n",
      "             validate_parameters=None, verbosity=0)\n"
     ]
    }
   ],
   "source": [
    "from xgboost import XGBRegressor\n",
    "\n",
    "xgbr = XGBRegressor(colsample_bytree = 0.7, learning_rate = 0.01, max_depth = 10, n_estimators = 1000, verbosity=0)\n",
    "print(xgbr)"
   ]
  },
  {
   "cell_type": "code",
   "execution_count": 141,
   "id": "1621ea8e",
   "metadata": {},
   "outputs": [
    {
     "data": {
      "text/plain": [
       "XGBRegressor(base_score=0.5, booster='gbtree', colsample_bylevel=1,\n",
       "             colsample_bynode=1, colsample_bytree=0.7, gamma=0, gpu_id=-1,\n",
       "             importance_type='gain', interaction_constraints='',\n",
       "             learning_rate=0.01, max_delta_step=0, max_depth=10,\n",
       "             min_child_weight=1, missing=nan, monotone_constraints='()',\n",
       "             n_estimators=1000, n_jobs=8, num_parallel_tree=1, random_state=0,\n",
       "             reg_alpha=0, reg_lambda=1, scale_pos_weight=1, subsample=1,\n",
       "             tree_method='exact', validate_parameters=1, verbosity=0)"
      ]
     },
     "execution_count": 141,
     "metadata": {},
     "output_type": "execute_result"
    }
   ],
   "source": [
    "xgbr.fit(x_train_50, y_train) #1"
   ]
  },
  {
   "cell_type": "code",
   "execution_count": 142,
   "id": "a781a3b3",
   "metadata": {},
   "outputs": [
    {
     "name": "stdout",
     "output_type": "stream",
     "text": [
      "0.9875920819766646\n"
     ]
    }
   ],
   "source": [
    "score = xgbr.score(x_train_50, y_train) #2\n",
    "print(score)"
   ]
  },
  {
   "cell_type": "code",
   "execution_count": 144,
   "id": "54264c04",
   "metadata": {},
   "outputs": [
    {
     "name": "stdout",
     "output_type": "stream",
     "text": [
      "CV mean score: 0.2419727034451455\n"
     ]
    }
   ],
   "source": [
    "from xgboost import XGBRegressor\n",
    "from sklearn.model_selection import cross_val_score\n",
    "from sklearn.metrics import mean_squared_error\n",
    "from sklearn.metrics import mean_absolute_error\n",
    "\n",
    "\n",
    "cv_score = cross_val_score(xgbr, x_train_50, y_train, cv=10) #3\n",
    "print(\"CV mean score:\", cv_score.mean())"
   ]
  },
  {
   "cell_type": "code",
   "execution_count": 145,
   "id": "1bb76ba3",
   "metadata": {},
   "outputs": [
    {
     "name": "stdout",
     "output_type": "stream",
     "text": [
      "1-MAE 0.8959150603537758\n"
     ]
    }
   ],
   "source": [
    "ypred = xgbr.predict(x_test_50) #4\n",
    "mae = mean_absolute_error(y_test, ypred)\n",
    "\n",
    "print(\"1-MAE\", 1-mae)"
   ]
  },
  {
   "cell_type": "code",
   "execution_count": 146,
   "id": "80c3613b",
   "metadata": {},
   "outputs": [],
   "source": [
    "x_train_100 = bestfeatureslist(x_train, listbestvalues_neuroticism, 100)\n",
    "x_test_100 = bestfeatureslist(x_test, listbestvalues_neuroticism, 100)"
   ]
  },
  {
   "cell_type": "code",
   "execution_count": 147,
   "id": "19b8f7d3",
   "metadata": {},
   "outputs": [
    {
     "name": "stdout",
     "output_type": "stream",
     "text": [
      "XGBRegressor(base_score=None, booster=None, colsample_bylevel=None,\n",
      "             colsample_bynode=None, colsample_bytree=0.7, gamma=None,\n",
      "             gpu_id=None, importance_type='gain', interaction_constraints=None,\n",
      "             learning_rate=0.01, max_delta_step=None, max_depth=10,\n",
      "             min_child_weight=None, missing=nan, monotone_constraints=None,\n",
      "             n_estimators=1000, n_jobs=None, num_parallel_tree=None,\n",
      "             random_state=None, reg_alpha=None, reg_lambda=None,\n",
      "             scale_pos_weight=None, subsample=None, tree_method=None,\n",
      "             validate_parameters=None, verbosity=0)\n"
     ]
    }
   ],
   "source": [
    "from xgboost import XGBRegressor\n",
    "\n",
    "xgbr = XGBRegressor(colsample_bytree = 0.7, learning_rate = 0.01, max_depth = 10, n_estimators = 1000, verbosity=0)\n",
    "print(xgbr)"
   ]
  },
  {
   "cell_type": "code",
   "execution_count": 148,
   "id": "e495ea4e",
   "metadata": {},
   "outputs": [
    {
     "data": {
      "text/plain": [
       "XGBRegressor(base_score=0.5, booster='gbtree', colsample_bylevel=1,\n",
       "             colsample_bynode=1, colsample_bytree=0.7, gamma=0, gpu_id=-1,\n",
       "             importance_type='gain', interaction_constraints='',\n",
       "             learning_rate=0.01, max_delta_step=0, max_depth=10,\n",
       "             min_child_weight=1, missing=nan, monotone_constraints='()',\n",
       "             n_estimators=1000, n_jobs=8, num_parallel_tree=1, random_state=0,\n",
       "             reg_alpha=0, reg_lambda=1, scale_pos_weight=1, subsample=1,\n",
       "             tree_method='exact', validate_parameters=1, verbosity=0)"
      ]
     },
     "execution_count": 148,
     "metadata": {},
     "output_type": "execute_result"
    }
   ],
   "source": [
    "xgbr.fit(x_train_100, y_train) #1"
   ]
  },
  {
   "cell_type": "code",
   "execution_count": 149,
   "id": "9c3189eb",
   "metadata": {},
   "outputs": [
    {
     "name": "stdout",
     "output_type": "stream",
     "text": [
      "0.9927657505724209\n"
     ]
    }
   ],
   "source": [
    "score = xgbr.score(x_train_100, y_train) #2\n",
    "print(score)"
   ]
  },
  {
   "cell_type": "code",
   "execution_count": 150,
   "id": "2d5c5985",
   "metadata": {},
   "outputs": [
    {
     "name": "stdout",
     "output_type": "stream",
     "text": [
      "CV mean score: 0.2596123933550749\n"
     ]
    }
   ],
   "source": [
    "from xgboost import XGBRegressor\n",
    "from sklearn.model_selection import cross_val_score\n",
    "from sklearn.metrics import mean_squared_error\n",
    "from sklearn.metrics import mean_absolute_error\n",
    "\n",
    "\n",
    "cv_score = cross_val_score(xgbr, x_train_100, y_train, cv=10) #3\n",
    "print(\"CV mean score:\", cv_score.mean())"
   ]
  },
  {
   "cell_type": "code",
   "execution_count": 151,
   "id": "e522a98a",
   "metadata": {},
   "outputs": [
    {
     "name": "stdout",
     "output_type": "stream",
     "text": [
      "1-MAE 0.897210583627224\n"
     ]
    }
   ],
   "source": [
    "ypred = xgbr.predict(x_test_100) #4\n",
    "mae = mean_absolute_error(y_test, ypred)\n",
    "\n",
    "print(\"1-MAE\", 1-mae)"
   ]
  },
  {
   "cell_type": "code",
   "execution_count": 152,
   "id": "6f5d6639",
   "metadata": {},
   "outputs": [],
   "source": [
    "x_train_224 = bestfeatureslist(x_train, listbestvalues_neuroticism, 224)\n",
    "x_test_224 = bestfeatureslist(x_test, listbestvalues_neuroticism, 224)"
   ]
  },
  {
   "cell_type": "code",
   "execution_count": 153,
   "id": "76f4e994",
   "metadata": {},
   "outputs": [
    {
     "name": "stdout",
     "output_type": "stream",
     "text": [
      "XGBRegressor(base_score=None, booster=None, colsample_bylevel=None,\n",
      "             colsample_bynode=None, colsample_bytree=0.7, gamma=None,\n",
      "             gpu_id=None, importance_type='gain', interaction_constraints=None,\n",
      "             learning_rate=0.01, max_delta_step=None, max_depth=10,\n",
      "             min_child_weight=None, missing=nan, monotone_constraints=None,\n",
      "             n_estimators=1000, n_jobs=None, num_parallel_tree=None,\n",
      "             random_state=None, reg_alpha=None, reg_lambda=None,\n",
      "             scale_pos_weight=None, subsample=None, tree_method=None,\n",
      "             validate_parameters=None, verbosity=0)\n"
     ]
    }
   ],
   "source": [
    "from xgboost import XGBRegressor\n",
    "\n",
    "xgbr = XGBRegressor(colsample_bytree = 0.7, learning_rate = 0.01, max_depth = 10, n_estimators = 1000, verbosity=0)\n",
    "print(xgbr)"
   ]
  },
  {
   "cell_type": "code",
   "execution_count": 154,
   "id": "e583d20c",
   "metadata": {},
   "outputs": [
    {
     "data": {
      "text/plain": [
       "XGBRegressor(base_score=0.5, booster='gbtree', colsample_bylevel=1,\n",
       "             colsample_bynode=1, colsample_bytree=0.7, gamma=0, gpu_id=-1,\n",
       "             importance_type='gain', interaction_constraints='',\n",
       "             learning_rate=0.01, max_delta_step=0, max_depth=10,\n",
       "             min_child_weight=1, missing=nan, monotone_constraints='()',\n",
       "             n_estimators=1000, n_jobs=8, num_parallel_tree=1, random_state=0,\n",
       "             reg_alpha=0, reg_lambda=1, scale_pos_weight=1, subsample=1,\n",
       "             tree_method='exact', validate_parameters=1, verbosity=0)"
      ]
     },
     "execution_count": 154,
     "metadata": {},
     "output_type": "execute_result"
    }
   ],
   "source": [
    "xgbr.fit(x_train_224, y_train) #1"
   ]
  },
  {
   "cell_type": "code",
   "execution_count": 155,
   "id": "5501eeb2",
   "metadata": {},
   "outputs": [
    {
     "name": "stdout",
     "output_type": "stream",
     "text": [
      "0.9958282184516131\n"
     ]
    }
   ],
   "source": [
    "score = xgbr.score(x_train_224, y_train) #2\n",
    "print(score)"
   ]
  },
  {
   "cell_type": "code",
   "execution_count": 156,
   "id": "6fc60d58",
   "metadata": {},
   "outputs": [
    {
     "name": "stdout",
     "output_type": "stream",
     "text": [
      "CV mean score: 0.2690112299347122\n"
     ]
    }
   ],
   "source": [
    "from xgboost import XGBRegressor\n",
    "from sklearn.model_selection import cross_val_score\n",
    "from sklearn.metrics import mean_squared_error\n",
    "from sklearn.metrics import mean_absolute_error\n",
    "\n",
    "\n",
    "cv_score = cross_val_score(xgbr, x_train_224, y_train, cv=10) #3\n",
    "print(\"CV mean score:\", cv_score.mean())"
   ]
  },
  {
   "cell_type": "code",
   "execution_count": 157,
   "id": "ab7bcbec",
   "metadata": {},
   "outputs": [
    {
     "name": "stdout",
     "output_type": "stream",
     "text": [
      "1-MAE 0.8983270758713285\n"
     ]
    }
   ],
   "source": [
    "ypred = xgbr.predict(x_test_224) #4\n",
    "mae = mean_absolute_error(y_test, ypred)\n",
    "\n",
    "print(\"1-MAE\", 1-mae)"
   ]
  },
  {
   "cell_type": "code",
   "execution_count": null,
   "id": "dae1b7a7",
   "metadata": {},
   "outputs": [],
   "source": []
  },
  {
   "cell_type": "code",
   "execution_count": null,
   "id": "0731b39c",
   "metadata": {},
   "outputs": [],
   "source": []
  }
 ],
 "metadata": {
  "kernelspec": {
   "display_name": "Python 3 (ipykernel)",
   "language": "python",
   "name": "python3"
  },
  "language_info": {
   "codemirror_mode": {
    "name": "ipython",
    "version": 3
   },
   "file_extension": ".py",
   "mimetype": "text/x-python",
   "name": "python",
   "nbconvert_exporter": "python",
   "pygments_lexer": "ipython3",
   "version": "3.8.11"
  }
 },
 "nbformat": 4,
 "nbformat_minor": 5
}
