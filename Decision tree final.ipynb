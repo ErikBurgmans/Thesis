{
 "cells": [
  {
   "cell_type": "code",
   "execution_count": 1,
   "id": "ec75c1a1",
   "metadata": {},
   "outputs": [],
   "source": [
    "import math\n",
    "import numpy as np\n",
    "import pandas as pd\n",
    "import os\n",
    "import glob\n",
    "import pickle\n",
    "import xgboost as xgb\n",
    "import numpy as np\n",
    "import pandas as pd\n",
    "from sklearn.metrics import mutual_info_score\n",
    "from xgboost import XGBRegressor\n",
    "from sklearn.model_selection import GridSearchCV\n",
    "from sklearn.model_selection import cross_val_score\n",
    "from sklearn.metrics import mean_squared_error\n",
    "from sklearn.metrics import mean_absolute_error\n",
    "from sklearn.model_selection import train_test_split"
   ]
  },
  {
   "cell_type": "code",
   "execution_count": 2,
   "id": "a7a426b7",
   "metadata": {},
   "outputs": [],
   "source": [
    "def createcsv(dataframe, filename): #make sure to include .csv at the end of the filename\n",
    "    dataframe.to_csv(filename,index=False)"
   ]
  },
  {
   "cell_type": "code",
   "execution_count": 3,
   "id": "e584f297",
   "metadata": {},
   "outputs": [],
   "source": [
    "def labels_interview (csv_file):\n",
    "    df = pd.read_csv(csv_file)\n",
    "    x_array = df.iloc[:,1:-6]\n",
    "    y_array = df.iloc[:,230:]\n",
    "    \n",
    "    return x_array, y_array"
   ]
  },
  {
   "cell_type": "code",
   "execution_count": 4,
   "id": "ecb68ea0",
   "metadata": {},
   "outputs": [],
   "source": [
    "def labels_openness (csv_file):\n",
    "    df = pd.read_csv(csv_file)\n",
    "    x_array = df.iloc[:,1:-6]\n",
    "    y_array = df.iloc[:,225]\n",
    "    return x_array, y_array"
   ]
  },
  {
   "cell_type": "code",
   "execution_count": 5,
   "id": "885ab26b",
   "metadata": {},
   "outputs": [],
   "source": [
    "def labels_conscientiousness (csv_file):\n",
    "    df = pd.read_csv(csv_file)\n",
    "    x_array = df.iloc[:,1:-6]\n",
    "    y_array = df.iloc[:,226]\n",
    "    return x_array, y_array"
   ]
  },
  {
   "cell_type": "code",
   "execution_count": 6,
   "id": "d14258c1",
   "metadata": {},
   "outputs": [],
   "source": [
    "def labels_extroversion (csv_file):\n",
    "    df = pd.read_csv(csv_file)\n",
    "    x_array = df.iloc[:,1:-6]\n",
    "    y_array = df.iloc[:,227]\n",
    "    return x_array, y_array"
   ]
  },
  {
   "cell_type": "code",
   "execution_count": 7,
   "id": "61183774",
   "metadata": {},
   "outputs": [],
   "source": [
    "def labels_agreeableness (csv_file):\n",
    "    df = pd.read_csv(csv_file)\n",
    "    x_array = df.iloc[:,1:-6]\n",
    "    y_array = df.iloc[:,228]\n",
    "    return x_array, y_array"
   ]
  },
  {
   "cell_type": "code",
   "execution_count": 8,
   "id": "d4eb3580",
   "metadata": {},
   "outputs": [],
   "source": [
    "def labels_neuroticism (csv_file):\n",
    "    df = pd.read_csv(csv_file)\n",
    "    x_array = df.iloc[:,1:-6]\n",
    "    y_array = df.iloc[:,229]\n",
    "    return x_array, y_array"
   ]
  },
  {
   "cell_type": "code",
   "execution_count": 10,
   "id": "ecc1b5e6",
   "metadata": {},
   "outputs": [],
   "source": [
    "csv_file = \"complete_CSV_Train.csv\"\n",
    "x_train, y_train = labels_interview(csv_file)\n",
    "csv_file = \"complete_CSV_validation.csv\"\n",
    "x_test, y_test = labels_interview(csv_file)"
   ]
  },
  {
   "cell_type": "code",
   "execution_count": 11,
   "id": "f49ab380",
   "metadata": {},
   "outputs": [],
   "source": [
    "listbestvalues_interview = [130, 212, 178, 42, 74, 25, 8, 171, 184, 72, 31, 180, 172, 61, 73, 177, 223, 192, 125, 110, 142, 213, 181, 19, 100, 76, 27, 36, 163, 7, 187, 59, 126, 109, 111, 123, 41, 158, 115, 120, 71, 79, 11, 15, 208, 118, 102, 75, 112, 176, 195, 209, 121, 105, 222, 136, 220, 16, 124, 80, 108, 191, 30, 54, 185, 168, 210, 37, 52, 117, 201, 221, 205, 190, 81, 99, 60, 182, 38, 198, 131, 165, 207, 197, 33, 173, 83, 43, 29, 186, 32, 68, 66, 129, 216, 96, 103, 24, 206, 89, 174, 2, 166, 98, 22, 132, 65, 62, 3, 95, 157, 57, 6, 17, 67, 70, 69, 85, 107, 134, 23, 188, 116, 194, 13, 153, 82, 78, 56, 86, 156, 106, 119, 28, 55, 84, 128, 77, 179, 21, 164, 218, 170, 147, 211, 135, 154, 47, 150, 183, 141, 155, 138, 219, 160, 215, 26, 101, 104, 97, 93, 94, 203, 9, 151, 196, 58, 50, 167, 146, 87, 53, 4, 45, 35, 51, 127, 175, 159, 149, 10, 169, 193, 63, 162, 202, 92, 44, 204, 217, 214, 199, 200, 49, 5, 189, 48, 64, 46, 40, 39, 88, 90, 91, 34, 1, 113, 114, 122, 133, 137, 139, 140, 143, 144, 145, 148, 152, 20, 161, 18, 14, 12, 0]"
   ]
  },
  {
   "cell_type": "code",
   "execution_count": 12,
   "id": "63e768a3",
   "metadata": {},
   "outputs": [],
   "source": [
    "listbestvalues_openness = [42, 36, 19, 37, 25, 51, 8, 48, 27, 6, 53, 61, 33, 41, 39, 130, 38, 198, 186, 71, 16, 101, 141, 223, 192, 21, 83, 106, 12, 92, 188, 150, 30, 189, 182, 120, 118, 68, 70, 17, 104, 3, 52, 11, 127, 179, 205, 108, 49, 176, 32, 187, 115, 199, 184, 58, 123, 133, 102, 0, 109, 103, 5, 107, 56, 135, 168, 197, 29, 116, 147, 105, 77, 117, 124, 85, 216, 119, 34, 169, 212, 132, 46, 173, 91, 202, 63, 137, 72, 64, 13, 9, 163, 185, 23, 162, 43, 181, 177, 121, 35, 180, 113, 90, 167, 40, 59, 151, 4, 213, 191, 154, 175, 131, 138, 222, 129, 142, 28, 18, 62, 60, 84, 20, 194, 125, 164, 155, 75, 7, 178, 143, 156, 31, 153, 171, 174, 15, 136, 14, 161, 140, 86, 10, 114, 112, 166, 217, 110, 128, 211, 93, 66, 159, 195, 201, 200, 55, 73, 74, 196, 221, 203, 126, 193, 1, 190, 76, 111, 69, 2, 204, 220, 206, 78, 207, 208, 209, 210, 57, 67, 214, 215, 65, 218, 219, 146, 79, 97, 44, 139, 50, 24, 160, 158, 157, 98, 144, 94, 145, 152, 95, 96, 149, 148, 165, 89, 88, 54, 183, 80, 81, 82, 45, 26, 22, 87, 134, 47, 100, 172, 99, 170, 122]"
   ]
  },
  {
   "cell_type": "code",
   "execution_count": 13,
   "id": "36359711",
   "metadata": {},
   "outputs": [],
   "source": [
    "listbestvalues_conscientiousness = [150, 221, 82, 169, 57, 180, 173, 77, 129, 145, 36, 55, 93, 185, 88, 30, 204, 119, 209, 53, 167, 83, 87, 137, 29, 168, 179, 59, 203, 170, 66, 151, 115, 160, 177, 90, 108, 74, 136, 159, 68, 175, 118, 98, 158, 84, 222, 110, 117, 72, 128, 61, 178, 141, 60, 132, 8, 86, 50, 210, 78, 152, 155, 164, 149, 182, 156, 120, 154, 166, 218, 69, 200, 92, 219, 163, 109, 127, 201, 161, 97, 126, 206, 144, 153, 102, 212, 23, 162, 111, 99, 140, 125, 10, 100, 186, 114, 63, 143, 202, 95, 208, 105, 205, 184, 171, 89, 76, 73, 94, 148, 62, 124, 75, 5, 147, 133, 103, 181, 67, 1, 70, 12, 195, 54, 81, 142, 106, 96, 131, 116, 134, 107, 191, 174, 176, 85, 64, 165, 71, 123, 45, 130, 138, 26, 183, 157, 146, 19, 80, 192, 104, 211, 196, 139, 9, 27, 52, 56, 58, 32, 47, 198, 31, 112, 20, 18, 113, 187, 46, 193, 22, 2, 213, 51, 189, 79, 13, 188, 220, 16, 223, 38, 15, 214, 33, 91, 135, 11, 28, 14, 44, 199, 0, 3, 172, 49, 216, 194, 101, 48, 6, 40, 121, 41, 122, 4, 7, 217, 215, 65, 21, 17, 197, 24, 25, 207, 190, 34, 43, 37, 39, 42, 35]"
   ]
  },
  {
   "cell_type": "code",
   "execution_count": 14,
   "id": "520c43b9",
   "metadata": {},
   "outputs": [],
   "source": [
    "listbestvalues_extroversion = [42, 25, 38, 8, 198, 41, 31, 46, 197, 191, 19, 6, 143, 2, 3, 125, 63, 202, 4, 20, 37, 200, 16, 192, 99, 100, 220, 194, 27, 32, 127, 51, 159, 109, 36, 112, 212, 172, 0, 130, 108, 175, 5, 56, 173, 74, 7, 30, 217, 105, 209, 23, 75, 188, 1, 134, 94, 67, 47, 111, 213, 184, 21, 107, 174, 208, 70, 15, 89, 48, 114, 44, 52, 196, 170, 133, 195, 113, 90, 142, 59, 149, 84, 215, 18, 165, 210, 160, 176, 123, 139, 40, 144, 91, 28, 141, 98, 155, 124, 140, 121, 145, 33, 190, 216, 116, 43, 150, 218, 10, 110, 88, 203, 169, 183, 34, 13, 29, 62, 164, 66, 49, 206, 132, 78, 151, 97, 119, 95, 128, 214, 76, 58, 177, 161, 199, 55, 69, 156, 83, 45, 148, 24, 65, 14, 87, 96, 166, 71, 11, 146, 135, 181, 179, 178, 180, 39, 182, 185, 186, 187, 189, 193, 201, 9, 204, 205, 207, 211, 219, 221, 222, 12, 131, 17, 77, 101, 26, 93, 92, 86, 85, 82, 81, 80, 79, 73, 171, 72, 68, 64, 61, 60, 57, 54, 53, 50, 35, 102, 103, 104, 106, 168, 167, 163, 162, 158, 157, 154, 153, 152, 147, 138, 137, 136, 129, 22, 126, 122, 120, 118, 117, 115, 223]"
   ]
  },
  {
   "cell_type": "code",
   "execution_count": 15,
   "id": "e58ba1fb",
   "metadata": {},
   "outputs": [],
   "source": [
    "listbestvalues_agreeableness = [150, 186, 166, 163, 147, 8, 168, 164, 170, 141, 64, 145, 212, 47, 27, 122, 165, 108, 94, 162, 182, 207, 172, 54, 220, 144, 116, 205, 91, 55, 83, 167, 213, 41, 185, 159, 149, 181, 179, 133, 171, 148, 173, 67, 96, 31, 33, 151, 61, 180, 152, 84, 131, 124, 49, 28, 222, 80, 32, 93, 174, 104, 35, 126, 143, 42, 43, 161, 175, 183, 121, 204, 184, 221, 71, 92, 214, 58, 29, 119, 187, 98, 100, 140, 37, 87, 36, 52, 95, 153, 169, 63, 17, 110, 177, 88, 45, 23, 139, 59, 68, 103, 2, 97, 196, 73, 102, 62, 191, 105, 158, 190, 200, 137, 146, 127, 176, 89, 13, 154, 34, 77, 65, 132, 125, 115, 44, 223, 81, 99, 192, 85, 24, 202, 160, 53, 22, 155, 217, 56, 38, 210, 142, 156, 113, 50, 112, 106, 60, 66, 117, 118, 20, 21, 4, 130, 3, 19, 74, 70, 178, 90, 76, 12, 198, 30, 82, 25, 129, 72, 203, 208, 6, 75, 114, 128, 197, 78, 216, 199, 18, 5, 219, 218, 201, 16, 15, 14, 206, 215, 7, 209, 9, 10, 211, 11, 138, 39, 195, 194, 135, 134, 123, 120, 157, 1, 111, 109, 107, 101, 86, 79, 69, 57, 51, 48, 46, 40, 136, 26, 188, 189, 193, 0]"
   ]
  },
  {
   "cell_type": "code",
   "execution_count": 16,
   "id": "e93e8adf",
   "metadata": {},
   "outputs": [],
   "source": [
    "listbestvalues_neuroticism = [42, 8, 41, 36, 197, 25, 198, 132, 155, 16, 21, 192, 7, 212, 142, 218, 222, 6, 53, 30, 18, 144, 4, 133, 217, 19, 27, 214, 179, 55, 74, 143, 193, 185, 129, 203, 154, 23, 32, 200, 3, 147, 80, 189, 59, 49, 88, 186, 219, 76, 172, 151, 140, 148, 77, 209, 20, 92, 101, 130, 208, 54, 61, 82, 191, 171, 78, 9, 141, 45, 165, 81, 38, 205, 11, 187, 12, 87, 91, 176, 106, 207, 194, 95, 161, 206, 17, 195, 199, 46, 139, 196, 52, 28, 153, 105, 83, 168, 167, 184, 58, 156, 104, 47, 98, 158, 145, 97, 152, 138, 14, 163, 150, 146, 57, 96, 215, 136, 210, 34, 211, 64, 40, 108, 178, 86, 66, 166, 137, 202, 10, 123, 33, 79, 0, 110, 164, 67, 94, 174, 13, 221, 175, 126, 103, 182, 119, 99, 125, 102, 115, 69, 201, 31, 181, 180, 204, 213, 183, 190, 216, 170, 169, 220, 173, 188, 177, 112, 162, 160, 73, 72, 71, 70, 68, 65, 63, 62, 60, 56, 51, 50, 48, 44, 43, 39, 37, 35, 29, 26, 24, 22, 15, 5, 2, 75, 84, 85, 120, 159, 157, 149, 135, 134, 131, 128, 127, 124, 122, 121, 118, 89, 117, 116, 114, 113, 1, 111, 109, 107, 100, 93, 90, 223]"
   ]
  },
  {
   "cell_type": "code",
   "execution_count": 19,
   "id": "6b2a869e",
   "metadata": {},
   "outputs": [],
   "source": [
    "x_train_10 = bestfeatureslist(x_train, listbestvalues_interview, 10)\n",
    "x_test_10 = bestfeatureslist(x_test, listbestvalues_interview, 10)"
   ]
  },
  {
   "cell_type": "code",
   "execution_count": 210,
   "id": "6f303860",
   "metadata": {},
   "outputs": [
    {
     "name": "stdout",
     "output_type": "stream",
     "text": [
      "Fitting 5 folds for each of 28 candidates, totalling 140 fits\n",
      "Best parameters: {'max_depth': 4, 'min_samples_leaf': 0.01}\n",
      "Lowest score:  0.3414124153552239\n"
     ]
    }
   ],
   "source": [
    "import pandas as pd\n",
    "from sklearn.model_selection import GridSearchCV\n",
    "\n",
    "data = pd.read_csv(\"complete_CSV_Train.csv\")\n",
    "\n",
    "X, y = x_train_10, y_train #1\n",
    "    \n",
    "params = { 'max_depth': [1,2,3,4,5,6, None],\n",
    "         'min_samples_leaf': [0.1, 0.5, 0.01, 1],\n",
    "         }\n",
    "\n",
    "dt = dt\n",
    "clf = GridSearchCV(estimator=dt, \n",
    "                   param_grid=params,\n",
    "                   scoring='neg_mean_absolute_error', \n",
    "                   verbose=1)\n",
    "\n",
    "clf.fit(X, y)\n",
    "print(\"Best parameters:\", clf.best_params_)\n",
    "print(\"Lowest score: \", (-clf.best_score_)**(1/2.0))"
   ]
  },
  {
   "cell_type": "code",
   "execution_count": 20,
   "id": "5f4a1400",
   "metadata": {},
   "outputs": [],
   "source": [
    "from sklearn.tree import DecisionTreeRegressor\n",
    "from sklearn.metrics import mean_squared_error as MSE\n",
    "\n",
    "\n",
    "dt = DecisionTreeRegressor(max_depth=4,\n",
    "                          min_samples_leaf = 0.01,\n",
    "                          random_state=3)"
   ]
  },
  {
   "cell_type": "code",
   "execution_count": 22,
   "id": "62c9bef2",
   "metadata": {},
   "outputs": [
    {
     "data": {
      "text/plain": [
       "DecisionTreeRegressor(max_depth=4, min_samples_leaf=0.01, random_state=3)"
      ]
     },
     "execution_count": 22,
     "metadata": {},
     "output_type": "execute_result"
    }
   ],
   "source": [
    "dt.fit(x_train_10, y_train)"
   ]
  },
  {
   "cell_type": "code",
   "execution_count": 23,
   "id": "267c508a",
   "metadata": {},
   "outputs": [],
   "source": [
    "Y_pred = dt.predict(x_test_10)"
   ]
  },
  {
   "cell_type": "code",
   "execution_count": 25,
   "id": "fca3fa3b",
   "metadata": {},
   "outputs": [
    {
     "name": "stdout",
     "output_type": "stream",
     "text": [
      "1-MAE 0.8890877487609727\n"
     ]
    }
   ],
   "source": [
    "mae = mean_absolute_error(y_test, Y_pred)\n",
    "\n",
    "print(\"1-MAE\", 1-mae)"
   ]
  },
  {
   "cell_type": "code",
   "execution_count": 26,
   "id": "14b843bd",
   "metadata": {},
   "outputs": [
    {
     "data": {
      "image/png": "[encoded data removed]",
      "text/plain": [
       "<Figure size 432x288 with 1 Axes>"
      ]
     },
     "metadata": {
      "needs_background": "light"
     },
     "output_type": "display_data"
    }
   ],
   "source": [
    "import matplotlib.pyplot as plt\n",
    "\n",
    "x_ax = range(len(y_test))\n",
    "plt.plot(x_ax, y_test, label= 'original')\n",
    "plt.plot(x_ax, Y_pred, label= 'predicted')\n",
    "plt.legend()\n",
    "plt.show()"
   ]
  },
  {
   "cell_type": "code",
   "execution_count": 260,
   "id": "cc8959f8",
   "metadata": {},
   "outputs": [],
   "source": [
    "x_train_20 = bestfeatureslist(x_train, listbestvalues_interview, 20)\n",
    "x_test_20 = bestfeatureslist(x_test, listbestvalues_interview, 20)"
   ]
  },
  {
   "cell_type": "code",
   "execution_count": 261,
   "id": "29d6e7b8",
   "metadata": {},
   "outputs": [
    {
     "name": "stdout",
     "output_type": "stream",
     "text": [
      "Fitting 5 folds for each of 28 candidates, totalling 140 fits\n",
      "Best parameters: {'max_depth': 6, 'min_samples_leaf': 0.01}\n",
      "Lowest score:  0.34023790171343443\n"
     ]
    }
   ],
   "source": [
    "import pandas as pd\n",
    "from sklearn.model_selection import GridSearchCV\n",
    "\n",
    "data = pd.read_csv(\"complete_CSV_Train.csv\")\n",
    "\n",
    "X, y = x_train_20, y_train #1\n",
    "    \n",
    "params = { 'max_depth': [1,2,3,4,5,6, None],\n",
    "         'min_samples_leaf': [0.1, 0.5, 0.01, 1],\n",
    "         }\n",
    "\n",
    "dt = dt\n",
    "clf = GridSearchCV(estimator=dt, \n",
    "                   param_grid=params,\n",
    "                   scoring='neg_mean_absolute_error', \n",
    "                   verbose=1)\n",
    "\n",
    "clf.fit(X, y)\n",
    "print(\"Best parameters:\", clf.best_params_)\n",
    "print(\"Lowest score: \", (-clf.best_score_)**(1/2.0))"
   ]
  },
  {
   "cell_type": "code",
   "execution_count": 262,
   "id": "785ccd29",
   "metadata": {},
   "outputs": [],
   "source": [
    "from sklearn.tree import DecisionTreeRegressor\n",
    "from sklearn.metrics import mean_squared_error as MSE\n",
    "\n",
    "\n",
    "dt = DecisionTreeRegressor(max_depth=6,\n",
    "                          min_samples_leaf = 0.01,\n",
    "                          random_state=3)"
   ]
  },
  {
   "cell_type": "code",
   "execution_count": 264,
   "id": "92fee9d5",
   "metadata": {},
   "outputs": [
    {
     "data": {
      "text/plain": [
       "DecisionTreeRegressor(max_depth=6, min_samples_leaf=0.01, random_state=3)"
      ]
     },
     "execution_count": 264,
     "metadata": {},
     "output_type": "execute_result"
    }
   ],
   "source": [
    "dt.fit(x_train_20, y_train)"
   ]
  },
  {
   "cell_type": "code",
   "execution_count": 266,
   "id": "a20b731a",
   "metadata": {},
   "outputs": [],
   "source": [
    "Y_pred = dt.predict(x_test_20)"
   ]
  },
  {
   "cell_type": "code",
   "execution_count": 267,
   "id": "cb4d4e77",
   "metadata": {},
   "outputs": [
    {
     "name": "stdout",
     "output_type": "stream",
     "text": [
      "1-MAE 0.8887142381055186\n"
     ]
    }
   ],
   "source": [
    "mae = mean_absolute_error(Y_test, Y_pred)\n",
    "\n",
    "print(\"1-MAE\", 1-mae)"
   ]
  },
  {
   "cell_type": "code",
   "execution_count": 218,
   "id": "51d41c7c",
   "metadata": {},
   "outputs": [],
   "source": [
    "x_train_50 = bestfeatureslist(x_train, listbestvalues_interview, 50)\n",
    "x_test_50 = bestfeatureslist(x_test, listbestvalues_interview, 50)"
   ]
  },
  {
   "cell_type": "code",
   "execution_count": 219,
   "id": "1613c7cb",
   "metadata": {},
   "outputs": [
    {
     "name": "stdout",
     "output_type": "stream",
     "text": [
      "Fitting 5 folds for each of 28 candidates, totalling 140 fits\n",
      "Best parameters: {'max_depth': 4, 'min_samples_leaf': 1}\n",
      "Lowest score:  0.3408188522307302\n"
     ]
    }
   ],
   "source": [
    "import pandas as pd\n",
    "from sklearn.model_selection import GridSearchCV\n",
    "\n",
    "data = pd.read_csv(\"complete_CSV_Train.csv\")\n",
    "\n",
    "X, y = x_train_50, y_train #1\n",
    "    \n",
    "params = { 'max_depth': [1,2,3,4,5,6, None],\n",
    "         'min_samples_leaf': [0.1, 0.5, 0.01, 1],\n",
    "         }\n",
    "\n",
    "dt = dt\n",
    "clf = GridSearchCV(estimator=dt, \n",
    "                   param_grid=params,\n",
    "                   scoring='neg_mean_absolute_error', \n",
    "                   verbose=1)\n",
    "\n",
    "clf.fit(X, y)\n",
    "print(\"Best parameters:\", clf.best_params_)\n",
    "print(\"Lowest score: \", (-clf.best_score_)**(1/2.0))"
   ]
  },
  {
   "cell_type": "code",
   "execution_count": 220,
   "id": "c9e42ddf",
   "metadata": {},
   "outputs": [],
   "source": [
    "from sklearn.tree import DecisionTreeRegressor\n",
    "from sklearn.metrics import mean_squared_error as MSE\n",
    "\n",
    "\n",
    "dt = DecisionTreeRegressor(max_depth=4,\n",
    "                          min_samples_leaf = 1,\n",
    "                          random_state=3)"
   ]
  },
  {
   "cell_type": "code",
   "execution_count": 222,
   "id": "0d5adb9a",
   "metadata": {},
   "outputs": [
    {
     "data": {
      "text/plain": [
       "DecisionTreeRegressor(max_depth=4, random_state=3)"
      ]
     },
     "execution_count": 222,
     "metadata": {},
     "output_type": "execute_result"
    }
   ],
   "source": [
    "dt.fit(x_train_50, y_train)"
   ]
  },
  {
   "cell_type": "code",
   "execution_count": 224,
   "id": "864dcc1a",
   "metadata": {},
   "outputs": [],
   "source": [
    "Y_pred = dt.predict(x_test_50)"
   ]
  },
  {
   "cell_type": "code",
   "execution_count": 225,
   "id": "18d566ff",
   "metadata": {},
   "outputs": [
    {
     "name": "stdout",
     "output_type": "stream",
     "text": [
      "1-MAE 0.8885367851265525\n"
     ]
    }
   ],
   "source": [
    "mae = mean_absolute_error(Y_test, Y_pred)\n",
    "\n",
    "print(\"1-MAE\", 1-mae)"
   ]
  },
  {
   "cell_type": "code",
   "execution_count": 226,
   "id": "3512f13c",
   "metadata": {},
   "outputs": [],
   "source": [
    "x_train_100 = bestfeatureslist(x_train, listbestvalues_interview, 100)\n",
    "x_test_100 = bestfeatureslist(x_test, listbestvalues_interview, 100)"
   ]
  },
  {
   "cell_type": "code",
   "execution_count": 241,
   "id": "2fedb5a8",
   "metadata": {},
   "outputs": [
    {
     "name": "stdout",
     "output_type": "stream",
     "text": [
      "Fitting 5 folds for each of 28 candidates, totalling 140 fits\n",
      "Best parameters: {'max_depth': 4, 'min_samples_leaf': 1}\n",
      "Lowest score:  0.34107832272060695\n"
     ]
    }
   ],
   "source": [
    "import pandas as pd\n",
    "from sklearn.model_selection import GridSearchCV\n",
    "\n",
    "data = pd.read_csv(\"complete_CSV_Train.csv\")\n",
    "\n",
    "X, y = x_train_100, y_train #1\n",
    "    \n",
    "params = { 'max_depth': [1,2,3,4,5,6, None],\n",
    "         'min_samples_leaf': [0.1, 0.5, 0.01, 1],\n",
    "         }\n",
    "\n",
    "dt = dt\n",
    "clf = GridSearchCV(estimator=dt, \n",
    "                   param_grid=params,\n",
    "                   scoring='neg_mean_absolute_error', \n",
    "                   verbose=1)\n",
    "\n",
    "clf.fit(X, y)\n",
    "print(\"Best parameters:\", clf.best_params_)\n",
    "print(\"Lowest score: \", (-clf.best_score_)**(1/2.0))"
   ]
  },
  {
   "cell_type": "code",
   "execution_count": 228,
   "id": "01f77f93",
   "metadata": {},
   "outputs": [],
   "source": [
    "from sklearn.tree import DecisionTreeRegressor\n",
    "from sklearn.metrics import mean_squared_error as MSE\n",
    "\n",
    "\n",
    "dt = DecisionTreeRegressor(max_depth=4,\n",
    "                          min_samples_leaf = 1,\n",
    "                          random_state=3)"
   ]
  },
  {
   "cell_type": "code",
   "execution_count": 229,
   "id": "24e5749f",
   "metadata": {},
   "outputs": [
    {
     "data": {
      "text/plain": [
       "DecisionTreeRegressor(max_depth=4, random_state=3)"
      ]
     },
     "execution_count": 229,
     "metadata": {},
     "output_type": "execute_result"
    }
   ],
   "source": [
    "dt.fit(x_train_100, y_train)"
   ]
  },
  {
   "cell_type": "code",
   "execution_count": 230,
   "id": "58e9a816",
   "metadata": {},
   "outputs": [],
   "source": [
    "Y_pred = dt.predict(x_test_100)"
   ]
  },
  {
   "cell_type": "code",
   "execution_count": 231,
   "id": "299dc682",
   "metadata": {},
   "outputs": [
    {
     "name": "stdout",
     "output_type": "stream",
     "text": [
      "1-MAE 0.8876965336618408\n"
     ]
    }
   ],
   "source": [
    "mae = mean_absolute_error(Y_test, Y_pred)\n",
    "\n",
    "print(\"1-MAE\", 1-mae)"
   ]
  },
  {
   "cell_type": "code",
   "execution_count": 234,
   "id": "4182e08f",
   "metadata": {},
   "outputs": [],
   "source": [
    "x_train_224 = bestfeatureslist(x_train, listbestvalues_interview, 224)\n",
    "x_test_224 = bestfeatureslist(x_test, listbestvalues_interview, 224)"
   ]
  },
  {
   "cell_type": "code",
   "execution_count": 235,
   "id": "2fa29853",
   "metadata": {},
   "outputs": [
    {
     "name": "stdout",
     "output_type": "stream",
     "text": [
      "Fitting 5 folds for each of 28 candidates, totalling 140 fits\n",
      "Best parameters: {'max_depth': 4, 'min_samples_leaf': 1}\n",
      "Lowest score:  0.34107832272060695\n"
     ]
    }
   ],
   "source": [
    "import pandas as pd\n",
    "from sklearn.model_selection import GridSearchCV\n",
    "\n",
    "data = pd.read_csv(\"complete_CSV_Train.csv\")\n",
    "\n",
    "X, y = x_train_224, y_train #1\n",
    "    \n",
    "params = { 'max_depth': [1,2,3,4,5,6, None],\n",
    "         'min_samples_leaf': [0.1, 0.5, 0.01, 1],\n",
    "         }\n",
    "\n",
    "dt = dt\n",
    "clf = GridSearchCV(estimator=dt, \n",
    "                   param_grid=params,\n",
    "                   scoring='neg_mean_absolute_error', \n",
    "                   verbose=1)\n",
    "\n",
    "clf.fit(X, y)\n",
    "print(\"Best parameters:\", clf.best_params_)\n",
    "print(\"Lowest score: \", (-clf.best_score_)**(1/2.0))"
   ]
  },
  {
   "cell_type": "code",
   "execution_count": 236,
   "id": "234a594c",
   "metadata": {},
   "outputs": [],
   "source": [
    "from sklearn.tree import DecisionTreeRegressor\n",
    "from sklearn.metrics import mean_squared_error as MSE\n",
    "\n",
    "\n",
    "dt = DecisionTreeRegressor(max_depth=4,\n",
    "                          min_samples_leaf = 1,\n",
    "                          random_state=3)"
   ]
  },
  {
   "cell_type": "code",
   "execution_count": 237,
   "id": "d8ce404e",
   "metadata": {},
   "outputs": [
    {
     "data": {
      "text/plain": [
       "DecisionTreeRegressor(max_depth=4, random_state=3)"
      ]
     },
     "execution_count": 237,
     "metadata": {},
     "output_type": "execute_result"
    }
   ],
   "source": [
    "dt.fit(x_train_224, y_train)"
   ]
  },
  {
   "cell_type": "code",
   "execution_count": 238,
   "id": "811ce154",
   "metadata": {},
   "outputs": [],
   "source": [
    "Y_pred = dt.predict(x_test_224)"
   ]
  },
  {
   "cell_type": "code",
   "execution_count": 239,
   "id": "902298c5",
   "metadata": {},
   "outputs": [
    {
     "name": "stdout",
     "output_type": "stream",
     "text": [
      "1-MAE 0.8882734101998978\n"
     ]
    }
   ],
   "source": [
    "mae = mean_absolute_error(Y_test, Y_pred)\n",
    "\n",
    "print(\"1-MAE\", 1-mae)"
   ]
  },
  {
   "cell_type": "code",
   "execution_count": 27,
   "id": "4932fb6d",
   "metadata": {},
   "outputs": [],
   "source": [
    "csv_file = \"complete_CSV_Train.csv\"\n",
    "x_train, y_train = labels_openness(csv_file)\n",
    "csv_file = \"complete_CSV_validation.csv\"\n",
    "x_test, y_test = labels_openness(csv_file)"
   ]
  },
  {
   "cell_type": "code",
   "execution_count": 28,
   "id": "9e65c4cc",
   "metadata": {},
   "outputs": [],
   "source": [
    "x_train_10 = bestfeatureslist(x_train, listbestvalues_openness, 10)\n",
    "x_test_10 = bestfeatureslist(x_test, listbestvalues_openness, 10)"
   ]
  },
  {
   "cell_type": "code",
   "execution_count": 254,
   "id": "664be968",
   "metadata": {},
   "outputs": [
    {
     "name": "stdout",
     "output_type": "stream",
     "text": [
      "Fitting 5 folds for each of 28 candidates, totalling 140 fits\n",
      "Best parameters: {'max_depth': 3, 'min_samples_leaf': 1}\n",
      "Lowest score:  0.33492788759419356\n"
     ]
    }
   ],
   "source": [
    "import pandas as pd\n",
    "from sklearn.model_selection import GridSearchCV\n",
    "\n",
    "data = pd.read_csv(\"complete_CSV_Train.csv\")\n",
    "\n",
    "X, y = x_train_10, y_train #1\n",
    "    \n",
    "params = { 'max_depth': [1,2,3,4,5,6, None],\n",
    "         'min_samples_leaf': [0.1, 0.5, 0.01, 1],\n",
    "         }\n",
    "\n",
    "dt = dt\n",
    "clf = GridSearchCV(estimator=dt, \n",
    "                   param_grid=params,\n",
    "                   scoring='neg_mean_absolute_error', \n",
    "                   verbose=1)\n",
    "\n",
    "clf.fit(X, y)\n",
    "print(\"Best parameters:\", clf.best_params_)\n",
    "print(\"Lowest score: \", (-clf.best_score_)**(1/2.0))"
   ]
  },
  {
   "cell_type": "code",
   "execution_count": 29,
   "id": "22152f94",
   "metadata": {},
   "outputs": [],
   "source": [
    "from sklearn.tree import DecisionTreeRegressor\n",
    "from sklearn.metrics import mean_squared_error as MSE\n",
    "\n",
    "\n",
    "dt = DecisionTreeRegressor(max_depth=3,\n",
    "                          min_samples_leaf = 1,\n",
    "                          random_state=3)"
   ]
  },
  {
   "cell_type": "code",
   "execution_count": 30,
   "id": "47141dc0",
   "metadata": {},
   "outputs": [
    {
     "data": {
      "text/plain": [
       "DecisionTreeRegressor(max_depth=3, random_state=3)"
      ]
     },
     "execution_count": 30,
     "metadata": {},
     "output_type": "execute_result"
    }
   ],
   "source": [
    "dt.fit(x_train_10, y_train)"
   ]
  },
  {
   "cell_type": "code",
   "execution_count": 31,
   "id": "3c0531c6",
   "metadata": {},
   "outputs": [],
   "source": [
    "Y_pred = dt.predict(x_test_10)"
   ]
  },
  {
   "cell_type": "code",
   "execution_count": 33,
   "id": "c20be5bb",
   "metadata": {},
   "outputs": [
    {
     "name": "stdout",
     "output_type": "stream",
     "text": [
      "1-MAE 0.891822752580405\n"
     ]
    }
   ],
   "source": [
    "mae = mean_absolute_error(y_test, Y_pred)\n",
    "\n",
    "print(\"1-MAE\", 1-mae)"
   ]
  },
  {
   "cell_type": "code",
   "execution_count": 34,
   "id": "a587f81a",
   "metadata": {},
   "outputs": [
    {
     "data": {
      "image/png": "[encoded data removed]",
      "text/plain": [
       "<Figure size 432x288 with 1 Axes>"
      ]
     },
     "metadata": {
      "needs_background": "light"
     },
     "output_type": "display_data"
    }
   ],
   "source": [
    "import matplotlib.pyplot as plt\n",
    "\n",
    "x_ax = range(len(y_test))\n",
    "plt.plot(x_ax, y_test, label= 'original')\n",
    "plt.plot(x_ax, Y_pred, label= 'predicted')\n",
    "plt.legend()\n",
    "plt.show()"
   ]
  },
  {
   "cell_type": "code",
   "execution_count": 269,
   "id": "fba48aca",
   "metadata": {},
   "outputs": [],
   "source": [
    "x_train_50 = bestfeatureslist(x_train, listbestvalues_openness, 50)\n",
    "x_test_50 = bestfeatureslist(x_test, listbestvalues_openness, 50)"
   ]
  },
  {
   "cell_type": "code",
   "execution_count": 270,
   "id": "37b5d2d9",
   "metadata": {},
   "outputs": [
    {
     "name": "stdout",
     "output_type": "stream",
     "text": [
      "Fitting 5 folds for each of 28 candidates, totalling 140 fits\n",
      "Best parameters: {'max_depth': 5, 'min_samples_leaf': 0.01}\n",
      "Lowest score:  0.33296604391065954\n"
     ]
    }
   ],
   "source": [
    "import pandas as pd\n",
    "from sklearn.model_selection import GridSearchCV\n",
    "\n",
    "data = pd.read_csv(\"complete_CSV_Train.csv\")\n",
    "\n",
    "X, y = x_train_50, y_train #1\n",
    "    \n",
    "params = { 'max_depth': [1,2,3,4,5,6, None],\n",
    "         'min_samples_leaf': [0.1, 0.5, 0.01, 1],\n",
    "         }\n",
    "\n",
    "dt = dt\n",
    "clf = GridSearchCV(estimator=dt, \n",
    "                   param_grid=params,\n",
    "                   scoring='neg_mean_absolute_error', \n",
    "                   verbose=1)\n",
    "\n",
    "clf.fit(X, y)\n",
    "print(\"Best parameters:\", clf.best_params_)\n",
    "print(\"Lowest score: \", (-clf.best_score_)**(1/2.0))"
   ]
  },
  {
   "cell_type": "code",
   "execution_count": 271,
   "id": "f304c431",
   "metadata": {},
   "outputs": [],
   "source": [
    "from sklearn.tree import DecisionTreeRegressor\n",
    "from sklearn.metrics import mean_squared_error as MSE\n",
    "\n",
    "\n",
    "dt = DecisionTreeRegressor(max_depth=5,\n",
    "                          min_samples_leaf = 1,\n",
    "                          random_state=3)"
   ]
  },
  {
   "cell_type": "code",
   "execution_count": 277,
   "id": "3bb49312",
   "metadata": {},
   "outputs": [
    {
     "data": {
      "text/plain": [
       "DecisionTreeRegressor(max_depth=5, random_state=3)"
      ]
     },
     "execution_count": 277,
     "metadata": {},
     "output_type": "execute_result"
    }
   ],
   "source": [
    "dt.fit(x_train_50, y_train)"
   ]
  },
  {
   "cell_type": "code",
   "execution_count": 278,
   "id": "d56d19b2",
   "metadata": {},
   "outputs": [],
   "source": [
    "Y_pred = dt.predict(x_test_50)"
   ]
  },
  {
   "cell_type": "code",
   "execution_count": 279,
   "id": "b40d72fa",
   "metadata": {},
   "outputs": [
    {
     "name": "stdout",
     "output_type": "stream",
     "text": [
      "1-MAE 0.8762624345305351\n"
     ]
    }
   ],
   "source": [
    "mae = mean_absolute_error(Y_test, Y_pred)\n",
    "\n",
    "print(\"1-MAE\", 1-mae)"
   ]
  },
  {
   "cell_type": "code",
   "execution_count": 275,
   "id": "e60a325e",
   "metadata": {},
   "outputs": [],
   "source": [
    "x_train_100 = bestfeatureslist(x_train, listbestvalues_openness, 100)\n",
    "x_test_100 = bestfeatureslist(x_test, listbestvalues_openness, 100)"
   ]
  },
  {
   "cell_type": "code",
   "execution_count": 276,
   "id": "2f074c15",
   "metadata": {},
   "outputs": [
    {
     "name": "stdout",
     "output_type": "stream",
     "text": [
      "Fitting 5 folds for each of 28 candidates, totalling 140 fits\n",
      "Best parameters: {'max_depth': 6, 'min_samples_leaf': 0.01}\n",
      "Lowest score:  0.3334343455440495\n"
     ]
    }
   ],
   "source": [
    "import pandas as pd\n",
    "from sklearn.model_selection import GridSearchCV\n",
    "\n",
    "data = pd.read_csv(\"complete_CSV_Train.csv\")\n",
    "\n",
    "X, y = x_train_100, y_train #1\n",
    "    \n",
    "params = { 'max_depth': [1,2,3,4,5,6, None],\n",
    "         'min_samples_leaf': [0.1, 0.5, 0.01, 1],\n",
    "         }\n",
    "\n",
    "dt = dt\n",
    "clf = GridSearchCV(estimator=dt, \n",
    "                   param_grid=params,\n",
    "                   scoring='neg_mean_absolute_error', \n",
    "                   verbose=1)\n",
    "\n",
    "clf.fit(X, y)\n",
    "print(\"Best parameters:\", clf.best_params_)\n",
    "print(\"Lowest score: \", (-clf.best_score_)**(1/2.0))"
   ]
  },
  {
   "cell_type": "code",
   "execution_count": 280,
   "id": "2adb2b09",
   "metadata": {},
   "outputs": [],
   "source": [
    "from sklearn.tree import DecisionTreeRegressor\n",
    "from sklearn.metrics import mean_squared_error as MSE\n",
    "\n",
    "\n",
    "dt = DecisionTreeRegressor(max_depth=6,\n",
    "                          min_samples_leaf = 0.01,\n",
    "                          random_state=3)"
   ]
  },
  {
   "cell_type": "code",
   "execution_count": 281,
   "id": "39236269",
   "metadata": {},
   "outputs": [
    {
     "data": {
      "text/plain": [
       "DecisionTreeRegressor(max_depth=6, min_samples_leaf=0.01, random_state=3)"
      ]
     },
     "execution_count": 281,
     "metadata": {},
     "output_type": "execute_result"
    }
   ],
   "source": [
    "dt.fit(x_train_100, y_train)"
   ]
  },
  {
   "cell_type": "code",
   "execution_count": 282,
   "id": "26498e18",
   "metadata": {},
   "outputs": [],
   "source": [
    "Y_pred = dt.predict(x_test_100)"
   ]
  },
  {
   "cell_type": "code",
   "execution_count": 283,
   "id": "88d7e3ef",
   "metadata": {},
   "outputs": [
    {
     "name": "stdout",
     "output_type": "stream",
     "text": [
      "1-MAE 0.8772759979190977\n"
     ]
    }
   ],
   "source": [
    "mae = mean_absolute_error(Y_test, Y_pred)\n",
    "\n",
    "print(\"1-MAE\", 1-mae)"
   ]
  },
  {
   "cell_type": "code",
   "execution_count": 290,
   "id": "2e6edf3d",
   "metadata": {},
   "outputs": [],
   "source": [
    "x_train_224 = bestfeatureslist(x_train, listbestvalues_openness, 224)\n",
    "x_test_224 = bestfeatureslist(x_test, listbestvalues_openness, 224)"
   ]
  },
  {
   "cell_type": "code",
   "execution_count": 291,
   "id": "095ac02a",
   "metadata": {},
   "outputs": [
    {
     "name": "stdout",
     "output_type": "stream",
     "text": [
      "Fitting 5 folds for each of 28 candidates, totalling 140 fits\n",
      "Best parameters: {'max_depth': 5, 'min_samples_leaf': 0.01}\n",
      "Lowest score:  0.3325363652557089\n"
     ]
    }
   ],
   "source": [
    "import pandas as pd\n",
    "from sklearn.model_selection import GridSearchCV\n",
    "\n",
    "data = pd.read_csv(\"complete_CSV_Train.csv\")\n",
    "\n",
    "X, y = x_train_224, y_train #1\n",
    "    \n",
    "params = { 'max_depth': [1,2,3,4,5,6, None],\n",
    "         'min_samples_leaf': [0.1, 0.5, 0.01, 1],\n",
    "         }\n",
    "\n",
    "dt = dt\n",
    "clf = GridSearchCV(estimator=dt, \n",
    "                   param_grid=params,\n",
    "                   scoring='neg_mean_absolute_error', \n",
    "                   verbose=1)\n",
    "\n",
    "clf.fit(X, y)\n",
    "print(\"Best parameters:\", clf.best_params_)\n",
    "print(\"Lowest score: \", (-clf.best_score_)**(1/2.0))"
   ]
  },
  {
   "cell_type": "code",
   "execution_count": 294,
   "id": "8df6e0ea",
   "metadata": {},
   "outputs": [],
   "source": [
    "from sklearn.tree import DecisionTreeRegressor\n",
    "from sklearn.metrics import mean_squared_error as MSE\n",
    "\n",
    "\n",
    "dt = DecisionTreeRegressor(max_depth=5,\n",
    "                          min_samples_leaf = 0.01,\n",
    "                          random_state=3)"
   ]
  },
  {
   "cell_type": "code",
   "execution_count": 295,
   "id": "76ef4735",
   "metadata": {},
   "outputs": [
    {
     "data": {
      "text/plain": [
       "DecisionTreeRegressor(max_depth=5, min_samples_leaf=0.01, random_state=3)"
      ]
     },
     "execution_count": 295,
     "metadata": {},
     "output_type": "execute_result"
    }
   ],
   "source": [
    "dt.fit(x_train_224, y_train)"
   ]
  },
  {
   "cell_type": "code",
   "execution_count": 296,
   "id": "c73c15a0",
   "metadata": {},
   "outputs": [],
   "source": [
    "Y_pred = dt.predict(x_test_224)"
   ]
  },
  {
   "cell_type": "code",
   "execution_count": 297,
   "id": "4b46ad78",
   "metadata": {},
   "outputs": [
    {
     "name": "stdout",
     "output_type": "stream",
     "text": [
      "1-MAE 0.8770253870277304\n"
     ]
    }
   ],
   "source": [
    "mae = mean_absolute_error(Y_test, Y_pred)\n",
    "\n",
    "print(\"1-MAE\", 1-mae)"
   ]
  },
  {
   "cell_type": "code",
   "execution_count": 35,
   "id": "488ab754",
   "metadata": {},
   "outputs": [],
   "source": [
    "csv_file = \"complete_CSV_Train.csv\"\n",
    "x_train, y_train = labels_conscientiousness(csv_file)\n",
    "csv_file = \"complete_CSV_validation.csv\"\n",
    "x_test, y_test = labels_conscientiousness(csv_file)"
   ]
  },
  {
   "cell_type": "code",
   "execution_count": 299,
   "id": "66f52e36",
   "metadata": {},
   "outputs": [],
   "source": [
    "x_train_10 = bestfeatureslist(x_train, listbestvalues_conscientiousness, 10)\n",
    "x_test_10 = bestfeatureslist(x_test, listbestvalues_conscientiousness, 10)"
   ]
  },
  {
   "cell_type": "code",
   "execution_count": 300,
   "id": "6652216b",
   "metadata": {},
   "outputs": [
    {
     "name": "stdout",
     "output_type": "stream",
     "text": [
      "Fitting 5 folds for each of 28 candidates, totalling 140 fits\n",
      "Best parameters: {'max_depth': 4, 'min_samples_leaf': 0.01}\n",
      "Lowest score:  0.3502785168290907\n"
     ]
    }
   ],
   "source": [
    "import pandas as pd\n",
    "from sklearn.model_selection import GridSearchCV\n",
    "\n",
    "data = pd.read_csv(\"complete_CSV_Train.csv\")\n",
    "\n",
    "X, y = x_train_10, y_train #1\n",
    "    \n",
    "params = { 'max_depth': [1,2,3,4,5,6, None],\n",
    "         'min_samples_leaf': [0.1, 0.5, 0.01, 1],\n",
    "         }\n",
    "\n",
    "dt = dt\n",
    "clf = GridSearchCV(estimator=dt, \n",
    "                   param_grid=params,\n",
    "                   scoring='neg_mean_absolute_error', \n",
    "                   verbose=1)\n",
    "\n",
    "clf.fit(X, y)\n",
    "print(\"Best parameters:\", clf.best_params_)\n",
    "print(\"Lowest score: \", (-clf.best_score_)**(1/2.0))"
   ]
  },
  {
   "cell_type": "code",
   "execution_count": 301,
   "id": "dd5eb5ec",
   "metadata": {},
   "outputs": [],
   "source": [
    "from sklearn.tree import DecisionTreeRegressor\n",
    "from sklearn.metrics import mean_squared_error as MSE\n",
    "\n",
    "\n",
    "dt = DecisionTreeRegressor(max_depth=4,\n",
    "                          min_samples_leaf = 0.01,\n",
    "                          random_state=3)"
   ]
  },
  {
   "cell_type": "code",
   "execution_count": 302,
   "id": "0279af00",
   "metadata": {},
   "outputs": [
    {
     "data": {
      "text/plain": [
       "DecisionTreeRegressor(max_depth=4, min_samples_leaf=0.01, random_state=3)"
      ]
     },
     "execution_count": 302,
     "metadata": {},
     "output_type": "execute_result"
    }
   ],
   "source": [
    "dt.fit(x_train_10, y_train)"
   ]
  },
  {
   "cell_type": "code",
   "execution_count": 303,
   "id": "ece3772e",
   "metadata": {},
   "outputs": [],
   "source": [
    "Y_pred = dt.predict(x_test_10)"
   ]
  },
  {
   "cell_type": "code",
   "execution_count": 304,
   "id": "2ae94f8e",
   "metadata": {},
   "outputs": [
    {
     "name": "stdout",
     "output_type": "stream",
     "text": [
      "1-MAE 0.8853546544984787\n"
     ]
    }
   ],
   "source": [
    "mae = mean_absolute_error(Y_test, Y_pred)\n",
    "\n",
    "print(\"1-MAE\", 1-mae)"
   ]
  },
  {
   "cell_type": "code",
   "execution_count": 305,
   "id": "f77bb889",
   "metadata": {},
   "outputs": [],
   "source": [
    "x_train_50 = bestfeatureslist(x_train, listbestvalues_conscientiousness, 50)\n",
    "x_test_50 = bestfeatureslist(x_test, listbestvalues_conscientiousness, 50)"
   ]
  },
  {
   "cell_type": "code",
   "execution_count": 306,
   "id": "44b3b545",
   "metadata": {},
   "outputs": [
    {
     "name": "stdout",
     "output_type": "stream",
     "text": [
      "Fitting 5 folds for each of 28 candidates, totalling 140 fits\n",
      "Best parameters: {'max_depth': 5, 'min_samples_leaf': 0.01}\n",
      "Lowest score:  0.34876024543891376\n"
     ]
    }
   ],
   "source": [
    "import pandas as pd\n",
    "from sklearn.model_selection import GridSearchCV\n",
    "\n",
    "data = pd.read_csv(\"complete_CSV_Train.csv\")\n",
    "\n",
    "X, y = x_train_50, y_train #1\n",
    "    \n",
    "params = { 'max_depth': [1,2,3,4,5,6, None],\n",
    "         'min_samples_leaf': [0.1, 0.5, 0.01, 1],\n",
    "         }\n",
    "\n",
    "dt = dt\n",
    "clf = GridSearchCV(estimator=dt, \n",
    "                   param_grid=params,\n",
    "                   scoring='neg_mean_absolute_error', \n",
    "                   verbose=1)\n",
    "\n",
    "clf.fit(X, y)\n",
    "print(\"Best parameters:\", clf.best_params_)\n",
    "print(\"Lowest score: \", (-clf.best_score_)**(1/2.0))"
   ]
  },
  {
   "cell_type": "code",
   "execution_count": 307,
   "id": "e76a2369",
   "metadata": {},
   "outputs": [],
   "source": [
    "from sklearn.tree import DecisionTreeRegressor\n",
    "from sklearn.metrics import mean_squared_error as MSE\n",
    "\n",
    "\n",
    "dt = DecisionTreeRegressor(max_depth=5,\n",
    "                          min_samples_leaf = 0.01,\n",
    "                          random_state=3)"
   ]
  },
  {
   "cell_type": "code",
   "execution_count": 308,
   "id": "5e0f1aaa",
   "metadata": {},
   "outputs": [
    {
     "data": {
      "text/plain": [
       "DecisionTreeRegressor(max_depth=5, min_samples_leaf=0.01, random_state=3)"
      ]
     },
     "execution_count": 308,
     "metadata": {},
     "output_type": "execute_result"
    }
   ],
   "source": [
    "dt.fit(x_train_50, y_train)"
   ]
  },
  {
   "cell_type": "code",
   "execution_count": 309,
   "id": "514091b1",
   "metadata": {},
   "outputs": [],
   "source": [
    "Y_pred = dt.predict(x_test_50)"
   ]
  },
  {
   "cell_type": "code",
   "execution_count": 310,
   "id": "b6851239",
   "metadata": {},
   "outputs": [
    {
     "name": "stdout",
     "output_type": "stream",
     "text": [
      "1-MAE 0.8847445042753344\n"
     ]
    }
   ],
   "source": [
    "mae = mean_absolute_error(Y_test, Y_pred)\n",
    "\n",
    "print(\"1-MAE\", 1-mae)"
   ]
  },
  {
   "cell_type": "code",
   "execution_count": 311,
   "id": "38f2aee7",
   "metadata": {},
   "outputs": [],
   "source": [
    "x_train_100 = bestfeatureslist(x_train, listbestvalues_conscientiousness, 100)\n",
    "x_test_100 = bestfeatureslist(x_test, listbestvalues_conscientiousness, 100)"
   ]
  },
  {
   "cell_type": "code",
   "execution_count": 312,
   "id": "1c2b5af6",
   "metadata": {},
   "outputs": [
    {
     "name": "stdout",
     "output_type": "stream",
     "text": [
      "Fitting 5 folds for each of 28 candidates, totalling 140 fits\n",
      "Best parameters: {'max_depth': 4, 'min_samples_leaf': 1}\n",
      "Lowest score:  0.3484549735325411\n"
     ]
    }
   ],
   "source": [
    "import pandas as pd\n",
    "from sklearn.model_selection import GridSearchCV\n",
    "\n",
    "data = pd.read_csv(\"complete_CSV_Train.csv\")\n",
    "\n",
    "X, y = x_train_100, y_train #1\n",
    "    \n",
    "params = { 'max_depth': [1,2,3,4,5,6, None],\n",
    "         'min_samples_leaf': [0.1, 0.5, 0.01, 1],\n",
    "         }\n",
    "\n",
    "dt = dt\n",
    "clf = GridSearchCV(estimator=dt, \n",
    "                   param_grid=params,\n",
    "                   scoring='neg_mean_absolute_error', \n",
    "                   verbose=1)\n",
    "\n",
    "clf.fit(X, y)\n",
    "print(\"Best parameters:\", clf.best_params_)\n",
    "print(\"Lowest score: \", (-clf.best_score_)**(1/2.0))"
   ]
  },
  {
   "cell_type": "code",
   "execution_count": 315,
   "id": "d2dd6f0f",
   "metadata": {},
   "outputs": [],
   "source": [
    "from sklearn.tree import DecisionTreeRegressor\n",
    "from sklearn.metrics import mean_squared_error as MSE\n",
    "\n",
    "\n",
    "dt = DecisionTreeRegressor(max_depth=4,\n",
    "                          min_samples_leaf = 1,\n",
    "                          random_state=3)"
   ]
  },
  {
   "cell_type": "code",
   "execution_count": 316,
   "id": "4d0069db",
   "metadata": {},
   "outputs": [
    {
     "data": {
      "text/plain": [
       "DecisionTreeRegressor(max_depth=4, random_state=3)"
      ]
     },
     "execution_count": 316,
     "metadata": {},
     "output_type": "execute_result"
    }
   ],
   "source": [
    "dt.fit(x_train_100, y_train)"
   ]
  },
  {
   "cell_type": "code",
   "execution_count": 317,
   "id": "3b62f29f",
   "metadata": {},
   "outputs": [],
   "source": [
    "Y_pred = dt.predict(x_test_100)"
   ]
  },
  {
   "cell_type": "code",
   "execution_count": 318,
   "id": "aa24768b",
   "metadata": {},
   "outputs": [
    {
     "name": "stdout",
     "output_type": "stream",
     "text": [
      "1-MAE 0.8861007146153306\n"
     ]
    }
   ],
   "source": [
    "mae = mean_absolute_error(Y_test, Y_pred)\n",
    "\n",
    "print(\"1-MAE\", 1-mae)"
   ]
  },
  {
   "cell_type": "code",
   "execution_count": 36,
   "id": "fc2f5701",
   "metadata": {},
   "outputs": [],
   "source": [
    "x_train_224 = bestfeatureslist(x_train, listbestvalues_conscientiousness, 224)\n",
    "x_test_224 = bestfeatureslist(x_test, listbestvalues_conscientiousness, 224)"
   ]
  },
  {
   "cell_type": "code",
   "execution_count": 320,
   "id": "c16595ec",
   "metadata": {},
   "outputs": [
    {
     "name": "stdout",
     "output_type": "stream",
     "text": [
      "Fitting 5 folds for each of 28 candidates, totalling 140 fits\n",
      "Best parameters: {'max_depth': 4, 'min_samples_leaf': 0.01}\n",
      "Lowest score:  0.3478370138548622\n"
     ]
    }
   ],
   "source": [
    "import pandas as pd\n",
    "from sklearn.model_selection import GridSearchCV\n",
    "\n",
    "data = pd.read_csv(\"complete_CSV_Train.csv\")\n",
    "\n",
    "X, y = x_train_224, y_train #1\n",
    "    \n",
    "params = { 'max_depth': [1,2,3,4,5,6, None],\n",
    "         'min_samples_leaf': [0.1, 0.5, 0.01, 1],\n",
    "         }\n",
    "\n",
    "dt = dt\n",
    "clf = GridSearchCV(estimator=dt, \n",
    "                   param_grid=params,\n",
    "                   scoring='neg_mean_absolute_error', \n",
    "                   verbose=1)\n",
    "\n",
    "clf.fit(X, y)\n",
    "print(\"Best parameters:\", clf.best_params_)\n",
    "print(\"Lowest score: \", (-clf.best_score_)**(1/2.0))"
   ]
  },
  {
   "cell_type": "code",
   "execution_count": 37,
   "id": "a0bae3e3",
   "metadata": {},
   "outputs": [],
   "source": [
    "from sklearn.tree import DecisionTreeRegressor\n",
    "from sklearn.metrics import mean_squared_error as MSE\n",
    "\n",
    "\n",
    "dt = DecisionTreeRegressor(max_depth=4,\n",
    "                          min_samples_leaf = 0.01,\n",
    "                          random_state=3)"
   ]
  },
  {
   "cell_type": "code",
   "execution_count": 38,
   "id": "a49843df",
   "metadata": {},
   "outputs": [
    {
     "data": {
      "text/plain": [
       "DecisionTreeRegressor(max_depth=4, min_samples_leaf=0.01, random_state=3)"
      ]
     },
     "execution_count": 38,
     "metadata": {},
     "output_type": "execute_result"
    }
   ],
   "source": [
    "dt.fit(x_train_224, y_train)"
   ]
  },
  {
   "cell_type": "code",
   "execution_count": 39,
   "id": "00fd081b",
   "metadata": {},
   "outputs": [],
   "source": [
    "Y_pred = dt.predict(x_test_224)"
   ]
  },
  {
   "cell_type": "code",
   "execution_count": 41,
   "id": "586d422d",
   "metadata": {},
   "outputs": [
    {
     "name": "stdout",
     "output_type": "stream",
     "text": [
      "1-MAE 0.8790004677318606\n"
     ]
    }
   ],
   "source": [
    "mae = mean_absolute_error(y_test, Y_pred)\n",
    "\n",
    "print(\"1-MAE\", 1-mae)"
   ]
  },
  {
   "cell_type": "code",
   "execution_count": 42,
   "id": "a2078ed4",
   "metadata": {},
   "outputs": [
    {
     "data": {
      "image/png": "[encoded data removed]",
      "text/plain": [
       "<Figure size 432x288 with 1 Axes>"
      ]
     },
     "metadata": {
      "needs_background": "light"
     },
     "output_type": "display_data"
    }
   ],
   "source": [
    "import matplotlib.pyplot as plt\n",
    "\n",
    "x_ax = range(len(y_test))\n",
    "plt.plot(x_ax, y_test, label= 'original')\n",
    "plt.plot(x_ax, Y_pred, label= 'predicted')\n",
    "plt.legend()\n",
    "plt.show()"
   ]
  },
  {
   "cell_type": "code",
   "execution_count": 43,
   "id": "34e7d660",
   "metadata": {},
   "outputs": [],
   "source": [
    "csv_file = \"complete_CSV_Train.csv\"\n",
    "x_train, y_train = labels_extroversion(csv_file)\n",
    "csv_file = \"complete_CSV_validation.csv\"\n",
    "x_test, y_test = labels_extroversion(csv_file)"
   ]
  },
  {
   "cell_type": "code",
   "execution_count": 326,
   "id": "d8f9c7f1",
   "metadata": {},
   "outputs": [],
   "source": [
    "x_train_10 = bestfeatureslist(x_train, listbestvalues_extroversion, 10)\n",
    "x_test_10 = bestfeatureslist(x_test, listbestvalues_extroversion, 10)"
   ]
  },
  {
   "cell_type": "code",
   "execution_count": 327,
   "id": "81af4c12",
   "metadata": {},
   "outputs": [
    {
     "name": "stdout",
     "output_type": "stream",
     "text": [
      "Fitting 5 folds for each of 28 candidates, totalling 140 fits\n",
      "Best parameters: {'max_depth': 4, 'min_samples_leaf': 0.01}\n",
      "Lowest score:  0.33298806239631273\n"
     ]
    }
   ],
   "source": [
    "import pandas as pd\n",
    "from sklearn.model_selection import GridSearchCV\n",
    "\n",
    "data = pd.read_csv(\"complete_CSV_Train.csv\")\n",
    "\n",
    "X, y = x_train_10, y_train #1\n",
    "    \n",
    "params = { 'max_depth': [1,2,3,4,5,6, None],\n",
    "         'min_samples_leaf': [0.1, 0.5, 0.01, 1],\n",
    "         }\n",
    "\n",
    "dt = dt\n",
    "clf = GridSearchCV(estimator=dt, \n",
    "                   param_grid=params,\n",
    "                   scoring='neg_mean_absolute_error', \n",
    "                   verbose=1)\n",
    "\n",
    "clf.fit(X, y)\n",
    "print(\"Best parameters:\", clf.best_params_)\n",
    "print(\"Lowest score: \", (-clf.best_score_)**(1/2.0))"
   ]
  },
  {
   "cell_type": "code",
   "execution_count": 328,
   "id": "d88e3f9c",
   "metadata": {},
   "outputs": [],
   "source": [
    "from sklearn.tree import DecisionTreeRegressor\n",
    "from sklearn.metrics import mean_squared_error as MSE\n",
    "\n",
    "\n",
    "dt = DecisionTreeRegressor(max_depth=4,\n",
    "                          min_samples_leaf = 0.01,\n",
    "                          random_state=3)"
   ]
  },
  {
   "cell_type": "code",
   "execution_count": 329,
   "id": "6e51ff7e",
   "metadata": {},
   "outputs": [
    {
     "data": {
      "text/plain": [
       "DecisionTreeRegressor(max_depth=4, min_samples_leaf=0.01, random_state=3)"
      ]
     },
     "execution_count": 329,
     "metadata": {},
     "output_type": "execute_result"
    }
   ],
   "source": [
    "dt.fit(x_train_10, y_train)"
   ]
  },
  {
   "cell_type": "code",
   "execution_count": 330,
   "id": "c974eb2c",
   "metadata": {},
   "outputs": [],
   "source": [
    "Y_pred = dt.predict(x_test_10)"
   ]
  },
  {
   "cell_type": "code",
   "execution_count": 331,
   "id": "ed4f365d",
   "metadata": {},
   "outputs": [
    {
     "name": "stdout",
     "output_type": "stream",
     "text": [
      "1-MAE 0.8832887019157342\n"
     ]
    }
   ],
   "source": [
    "mae = mean_absolute_error(Y_test, Y_pred)\n",
    "\n",
    "print(\"1-MAE\", 1-mae)"
   ]
  },
  {
   "cell_type": "code",
   "execution_count": 332,
   "id": "7afcac06",
   "metadata": {},
   "outputs": [],
   "source": [
    "x_train_50 = bestfeatureslist(x_train, listbestvalues_conscientiousness, 50)\n",
    "x_test_50 = bestfeatureslist(x_test, listbestvalues_conscientiousness, 50)"
   ]
  },
  {
   "cell_type": "code",
   "execution_count": 333,
   "id": "eaae1608",
   "metadata": {},
   "outputs": [
    {
     "name": "stdout",
     "output_type": "stream",
     "text": [
      "Fitting 5 folds for each of 28 candidates, totalling 140 fits\n",
      "Best parameters: {'max_depth': 4, 'min_samples_leaf': 0.01}\n",
      "Lowest score:  0.34505270143785954\n"
     ]
    }
   ],
   "source": [
    "import pandas as pd\n",
    "from sklearn.model_selection import GridSearchCV\n",
    "\n",
    "data = pd.read_csv(\"complete_CSV_Train.csv\")\n",
    "\n",
    "X, y = x_train_50, y_train #1\n",
    "    \n",
    "params = { 'max_depth': [1,2,3,4,5,6, None],\n",
    "         'min_samples_leaf': [0.1, 0.5, 0.01, 1],\n",
    "         }\n",
    "\n",
    "dt = dt\n",
    "clf = GridSearchCV(estimator=dt, \n",
    "                   param_grid=params,\n",
    "                   scoring='neg_mean_absolute_error', \n",
    "                   verbose=1)\n",
    "\n",
    "clf.fit(X, y)\n",
    "print(\"Best parameters:\", clf.best_params_)\n",
    "print(\"Lowest score: \", (-clf.best_score_)**(1/2.0))"
   ]
  },
  {
   "cell_type": "code",
   "execution_count": 334,
   "id": "4aa7028a",
   "metadata": {},
   "outputs": [],
   "source": [
    "from sklearn.tree import DecisionTreeRegressor\n",
    "from sklearn.metrics import mean_squared_error as MSE\n",
    "\n",
    "\n",
    "dt = DecisionTreeRegressor(max_depth=4,\n",
    "                          min_samples_leaf = 0.01,\n",
    "                          random_state=3)"
   ]
  },
  {
   "cell_type": "code",
   "execution_count": 335,
   "id": "923bbc26",
   "metadata": {},
   "outputs": [
    {
     "data": {
      "text/plain": [
       "DecisionTreeRegressor(max_depth=4, min_samples_leaf=0.01, random_state=3)"
      ]
     },
     "execution_count": 335,
     "metadata": {},
     "output_type": "execute_result"
    }
   ],
   "source": [
    "dt.fit(x_train_50, y_train)"
   ]
  },
  {
   "cell_type": "code",
   "execution_count": 336,
   "id": "9dfb2c06",
   "metadata": {},
   "outputs": [],
   "source": [
    "Y_pred = dt.predict(x_test_50)"
   ]
  },
  {
   "cell_type": "code",
   "execution_count": 337,
   "id": "ea1fefd3",
   "metadata": {},
   "outputs": [
    {
     "name": "stdout",
     "output_type": "stream",
     "text": [
      "1-MAE 0.8837639227780332\n"
     ]
    }
   ],
   "source": [
    "mae = mean_absolute_error(Y_test, Y_pred)\n",
    "\n",
    "print(\"1-MAE\", 1-mae)"
   ]
  },
  {
   "cell_type": "code",
   "execution_count": 44,
   "id": "79a27bef",
   "metadata": {},
   "outputs": [],
   "source": [
    "x_train_100 = bestfeatureslist(x_train, listbestvalues_conscientiousness, 100)\n",
    "x_test_100 = bestfeatureslist(x_test, listbestvalues_conscientiousness, 100)"
   ]
  },
  {
   "cell_type": "code",
   "execution_count": 339,
   "id": "2f467877",
   "metadata": {},
   "outputs": [
    {
     "name": "stdout",
     "output_type": "stream",
     "text": [
      "Fitting 5 folds for each of 28 candidates, totalling 140 fits\n",
      "Best parameters: {'max_depth': 3, 'min_samples_leaf': 0.01}\n",
      "Lowest score:  0.33707570916947965\n"
     ]
    }
   ],
   "source": [
    "import pandas as pd\n",
    "from sklearn.model_selection import GridSearchCV\n",
    "\n",
    "data = pd.read_csv(\"complete_CSV_Train.csv\")\n",
    "\n",
    "X, y = x_train_100, y_train #1\n",
    "    \n",
    "params = { 'max_depth': [1,2,3,4,5,6, None],\n",
    "         'min_samples_leaf': [0.1, 0.5, 0.01, 1],\n",
    "         }\n",
    "\n",
    "dt = dt\n",
    "clf = GridSearchCV(estimator=dt, \n",
    "                   param_grid=params,\n",
    "                   scoring='neg_mean_absolute_error', \n",
    "                   verbose=1)\n",
    "\n",
    "clf.fit(X, y)\n",
    "print(\"Best parameters:\", clf.best_params_)\n",
    "print(\"Lowest score: \", (-clf.best_score_)**(1/2.0))"
   ]
  },
  {
   "cell_type": "code",
   "execution_count": 45,
   "id": "768848b5",
   "metadata": {},
   "outputs": [],
   "source": [
    "from sklearn.tree import DecisionTreeRegressor\n",
    "from sklearn.metrics import mean_squared_error as MSE\n",
    "\n",
    "\n",
    "dt = DecisionTreeRegressor(max_depth=3,\n",
    "                          min_samples_leaf = 0.01,\n",
    "                          random_state=3)"
   ]
  },
  {
   "cell_type": "code",
   "execution_count": 46,
   "id": "bef7c418",
   "metadata": {},
   "outputs": [
    {
     "data": {
      "text/plain": [
       "DecisionTreeRegressor(max_depth=3, min_samples_leaf=0.01, random_state=3)"
      ]
     },
     "execution_count": 46,
     "metadata": {},
     "output_type": "execute_result"
    }
   ],
   "source": [
    "dt.fit(x_train_100, y_train)"
   ]
  },
  {
   "cell_type": "code",
   "execution_count": 47,
   "id": "940c794a",
   "metadata": {},
   "outputs": [],
   "source": [
    "Y_pred = dt.predict(x_test_100)"
   ]
  },
  {
   "cell_type": "code",
   "execution_count": 48,
   "id": "fafeaed2",
   "metadata": {},
   "outputs": [
    {
     "name": "stdout",
     "output_type": "stream",
     "text": [
      "1-MAE 0.8907055260068697\n"
     ]
    }
   ],
   "source": [
    "mae = mean_absolute_error(y_test, Y_pred)\n",
    "\n",
    "print(\"1-MAE\", 1-mae)"
   ]
  },
  {
   "cell_type": "code",
   "execution_count": 49,
   "id": "927acd3d",
   "metadata": {},
   "outputs": [
    {
     "data": {
      "image/png": "[encoded data removed]",
      "text/plain": [
       "<Figure size 432x288 with 1 Axes>"
      ]
     },
     "metadata": {
      "needs_background": "light"
     },
     "output_type": "display_data"
    }
   ],
   "source": [
    "import matplotlib.pyplot as plt\n",
    "\n",
    "x_ax = range(len(y_test))\n",
    "plt.plot(x_ax, y_test, label= 'original')\n",
    "plt.plot(x_ax, Y_pred, label= 'predicted')\n",
    "plt.legend()\n",
    "plt.show()"
   ]
  },
  {
   "cell_type": "code",
   "execution_count": 344,
   "id": "97fd96bc",
   "metadata": {},
   "outputs": [],
   "source": [
    "x_train_224 = bestfeatureslist(x_train, listbestvalues_conscientiousness, 224)\n",
    "x_test_224 = bestfeatureslist(x_test, listbestvalues_conscientiousness, 224)"
   ]
  },
  {
   "cell_type": "code",
   "execution_count": 345,
   "id": "963424f9",
   "metadata": {},
   "outputs": [
    {
     "name": "stdout",
     "output_type": "stream",
     "text": [
      "Fitting 5 folds for each of 28 candidates, totalling 140 fits\n",
      "Best parameters: {'max_depth': 5, 'min_samples_leaf': 0.01}\n",
      "Lowest score:  0.3318535911340461\n"
     ]
    }
   ],
   "source": [
    "import pandas as pd\n",
    "from sklearn.model_selection import GridSearchCV\n",
    "\n",
    "data = pd.read_csv(\"complete_CSV_Train.csv\")\n",
    "\n",
    "X, y = x_train_224, y_train #1\n",
    "    \n",
    "params = { 'max_depth': [1,2,3,4,5,6, None],\n",
    "         'min_samples_leaf': [0.1, 0.5, 0.01, 1],\n",
    "         }\n",
    "\n",
    "dt = dt\n",
    "clf = GridSearchCV(estimator=dt, \n",
    "                   param_grid=params,\n",
    "                   scoring='neg_mean_absolute_error', \n",
    "                   verbose=1)\n",
    "\n",
    "clf.fit(X, y)\n",
    "print(\"Best parameters:\", clf.best_params_)\n",
    "print(\"Lowest score: \", (-clf.best_score_)**(1/2.0))"
   ]
  },
  {
   "cell_type": "code",
   "execution_count": 346,
   "id": "837d08e2",
   "metadata": {},
   "outputs": [],
   "source": [
    "from sklearn.tree import DecisionTreeRegressor\n",
    "from sklearn.metrics import mean_squared_error as MSE\n",
    "\n",
    "\n",
    "dt = DecisionTreeRegressor(max_depth=5,\n",
    "                          min_samples_leaf = 0.01,\n",
    "                          random_state=3)"
   ]
  },
  {
   "cell_type": "code",
   "execution_count": 347,
   "id": "78e6cd86",
   "metadata": {},
   "outputs": [
    {
     "data": {
      "text/plain": [
       "DecisionTreeRegressor(max_depth=5, min_samples_leaf=0.01, random_state=3)"
      ]
     },
     "execution_count": 347,
     "metadata": {},
     "output_type": "execute_result"
    }
   ],
   "source": [
    "dt.fit(x_train_224, y_train)"
   ]
  },
  {
   "cell_type": "code",
   "execution_count": 348,
   "id": "0dab3f23",
   "metadata": {},
   "outputs": [],
   "source": [
    "Y_pred = dt.predict(x_test_224)"
   ]
  },
  {
   "cell_type": "code",
   "execution_count": 349,
   "id": "eba412af",
   "metadata": {},
   "outputs": [
    {
     "name": "stdout",
     "output_type": "stream",
     "text": [
      "1-MAE 0.8837679887058789\n"
     ]
    }
   ],
   "source": [
    "mae = mean_absolute_error(Y_test, Y_pred)\n",
    "\n",
    "print(\"1-MAE\", 1-mae)"
   ]
  },
  {
   "cell_type": "code",
   "execution_count": 50,
   "id": "3dc09bd7",
   "metadata": {},
   "outputs": [],
   "source": [
    "csv_file = \"complete_CSV_Train.csv\"\n",
    "x_train, y_train = labels_agreeableness(csv_file)\n",
    "csv_file = \"complete_CSV_validation.csv\"\n",
    "x_test, y_test = labels_agreeableness(csv_file)"
   ]
  },
  {
   "cell_type": "code",
   "execution_count": 352,
   "id": "306852d2",
   "metadata": {},
   "outputs": [],
   "source": [
    "x_train_10 = bestfeatureslist(x_train, listbestvalues_agreeableness, 10)\n",
    "x_test_10 = bestfeatureslist(x_test, listbestvalues_agreeableness, 10)"
   ]
  },
  {
   "cell_type": "code",
   "execution_count": 353,
   "id": "d0ea724c",
   "metadata": {
    "scrolled": true
   },
   "outputs": [
    {
     "name": "stdout",
     "output_type": "stream",
     "text": [
      "Fitting 5 folds for each of 28 candidates, totalling 140 fits\n",
      "Best parameters: {'max_depth': 4, 'min_samples_leaf': 0.01}\n",
      "Lowest score:  0.32618840924725234\n"
     ]
    }
   ],
   "source": [
    "import pandas as pd\n",
    "from sklearn.model_selection import GridSearchCV\n",
    "\n",
    "data = pd.read_csv(\"complete_CSV_Train.csv\")\n",
    "\n",
    "X, y = x_train_10, y_train #1\n",
    "    \n",
    "params = { 'max_depth': [1,2,3,4,5,6, None],\n",
    "         'min_samples_leaf': [0.1, 0.5, 0.01, 1],\n",
    "         }\n",
    "\n",
    "dt = dt\n",
    "clf = GridSearchCV(estimator=dt, \n",
    "                   param_grid=params,\n",
    "                   scoring='neg_mean_absolute_error', \n",
    "                   verbose=1)\n",
    "\n",
    "clf.fit(X, y)\n",
    "print(\"Best parameters:\", clf.best_params_)\n",
    "print(\"Lowest score: \", (-clf.best_score_)**(1/2.0))"
   ]
  },
  {
   "cell_type": "code",
   "execution_count": 354,
   "id": "f033c7f8",
   "metadata": {},
   "outputs": [],
   "source": [
    "from sklearn.tree import DecisionTreeRegressor\n",
    "from sklearn.metrics import mean_squared_error as MSE\n",
    "\n",
    "\n",
    "dt = DecisionTreeRegressor(max_depth=4,\n",
    "                          min_samples_leaf = 0.01,\n",
    "                          random_state=3)"
   ]
  },
  {
   "cell_type": "code",
   "execution_count": 366,
   "id": "b1d2ccd5",
   "metadata": {},
   "outputs": [
    {
     "data": {
      "text/plain": [
       "DecisionTreeRegressor(max_depth=3, min_samples_leaf=0.01, random_state=3)"
      ]
     },
     "execution_count": 366,
     "metadata": {},
     "output_type": "execute_result"
    }
   ],
   "source": [
    "dt.fit(x_train_10, y_train)"
   ]
  },
  {
   "cell_type": "code",
   "execution_count": 367,
   "id": "2f27531f",
   "metadata": {},
   "outputs": [],
   "source": [
    "Y_pred = dt.predict(x_test_10)"
   ]
  },
  {
   "cell_type": "code",
   "execution_count": 368,
   "id": "0a808304",
   "metadata": {},
   "outputs": [
    {
     "name": "stdout",
     "output_type": "stream",
     "text": [
      "1-MAE 0.8835091590984064\n"
     ]
    }
   ],
   "source": [
    "mae = mean_absolute_error(Y_test, Y_pred)\n",
    "\n",
    "print(\"1-MAE\", 1-mae)"
   ]
  },
  {
   "cell_type": "code",
   "execution_count": 358,
   "id": "c483aded",
   "metadata": {},
   "outputs": [],
   "source": [
    "x_train_50 = bestfeatureslist(x_train, listbestvalues_agreeableness, 50)\n",
    "x_test_50 = bestfeatureslist(x_test, listbestvalues_agreeableness, 50)"
   ]
  },
  {
   "cell_type": "code",
   "execution_count": 359,
   "id": "5fb3628c",
   "metadata": {},
   "outputs": [
    {
     "name": "stdout",
     "output_type": "stream",
     "text": [
      "Fitting 5 folds for each of 28 candidates, totalling 140 fits\n",
      "Best parameters: {'max_depth': 3, 'min_samples_leaf': 0.01}\n",
      "Lowest score:  0.3258941191882124\n"
     ]
    }
   ],
   "source": [
    "import pandas as pd\n",
    "from sklearn.model_selection import GridSearchCV\n",
    "\n",
    "data = pd.read_csv(\"complete_CSV_Train.csv\")\n",
    "\n",
    "X, y = x_train_50, y_train #1\n",
    "    \n",
    "params = { 'max_depth': [1,2,3,4,5,6, None],\n",
    "         'min_samples_leaf': [0.1, 0.5, 0.01, 1],\n",
    "         }\n",
    "\n",
    "dt = dt\n",
    "clf = GridSearchCV(estimator=dt, \n",
    "                   param_grid=params,\n",
    "                   scoring='neg_mean_absolute_error', \n",
    "                   verbose=1)\n",
    "\n",
    "clf.fit(X, y)\n",
    "print(\"Best parameters:\", clf.best_params_)\n",
    "print(\"Lowest score: \", (-clf.best_score_)**(1/2.0))"
   ]
  },
  {
   "cell_type": "code",
   "execution_count": 360,
   "id": "7ef14c49",
   "metadata": {},
   "outputs": [],
   "source": [
    "from sklearn.tree import DecisionTreeRegressor\n",
    "from sklearn.metrics import mean_squared_error as MSE\n",
    "\n",
    "\n",
    "dt = DecisionTreeRegressor(max_depth=3,\n",
    "                          min_samples_leaf = 0.01,\n",
    "                          random_state=3)"
   ]
  },
  {
   "cell_type": "code",
   "execution_count": 361,
   "id": "4699c37b",
   "metadata": {},
   "outputs": [
    {
     "data": {
      "text/plain": [
       "DecisionTreeRegressor(max_depth=3, min_samples_leaf=0.01, random_state=3)"
      ]
     },
     "execution_count": 361,
     "metadata": {},
     "output_type": "execute_result"
    }
   ],
   "source": [
    "dt.fit(x_train_50, y_train)"
   ]
  },
  {
   "cell_type": "code",
   "execution_count": 362,
   "id": "e42339ac",
   "metadata": {},
   "outputs": [],
   "source": [
    "Y_pred = dt.predict(x_test_50)"
   ]
  },
  {
   "cell_type": "code",
   "execution_count": 363,
   "id": "433a232d",
   "metadata": {},
   "outputs": [
    {
     "name": "stdout",
     "output_type": "stream",
     "text": [
      "1-MAE 0.8832329136765776\n"
     ]
    }
   ],
   "source": [
    "mae = mean_absolute_error(Y_test, Y_pred)\n",
    "\n",
    "print(\"1-MAE\", 1-mae)"
   ]
  },
  {
   "cell_type": "code",
   "execution_count": 51,
   "id": "4a9a224e",
   "metadata": {},
   "outputs": [],
   "source": [
    "x_train_100 = bestfeatureslist(x_train, listbestvalues_agreeableness, 100)\n",
    "x_test_100 = bestfeatureslist(x_test, listbestvalues_agreeableness, 100)"
   ]
  },
  {
   "cell_type": "code",
   "execution_count": 365,
   "id": "4da81203",
   "metadata": {},
   "outputs": [
    {
     "name": "stdout",
     "output_type": "stream",
     "text": [
      "Fitting 5 folds for each of 28 candidates, totalling 140 fits\n",
      "Best parameters: {'max_depth': 4, 'min_samples_leaf': 0.01}\n",
      "Lowest score:  0.32542323672604817\n"
     ]
    }
   ],
   "source": [
    "import pandas as pd\n",
    "from sklearn.model_selection import GridSearchCV\n",
    "\n",
    "data = pd.read_csv(\"complete_CSV_Train.csv\")\n",
    "\n",
    "X, y = x_train_100, y_train #1\n",
    "    \n",
    "params = { 'max_depth': [1,2,3,4,5,6, None],\n",
    "         'min_samples_leaf': [0.1, 0.5, 0.01, 1],\n",
    "         }\n",
    "\n",
    "dt = dt\n",
    "clf = GridSearchCV(estimator=dt, \n",
    "                   param_grid=params,\n",
    "                   scoring='neg_mean_absolute_error', \n",
    "                   verbose=1)\n",
    "\n",
    "clf.fit(X, y)\n",
    "print(\"Best parameters:\", clf.best_params_)\n",
    "print(\"Lowest score: \", (-clf.best_score_)**(1/2.0))"
   ]
  },
  {
   "cell_type": "code",
   "execution_count": 52,
   "id": "c5d7a9d2",
   "metadata": {},
   "outputs": [],
   "source": [
    "from sklearn.tree import DecisionTreeRegressor\n",
    "from sklearn.metrics import mean_squared_error as MSE\n",
    "\n",
    "\n",
    "dt = DecisionTreeRegressor(max_depth=4,\n",
    "                          min_samples_leaf = 0.01,\n",
    "                          random_state=3)"
   ]
  },
  {
   "cell_type": "code",
   "execution_count": 53,
   "id": "c45db8fd",
   "metadata": {},
   "outputs": [
    {
     "data": {
      "text/plain": [
       "DecisionTreeRegressor(max_depth=4, min_samples_leaf=0.01, random_state=3)"
      ]
     },
     "execution_count": 53,
     "metadata": {},
     "output_type": "execute_result"
    }
   ],
   "source": [
    "dt.fit(x_train_100, y_train)"
   ]
  },
  {
   "cell_type": "code",
   "execution_count": 55,
   "id": "530271fd",
   "metadata": {},
   "outputs": [],
   "source": [
    "Y_pred = dt.predict(x_test_100)"
   ]
  },
  {
   "cell_type": "code",
   "execution_count": 57,
   "id": "ba29dbc4",
   "metadata": {},
   "outputs": [
    {
     "name": "stdout",
     "output_type": "stream",
     "text": [
      "1-MAE 0.9007460962411956\n"
     ]
    }
   ],
   "source": [
    "mae = mean_absolute_error(y_test, Y_pred)\n",
    "\n",
    "print(\"1-MAE\", 1-mae)"
   ]
  },
  {
   "cell_type": "code",
   "execution_count": 58,
   "id": "80c89cba",
   "metadata": {},
   "outputs": [
    {
     "data": {
      "image/png": "[encoded data removed]",
      "text/plain": [
       "<Figure size 432x288 with 1 Axes>"
      ]
     },
     "metadata": {
      "needs_background": "light"
     },
     "output_type": "display_data"
    }
   ],
   "source": [
    "import matplotlib.pyplot as plt\n",
    "\n",
    "x_ax = range(len(y_test))\n",
    "plt.plot(x_ax, y_test, label= 'original')\n",
    "plt.plot(x_ax, Y_pred, label= 'predicted')\n",
    "plt.legend()\n",
    "plt.show()"
   ]
  },
  {
   "cell_type": "code",
   "execution_count": 369,
   "id": "dc60b818",
   "metadata": {},
   "outputs": [],
   "source": [
    "x_train_224 = bestfeatureslist(x_train, listbestvalues_agreeableness, 224)\n",
    "x_test_224 = bestfeatureslist(x_test, listbestvalues_agreeableness, 224)"
   ]
  },
  {
   "cell_type": "code",
   "execution_count": 370,
   "id": "0b52e1f0",
   "metadata": {},
   "outputs": [
    {
     "name": "stdout",
     "output_type": "stream",
     "text": [
      "Fitting 5 folds for each of 28 candidates, totalling 140 fits\n",
      "Best parameters: {'max_depth': 5, 'min_samples_leaf': 0.1}\n",
      "Lowest score:  0.3257159764457204\n"
     ]
    }
   ],
   "source": [
    "import pandas as pd\n",
    "from sklearn.model_selection import GridSearchCV\n",
    "\n",
    "data = pd.read_csv(\"complete_CSV_Train.csv\")\n",
    "\n",
    "X, y = x_train_224, y_train #1\n",
    "    \n",
    "params = { 'max_depth': [1,2,3,4,5,6, None],\n",
    "         'min_samples_leaf': [0.1, 0.5, 0.01, 1],\n",
    "         }\n",
    "\n",
    "dt = dt\n",
    "clf = GridSearchCV(estimator=dt, \n",
    "                   param_grid=params,\n",
    "                   scoring='neg_mean_absolute_error', \n",
    "                   verbose=1)\n",
    "\n",
    "clf.fit(X, y)\n",
    "print(\"Best parameters:\", clf.best_params_)\n",
    "print(\"Lowest score: \", (-clf.best_score_)**(1/2.0))"
   ]
  },
  {
   "cell_type": "code",
   "execution_count": 371,
   "id": "70b60106",
   "metadata": {},
   "outputs": [],
   "source": [
    "from sklearn.tree import DecisionTreeRegressor\n",
    "from sklearn.metrics import mean_squared_error as MSE\n",
    "\n",
    "\n",
    "dt = DecisionTreeRegressor(max_depth=5,\n",
    "                          min_samples_leaf = 0.01,\n",
    "                          random_state=3)"
   ]
  },
  {
   "cell_type": "code",
   "execution_count": 372,
   "id": "a0706c9d",
   "metadata": {},
   "outputs": [
    {
     "data": {
      "text/plain": [
       "DecisionTreeRegressor(max_depth=5, min_samples_leaf=0.01, random_state=3)"
      ]
     },
     "execution_count": 372,
     "metadata": {},
     "output_type": "execute_result"
    }
   ],
   "source": [
    "dt.fit(x_train_224, y_train)"
   ]
  },
  {
   "cell_type": "code",
   "execution_count": 373,
   "id": "97418c4e",
   "metadata": {},
   "outputs": [],
   "source": [
    "Y_pred = dt.predict(x_test_224)"
   ]
  },
  {
   "cell_type": "code",
   "execution_count": 374,
   "id": "10fcffce",
   "metadata": {},
   "outputs": [
    {
     "name": "stdout",
     "output_type": "stream",
     "text": [
      "1-MAE 0.8834263836453933\n"
     ]
    }
   ],
   "source": [
    "mae = mean_absolute_error(Y_test, Y_pred)\n",
    "\n",
    "print(\"1-MAE\", 1-mae)"
   ]
  },
  {
   "cell_type": "code",
   "execution_count": 59,
   "id": "bed4b5e7",
   "metadata": {},
   "outputs": [],
   "source": [
    "csv_file = \"complete_CSV_Train.csv\"\n",
    "x_train, y_train = labels_neuroticism(csv_file)\n",
    "csv_file = \"complete_CSV_validation.csv\"\n",
    "x_test, y_test = labels_neuroticism(csv_file)"
   ]
  },
  {
   "cell_type": "code",
   "execution_count": 377,
   "id": "da4a3637",
   "metadata": {},
   "outputs": [],
   "source": [
    "x_train_10 = bestfeatureslist(x_train, listbestvalues_neuroticism, 10)\n",
    "x_test_10 = bestfeatureslist(x_test, listbestvalues_neuroticism, 10)"
   ]
  },
  {
   "cell_type": "code",
   "execution_count": 378,
   "id": "db146a52",
   "metadata": {
    "scrolled": true
   },
   "outputs": [
    {
     "name": "stdout",
     "output_type": "stream",
     "text": [
      "Fitting 5 folds for each of 28 candidates, totalling 140 fits\n",
      "Best parameters: {'max_depth': 4, 'min_samples_leaf': 0.01}\n",
      "Lowest score:  0.3430921420157639\n"
     ]
    }
   ],
   "source": [
    "import pandas as pd\n",
    "from sklearn.model_selection import GridSearchCV\n",
    "\n",
    "data = pd.read_csv(\"complete_CSV_Train.csv\")\n",
    "\n",
    "X, y = x_train_10, y_train #1\n",
    "    \n",
    "params = { 'max_depth': [1,2,3,4,5,6, None],\n",
    "         'min_samples_leaf': [0.1, 0.5, 0.01, 1],\n",
    "         }\n",
    "\n",
    "dt = dt\n",
    "clf = GridSearchCV(estimator=dt, \n",
    "                   param_grid=params,\n",
    "                   scoring='neg_mean_absolute_error', \n",
    "                   verbose=1)\n",
    "\n",
    "clf.fit(X, y)\n",
    "print(\"Best parameters:\", clf.best_params_)\n",
    "print(\"Lowest score: \", (-clf.best_score_)**(1/2.0))"
   ]
  },
  {
   "cell_type": "code",
   "execution_count": 379,
   "id": "f9120540",
   "metadata": {},
   "outputs": [],
   "source": [
    "from sklearn.tree import DecisionTreeRegressor\n",
    "from sklearn.metrics import mean_squared_error as MSE\n",
    "\n",
    "\n",
    "dt = DecisionTreeRegressor(max_depth=4,\n",
    "                          min_samples_leaf = 0.01,\n",
    "                          random_state=3)"
   ]
  },
  {
   "cell_type": "code",
   "execution_count": 380,
   "id": "54caf201",
   "metadata": {},
   "outputs": [
    {
     "data": {
      "text/plain": [
       "DecisionTreeRegressor(max_depth=4, min_samples_leaf=0.01, random_state=3)"
      ]
     },
     "execution_count": 380,
     "metadata": {},
     "output_type": "execute_result"
    }
   ],
   "source": [
    "dt.fit(x_train_10, y_train)"
   ]
  },
  {
   "cell_type": "code",
   "execution_count": 381,
   "id": "35298b63",
   "metadata": {},
   "outputs": [],
   "source": [
    "Y_pred = dt.predict(x_test_10)"
   ]
  },
  {
   "cell_type": "code",
   "execution_count": 382,
   "id": "4516f755",
   "metadata": {},
   "outputs": [
    {
     "name": "stdout",
     "output_type": "stream",
     "text": [
      "1-MAE 0.8868573774550677\n"
     ]
    }
   ],
   "source": [
    "mae = mean_absolute_error(Y_test, Y_pred)\n",
    "\n",
    "print(\"1-MAE\", 1-mae)"
   ]
  },
  {
   "cell_type": "code",
   "execution_count": 383,
   "id": "33c06146",
   "metadata": {},
   "outputs": [],
   "source": [
    "x_train_50 = bestfeatureslist(x_train, listbestvalues_neuroticism, 50)\n",
    "x_test_50 = bestfeatureslist(x_test, listbestvalues_neuroticism, 50)"
   ]
  },
  {
   "cell_type": "code",
   "execution_count": 384,
   "id": "8eb5d1f5",
   "metadata": {
    "scrolled": true
   },
   "outputs": [
    {
     "name": "stdout",
     "output_type": "stream",
     "text": [
      "Fitting 5 folds for each of 28 candidates, totalling 140 fits\n",
      "Best parameters: {'max_depth': 5, 'min_samples_leaf': 0.01}\n",
      "Lowest score:  0.3428547709511748\n"
     ]
    }
   ],
   "source": [
    "import pandas as pd\n",
    "from sklearn.model_selection import GridSearchCV\n",
    "\n",
    "data = pd.read_csv(\"complete_CSV_Train.csv\")\n",
    "\n",
    "X, y = x_train_50, y_train #1\n",
    "    \n",
    "params = { 'max_depth': [1,2,3,4,5,6, None],\n",
    "         'min_samples_leaf': [0.1, 0.5, 0.01, 1],\n",
    "         }\n",
    "\n",
    "dt = dt\n",
    "clf = GridSearchCV(estimator=dt, \n",
    "                   param_grid=params,\n",
    "                   scoring='neg_mean_absolute_error', \n",
    "                   verbose=1)\n",
    "\n",
    "clf.fit(X, y)\n",
    "print(\"Best parameters:\", clf.best_params_)\n",
    "print(\"Lowest score: \", (-clf.best_score_)**(1/2.0))"
   ]
  },
  {
   "cell_type": "code",
   "execution_count": 385,
   "id": "0a3d646b",
   "metadata": {},
   "outputs": [],
   "source": [
    "from sklearn.tree import DecisionTreeRegressor\n",
    "from sklearn.metrics import mean_squared_error as MSE\n",
    "\n",
    "\n",
    "dt = DecisionTreeRegressor(max_depth=5,\n",
    "                          min_samples_leaf = 0.01,\n",
    "                          random_state=3)"
   ]
  },
  {
   "cell_type": "code",
   "execution_count": 387,
   "id": "acccec52",
   "metadata": {},
   "outputs": [
    {
     "data": {
      "text/plain": [
       "DecisionTreeRegressor(max_depth=5, min_samples_leaf=0.01, random_state=3)"
      ]
     },
     "execution_count": 387,
     "metadata": {},
     "output_type": "execute_result"
    }
   ],
   "source": [
    "dt.fit(x_train_50, y_train)"
   ]
  },
  {
   "cell_type": "code",
   "execution_count": 388,
   "id": "e9c55347",
   "metadata": {},
   "outputs": [],
   "source": [
    "Y_pred = dt.predict(x_test_50)"
   ]
  },
  {
   "cell_type": "code",
   "execution_count": 389,
   "id": "c394b5eb",
   "metadata": {},
   "outputs": [
    {
     "name": "stdout",
     "output_type": "stream",
     "text": [
      "1-MAE 0.8882965903622089\n"
     ]
    }
   ],
   "source": [
    "mae = mean_absolute_error(Y_test, Y_pred)\n",
    "\n",
    "print(\"1-MAE\", 1-mae)"
   ]
  },
  {
   "cell_type": "code",
   "execution_count": 390,
   "id": "adbfdc42",
   "metadata": {},
   "outputs": [],
   "source": [
    "x_train_100 = bestfeatureslist(x_train, listbestvalues_neuroticism, 100)\n",
    "x_test_100 = bestfeatureslist(x_test, listbestvalues_neuroticism, 100)"
   ]
  },
  {
   "cell_type": "code",
   "execution_count": 391,
   "id": "3328bca2",
   "metadata": {
    "scrolled": true
   },
   "outputs": [
    {
     "name": "stdout",
     "output_type": "stream",
     "text": [
      "Fitting 5 folds for each of 28 candidates, totalling 140 fits\n",
      "Best parameters: {'max_depth': 6, 'min_samples_leaf': 0.01}\n",
      "Lowest score:  0.3427925658525875\n"
     ]
    }
   ],
   "source": [
    "import pandas as pd\n",
    "from sklearn.model_selection import GridSearchCV\n",
    "\n",
    "data = pd.read_csv(\"complete_CSV_Train.csv\")\n",
    "\n",
    "X, y = x_train_100, y_train #1\n",
    "    \n",
    "params = { 'max_depth': [1,2,3,4,5,6, None],\n",
    "         'min_samples_leaf': [0.1, 0.5, 0.01, 1],\n",
    "         }\n",
    "\n",
    "dt = dt\n",
    "clf = GridSearchCV(estimator=dt, \n",
    "                   param_grid=params,\n",
    "                   scoring='neg_mean_absolute_error', \n",
    "                   verbose=1)\n",
    "\n",
    "clf.fit(X, y)\n",
    "print(\"Best parameters:\", clf.best_params_)\n",
    "print(\"Lowest score: \", (-clf.best_score_)**(1/2.0))"
   ]
  },
  {
   "cell_type": "code",
   "execution_count": 392,
   "id": "8b308b41",
   "metadata": {},
   "outputs": [],
   "source": [
    "from sklearn.tree import DecisionTreeRegressor\n",
    "from sklearn.metrics import mean_squared_error as MSE\n",
    "\n",
    "\n",
    "dt = DecisionTreeRegressor(max_depth=6,\n",
    "                          min_samples_leaf = 0.01,\n",
    "                          random_state=3)"
   ]
  },
  {
   "cell_type": "code",
   "execution_count": 393,
   "id": "64f8c443",
   "metadata": {},
   "outputs": [
    {
     "data": {
      "text/plain": [
       "DecisionTreeRegressor(max_depth=6, min_samples_leaf=0.01, random_state=3)"
      ]
     },
     "execution_count": 393,
     "metadata": {},
     "output_type": "execute_result"
    }
   ],
   "source": [
    "dt.fit(x_train_100, y_train)"
   ]
  },
  {
   "cell_type": "code",
   "execution_count": 394,
   "id": "49cba475",
   "metadata": {},
   "outputs": [],
   "source": [
    "Y_pred = dt.predict(x_test_100)"
   ]
  },
  {
   "cell_type": "code",
   "execution_count": 395,
   "id": "7e92f156",
   "metadata": {},
   "outputs": [
    {
     "name": "stdout",
     "output_type": "stream",
     "text": [
      "1-MAE 0.887695219415155\n"
     ]
    }
   ],
   "source": [
    "mae = mean_absolute_error(Y_test, Y_pred)\n",
    "\n",
    "print(\"1-MAE\", 1-mae)"
   ]
  },
  {
   "cell_type": "code",
   "execution_count": 60,
   "id": "989530e5",
   "metadata": {},
   "outputs": [],
   "source": [
    "x_train_224 = bestfeatureslist(x_train, listbestvalues_neuroticism, 224)\n",
    "x_test_224 = bestfeatureslist(x_test, listbestvalues_neuroticism, 224)"
   ]
  },
  {
   "cell_type": "code",
   "execution_count": 397,
   "id": "930c1d01",
   "metadata": {
    "scrolled": true
   },
   "outputs": [
    {
     "name": "stdout",
     "output_type": "stream",
     "text": [
      "Fitting 5 folds for each of 28 candidates, totalling 140 fits\n",
      "Best parameters: {'max_depth': 4, 'min_samples_leaf': 1}\n",
      "Lowest score:  0.34288052577038014\n"
     ]
    }
   ],
   "source": [
    "import pandas as pd\n",
    "from sklearn.model_selection import GridSearchCV\n",
    "\n",
    "data = pd.read_csv(\"complete_CSV_Train.csv\")\n",
    "\n",
    "X, y = x_train_224, y_train #1\n",
    "    \n",
    "params = { 'max_depth': [1,2,3,4,5,6, None],\n",
    "         'min_samples_leaf': [0.1, 0.5, 0.01, 1],\n",
    "         }\n",
    "\n",
    "dt = dt\n",
    "clf = GridSearchCV(estimator=dt, \n",
    "                   param_grid=params,\n",
    "                   scoring='neg_mean_absolute_error', \n",
    "                   verbose=1)\n",
    "\n",
    "clf.fit(X, y)\n",
    "print(\"Best parameters:\", clf.best_params_)\n",
    "print(\"Lowest score: \", (-clf.best_score_)**(1/2.0))"
   ]
  },
  {
   "cell_type": "code",
   "execution_count": 61,
   "id": "1fca2c51",
   "metadata": {},
   "outputs": [],
   "source": [
    "from sklearn.tree import DecisionTreeRegressor\n",
    "from sklearn.metrics import mean_squared_error as MSE\n",
    "\n",
    "\n",
    "dt = DecisionTreeRegressor(max_depth=4,\n",
    "                          min_samples_leaf = 1,\n",
    "                          random_state=3)"
   ]
  },
  {
   "cell_type": "code",
   "execution_count": 62,
   "id": "b7a5f7c9",
   "metadata": {},
   "outputs": [
    {
     "data": {
      "text/plain": [
       "DecisionTreeRegressor(max_depth=4, random_state=3)"
      ]
     },
     "execution_count": 62,
     "metadata": {},
     "output_type": "execute_result"
    }
   ],
   "source": [
    "dt.fit(x_train_224, y_train)"
   ]
  },
  {
   "cell_type": "code",
   "execution_count": 63,
   "id": "466606b9",
   "metadata": {},
   "outputs": [],
   "source": [
    "Y_pred = dt.predict(x_test_224)"
   ]
  },
  {
   "cell_type": "code",
   "execution_count": 65,
   "id": "35b4f198",
   "metadata": {},
   "outputs": [
    {
     "name": "stdout",
     "output_type": "stream",
     "text": [
      "1-MAE 0.8871953131538554\n"
     ]
    }
   ],
   "source": [
    "mae = mean_absolute_error(y_test, Y_pred)\n",
    "\n",
    "print(\"1-MAE\", 1-mae)"
   ]
  },
  {
   "cell_type": "code",
   "execution_count": 66,
   "id": "c4c9bf1d",
   "metadata": {},
   "outputs": [
    {
     "data": {
      "image/png": "[encoded data removed]",
      "text/plain": [
       "<Figure size 432x288 with 1 Axes>"
      ]
     },
     "metadata": {
      "needs_background": "light"
     },
     "output_type": "display_data"
    }
   ],
   "source": [
    "import matplotlib.pyplot as plt\n",
    "\n",
    "x_ax = range(len(y_test))\n",
    "plt.plot(x_ax, y_test, label= 'original')\n",
    "plt.plot(x_ax, Y_pred, label= 'predicted')\n",
    "plt.legend()\n",
    "plt.show()"
   ]
  }
 ],
 "metadata": {
  "kernelspec": {
   "display_name": "Python 3 (ipykernel)",
   "language": "python",
   "name": "python3"
  },
  "language_info": {
   "codemirror_mode": {
    "name": "ipython",
    "version": 3
   },
   "file_extension": ".py",
   "mimetype": "text/x-python",
   "name": "python",
   "nbconvert_exporter": "python",
   "pygments_lexer": "ipython3",
   "version": "3.8.11"
  }
 },
 "nbformat": 4,
 "nbformat_minor": 5
}
